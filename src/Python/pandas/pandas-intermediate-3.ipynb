{
 "cells": [
  {
   "cell_type": "markdown",
   "id": "f5fce035-f1e6-4ba8-b4c4-696c48aa4ec5",
   "metadata": {},
   "source": [
    "# Pandas Intermediate 3\n",
    "\n",
    "**Description:** This notebook discusses:\n",
    "* How to use the backend Plotly to make an interactive chart\n",
    "* The entire pipeline from data cleaning and manipulation, data summary to plotting in Pandas \n",
    "\n",
    "**Use Case:** For Learners (Detailed explanation, not ideal for researchers)\n",
    "\n",
    "**Difficulty:** Intermediate\n",
    "\n",
    "**Knowledge Required:** \n",
    "* Python Basics ([Start Python Basics I](../basic/python-basics-1.ipynb))\n",
    "* Pandas Basics ([Start Pandas Basics I](./pandas-1.ipynb))\n",
    "\n",
    "**Knowledge Recommended:** \n",
    "* [Python Intermediate 2](../intermediate/python-intermediate-2.ipynb)\n",
    "* [Python Intermediate 4](../intermediate/python-intermediate-4.ipynb)\n",
    "\n",
    "**Completion Time:** 90 minutes\n",
    "\n",
    "**Data Format:** csv\n",
    "\n",
    "**Libraries Used:** Pandas\n",
    "\n",
    "**Research Pipeline:** None\n",
    "___"
   ]
  },
  {
   "cell_type": "code",
   "execution_count": 1,
   "id": "2326cad3-58d5-483a-bdfe-cd38cfc89363",
   "metadata": {},
   "outputs": [
    {
     "name": "stdout",
     "output_type": "stream",
     "text": [
      "Requirement already satisfied: plotly in /opt/homebrew/lib/python3.11/site-packages (6.2.0)\n",
      "Requirement already satisfied: narwhals>=1.15.1 in /opt/homebrew/lib/python3.11/site-packages (from plotly) (1.46.0)\n",
      "Requirement already satisfied: packaging in /Users/mearacox/Library/Python/3.11/lib/python/site-packages (from plotly) (25.0)\n",
      "Note: you may need to restart the kernel to use updated packages.\n"
     ]
    }
   ],
   "source": [
    "# download plotly\n",
    "%pip install plotly\n",
    "\n",
    "# make sure that the plots are rendered properly\n",
    "import plotly.io as pio\n",
    "pio.renderers.default = \"notebook\" "
   ]
  },
  {
   "cell_type": "code",
   "execution_count": 2,
   "id": "f8f28687-6e3e-4531-aa55-7dca796bba0a",
   "metadata": {
    "tags": []
   },
   "outputs": [],
   "source": [
    "# import Pandas \n",
    "import pandas as pd\n",
    "\n",
    "# import urllib\n",
    "import urllib"
   ]
  },
  {
   "cell_type": "code",
   "execution_count": 3,
   "id": "f27074c1-df0e-4447-b5ce-73861432ede1",
   "metadata": {
    "tags": []
   },
   "outputs": [],
   "source": [
    "# choose Plotly as the backend for plotting\n",
    "pd.options.plotting.backend='plotly'"
   ]
  },
  {
   "cell_type": "code",
   "execution_count": 4,
   "id": "a47b49f7-f888-4efa-ac7b-e99d6fb234da",
   "metadata": {},
   "outputs": [],
   "source": [
    "# import the graph_objects module from plotly\n",
    "import plotly.graph_objects as go "
   ]
  },
  {
   "cell_type": "markdown",
   "id": "f9dc08dc-b148-4385-8a60-8ae3f7914e63",
   "metadata": {},
   "source": [
    "## Interactive charts\n",
    "\n",
    "Interactive charts can effectively tell a story. They also allow the audience to explore the information in a gradual and interactive way. The process of exploration is also a knowledge-building process for the audience. \n",
    "\n",
    "In this section, we are going to make an interactive line graph. \n",
    "\n",
    "As discussed in [Pandas intermediate 2](./pandas-intermediate-2.ipynb), a line graph is usually used to show the change in a value of interest over time. Suppose we are interested in the change of the median of the rent of a 1-bedroom apartment from 2019 - 2023 in the different areas of the state of Massachusetts. "
   ]
  },
  {
   "cell_type": "code",
   "execution_count": 5,
   "id": "1b750624-7ff3-4e1c-8a9a-f7026b6694fa",
   "metadata": {
    "tags": []
   },
   "outputs": [
    {
     "name": "stdout",
     "output_type": "stream",
     "text": [
      "Sample file ready.\n"
     ]
    },
    {
     "data": {
      "text/html": [
       "<div>\n",
       "<style scoped>\n",
       "    .dataframe tbody tr th:only-of-type {\n",
       "        vertical-align: middle;\n",
       "    }\n",
       "\n",
       "    .dataframe tbody tr th {\n",
       "        vertical-align: top;\n",
       "    }\n",
       "\n",
       "    .dataframe thead th {\n",
       "        text-align: right;\n",
       "    }\n",
       "</style>\n",
       "<table border=\"1\" class=\"dataframe\">\n",
       "  <thead>\n",
       "    <tr style=\"text-align: right;\">\n",
       "      <th></th>\n",
       "      <th>areaname</th>\n",
       "      <th>rent19</th>\n",
       "      <th>rent20</th>\n",
       "      <th>rent21</th>\n",
       "      <th>rent22</th>\n",
       "      <th>rent23</th>\n",
       "    </tr>\n",
       "  </thead>\n",
       "  <tbody>\n",
       "    <tr>\n",
       "      <th>0</th>\n",
       "      <td>State median</td>\n",
       "      <td>1115</td>\n",
       "      <td>1133</td>\n",
       "      <td>1211</td>\n",
       "      <td>1307</td>\n",
       "      <td>1459</td>\n",
       "    </tr>\n",
       "    <tr>\n",
       "      <th>1</th>\n",
       "      <td>Barnstable Town</td>\n",
       "      <td>1237</td>\n",
       "      <td>1215</td>\n",
       "      <td>1334</td>\n",
       "      <td>1509</td>\n",
       "      <td>1655</td>\n",
       "    </tr>\n",
       "    <tr>\n",
       "      <th>2</th>\n",
       "      <td>Boston-Cambridge-Quincy</td>\n",
       "      <td>1904</td>\n",
       "      <td>2008</td>\n",
       "      <td>2034</td>\n",
       "      <td>2139</td>\n",
       "      <td>2368</td>\n",
       "    </tr>\n",
       "    <tr>\n",
       "      <th>3</th>\n",
       "      <td>Brockton</td>\n",
       "      <td>1215</td>\n",
       "      <td>1244</td>\n",
       "      <td>1270</td>\n",
       "      <td>1392</td>\n",
       "      <td>1516</td>\n",
       "    </tr>\n",
       "    <tr>\n",
       "      <th>4</th>\n",
       "      <td>Lawrence</td>\n",
       "      <td>1123</td>\n",
       "      <td>1184</td>\n",
       "      <td>1219</td>\n",
       "      <td>1307</td>\n",
       "      <td>1487</td>\n",
       "    </tr>\n",
       "    <tr>\n",
       "      <th>5</th>\n",
       "      <td>Lowell</td>\n",
       "      <td>1264</td>\n",
       "      <td>1270</td>\n",
       "      <td>1282</td>\n",
       "      <td>1450</td>\n",
       "      <td>1587</td>\n",
       "    </tr>\n",
       "    <tr>\n",
       "      <th>6</th>\n",
       "      <td>Pittsfield</td>\n",
       "      <td>885</td>\n",
       "      <td>862</td>\n",
       "      <td>962</td>\n",
       "      <td>1065</td>\n",
       "      <td>1161</td>\n",
       "    </tr>\n",
       "    <tr>\n",
       "      <th>7</th>\n",
       "      <td>Berkshire County</td>\n",
       "      <td>1014</td>\n",
       "      <td>961</td>\n",
       "      <td>961</td>\n",
       "      <td>1086</td>\n",
       "      <td>1148</td>\n",
       "    </tr>\n",
       "    <tr>\n",
       "      <th>8</th>\n",
       "      <td>Providence-Fall River</td>\n",
       "      <td>948</td>\n",
       "      <td>958</td>\n",
       "      <td>1030</td>\n",
       "      <td>1110</td>\n",
       "      <td>1275</td>\n",
       "    </tr>\n",
       "    <tr>\n",
       "      <th>9</th>\n",
       "      <td>Taunton-Mansfield-Norton</td>\n",
       "      <td>1024</td>\n",
       "      <td>1017</td>\n",
       "      <td>1073</td>\n",
       "      <td>1198</td>\n",
       "      <td>1339</td>\n",
       "    </tr>\n",
       "    <tr>\n",
       "      <th>10</th>\n",
       "      <td>Easton-Raynham</td>\n",
       "      <td>1181</td>\n",
       "      <td>1211</td>\n",
       "      <td>1297</td>\n",
       "      <td>1495</td>\n",
       "      <td>1759</td>\n",
       "    </tr>\n",
       "    <tr>\n",
       "      <th>11</th>\n",
       "      <td>New Bedford</td>\n",
       "      <td>826</td>\n",
       "      <td>834</td>\n",
       "      <td>875</td>\n",
       "      <td>958</td>\n",
       "      <td>1106</td>\n",
       "    </tr>\n",
       "    <tr>\n",
       "      <th>12</th>\n",
       "      <td>Springfield</td>\n",
       "      <td>874</td>\n",
       "      <td>922</td>\n",
       "      <td>954</td>\n",
       "      <td>940</td>\n",
       "      <td>1059</td>\n",
       "    </tr>\n",
       "    <tr>\n",
       "      <th>13</th>\n",
       "      <td>Worcester</td>\n",
       "      <td>1021</td>\n",
       "      <td>1178</td>\n",
       "      <td>1214</td>\n",
       "      <td>1243</td>\n",
       "      <td>1361</td>\n",
       "    </tr>\n",
       "    <tr>\n",
       "      <th>14</th>\n",
       "      <td>Eastern Worcester County</td>\n",
       "      <td>1012</td>\n",
       "      <td>1016</td>\n",
       "      <td>1043</td>\n",
       "      <td>1138</td>\n",
       "      <td>1372</td>\n",
       "    </tr>\n",
       "    <tr>\n",
       "      <th>15</th>\n",
       "      <td>Fitchburg-Leominster</td>\n",
       "      <td>881</td>\n",
       "      <td>859</td>\n",
       "      <td>865</td>\n",
       "      <td>933</td>\n",
       "      <td>1116</td>\n",
       "    </tr>\n",
       "    <tr>\n",
       "      <th>16</th>\n",
       "      <td>Western Worcester County</td>\n",
       "      <td>773</td>\n",
       "      <td>781</td>\n",
       "      <td>779</td>\n",
       "      <td>836</td>\n",
       "      <td>1001</td>\n",
       "    </tr>\n",
       "    <tr>\n",
       "      <th>17</th>\n",
       "      <td>Dukes County</td>\n",
       "      <td>1641</td>\n",
       "      <td>1650</td>\n",
       "      <td>1855</td>\n",
       "      <td>2068</td>\n",
       "      <td>2200</td>\n",
       "    </tr>\n",
       "    <tr>\n",
       "      <th>18</th>\n",
       "      <td>Franklin County</td>\n",
       "      <td>929</td>\n",
       "      <td>907</td>\n",
       "      <td>1043</td>\n",
       "      <td>982</td>\n",
       "      <td>1066</td>\n",
       "    </tr>\n",
       "    <tr>\n",
       "      <th>19</th>\n",
       "      <td>Nantucket County</td>\n",
       "      <td>1426</td>\n",
       "      <td>1447</td>\n",
       "      <td>1925</td>\n",
       "      <td>1983</td>\n",
       "      <td>2142</td>\n",
       "    </tr>\n",
       "  </tbody>\n",
       "</table>\n",
       "</div>"
      ],
      "text/plain": [
       "                    areaname  rent19  rent20  rent21  rent22  rent23\n",
       "0               State median    1115    1133    1211    1307    1459\n",
       "1            Barnstable Town    1237    1215    1334    1509    1655\n",
       "2    Boston-Cambridge-Quincy    1904    2008    2034    2139    2368\n",
       "3                   Brockton    1215    1244    1270    1392    1516\n",
       "4                   Lawrence    1123    1184    1219    1307    1487\n",
       "5                     Lowell    1264    1270    1282    1450    1587\n",
       "6                 Pittsfield     885     862     962    1065    1161\n",
       "7           Berkshire County    1014     961     961    1086    1148\n",
       "8      Providence-Fall River     948     958    1030    1110    1275\n",
       "9   Taunton-Mansfield-Norton    1024    1017    1073    1198    1339\n",
       "10            Easton-Raynham    1181    1211    1297    1495    1759\n",
       "11               New Bedford     826     834     875     958    1106\n",
       "12               Springfield     874     922     954     940    1059\n",
       "13                 Worcester    1021    1178    1214    1243    1361\n",
       "14  Eastern Worcester County    1012    1016    1043    1138    1372\n",
       "15      Fitchburg-Leominster     881     859     865     933    1116\n",
       "16  Western Worcester County     773     781     779     836    1001\n",
       "17              Dukes County    1641    1650    1855    2068    2200\n",
       "18           Franklin County     929     907    1043     982    1066\n",
       "19          Nantucket County    1426    1447    1925    1983    2142"
      ]
     },
     "execution_count": 5,
     "metadata": {},
     "output_type": "execute_result"
    }
   ],
   "source": [
    "### load the data\n",
    "\n",
    "# download the file\n",
    "from pathlib import Path\n",
    "import urllib.request\n",
    "\n",
    "# Check if a data folder exists. If not, create it.\n",
    "data_folder = Path('../data/')\n",
    "data_folder.mkdir(exist_ok=True)\n",
    "\n",
    "# Download the file\n",
    "url = 'https://ithaka-labs.s3.amazonaws.com/static-files/images/tdm/tdmdocs/PandasIntermediate3_ma_rent_1b_median.csv'\n",
    "file = '../data/' + url.split('/')[-1]\n",
    "urllib.request.urlretrieve(url, file)\n",
    "\n",
    "# Download success message\n",
    "print('Sample file ready.')\n",
    "\n",
    "# read data into a df\n",
    "ma_rent = pd.read_csv(file)\n",
    "\n",
    "# take a look at the df\n",
    "ma_rent"
   ]
  },
  {
   "cell_type": "code",
   "execution_count": 6,
   "id": "78f431a8-23bf-4fd4-9f32-b4117f5fa899",
   "metadata": {},
   "outputs": [
    {
     "name": "stdout",
     "output_type": "stream",
     "text": [
      "areaname    Barnstable Town\n",
      "rent19                  773\n",
      "rent20                  781\n",
      "rent21                  779\n",
      "rent22                  836\n",
      "rent23                 1001\n",
      "dtype: object\n",
      "areaname    Worcester\n",
      "rent19           1904\n",
      "rent20           2008\n",
      "rent21           2034\n",
      "rent22           2139\n",
      "rent23           2368\n",
      "dtype: object\n"
     ]
    }
   ],
   "source": [
    "### explore the data\n",
    "# what is the min rent over the years\n",
    "print(ma_rent.min())\n",
    "\n",
    "# what is the max rent over the years\n",
    "print(ma_rent.max())"
   ]
  },
  {
   "cell_type": "markdown",
   "id": "acde9c99-afb9-4b16-a6a0-5a8ddfd40468",
   "metadata": {},
   "source": [
    "How would we want to make an interactive line graph? One possibility is that we can make a dropdown menu of the different areas of MA. Depending on which area in MA the user selects, a line graph showing the change in the median rent of a 1-bedroom apartment in that area will be displayed. We can also put a line representing the state median rent on the graph as a benchmark. "
   ]
  },
  {
   "cell_type": "code",
   "execution_count": 7,
   "id": "69e29f20-472f-4265-809c-04561e63685a",
   "metadata": {
    "tags": []
   },
   "outputs": [],
   "source": [
    "### make a figure with appropriate y axies range\n",
    "fig = go.Figure(layout_yaxis_range=[700,2500])"
   ]
  },
  {
   "cell_type": "code",
   "execution_count": 8,
   "id": "e2631eea-c96b-4033-b4ba-2bc958043fc9",
   "metadata": {
    "tags": []
   },
   "outputs": [],
   "source": [
    "### make the dropdown menu\n",
    "buttons = []\n",
    "x_val = ['2019', '2020', '2021', '2022', '2023'] # specify the x values\n",
    "for row in ma_rent.index[1:]: # loop through all rows except the state median row\n",
    "    buttons.append(dict(\n",
    "                        label=ma_rent.loc[row,'areaname'], # get the area name\n",
    "                        method='update', # specify how we will modify the chart when clicking on a button \n",
    "                        visible=True, # specify that data points will be shown\n",
    "                        args=[{'y': [ma_rent.iloc[0,1:], ma_rent.iloc[row,1:]], # y values for the two lines\n",
    "                               'x': [x_val,x_val], # x values for the two lines\n",
    "                               'name':['State Median', ma_rent.loc[row,'areaname']] # names for the two lines\n",
    "                               }\n",
    "                             ]\n",
    "                        )\n",
    "                  )"
   ]
  },
  {
   "cell_type": "code",
   "execution_count": 29,
   "id": "34d32510-000c-4a9e-a0f2-d22a757ac669",
   "metadata": {
    "tags": []
   },
   "outputs": [
    {
     "data": {
      "text/html": [
       "<div>            <script src=\"https://cdnjs.cloudflare.com/ajax/libs/mathjax/2.7.5/MathJax.js?config=TeX-AMS-MML_SVG\"></script><script type=\"text/javascript\">if (window.MathJax && window.MathJax.Hub && window.MathJax.Hub.Config) {window.MathJax.Hub.Config({SVG: {font: \"STIX-Web\"}});}</script>                    <div id=\"75e0339b-ff6b-4f1c-b6b1-43c6feef9e86\" class=\"plotly-graph-div\" style=\"height:525px; width:100%;\"></div>            <script type=\"text/javascript\">                window.PLOTLYENV=window.PLOTLYENV || {};                                if (document.getElementById(\"75e0339b-ff6b-4f1c-b6b1-43c6feef9e86\")) {                    Plotly.newPlot(                        \"75e0339b-ff6b-4f1c-b6b1-43c6feef9e86\",                        [{\"name\":\"Female\",\"x\":[2017,2018,2019],\"y\":{\"dtype\":\"i1\",\"bdata\":\"R0Fg\"},\"type\":\"bar\"},{\"name\":\"Male\",\"x\":[2017,2018,2019],\"y\":{\"dtype\":\"i2\",\"bdata\":\"eABqAI8A\"},\"type\":\"bar\"},{\"line\":{\"color\":\"darkgreen\",\"dash\":\"dash\"},\"name\":\"State Median\",\"x\":[\"2019\",\"2020\",\"2021\",\"2022\",\"2023\"],\"y\":[1115,1133,1211,1307,1459],\"type\":\"scatter\"},{\"line\":{\"color\":\"blue\",\"dash\":\"dashdot\"},\"name\":\"Barnstable Town\",\"x\":[\"2019\",\"2020\",\"2021\",\"2022\",\"2023\"],\"y\":[1237,1215,1334,1509,1655],\"type\":\"scatter\"}],                        {\"template\":{\"data\":{\"histogram2dcontour\":[{\"type\":\"histogram2dcontour\",\"colorbar\":{\"outlinewidth\":0,\"ticks\":\"\"},\"colorscale\":[[0.0,\"#0d0887\"],[0.1111111111111111,\"#46039f\"],[0.2222222222222222,\"#7201a8\"],[0.3333333333333333,\"#9c179e\"],[0.4444444444444444,\"#bd3786\"],[0.5555555555555556,\"#d8576b\"],[0.6666666666666666,\"#ed7953\"],[0.7777777777777778,\"#fb9f3a\"],[0.8888888888888888,\"#fdca26\"],[1.0,\"#f0f921\"]]}],\"choropleth\":[{\"type\":\"choropleth\",\"colorbar\":{\"outlinewidth\":0,\"ticks\":\"\"}}],\"histogram2d\":[{\"type\":\"histogram2d\",\"colorbar\":{\"outlinewidth\":0,\"ticks\":\"\"},\"colorscale\":[[0.0,\"#0d0887\"],[0.1111111111111111,\"#46039f\"],[0.2222222222222222,\"#7201a8\"],[0.3333333333333333,\"#9c179e\"],[0.4444444444444444,\"#bd3786\"],[0.5555555555555556,\"#d8576b\"],[0.6666666666666666,\"#ed7953\"],[0.7777777777777778,\"#fb9f3a\"],[0.8888888888888888,\"#fdca26\"],[1.0,\"#f0f921\"]]}],\"heatmap\":[{\"type\":\"heatmap\",\"colorbar\":{\"outlinewidth\":0,\"ticks\":\"\"},\"colorscale\":[[0.0,\"#0d0887\"],[0.1111111111111111,\"#46039f\"],[0.2222222222222222,\"#7201a8\"],[0.3333333333333333,\"#9c179e\"],[0.4444444444444444,\"#bd3786\"],[0.5555555555555556,\"#d8576b\"],[0.6666666666666666,\"#ed7953\"],[0.7777777777777778,\"#fb9f3a\"],[0.8888888888888888,\"#fdca26\"],[1.0,\"#f0f921\"]]}],\"contourcarpet\":[{\"type\":\"contourcarpet\",\"colorbar\":{\"outlinewidth\":0,\"ticks\":\"\"}}],\"contour\":[{\"type\":\"contour\",\"colorbar\":{\"outlinewidth\":0,\"ticks\":\"\"},\"colorscale\":[[0.0,\"#0d0887\"],[0.1111111111111111,\"#46039f\"],[0.2222222222222222,\"#7201a8\"],[0.3333333333333333,\"#9c179e\"],[0.4444444444444444,\"#bd3786\"],[0.5555555555555556,\"#d8576b\"],[0.6666666666666666,\"#ed7953\"],[0.7777777777777778,\"#fb9f3a\"],[0.8888888888888888,\"#fdca26\"],[1.0,\"#f0f921\"]]}],\"surface\":[{\"type\":\"surface\",\"colorbar\":{\"outlinewidth\":0,\"ticks\":\"\"},\"colorscale\":[[0.0,\"#0d0887\"],[0.1111111111111111,\"#46039f\"],[0.2222222222222222,\"#7201a8\"],[0.3333333333333333,\"#9c179e\"],[0.4444444444444444,\"#bd3786\"],[0.5555555555555556,\"#d8576b\"],[0.6666666666666666,\"#ed7953\"],[0.7777777777777778,\"#fb9f3a\"],[0.8888888888888888,\"#fdca26\"],[1.0,\"#f0f921\"]]}],\"mesh3d\":[{\"type\":\"mesh3d\",\"colorbar\":{\"outlinewidth\":0,\"ticks\":\"\"}}],\"scatter\":[{\"fillpattern\":{\"fillmode\":\"overlay\",\"size\":10,\"solidity\":0.2},\"type\":\"scatter\"}],\"parcoords\":[{\"type\":\"parcoords\",\"line\":{\"colorbar\":{\"outlinewidth\":0,\"ticks\":\"\"}}}],\"scatterpolargl\":[{\"type\":\"scatterpolargl\",\"marker\":{\"colorbar\":{\"outlinewidth\":0,\"ticks\":\"\"}}}],\"bar\":[{\"error_x\":{\"color\":\"#2a3f5f\"},\"error_y\":{\"color\":\"#2a3f5f\"},\"marker\":{\"line\":{\"color\":\"#E5ECF6\",\"width\":0.5},\"pattern\":{\"fillmode\":\"overlay\",\"size\":10,\"solidity\":0.2}},\"type\":\"bar\"}],\"scattergeo\":[{\"type\":\"scattergeo\",\"marker\":{\"colorbar\":{\"outlinewidth\":0,\"ticks\":\"\"}}}],\"scatterpolar\":[{\"type\":\"scatterpolar\",\"marker\":{\"colorbar\":{\"outlinewidth\":0,\"ticks\":\"\"}}}],\"histogram\":[{\"marker\":{\"pattern\":{\"fillmode\":\"overlay\",\"size\":10,\"solidity\":0.2}},\"type\":\"histogram\"}],\"scattergl\":[{\"type\":\"scattergl\",\"marker\":{\"colorbar\":{\"outlinewidth\":0,\"ticks\":\"\"}}}],\"scatter3d\":[{\"type\":\"scatter3d\",\"line\":{\"colorbar\":{\"outlinewidth\":0,\"ticks\":\"\"}},\"marker\":{\"colorbar\":{\"outlinewidth\":0,\"ticks\":\"\"}}}],\"scattermap\":[{\"type\":\"scattermap\",\"marker\":{\"colorbar\":{\"outlinewidth\":0,\"ticks\":\"\"}}}],\"scattermapbox\":[{\"type\":\"scattermapbox\",\"marker\":{\"colorbar\":{\"outlinewidth\":0,\"ticks\":\"\"}}}],\"scatterternary\":[{\"type\":\"scatterternary\",\"marker\":{\"colorbar\":{\"outlinewidth\":0,\"ticks\":\"\"}}}],\"scattercarpet\":[{\"type\":\"scattercarpet\",\"marker\":{\"colorbar\":{\"outlinewidth\":0,\"ticks\":\"\"}}}],\"carpet\":[{\"aaxis\":{\"endlinecolor\":\"#2a3f5f\",\"gridcolor\":\"white\",\"linecolor\":\"white\",\"minorgridcolor\":\"white\",\"startlinecolor\":\"#2a3f5f\"},\"baxis\":{\"endlinecolor\":\"#2a3f5f\",\"gridcolor\":\"white\",\"linecolor\":\"white\",\"minorgridcolor\":\"white\",\"startlinecolor\":\"#2a3f5f\"},\"type\":\"carpet\"}],\"table\":[{\"cells\":{\"fill\":{\"color\":\"#EBF0F8\"},\"line\":{\"color\":\"white\"}},\"header\":{\"fill\":{\"color\":\"#C8D4E3\"},\"line\":{\"color\":\"white\"}},\"type\":\"table\"}],\"barpolar\":[{\"marker\":{\"line\":{\"color\":\"#E5ECF6\",\"width\":0.5},\"pattern\":{\"fillmode\":\"overlay\",\"size\":10,\"solidity\":0.2}},\"type\":\"barpolar\"}],\"pie\":[{\"automargin\":true,\"type\":\"pie\"}]},\"layout\":{\"autotypenumbers\":\"strict\",\"colorway\":[\"#636efa\",\"#EF553B\",\"#00cc96\",\"#ab63fa\",\"#FFA15A\",\"#19d3f3\",\"#FF6692\",\"#B6E880\",\"#FF97FF\",\"#FECB52\"],\"font\":{\"color\":\"#2a3f5f\"},\"hovermode\":\"closest\",\"hoverlabel\":{\"align\":\"left\"},\"paper_bgcolor\":\"white\",\"plot_bgcolor\":\"#E5ECF6\",\"polar\":{\"bgcolor\":\"#E5ECF6\",\"angularaxis\":{\"gridcolor\":\"white\",\"linecolor\":\"white\",\"ticks\":\"\"},\"radialaxis\":{\"gridcolor\":\"white\",\"linecolor\":\"white\",\"ticks\":\"\"}},\"ternary\":{\"bgcolor\":\"#E5ECF6\",\"aaxis\":{\"gridcolor\":\"white\",\"linecolor\":\"white\",\"ticks\":\"\"},\"baxis\":{\"gridcolor\":\"white\",\"linecolor\":\"white\",\"ticks\":\"\"},\"caxis\":{\"gridcolor\":\"white\",\"linecolor\":\"white\",\"ticks\":\"\"}},\"coloraxis\":{\"colorbar\":{\"outlinewidth\":0,\"ticks\":\"\"}},\"colorscale\":{\"sequential\":[[0.0,\"#0d0887\"],[0.1111111111111111,\"#46039f\"],[0.2222222222222222,\"#7201a8\"],[0.3333333333333333,\"#9c179e\"],[0.4444444444444444,\"#bd3786\"],[0.5555555555555556,\"#d8576b\"],[0.6666666666666666,\"#ed7953\"],[0.7777777777777778,\"#fb9f3a\"],[0.8888888888888888,\"#fdca26\"],[1.0,\"#f0f921\"]],\"sequentialminus\":[[0.0,\"#0d0887\"],[0.1111111111111111,\"#46039f\"],[0.2222222222222222,\"#7201a8\"],[0.3333333333333333,\"#9c179e\"],[0.4444444444444444,\"#bd3786\"],[0.5555555555555556,\"#d8576b\"],[0.6666666666666666,\"#ed7953\"],[0.7777777777777778,\"#fb9f3a\"],[0.8888888888888888,\"#fdca26\"],[1.0,\"#f0f921\"]],\"diverging\":[[0,\"#8e0152\"],[0.1,\"#c51b7d\"],[0.2,\"#de77ae\"],[0.3,\"#f1b6da\"],[0.4,\"#fde0ef\"],[0.5,\"#f7f7f7\"],[0.6,\"#e6f5d0\"],[0.7,\"#b8e186\"],[0.8,\"#7fbc41\"],[0.9,\"#4d9221\"],[1,\"#276419\"]]},\"xaxis\":{\"gridcolor\":\"white\",\"linecolor\":\"white\",\"ticks\":\"\",\"title\":{\"standoff\":15},\"zerolinecolor\":\"white\",\"automargin\":true,\"zerolinewidth\":2},\"yaxis\":{\"gridcolor\":\"white\",\"linecolor\":\"white\",\"ticks\":\"\",\"title\":{\"standoff\":15},\"zerolinecolor\":\"white\",\"automargin\":true,\"zerolinewidth\":2},\"scene\":{\"xaxis\":{\"backgroundcolor\":\"#E5ECF6\",\"gridcolor\":\"white\",\"linecolor\":\"white\",\"showbackground\":true,\"ticks\":\"\",\"zerolinecolor\":\"white\",\"gridwidth\":2},\"yaxis\":{\"backgroundcolor\":\"#E5ECF6\",\"gridcolor\":\"white\",\"linecolor\":\"white\",\"showbackground\":true,\"ticks\":\"\",\"zerolinecolor\":\"white\",\"gridwidth\":2},\"zaxis\":{\"backgroundcolor\":\"#E5ECF6\",\"gridcolor\":\"white\",\"linecolor\":\"white\",\"showbackground\":true,\"ticks\":\"\",\"zerolinecolor\":\"white\",\"gridwidth\":2}},\"shapedefaults\":{\"line\":{\"color\":\"#2a3f5f\"}},\"annotationdefaults\":{\"arrowcolor\":\"#2a3f5f\",\"arrowhead\":0,\"arrowwidth\":1},\"geo\":{\"bgcolor\":\"white\",\"landcolor\":\"#E5ECF6\",\"subunitcolor\":\"white\",\"showland\":true,\"showlakes\":true,\"lakecolor\":\"white\"},\"title\":{\"x\":0.05},\"mapbox\":{\"style\":\"light\"}}},\"legend\":{\"yanchor\":\"top\",\"y\":-0.1,\"xanchor\":\"left\",\"x\":0.2,\"orientation\":\"h\"},\"updatemenus\":[{\"active\":0,\"buttons\":[{\"args\":[{\"y\":[[71,65,96],[120,106,143]],\"x\":[[2017,2018,2019],[2017,2018,2019]]}],\"label\":\"Australia\",\"method\":\"update\",\"visible\":true},{\"args\":[{\"y\":[[59,64,92],[146,134,188]],\"x\":[[2017,2018,2019],[2017,2018,2019]]}],\"label\":\"Brazil\",\"method\":\"update\",\"visible\":true},{\"args\":[{\"y\":[[815,806,769],[1056,1022,912]],\"x\":[[2017,2018,2019],[2017,2018,2019]]}],\"label\":\"Canada\",\"method\":\"update\",\"visible\":true},{\"args\":[{\"y\":[[77,80,124],[165,273,305]],\"x\":[[2017,2018,2019],[2017,2018,2019]]}],\"label\":\"China\",\"method\":\"update\",\"visible\":true},{\"args\":[{\"y\":[[63,38,69],[162,159,187]],\"x\":[[2017,2018,2019],[2017,2018,2019]]}],\"label\":\"Germany\",\"method\":\"update\",\"visible\":true},{\"args\":[{\"y\":[[37,30,36],[128,145,134]],\"x\":[[2017,2018,2019],[2017,2018,2019]]}],\"label\":\"Italy\",\"method\":\"update\",\"visible\":true},{\"args\":[{\"y\":[[41,56,67],[129,171,167]],\"x\":[[2017,2018,2019],[2017,2018,2019]]}],\"label\":\"Japan\",\"method\":\"update\",\"visible\":true},{\"args\":[{\"y\":[[94,94,121],[190,216,224]],\"x\":[[2017,2018,2019],[2017,2018,2019]]}],\"label\":\"Mexico\",\"method\":\"update\",\"visible\":true},{\"args\":[{\"y\":[[12,20,42],[120,132,191]],\"x\":[[2017,2018,2019],[2017,2018,2019]]}],\"label\":\"Spain\",\"method\":\"update\",\"visible\":true},{\"args\":[{\"y\":[[135,171,234],[290,349,445]],\"x\":[[2017,2018,2019],[2017,2018,2019]]}],\"label\":\"United Kingdom\",\"method\":\"update\",\"visible\":true}],\"direction\":\"down\",\"x\":0.3,\"xanchor\":\"left\",\"y\":1.2,\"yanchor\":\"top\"}]},                        {\"responsive\": true}                    ).then(function(){\n",
       "                            \n",
       "var gd = document.getElementById('75e0339b-ff6b-4f1c-b6b1-43c6feef9e86');\n",
       "var x = new MutationObserver(function (mutations, observer) {{\n",
       "        var display = window.getComputedStyle(gd).display;\n",
       "        if (!display || display === 'none') {{\n",
       "            console.log([gd, 'removed!']);\n",
       "            Plotly.purge(gd);\n",
       "            observer.disconnect();\n",
       "        }}\n",
       "}});\n",
       "\n",
       "// Listen for the removal of the full notebook cells\n",
       "var notebookContainer = gd.closest('#notebook-container');\n",
       "if (notebookContainer) {{\n",
       "    x.observe(notebookContainer, {childList: true});\n",
       "}}\n",
       "\n",
       "// Listen for the clearing of the current output cell\n",
       "var outputEl = gd.closest('.output');\n",
       "if (outputEl) {{\n",
       "    x.observe(outputEl, {childList: true});\n",
       "}}\n",
       "\n",
       "                        })                };            </script>        </div>"
      ]
     },
     "metadata": {},
     "output_type": "display_data"
    }
   ],
   "source": [
    "### Draw the line graph users see initially\n",
    "\n",
    "# draw the line for state median\n",
    "fig.add_trace(go.Scatter(x=x_val,\n",
    "                         y=ma_rent.iloc[0,1:],\n",
    "                         name='State Median',\n",
    "                         line=dict(color=\"darkgreen\", dash=\"dash\"))\n",
    "             )\n",
    "\n",
    "\n",
    "# draw the line for Barstable Town\n",
    "fig.add_trace(go.Scatter(x=x_val,\n",
    "                         y=ma_rent.iloc[1,1:],\n",
    "                         name='Barnstable Town',\n",
    "                         line=dict(color=\"blue\", dash=\"dashdot\"))\n",
    "             )"
   ]
  },
  {
   "cell_type": "markdown",
   "id": "bd775f1a-f05f-48fd-845c-c6c3f672b2dd",
   "metadata": {},
   "source": [
    "This is the line graph the users see when they have not selected any area from the dropdown buttons. We haven't put the dropdown buttons on the graph yet. Let's do that. "
   ]
  },
  {
   "cell_type": "code",
   "execution_count": 10,
   "id": "f89ef214-1ccf-4708-adb3-8afa5d2a3991",
   "metadata": {
    "tags": []
   },
   "outputs": [
    {
     "data": {
      "text/html": [
       "<div>            <script src=\"https://cdnjs.cloudflare.com/ajax/libs/mathjax/2.7.5/MathJax.js?config=TeX-AMS-MML_SVG\"></script><script type=\"text/javascript\">if (window.MathJax && window.MathJax.Hub && window.MathJax.Hub.Config) {window.MathJax.Hub.Config({SVG: {font: \"STIX-Web\"}});}</script>                    <div id=\"3212a6d1-c21e-4209-a19a-35ac3b176b8a\" class=\"plotly-graph-div\" style=\"height:525px; width:100%;\"></div>            <script type=\"text/javascript\">                window.PLOTLYENV=window.PLOTLYENV || {};                                if (document.getElementById(\"3212a6d1-c21e-4209-a19a-35ac3b176b8a\")) {                    Plotly.newPlot(                        \"3212a6d1-c21e-4209-a19a-35ac3b176b8a\",                        [{\"line\":{\"color\":\"darkgreen\",\"dash\":\"dash\"},\"name\":\"State Median\",\"x\":[\"2019\",\"2020\",\"2021\",\"2022\",\"2023\"],\"y\":[1115,1133,1211,1307,1459],\"type\":\"scatter\"},{\"line\":{\"color\":\"blue\",\"dash\":\"dashdot\"},\"name\":\"Barnstable Town\",\"x\":[\"2019\",\"2020\",\"2021\",\"2022\",\"2023\"],\"y\":[1237,1215,1334,1509,1655],\"type\":\"scatter\"}],                        {\"template\":{\"data\":{\"histogram2dcontour\":[{\"type\":\"histogram2dcontour\",\"colorbar\":{\"outlinewidth\":0,\"ticks\":\"\"},\"colorscale\":[[0.0,\"#0d0887\"],[0.1111111111111111,\"#46039f\"],[0.2222222222222222,\"#7201a8\"],[0.3333333333333333,\"#9c179e\"],[0.4444444444444444,\"#bd3786\"],[0.5555555555555556,\"#d8576b\"],[0.6666666666666666,\"#ed7953\"],[0.7777777777777778,\"#fb9f3a\"],[0.8888888888888888,\"#fdca26\"],[1.0,\"#f0f921\"]]}],\"choropleth\":[{\"type\":\"choropleth\",\"colorbar\":{\"outlinewidth\":0,\"ticks\":\"\"}}],\"histogram2d\":[{\"type\":\"histogram2d\",\"colorbar\":{\"outlinewidth\":0,\"ticks\":\"\"},\"colorscale\":[[0.0,\"#0d0887\"],[0.1111111111111111,\"#46039f\"],[0.2222222222222222,\"#7201a8\"],[0.3333333333333333,\"#9c179e\"],[0.4444444444444444,\"#bd3786\"],[0.5555555555555556,\"#d8576b\"],[0.6666666666666666,\"#ed7953\"],[0.7777777777777778,\"#fb9f3a\"],[0.8888888888888888,\"#fdca26\"],[1.0,\"#f0f921\"]]}],\"heatmap\":[{\"type\":\"heatmap\",\"colorbar\":{\"outlinewidth\":0,\"ticks\":\"\"},\"colorscale\":[[0.0,\"#0d0887\"],[0.1111111111111111,\"#46039f\"],[0.2222222222222222,\"#7201a8\"],[0.3333333333333333,\"#9c179e\"],[0.4444444444444444,\"#bd3786\"],[0.5555555555555556,\"#d8576b\"],[0.6666666666666666,\"#ed7953\"],[0.7777777777777778,\"#fb9f3a\"],[0.8888888888888888,\"#fdca26\"],[1.0,\"#f0f921\"]]}],\"contourcarpet\":[{\"type\":\"contourcarpet\",\"colorbar\":{\"outlinewidth\":0,\"ticks\":\"\"}}],\"contour\":[{\"type\":\"contour\",\"colorbar\":{\"outlinewidth\":0,\"ticks\":\"\"},\"colorscale\":[[0.0,\"#0d0887\"],[0.1111111111111111,\"#46039f\"],[0.2222222222222222,\"#7201a8\"],[0.3333333333333333,\"#9c179e\"],[0.4444444444444444,\"#bd3786\"],[0.5555555555555556,\"#d8576b\"],[0.6666666666666666,\"#ed7953\"],[0.7777777777777778,\"#fb9f3a\"],[0.8888888888888888,\"#fdca26\"],[1.0,\"#f0f921\"]]}],\"surface\":[{\"type\":\"surface\",\"colorbar\":{\"outlinewidth\":0,\"ticks\":\"\"},\"colorscale\":[[0.0,\"#0d0887\"],[0.1111111111111111,\"#46039f\"],[0.2222222222222222,\"#7201a8\"],[0.3333333333333333,\"#9c179e\"],[0.4444444444444444,\"#bd3786\"],[0.5555555555555556,\"#d8576b\"],[0.6666666666666666,\"#ed7953\"],[0.7777777777777778,\"#fb9f3a\"],[0.8888888888888888,\"#fdca26\"],[1.0,\"#f0f921\"]]}],\"mesh3d\":[{\"type\":\"mesh3d\",\"colorbar\":{\"outlinewidth\":0,\"ticks\":\"\"}}],\"scatter\":[{\"fillpattern\":{\"fillmode\":\"overlay\",\"size\":10,\"solidity\":0.2},\"type\":\"scatter\"}],\"parcoords\":[{\"type\":\"parcoords\",\"line\":{\"colorbar\":{\"outlinewidth\":0,\"ticks\":\"\"}}}],\"scatterpolargl\":[{\"type\":\"scatterpolargl\",\"marker\":{\"colorbar\":{\"outlinewidth\":0,\"ticks\":\"\"}}}],\"bar\":[{\"error_x\":{\"color\":\"#2a3f5f\"},\"error_y\":{\"color\":\"#2a3f5f\"},\"marker\":{\"line\":{\"color\":\"#E5ECF6\",\"width\":0.5},\"pattern\":{\"fillmode\":\"overlay\",\"size\":10,\"solidity\":0.2}},\"type\":\"bar\"}],\"scattergeo\":[{\"type\":\"scattergeo\",\"marker\":{\"colorbar\":{\"outlinewidth\":0,\"ticks\":\"\"}}}],\"scatterpolar\":[{\"type\":\"scatterpolar\",\"marker\":{\"colorbar\":{\"outlinewidth\":0,\"ticks\":\"\"}}}],\"histogram\":[{\"marker\":{\"pattern\":{\"fillmode\":\"overlay\",\"size\":10,\"solidity\":0.2}},\"type\":\"histogram\"}],\"scattergl\":[{\"type\":\"scattergl\",\"marker\":{\"colorbar\":{\"outlinewidth\":0,\"ticks\":\"\"}}}],\"scatter3d\":[{\"type\":\"scatter3d\",\"line\":{\"colorbar\":{\"outlinewidth\":0,\"ticks\":\"\"}},\"marker\":{\"colorbar\":{\"outlinewidth\":0,\"ticks\":\"\"}}}],\"scattermap\":[{\"type\":\"scattermap\",\"marker\":{\"colorbar\":{\"outlinewidth\":0,\"ticks\":\"\"}}}],\"scattermapbox\":[{\"type\":\"scattermapbox\",\"marker\":{\"colorbar\":{\"outlinewidth\":0,\"ticks\":\"\"}}}],\"scatterternary\":[{\"type\":\"scatterternary\",\"marker\":{\"colorbar\":{\"outlinewidth\":0,\"ticks\":\"\"}}}],\"scattercarpet\":[{\"type\":\"scattercarpet\",\"marker\":{\"colorbar\":{\"outlinewidth\":0,\"ticks\":\"\"}}}],\"carpet\":[{\"aaxis\":{\"endlinecolor\":\"#2a3f5f\",\"gridcolor\":\"white\",\"linecolor\":\"white\",\"minorgridcolor\":\"white\",\"startlinecolor\":\"#2a3f5f\"},\"baxis\":{\"endlinecolor\":\"#2a3f5f\",\"gridcolor\":\"white\",\"linecolor\":\"white\",\"minorgridcolor\":\"white\",\"startlinecolor\":\"#2a3f5f\"},\"type\":\"carpet\"}],\"table\":[{\"cells\":{\"fill\":{\"color\":\"#EBF0F8\"},\"line\":{\"color\":\"white\"}},\"header\":{\"fill\":{\"color\":\"#C8D4E3\"},\"line\":{\"color\":\"white\"}},\"type\":\"table\"}],\"barpolar\":[{\"marker\":{\"line\":{\"color\":\"#E5ECF6\",\"width\":0.5},\"pattern\":{\"fillmode\":\"overlay\",\"size\":10,\"solidity\":0.2}},\"type\":\"barpolar\"}],\"pie\":[{\"automargin\":true,\"type\":\"pie\"}]},\"layout\":{\"autotypenumbers\":\"strict\",\"colorway\":[\"#636efa\",\"#EF553B\",\"#00cc96\",\"#ab63fa\",\"#FFA15A\",\"#19d3f3\",\"#FF6692\",\"#B6E880\",\"#FF97FF\",\"#FECB52\"],\"font\":{\"color\":\"#2a3f5f\"},\"hovermode\":\"closest\",\"hoverlabel\":{\"align\":\"left\"},\"paper_bgcolor\":\"white\",\"plot_bgcolor\":\"#E5ECF6\",\"polar\":{\"bgcolor\":\"#E5ECF6\",\"angularaxis\":{\"gridcolor\":\"white\",\"linecolor\":\"white\",\"ticks\":\"\"},\"radialaxis\":{\"gridcolor\":\"white\",\"linecolor\":\"white\",\"ticks\":\"\"}},\"ternary\":{\"bgcolor\":\"#E5ECF6\",\"aaxis\":{\"gridcolor\":\"white\",\"linecolor\":\"white\",\"ticks\":\"\"},\"baxis\":{\"gridcolor\":\"white\",\"linecolor\":\"white\",\"ticks\":\"\"},\"caxis\":{\"gridcolor\":\"white\",\"linecolor\":\"white\",\"ticks\":\"\"}},\"coloraxis\":{\"colorbar\":{\"outlinewidth\":0,\"ticks\":\"\"}},\"colorscale\":{\"sequential\":[[0.0,\"#0d0887\"],[0.1111111111111111,\"#46039f\"],[0.2222222222222222,\"#7201a8\"],[0.3333333333333333,\"#9c179e\"],[0.4444444444444444,\"#bd3786\"],[0.5555555555555556,\"#d8576b\"],[0.6666666666666666,\"#ed7953\"],[0.7777777777777778,\"#fb9f3a\"],[0.8888888888888888,\"#fdca26\"],[1.0,\"#f0f921\"]],\"sequentialminus\":[[0.0,\"#0d0887\"],[0.1111111111111111,\"#46039f\"],[0.2222222222222222,\"#7201a8\"],[0.3333333333333333,\"#9c179e\"],[0.4444444444444444,\"#bd3786\"],[0.5555555555555556,\"#d8576b\"],[0.6666666666666666,\"#ed7953\"],[0.7777777777777778,\"#fb9f3a\"],[0.8888888888888888,\"#fdca26\"],[1.0,\"#f0f921\"]],\"diverging\":[[0,\"#8e0152\"],[0.1,\"#c51b7d\"],[0.2,\"#de77ae\"],[0.3,\"#f1b6da\"],[0.4,\"#fde0ef\"],[0.5,\"#f7f7f7\"],[0.6,\"#e6f5d0\"],[0.7,\"#b8e186\"],[0.8,\"#7fbc41\"],[0.9,\"#4d9221\"],[1,\"#276419\"]]},\"xaxis\":{\"gridcolor\":\"white\",\"linecolor\":\"white\",\"ticks\":\"\",\"title\":{\"standoff\":15},\"zerolinecolor\":\"white\",\"automargin\":true,\"zerolinewidth\":2},\"yaxis\":{\"gridcolor\":\"white\",\"linecolor\":\"white\",\"ticks\":\"\",\"title\":{\"standoff\":15},\"zerolinecolor\":\"white\",\"automargin\":true,\"zerolinewidth\":2},\"scene\":{\"xaxis\":{\"backgroundcolor\":\"#E5ECF6\",\"gridcolor\":\"white\",\"linecolor\":\"white\",\"showbackground\":true,\"ticks\":\"\",\"zerolinecolor\":\"white\",\"gridwidth\":2},\"yaxis\":{\"backgroundcolor\":\"#E5ECF6\",\"gridcolor\":\"white\",\"linecolor\":\"white\",\"showbackground\":true,\"ticks\":\"\",\"zerolinecolor\":\"white\",\"gridwidth\":2},\"zaxis\":{\"backgroundcolor\":\"#E5ECF6\",\"gridcolor\":\"white\",\"linecolor\":\"white\",\"showbackground\":true,\"ticks\":\"\",\"zerolinecolor\":\"white\",\"gridwidth\":2}},\"shapedefaults\":{\"line\":{\"color\":\"#2a3f5f\"}},\"annotationdefaults\":{\"arrowcolor\":\"#2a3f5f\",\"arrowhead\":0,\"arrowwidth\":1},\"geo\":{\"bgcolor\":\"white\",\"landcolor\":\"#E5ECF6\",\"subunitcolor\":\"white\",\"showland\":true,\"showlakes\":true,\"lakecolor\":\"white\"},\"title\":{\"x\":0.05},\"mapbox\":{\"style\":\"light\"}}},\"yaxis\":{\"range\":[700,2500]},\"legend\":{\"yanchor\":\"top\",\"y\":-0.1,\"xanchor\":\"left\",\"x\":0.2,\"orientation\":\"h\"},\"updatemenus\":[{\"active\":0,\"buttons\":[{\"args\":[{\"y\":[[1115,1133,1211,1307,1459],[1237,1215,1334,1509,1655]],\"x\":[[\"2019\",\"2020\",\"2021\",\"2022\",\"2023\"],[\"2019\",\"2020\",\"2021\",\"2022\",\"2023\"]],\"name\":[\"State Median\",\"Barnstable Town\"]}],\"label\":\"Barnstable Town\",\"method\":\"update\",\"visible\":true},{\"args\":[{\"y\":[[1115,1133,1211,1307,1459],[1904,2008,2034,2139,2368]],\"x\":[[\"2019\",\"2020\",\"2021\",\"2022\",\"2023\"],[\"2019\",\"2020\",\"2021\",\"2022\",\"2023\"]],\"name\":[\"State Median\",\"Boston-Cambridge-Quincy\"]}],\"label\":\"Boston-Cambridge-Quincy\",\"method\":\"update\",\"visible\":true},{\"args\":[{\"y\":[[1115,1133,1211,1307,1459],[1215,1244,1270,1392,1516]],\"x\":[[\"2019\",\"2020\",\"2021\",\"2022\",\"2023\"],[\"2019\",\"2020\",\"2021\",\"2022\",\"2023\"]],\"name\":[\"State Median\",\"Brockton\"]}],\"label\":\"Brockton\",\"method\":\"update\",\"visible\":true},{\"args\":[{\"y\":[[1115,1133,1211,1307,1459],[1123,1184,1219,1307,1487]],\"x\":[[\"2019\",\"2020\",\"2021\",\"2022\",\"2023\"],[\"2019\",\"2020\",\"2021\",\"2022\",\"2023\"]],\"name\":[\"State Median\",\"Lawrence\"]}],\"label\":\"Lawrence\",\"method\":\"update\",\"visible\":true},{\"args\":[{\"y\":[[1115,1133,1211,1307,1459],[1264,1270,1282,1450,1587]],\"x\":[[\"2019\",\"2020\",\"2021\",\"2022\",\"2023\"],[\"2019\",\"2020\",\"2021\",\"2022\",\"2023\"]],\"name\":[\"State Median\",\"Lowell\"]}],\"label\":\"Lowell\",\"method\":\"update\",\"visible\":true},{\"args\":[{\"y\":[[1115,1133,1211,1307,1459],[885,862,962,1065,1161]],\"x\":[[\"2019\",\"2020\",\"2021\",\"2022\",\"2023\"],[\"2019\",\"2020\",\"2021\",\"2022\",\"2023\"]],\"name\":[\"State Median\",\"Pittsfield\"]}],\"label\":\"Pittsfield\",\"method\":\"update\",\"visible\":true},{\"args\":[{\"y\":[[1115,1133,1211,1307,1459],[1014,961,961,1086,1148]],\"x\":[[\"2019\",\"2020\",\"2021\",\"2022\",\"2023\"],[\"2019\",\"2020\",\"2021\",\"2022\",\"2023\"]],\"name\":[\"State Median\",\"Berkshire County\"]}],\"label\":\"Berkshire County\",\"method\":\"update\",\"visible\":true},{\"args\":[{\"y\":[[1115,1133,1211,1307,1459],[948,958,1030,1110,1275]],\"x\":[[\"2019\",\"2020\",\"2021\",\"2022\",\"2023\"],[\"2019\",\"2020\",\"2021\",\"2022\",\"2023\"]],\"name\":[\"State Median\",\"Providence-Fall River\"]}],\"label\":\"Providence-Fall River\",\"method\":\"update\",\"visible\":true},{\"args\":[{\"y\":[[1115,1133,1211,1307,1459],[1024,1017,1073,1198,1339]],\"x\":[[\"2019\",\"2020\",\"2021\",\"2022\",\"2023\"],[\"2019\",\"2020\",\"2021\",\"2022\",\"2023\"]],\"name\":[\"State Median\",\"Taunton-Mansfield-Norton\"]}],\"label\":\"Taunton-Mansfield-Norton\",\"method\":\"update\",\"visible\":true},{\"args\":[{\"y\":[[1115,1133,1211,1307,1459],[1181,1211,1297,1495,1759]],\"x\":[[\"2019\",\"2020\",\"2021\",\"2022\",\"2023\"],[\"2019\",\"2020\",\"2021\",\"2022\",\"2023\"]],\"name\":[\"State Median\",\"Easton-Raynham\"]}],\"label\":\"Easton-Raynham\",\"method\":\"update\",\"visible\":true},{\"args\":[{\"y\":[[1115,1133,1211,1307,1459],[826,834,875,958,1106]],\"x\":[[\"2019\",\"2020\",\"2021\",\"2022\",\"2023\"],[\"2019\",\"2020\",\"2021\",\"2022\",\"2023\"]],\"name\":[\"State Median\",\"New Bedford\"]}],\"label\":\"New Bedford\",\"method\":\"update\",\"visible\":true},{\"args\":[{\"y\":[[1115,1133,1211,1307,1459],[874,922,954,940,1059]],\"x\":[[\"2019\",\"2020\",\"2021\",\"2022\",\"2023\"],[\"2019\",\"2020\",\"2021\",\"2022\",\"2023\"]],\"name\":[\"State Median\",\"Springfield\"]}],\"label\":\"Springfield\",\"method\":\"update\",\"visible\":true},{\"args\":[{\"y\":[[1115,1133,1211,1307,1459],[1021,1178,1214,1243,1361]],\"x\":[[\"2019\",\"2020\",\"2021\",\"2022\",\"2023\"],[\"2019\",\"2020\",\"2021\",\"2022\",\"2023\"]],\"name\":[\"State Median\",\"Worcester\"]}],\"label\":\"Worcester\",\"method\":\"update\",\"visible\":true},{\"args\":[{\"y\":[[1115,1133,1211,1307,1459],[1012,1016,1043,1138,1372]],\"x\":[[\"2019\",\"2020\",\"2021\",\"2022\",\"2023\"],[\"2019\",\"2020\",\"2021\",\"2022\",\"2023\"]],\"name\":[\"State Median\",\"Eastern Worcester County\"]}],\"label\":\"Eastern Worcester County\",\"method\":\"update\",\"visible\":true},{\"args\":[{\"y\":[[1115,1133,1211,1307,1459],[881,859,865,933,1116]],\"x\":[[\"2019\",\"2020\",\"2021\",\"2022\",\"2023\"],[\"2019\",\"2020\",\"2021\",\"2022\",\"2023\"]],\"name\":[\"State Median\",\"Fitchburg-Leominster\"]}],\"label\":\"Fitchburg-Leominster\",\"method\":\"update\",\"visible\":true},{\"args\":[{\"y\":[[1115,1133,1211,1307,1459],[773,781,779,836,1001]],\"x\":[[\"2019\",\"2020\",\"2021\",\"2022\",\"2023\"],[\"2019\",\"2020\",\"2021\",\"2022\",\"2023\"]],\"name\":[\"State Median\",\"Western Worcester County\"]}],\"label\":\"Western Worcester County\",\"method\":\"update\",\"visible\":true},{\"args\":[{\"y\":[[1115,1133,1211,1307,1459],[1641,1650,1855,2068,2200]],\"x\":[[\"2019\",\"2020\",\"2021\",\"2022\",\"2023\"],[\"2019\",\"2020\",\"2021\",\"2022\",\"2023\"]],\"name\":[\"State Median\",\"Dukes County\"]}],\"label\":\"Dukes County\",\"method\":\"update\",\"visible\":true},{\"args\":[{\"y\":[[1115,1133,1211,1307,1459],[929,907,1043,982,1066]],\"x\":[[\"2019\",\"2020\",\"2021\",\"2022\",\"2023\"],[\"2019\",\"2020\",\"2021\",\"2022\",\"2023\"]],\"name\":[\"State Median\",\"Franklin County\"]}],\"label\":\"Franklin County\",\"method\":\"update\",\"visible\":true},{\"args\":[{\"y\":[[1115,1133,1211,1307,1459],[1426,1447,1925,1983,2142]],\"x\":[[\"2019\",\"2020\",\"2021\",\"2022\",\"2023\"],[\"2019\",\"2020\",\"2021\",\"2022\",\"2023\"]],\"name\":[\"State Median\",\"Nantucket County\"]}],\"label\":\"Nantucket County\",\"method\":\"update\",\"visible\":true}],\"direction\":\"down\",\"x\":0.3,\"xanchor\":\"left\",\"y\":1.2,\"yanchor\":\"top\"}]},                        {\"responsive\": true}                    ).then(function(){\n",
       "                            \n",
       "var gd = document.getElementById('3212a6d1-c21e-4209-a19a-35ac3b176b8a');\n",
       "var x = new MutationObserver(function (mutations, observer) {{\n",
       "        var display = window.getComputedStyle(gd).display;\n",
       "        if (!display || display === 'none') {{\n",
       "            console.log([gd, 'removed!']);\n",
       "            Plotly.purge(gd);\n",
       "            observer.disconnect();\n",
       "        }}\n",
       "}});\n",
       "\n",
       "// Listen for the removal of the full notebook cells\n",
       "var notebookContainer = gd.closest('#notebook-container');\n",
       "if (notebookContainer) {{\n",
       "    x.observe(notebookContainer, {childList: true});\n",
       "}}\n",
       "\n",
       "// Listen for the clearing of the current output cell\n",
       "var outputEl = gd.closest('.output');\n",
       "if (outputEl) {{\n",
       "    x.observe(outputEl, {childList: true});\n",
       "}}\n",
       "\n",
       "                        })                };            </script>        </div>"
      ]
     },
     "metadata": {},
     "output_type": "display_data"
    }
   ],
   "source": [
    "# add the dropdown menu to the graph\n",
    "fig.update_layout(\n",
    "    updatemenus=[\n",
    "        dict(\n",
    "            active=0, #button with index 0 is active\n",
    "            buttons=buttons, # add the buttons\n",
    "            direction=\"down\", # specify that it is a dropdown menu\n",
    "            x=0.3,  # specify the position of the buttons along the x axis\n",
    "            xanchor=\"left\", \n",
    "            y=1.2, # specify the position of the buttons along the y axis\n",
    "            yanchor=\"top\",\n",
    "            )            \n",
    "            ],\n",
    "    legend=\n",
    "        dict(\n",
    "            yanchor=\"top\", \n",
    "            y=-0.1, # specify the position of the legend along the y axis\n",
    "            xanchor=\"left\",\n",
    "            x=0.2, # specify the position of the legend along the x axis\n",
    "            orientation='h'\n",
    "            )\n",
    "            )"
   ]
  },
  {
   "cell_type": "markdown",
   "id": "04b1efee-9b81-4da3-b9bd-31e86cd11867",
   "metadata": {},
   "source": [
    "## Put everything together in a mock project\n",
    "\n",
    "From [Pandas basics 1](./pandas-1.ipynb) to [Pandas intermediate 3](./pandas-intermediate-3.ipynb), you have learned how to do data cleaning and manipulation, how to summarize data and how to plot the data. In this section, you'll do a small mock project that puts everything together.\n",
    "\n",
    "Suppose you are assigned the following task: for the 10 non-US countries with the most runners in the 2019 Boston Marathon, you need to make an interactive bar chart showing the number of female and male runners from these 10 countries from 2017 Boston Marathon to 2019 Boston Marathon.  "
   ]
  },
  {
   "cell_type": "code",
   "execution_count": 11,
   "id": "567f7cab-b932-4a9f-9735-9f15c0729974",
   "metadata": {
    "tags": []
   },
   "outputs": [
    {
     "name": "stdout",
     "output_type": "stream",
     "text": [
      "Sample files ready.\n"
     ]
    }
   ],
   "source": [
    "### get the data\n",
    "\n",
    "# download the files\n",
    "# Get the urls to the files and download the files\n",
    "urls = ['https://ithaka-labs.s3.amazonaws.com/static-files/images/tdm/tdmdocs/DataViz3_BostonMarathon2017.csv',\n",
    "       'https://ithaka-labs.s3.amazonaws.com/static-files/images/tdm/tdmdocs/DataViz3_BostonMarathon2018.csv',\n",
    "       'https://ithaka-labs.s3.amazonaws.com/static-files/images/tdm/tdmdocs/DataViz3_BostonMarathon2019.csv']\n",
    "for url in urls:\n",
    "    urllib.request.urlretrieve(url, '../data/'+url.rsplit('/')[-1][9:])\n",
    "    \n",
    "# Success message\n",
    "print('Sample files ready.')"
   ]
  },
  {
   "cell_type": "markdown",
   "id": "dc2464f3-257a-4084-a335-fb7ae6aac44c",
   "metadata": {},
   "source": [
    "To make the desired interactive bar chart, we'll need to get the number of female and the male runners from the 10 non-US countries with the most runners in 2019 Boston Marathon by year. This means, we will need to extract the relevant data and summarize it in the following way.\n",
    "\n",
    "<left><img src=\"https://ithaka-labs.s3.amazonaws.com/static-files/images/tdm/tdmdocs/PandasIntermediate3_datasummary.png\" width=\"400\"></left>\n",
    "\n"
   ]
  },
  {
   "cell_type": "markdown",
   "id": "02dba8af-866b-4e96-9dd0-bf4629df26c8",
   "metadata": {},
   "source": [
    "### Data cleaning and manipulation\n",
    "\n",
    "Let's first get all the data from the files that are relevant for us in this mock project."
   ]
  },
  {
   "cell_type": "code",
   "execution_count": 12,
   "id": "1cfeffa9-9a4e-4a7c-bcba-17e96bb20cff",
   "metadata": {
    "tags": []
   },
   "outputs": [],
   "source": [
    "### read the data into dfs (code example in pandas basics 1)\n"
   ]
  },
  {
   "cell_type": "code",
   "execution_count": 13,
   "id": "71ce15bf-1e75-4fdf-a74e-6ad7078b89af",
   "metadata": {},
   "outputs": [],
   "source": [
    "### explore the data to get a general idea (code example in pandas basics 1)\n"
   ]
  },
  {
   "cell_type": "code",
   "execution_count": 14,
   "id": "4cc0a678-d607-4be0-bf1d-a20ac15cf1f2",
   "metadata": {},
   "outputs": [],
   "source": [
    "### get the 10 non-US countries with the most runners \n",
    "### in bm_19 (code example in pandas basics 2)\n",
    "\n",
    "\n",
    "### reduce bm_19 to columns and rows of interest, \n",
    "### create a new column 'year' (code example in pandas basics 1 and 2, intermediate 2)\n",
    "\n"
   ]
  },
  {
   "cell_type": "code",
   "execution_count": 15,
   "id": "3e7ee20e-568b-4c43-a0c3-ce481a45445c",
   "metadata": {},
   "outputs": [],
   "source": [
    "### reduce bm_17 and bm_18 to columns and rows of interest\n",
    "### create a new column 'year'(code example in pandas basics 1 and 2, intermediate 2)\n"
   ]
  },
  {
   "cell_type": "code",
   "execution_count": 16,
   "id": "f56832b4-7261-48ab-a443-7aca6a643dec",
   "metadata": {},
   "outputs": [],
   "source": [
    "### concatenate the three reduced dfs(code example in pandas basics 3)\n"
   ]
  },
  {
   "cell_type": "markdown",
   "id": "589df83b-e163-4a6b-b4d7-41c890e1ccc0",
   "metadata": {},
   "source": [
    "### Data summary\n",
    "\n",
    "For each of the 10 non-US countries we would like to make a bar chart to show the number of female and male runners from 2017 to 2019. To achieve this purpose, we need to get the number of female and male runners from these countries by year. "
   ]
  },
  {
   "cell_type": "code",
   "execution_count": 17,
   "id": "6b9c1caf-46a9-4512-b3df-5140b5411bb0",
   "metadata": {},
   "outputs": [],
   "source": [
    "### get the number of female and male runners from \n",
    "### each country by year (code example in pandas intermediate 1)\n",
    "\n"
   ]
  },
  {
   "cell_type": "markdown",
   "id": "9bf74953-98c1-4201-8dda-0e8675782865",
   "metadata": {},
   "source": [
    "### Plotting\n"
   ]
  },
  {
   "cell_type": "code",
   "execution_count": 18,
   "id": "7bd3721e-4a5c-487e-ab08-5db84e4cf6aa",
   "metadata": {},
   "outputs": [],
   "source": [
    "### make a figure with an initial bar chart for Australia\n",
    "### which is alphabetically the first among the 10 countries \n",
    "### (code example in pandas intermediate 3)\n"
   ]
  },
  {
   "cell_type": "code",
   "execution_count": 19,
   "id": "3ab2520f-bab4-4577-b042-cd45204c2897",
   "metadata": {},
   "outputs": [],
   "source": [
    "### create the buttons in dropdown menu\n",
    "### (code example in pandas intermediate 3)\n"
   ]
  },
  {
   "cell_type": "code",
   "execution_count": 20,
   "id": "404b228c-2afc-4d77-92bd-95b59a86abb7",
   "metadata": {},
   "outputs": [],
   "source": [
    "### Add the dropdown menu to the chart\n",
    "### specify how you would want to update the chart with different buttons\n",
    "### (code example in pandas intermediate 3)\n"
   ]
  },
  {
   "cell_type": "markdown",
   "id": "e0af5555-5e87-47d0-9f97-e8102124f609",
   "metadata": {},
   "source": [
    "___\n",
    "## Lesson Complete\n",
    "\n",
    "Congratulations! You have completed *Pandas Intermediate 3*.\n",
    "\n",
    "### Exercise Solutions\n",
    "Here are a few solutions for exercises in this lesson.\n",
    "\n",
    "### Data cleaning and manipulation"
   ]
  },
  {
   "cell_type": "code",
   "execution_count": 21,
   "id": "ab0a1e4a-af5f-4ca2-af3d-e84d41b3eb90",
   "metadata": {
    "tags": []
   },
   "outputs": [
    {
     "name": "stdout",
     "output_type": "stream",
     "text": [
      "Sample files ready.\n"
     ]
    }
   ],
   "source": [
    "### make an interactive bar chart for boston marathon 17-19\n",
    "### showing the number of female and male runners from the \n",
    "### 10 non-US countries with the most runners in 2019 \n",
    "\n",
    "# download the files\n",
    "\n",
    "# Get the urls to the files and download the files\n",
    "urls = ['https://ithaka-labs.s3.amazonaws.com/static-files/images/tdm/tdmdocs/DataViz3_BostonMarathon2017.csv',\n",
    "       'https://ithaka-labs.s3.amazonaws.com/static-files/images/tdm/tdmdocs/DataViz3_BostonMarathon2018.csv',\n",
    "       'https://ithaka-labs.s3.amazonaws.com/static-files/images/tdm/tdmdocs/DataViz3_BostonMarathon2019.csv']\n",
    "for url in urls:\n",
    "    urllib.request.urlretrieve(url, '../data/'+url.rsplit('/')[-1][9:])\n",
    "    \n",
    "# Success message\n",
    "print('Sample files ready.')\n",
    "\n",
    "# read the data into dfs\n",
    "bm_17 = pd.read_csv('../data/BostonMarathon2017.csv')\n",
    "bm_18 = pd.read_csv('../data/BostonMarathon2018.csv')\n",
    "bm_19 = pd.read_csv('../data/BostonMarathon2019.csv')\n",
    "\n",
    "# explore the data to get a general idea\n"
   ]
  },
  {
   "cell_type": "code",
   "execution_count": 22,
   "id": "6de024cc-040a-49ed-a363-56aa9efeaeba",
   "metadata": {
    "tags": []
   },
   "outputs": [],
   "source": [
    "# get the 10 non-US countries with the most runners in bm_19\n",
    "ctry = bm_19.groupby('CountryOfResName').size().sort_values(ascending=0).iloc[1:11].sort_index().index\n",
    "\n",
    "#reduce bm_19 to columns and rows of interest, \n",
    "#create a new column 'year'\n",
    "bm_19 = bm_19.loc[bm_19['CountryOfResName'].isin(ctry),['CountryOfResName','Gender']].reset_index(drop=True).copy()\n",
    "bm_19['Year']='2019'"
   ]
  },
  {
   "cell_type": "code",
   "execution_count": 23,
   "id": "56840b3a-5164-43b2-a190-d76d82a0ab89",
   "metadata": {
    "tags": []
   },
   "outputs": [],
   "source": [
    "# reduce bm_17 and bm_18 to columns and rows of interest,\n",
    "# create a new column 'year' for them respectively\n",
    "bm_17 = bm_17.loc[bm_17['CountryOfResName'].isin(ctry),['CountryOfResName','Gender']].reset_index(drop=True).copy()\n",
    "bm_17['Year']='2017'\n",
    "\n",
    "bm_18 = bm_18.loc[bm_18['CountryOfResName'].isin(ctry),['CountryOfResName','Gender']].reset_index(drop=True).copy()\n",
    "bm_18['Year']='2018'"
   ]
  },
  {
   "cell_type": "code",
   "execution_count": 24,
   "id": "2ac4e1ba-669f-45a3-9b4f-f8e0a15bcd61",
   "metadata": {
    "tags": []
   },
   "outputs": [],
   "source": [
    "# concatenate the three reduced dfs\n",
    "bm_17to19 = pd.concat([bm_17, bm_18, bm_19]).reset_index(drop=True)"
   ]
  },
  {
   "cell_type": "markdown",
   "id": "cf84e6d8-2130-4a29-96a7-f4e858a11c79",
   "metadata": {},
   "source": [
    "### Data summary"
   ]
  },
  {
   "cell_type": "code",
   "execution_count": 25,
   "id": "a04355a7-9b21-4885-b390-bb5ce21599ea",
   "metadata": {
    "tags": []
   },
   "outputs": [],
   "source": [
    "### get the number of female and male runners from each country by year\n",
    "bm_17to19 = bm_17to19.groupby(['CountryOfResName', 'Gender', 'Year']).size()"
   ]
  },
  {
   "cell_type": "markdown",
   "id": "f48483d8-87a7-4b3a-aed6-5bda5a840b20",
   "metadata": {
    "execution": {
     "iopub.execute_input": "2023-07-28T03:16:04.916357Z",
     "iopub.status.busy": "2023-07-28T03:16:04.915685Z",
     "iopub.status.idle": "2023-07-28T03:16:04.938970Z",
     "shell.execute_reply": "2023-07-28T03:16:04.937993Z",
     "shell.execute_reply.started": "2023-07-28T03:16:04.916307Z"
    }
   },
   "source": [
    "### Plotting"
   ]
  },
  {
   "cell_type": "code",
   "execution_count": 26,
   "id": "bcd84bb8-eee8-4f69-bdeb-e46cbf443a90",
   "metadata": {
    "tags": []
   },
   "outputs": [
    {
     "data": {
      "text/html": [
       "<div>            <script src=\"https://cdnjs.cloudflare.com/ajax/libs/mathjax/2.7.5/MathJax.js?config=TeX-AMS-MML_SVG\"></script><script type=\"text/javascript\">if (window.MathJax && window.MathJax.Hub && window.MathJax.Hub.Config) {window.MathJax.Hub.Config({SVG: {font: \"STIX-Web\"}});}</script>                    <div id=\"87dc9c4d-a31e-4c68-9ee2-cbbdb2e94491\" class=\"plotly-graph-div\" style=\"height:525px; width:100%;\"></div>            <script type=\"text/javascript\">                window.PLOTLYENV=window.PLOTLYENV || {};                                if (document.getElementById(\"87dc9c4d-a31e-4c68-9ee2-cbbdb2e94491\")) {                    Plotly.newPlot(                        \"87dc9c4d-a31e-4c68-9ee2-cbbdb2e94491\",                        [{\"name\":\"Female\",\"x\":[2017,2018,2019],\"y\":{\"dtype\":\"i1\",\"bdata\":\"R0Fg\"},\"type\":\"bar\"},{\"name\":\"Male\",\"x\":[2017,2018,2019],\"y\":{\"dtype\":\"i2\",\"bdata\":\"eABqAI8A\"},\"type\":\"bar\"}],                        {\"template\":{\"data\":{\"histogram2dcontour\":[{\"type\":\"histogram2dcontour\",\"colorbar\":{\"outlinewidth\":0,\"ticks\":\"\"},\"colorscale\":[[0.0,\"#0d0887\"],[0.1111111111111111,\"#46039f\"],[0.2222222222222222,\"#7201a8\"],[0.3333333333333333,\"#9c179e\"],[0.4444444444444444,\"#bd3786\"],[0.5555555555555556,\"#d8576b\"],[0.6666666666666666,\"#ed7953\"],[0.7777777777777778,\"#fb9f3a\"],[0.8888888888888888,\"#fdca26\"],[1.0,\"#f0f921\"]]}],\"choropleth\":[{\"type\":\"choropleth\",\"colorbar\":{\"outlinewidth\":0,\"ticks\":\"\"}}],\"histogram2d\":[{\"type\":\"histogram2d\",\"colorbar\":{\"outlinewidth\":0,\"ticks\":\"\"},\"colorscale\":[[0.0,\"#0d0887\"],[0.1111111111111111,\"#46039f\"],[0.2222222222222222,\"#7201a8\"],[0.3333333333333333,\"#9c179e\"],[0.4444444444444444,\"#bd3786\"],[0.5555555555555556,\"#d8576b\"],[0.6666666666666666,\"#ed7953\"],[0.7777777777777778,\"#fb9f3a\"],[0.8888888888888888,\"#fdca26\"],[1.0,\"#f0f921\"]]}],\"heatmap\":[{\"type\":\"heatmap\",\"colorbar\":{\"outlinewidth\":0,\"ticks\":\"\"},\"colorscale\":[[0.0,\"#0d0887\"],[0.1111111111111111,\"#46039f\"],[0.2222222222222222,\"#7201a8\"],[0.3333333333333333,\"#9c179e\"],[0.4444444444444444,\"#bd3786\"],[0.5555555555555556,\"#d8576b\"],[0.6666666666666666,\"#ed7953\"],[0.7777777777777778,\"#fb9f3a\"],[0.8888888888888888,\"#fdca26\"],[1.0,\"#f0f921\"]]}],\"contourcarpet\":[{\"type\":\"contourcarpet\",\"colorbar\":{\"outlinewidth\":0,\"ticks\":\"\"}}],\"contour\":[{\"type\":\"contour\",\"colorbar\":{\"outlinewidth\":0,\"ticks\":\"\"},\"colorscale\":[[0.0,\"#0d0887\"],[0.1111111111111111,\"#46039f\"],[0.2222222222222222,\"#7201a8\"],[0.3333333333333333,\"#9c179e\"],[0.4444444444444444,\"#bd3786\"],[0.5555555555555556,\"#d8576b\"],[0.6666666666666666,\"#ed7953\"],[0.7777777777777778,\"#fb9f3a\"],[0.8888888888888888,\"#fdca26\"],[1.0,\"#f0f921\"]]}],\"surface\":[{\"type\":\"surface\",\"colorbar\":{\"outlinewidth\":0,\"ticks\":\"\"},\"colorscale\":[[0.0,\"#0d0887\"],[0.1111111111111111,\"#46039f\"],[0.2222222222222222,\"#7201a8\"],[0.3333333333333333,\"#9c179e\"],[0.4444444444444444,\"#bd3786\"],[0.5555555555555556,\"#d8576b\"],[0.6666666666666666,\"#ed7953\"],[0.7777777777777778,\"#fb9f3a\"],[0.8888888888888888,\"#fdca26\"],[1.0,\"#f0f921\"]]}],\"mesh3d\":[{\"type\":\"mesh3d\",\"colorbar\":{\"outlinewidth\":0,\"ticks\":\"\"}}],\"scatter\":[{\"fillpattern\":{\"fillmode\":\"overlay\",\"size\":10,\"solidity\":0.2},\"type\":\"scatter\"}],\"parcoords\":[{\"type\":\"parcoords\",\"line\":{\"colorbar\":{\"outlinewidth\":0,\"ticks\":\"\"}}}],\"scatterpolargl\":[{\"type\":\"scatterpolargl\",\"marker\":{\"colorbar\":{\"outlinewidth\":0,\"ticks\":\"\"}}}],\"bar\":[{\"error_x\":{\"color\":\"#2a3f5f\"},\"error_y\":{\"color\":\"#2a3f5f\"},\"marker\":{\"line\":{\"color\":\"#E5ECF6\",\"width\":0.5},\"pattern\":{\"fillmode\":\"overlay\",\"size\":10,\"solidity\":0.2}},\"type\":\"bar\"}],\"scattergeo\":[{\"type\":\"scattergeo\",\"marker\":{\"colorbar\":{\"outlinewidth\":0,\"ticks\":\"\"}}}],\"scatterpolar\":[{\"type\":\"scatterpolar\",\"marker\":{\"colorbar\":{\"outlinewidth\":0,\"ticks\":\"\"}}}],\"histogram\":[{\"marker\":{\"pattern\":{\"fillmode\":\"overlay\",\"size\":10,\"solidity\":0.2}},\"type\":\"histogram\"}],\"scattergl\":[{\"type\":\"scattergl\",\"marker\":{\"colorbar\":{\"outlinewidth\":0,\"ticks\":\"\"}}}],\"scatter3d\":[{\"type\":\"scatter3d\",\"line\":{\"colorbar\":{\"outlinewidth\":0,\"ticks\":\"\"}},\"marker\":{\"colorbar\":{\"outlinewidth\":0,\"ticks\":\"\"}}}],\"scattermap\":[{\"type\":\"scattermap\",\"marker\":{\"colorbar\":{\"outlinewidth\":0,\"ticks\":\"\"}}}],\"scattermapbox\":[{\"type\":\"scattermapbox\",\"marker\":{\"colorbar\":{\"outlinewidth\":0,\"ticks\":\"\"}}}],\"scatterternary\":[{\"type\":\"scatterternary\",\"marker\":{\"colorbar\":{\"outlinewidth\":0,\"ticks\":\"\"}}}],\"scattercarpet\":[{\"type\":\"scattercarpet\",\"marker\":{\"colorbar\":{\"outlinewidth\":0,\"ticks\":\"\"}}}],\"carpet\":[{\"aaxis\":{\"endlinecolor\":\"#2a3f5f\",\"gridcolor\":\"white\",\"linecolor\":\"white\",\"minorgridcolor\":\"white\",\"startlinecolor\":\"#2a3f5f\"},\"baxis\":{\"endlinecolor\":\"#2a3f5f\",\"gridcolor\":\"white\",\"linecolor\":\"white\",\"minorgridcolor\":\"white\",\"startlinecolor\":\"#2a3f5f\"},\"type\":\"carpet\"}],\"table\":[{\"cells\":{\"fill\":{\"color\":\"#EBF0F8\"},\"line\":{\"color\":\"white\"}},\"header\":{\"fill\":{\"color\":\"#C8D4E3\"},\"line\":{\"color\":\"white\"}},\"type\":\"table\"}],\"barpolar\":[{\"marker\":{\"line\":{\"color\":\"#E5ECF6\",\"width\":0.5},\"pattern\":{\"fillmode\":\"overlay\",\"size\":10,\"solidity\":0.2}},\"type\":\"barpolar\"}],\"pie\":[{\"automargin\":true,\"type\":\"pie\"}]},\"layout\":{\"autotypenumbers\":\"strict\",\"colorway\":[\"#636efa\",\"#EF553B\",\"#00cc96\",\"#ab63fa\",\"#FFA15A\",\"#19d3f3\",\"#FF6692\",\"#B6E880\",\"#FF97FF\",\"#FECB52\"],\"font\":{\"color\":\"#2a3f5f\"},\"hovermode\":\"closest\",\"hoverlabel\":{\"align\":\"left\"},\"paper_bgcolor\":\"white\",\"plot_bgcolor\":\"#E5ECF6\",\"polar\":{\"bgcolor\":\"#E5ECF6\",\"angularaxis\":{\"gridcolor\":\"white\",\"linecolor\":\"white\",\"ticks\":\"\"},\"radialaxis\":{\"gridcolor\":\"white\",\"linecolor\":\"white\",\"ticks\":\"\"}},\"ternary\":{\"bgcolor\":\"#E5ECF6\",\"aaxis\":{\"gridcolor\":\"white\",\"linecolor\":\"white\",\"ticks\":\"\"},\"baxis\":{\"gridcolor\":\"white\",\"linecolor\":\"white\",\"ticks\":\"\"},\"caxis\":{\"gridcolor\":\"white\",\"linecolor\":\"white\",\"ticks\":\"\"}},\"coloraxis\":{\"colorbar\":{\"outlinewidth\":0,\"ticks\":\"\"}},\"colorscale\":{\"sequential\":[[0.0,\"#0d0887\"],[0.1111111111111111,\"#46039f\"],[0.2222222222222222,\"#7201a8\"],[0.3333333333333333,\"#9c179e\"],[0.4444444444444444,\"#bd3786\"],[0.5555555555555556,\"#d8576b\"],[0.6666666666666666,\"#ed7953\"],[0.7777777777777778,\"#fb9f3a\"],[0.8888888888888888,\"#fdca26\"],[1.0,\"#f0f921\"]],\"sequentialminus\":[[0.0,\"#0d0887\"],[0.1111111111111111,\"#46039f\"],[0.2222222222222222,\"#7201a8\"],[0.3333333333333333,\"#9c179e\"],[0.4444444444444444,\"#bd3786\"],[0.5555555555555556,\"#d8576b\"],[0.6666666666666666,\"#ed7953\"],[0.7777777777777778,\"#fb9f3a\"],[0.8888888888888888,\"#fdca26\"],[1.0,\"#f0f921\"]],\"diverging\":[[0,\"#8e0152\"],[0.1,\"#c51b7d\"],[0.2,\"#de77ae\"],[0.3,\"#f1b6da\"],[0.4,\"#fde0ef\"],[0.5,\"#f7f7f7\"],[0.6,\"#e6f5d0\"],[0.7,\"#b8e186\"],[0.8,\"#7fbc41\"],[0.9,\"#4d9221\"],[1,\"#276419\"]]},\"xaxis\":{\"gridcolor\":\"white\",\"linecolor\":\"white\",\"ticks\":\"\",\"title\":{\"standoff\":15},\"zerolinecolor\":\"white\",\"automargin\":true,\"zerolinewidth\":2},\"yaxis\":{\"gridcolor\":\"white\",\"linecolor\":\"white\",\"ticks\":\"\",\"title\":{\"standoff\":15},\"zerolinecolor\":\"white\",\"automargin\":true,\"zerolinewidth\":2},\"scene\":{\"xaxis\":{\"backgroundcolor\":\"#E5ECF6\",\"gridcolor\":\"white\",\"linecolor\":\"white\",\"showbackground\":true,\"ticks\":\"\",\"zerolinecolor\":\"white\",\"gridwidth\":2},\"yaxis\":{\"backgroundcolor\":\"#E5ECF6\",\"gridcolor\":\"white\",\"linecolor\":\"white\",\"showbackground\":true,\"ticks\":\"\",\"zerolinecolor\":\"white\",\"gridwidth\":2},\"zaxis\":{\"backgroundcolor\":\"#E5ECF6\",\"gridcolor\":\"white\",\"linecolor\":\"white\",\"showbackground\":true,\"ticks\":\"\",\"zerolinecolor\":\"white\",\"gridwidth\":2}},\"shapedefaults\":{\"line\":{\"color\":\"#2a3f5f\"}},\"annotationdefaults\":{\"arrowcolor\":\"#2a3f5f\",\"arrowhead\":0,\"arrowwidth\":1},\"geo\":{\"bgcolor\":\"white\",\"landcolor\":\"#E5ECF6\",\"subunitcolor\":\"white\",\"showland\":true,\"showlakes\":true,\"lakecolor\":\"white\"},\"title\":{\"x\":0.05},\"mapbox\":{\"style\":\"light\"}}}},                        {\"responsive\": true}                    ).then(function(){\n",
       "                            \n",
       "var gd = document.getElementById('87dc9c4d-a31e-4c68-9ee2-cbbdb2e94491');\n",
       "var x = new MutationObserver(function (mutations, observer) {{\n",
       "        var display = window.getComputedStyle(gd).display;\n",
       "        if (!display || display === 'none') {{\n",
       "            console.log([gd, 'removed!']);\n",
       "            Plotly.purge(gd);\n",
       "            observer.disconnect();\n",
       "        }}\n",
       "}});\n",
       "\n",
       "// Listen for the removal of the full notebook cells\n",
       "var notebookContainer = gd.closest('#notebook-container');\n",
       "if (notebookContainer) {{\n",
       "    x.observe(notebookContainer, {childList: true});\n",
       "}}\n",
       "\n",
       "// Listen for the clearing of the current output cell\n",
       "var outputEl = gd.closest('.output');\n",
       "if (outputEl) {{\n",
       "    x.observe(outputEl, {childList: true});\n",
       "}}\n",
       "\n",
       "                        })                };            </script>        </div>"
      ]
     },
     "metadata": {},
     "output_type": "display_data"
    }
   ],
   "source": [
    "### make a figure with an initial bar chart for Australia\n",
    "### which is alphabetically the first among the 10 countries\n",
    "fig = go.Figure(\n",
    "    data=[go.Bar(x=list(range(2017, 2020)),\n",
    "            y=bm_17to19.loc[('Australia','F')],\n",
    "               name='Female'\n",
    "                     ),\n",
    "    go.Bar(x=list(range(2017, 2020)),\n",
    "            y=bm_17to19.loc[('Australia','M')],\n",
    "               name='Male'\n",
    "                     )\n",
    "         ])\n",
    "\n",
    "fig.show()"
   ]
  },
  {
   "cell_type": "code",
   "execution_count": 27,
   "id": "5581562b-f3a4-4ebc-89f0-75ebfa457445",
   "metadata": {
    "tags": []
   },
   "outputs": [],
   "source": [
    "### create the buttons in the dropdown menu\n",
    "buttons = []\n",
    "x = list(range(2017,2020))\n",
    "for c in ctry:\n",
    "    buttons.append(dict(\n",
    "                        label=c,\n",
    "                        method='update',\n",
    "                        visible=True,\n",
    "                        args=[{'y': [bm_17to19.loc[(c,'F')],bm_17to19.loc[(c,'M')]],\n",
    "                               'x': [x,x]\n",
    "                               }\n",
    "                             ]\n",
    "                        )\n",
    "                  )"
   ]
  },
  {
   "cell_type": "code",
   "execution_count": 28,
   "id": "36650d86-d2ba-4e07-b371-802b12be0cb8",
   "metadata": {
    "tags": []
   },
   "outputs": [
    {
     "data": {
      "text/html": [
       "<div>            <script src=\"https://cdnjs.cloudflare.com/ajax/libs/mathjax/2.7.5/MathJax.js?config=TeX-AMS-MML_SVG\"></script><script type=\"text/javascript\">if (window.MathJax && window.MathJax.Hub && window.MathJax.Hub.Config) {window.MathJax.Hub.Config({SVG: {font: \"STIX-Web\"}});}</script>                    <div id=\"512fdf87-0201-4ca5-98b3-48822dbf971f\" class=\"plotly-graph-div\" style=\"height:525px; width:100%;\"></div>            <script type=\"text/javascript\">                window.PLOTLYENV=window.PLOTLYENV || {};                                if (document.getElementById(\"512fdf87-0201-4ca5-98b3-48822dbf971f\")) {                    Plotly.newPlot(                        \"512fdf87-0201-4ca5-98b3-48822dbf971f\",                        [{\"name\":\"Female\",\"x\":[2017,2018,2019],\"y\":{\"dtype\":\"i1\",\"bdata\":\"R0Fg\"},\"type\":\"bar\"},{\"name\":\"Male\",\"x\":[2017,2018,2019],\"y\":{\"dtype\":\"i2\",\"bdata\":\"eABqAI8A\"},\"type\":\"bar\"}],                        {\"template\":{\"data\":{\"histogram2dcontour\":[{\"type\":\"histogram2dcontour\",\"colorbar\":{\"outlinewidth\":0,\"ticks\":\"\"},\"colorscale\":[[0.0,\"#0d0887\"],[0.1111111111111111,\"#46039f\"],[0.2222222222222222,\"#7201a8\"],[0.3333333333333333,\"#9c179e\"],[0.4444444444444444,\"#bd3786\"],[0.5555555555555556,\"#d8576b\"],[0.6666666666666666,\"#ed7953\"],[0.7777777777777778,\"#fb9f3a\"],[0.8888888888888888,\"#fdca26\"],[1.0,\"#f0f921\"]]}],\"choropleth\":[{\"type\":\"choropleth\",\"colorbar\":{\"outlinewidth\":0,\"ticks\":\"\"}}],\"histogram2d\":[{\"type\":\"histogram2d\",\"colorbar\":{\"outlinewidth\":0,\"ticks\":\"\"},\"colorscale\":[[0.0,\"#0d0887\"],[0.1111111111111111,\"#46039f\"],[0.2222222222222222,\"#7201a8\"],[0.3333333333333333,\"#9c179e\"],[0.4444444444444444,\"#bd3786\"],[0.5555555555555556,\"#d8576b\"],[0.6666666666666666,\"#ed7953\"],[0.7777777777777778,\"#fb9f3a\"],[0.8888888888888888,\"#fdca26\"],[1.0,\"#f0f921\"]]}],\"heatmap\":[{\"type\":\"heatmap\",\"colorbar\":{\"outlinewidth\":0,\"ticks\":\"\"},\"colorscale\":[[0.0,\"#0d0887\"],[0.1111111111111111,\"#46039f\"],[0.2222222222222222,\"#7201a8\"],[0.3333333333333333,\"#9c179e\"],[0.4444444444444444,\"#bd3786\"],[0.5555555555555556,\"#d8576b\"],[0.6666666666666666,\"#ed7953\"],[0.7777777777777778,\"#fb9f3a\"],[0.8888888888888888,\"#fdca26\"],[1.0,\"#f0f921\"]]}],\"contourcarpet\":[{\"type\":\"contourcarpet\",\"colorbar\":{\"outlinewidth\":0,\"ticks\":\"\"}}],\"contour\":[{\"type\":\"contour\",\"colorbar\":{\"outlinewidth\":0,\"ticks\":\"\"},\"colorscale\":[[0.0,\"#0d0887\"],[0.1111111111111111,\"#46039f\"],[0.2222222222222222,\"#7201a8\"],[0.3333333333333333,\"#9c179e\"],[0.4444444444444444,\"#bd3786\"],[0.5555555555555556,\"#d8576b\"],[0.6666666666666666,\"#ed7953\"],[0.7777777777777778,\"#fb9f3a\"],[0.8888888888888888,\"#fdca26\"],[1.0,\"#f0f921\"]]}],\"surface\":[{\"type\":\"surface\",\"colorbar\":{\"outlinewidth\":0,\"ticks\":\"\"},\"colorscale\":[[0.0,\"#0d0887\"],[0.1111111111111111,\"#46039f\"],[0.2222222222222222,\"#7201a8\"],[0.3333333333333333,\"#9c179e\"],[0.4444444444444444,\"#bd3786\"],[0.5555555555555556,\"#d8576b\"],[0.6666666666666666,\"#ed7953\"],[0.7777777777777778,\"#fb9f3a\"],[0.8888888888888888,\"#fdca26\"],[1.0,\"#f0f921\"]]}],\"mesh3d\":[{\"type\":\"mesh3d\",\"colorbar\":{\"outlinewidth\":0,\"ticks\":\"\"}}],\"scatter\":[{\"fillpattern\":{\"fillmode\":\"overlay\",\"size\":10,\"solidity\":0.2},\"type\":\"scatter\"}],\"parcoords\":[{\"type\":\"parcoords\",\"line\":{\"colorbar\":{\"outlinewidth\":0,\"ticks\":\"\"}}}],\"scatterpolargl\":[{\"type\":\"scatterpolargl\",\"marker\":{\"colorbar\":{\"outlinewidth\":0,\"ticks\":\"\"}}}],\"bar\":[{\"error_x\":{\"color\":\"#2a3f5f\"},\"error_y\":{\"color\":\"#2a3f5f\"},\"marker\":{\"line\":{\"color\":\"#E5ECF6\",\"width\":0.5},\"pattern\":{\"fillmode\":\"overlay\",\"size\":10,\"solidity\":0.2}},\"type\":\"bar\"}],\"scattergeo\":[{\"type\":\"scattergeo\",\"marker\":{\"colorbar\":{\"outlinewidth\":0,\"ticks\":\"\"}}}],\"scatterpolar\":[{\"type\":\"scatterpolar\",\"marker\":{\"colorbar\":{\"outlinewidth\":0,\"ticks\":\"\"}}}],\"histogram\":[{\"marker\":{\"pattern\":{\"fillmode\":\"overlay\",\"size\":10,\"solidity\":0.2}},\"type\":\"histogram\"}],\"scattergl\":[{\"type\":\"scattergl\",\"marker\":{\"colorbar\":{\"outlinewidth\":0,\"ticks\":\"\"}}}],\"scatter3d\":[{\"type\":\"scatter3d\",\"line\":{\"colorbar\":{\"outlinewidth\":0,\"ticks\":\"\"}},\"marker\":{\"colorbar\":{\"outlinewidth\":0,\"ticks\":\"\"}}}],\"scattermap\":[{\"type\":\"scattermap\",\"marker\":{\"colorbar\":{\"outlinewidth\":0,\"ticks\":\"\"}}}],\"scattermapbox\":[{\"type\":\"scattermapbox\",\"marker\":{\"colorbar\":{\"outlinewidth\":0,\"ticks\":\"\"}}}],\"scatterternary\":[{\"type\":\"scatterternary\",\"marker\":{\"colorbar\":{\"outlinewidth\":0,\"ticks\":\"\"}}}],\"scattercarpet\":[{\"type\":\"scattercarpet\",\"marker\":{\"colorbar\":{\"outlinewidth\":0,\"ticks\":\"\"}}}],\"carpet\":[{\"aaxis\":{\"endlinecolor\":\"#2a3f5f\",\"gridcolor\":\"white\",\"linecolor\":\"white\",\"minorgridcolor\":\"white\",\"startlinecolor\":\"#2a3f5f\"},\"baxis\":{\"endlinecolor\":\"#2a3f5f\",\"gridcolor\":\"white\",\"linecolor\":\"white\",\"minorgridcolor\":\"white\",\"startlinecolor\":\"#2a3f5f\"},\"type\":\"carpet\"}],\"table\":[{\"cells\":{\"fill\":{\"color\":\"#EBF0F8\"},\"line\":{\"color\":\"white\"}},\"header\":{\"fill\":{\"color\":\"#C8D4E3\"},\"line\":{\"color\":\"white\"}},\"type\":\"table\"}],\"barpolar\":[{\"marker\":{\"line\":{\"color\":\"#E5ECF6\",\"width\":0.5},\"pattern\":{\"fillmode\":\"overlay\",\"size\":10,\"solidity\":0.2}},\"type\":\"barpolar\"}],\"pie\":[{\"automargin\":true,\"type\":\"pie\"}]},\"layout\":{\"autotypenumbers\":\"strict\",\"colorway\":[\"#636efa\",\"#EF553B\",\"#00cc96\",\"#ab63fa\",\"#FFA15A\",\"#19d3f3\",\"#FF6692\",\"#B6E880\",\"#FF97FF\",\"#FECB52\"],\"font\":{\"color\":\"#2a3f5f\"},\"hovermode\":\"closest\",\"hoverlabel\":{\"align\":\"left\"},\"paper_bgcolor\":\"white\",\"plot_bgcolor\":\"#E5ECF6\",\"polar\":{\"bgcolor\":\"#E5ECF6\",\"angularaxis\":{\"gridcolor\":\"white\",\"linecolor\":\"white\",\"ticks\":\"\"},\"radialaxis\":{\"gridcolor\":\"white\",\"linecolor\":\"white\",\"ticks\":\"\"}},\"ternary\":{\"bgcolor\":\"#E5ECF6\",\"aaxis\":{\"gridcolor\":\"white\",\"linecolor\":\"white\",\"ticks\":\"\"},\"baxis\":{\"gridcolor\":\"white\",\"linecolor\":\"white\",\"ticks\":\"\"},\"caxis\":{\"gridcolor\":\"white\",\"linecolor\":\"white\",\"ticks\":\"\"}},\"coloraxis\":{\"colorbar\":{\"outlinewidth\":0,\"ticks\":\"\"}},\"colorscale\":{\"sequential\":[[0.0,\"#0d0887\"],[0.1111111111111111,\"#46039f\"],[0.2222222222222222,\"#7201a8\"],[0.3333333333333333,\"#9c179e\"],[0.4444444444444444,\"#bd3786\"],[0.5555555555555556,\"#d8576b\"],[0.6666666666666666,\"#ed7953\"],[0.7777777777777778,\"#fb9f3a\"],[0.8888888888888888,\"#fdca26\"],[1.0,\"#f0f921\"]],\"sequentialminus\":[[0.0,\"#0d0887\"],[0.1111111111111111,\"#46039f\"],[0.2222222222222222,\"#7201a8\"],[0.3333333333333333,\"#9c179e\"],[0.4444444444444444,\"#bd3786\"],[0.5555555555555556,\"#d8576b\"],[0.6666666666666666,\"#ed7953\"],[0.7777777777777778,\"#fb9f3a\"],[0.8888888888888888,\"#fdca26\"],[1.0,\"#f0f921\"]],\"diverging\":[[0,\"#8e0152\"],[0.1,\"#c51b7d\"],[0.2,\"#de77ae\"],[0.3,\"#f1b6da\"],[0.4,\"#fde0ef\"],[0.5,\"#f7f7f7\"],[0.6,\"#e6f5d0\"],[0.7,\"#b8e186\"],[0.8,\"#7fbc41\"],[0.9,\"#4d9221\"],[1,\"#276419\"]]},\"xaxis\":{\"gridcolor\":\"white\",\"linecolor\":\"white\",\"ticks\":\"\",\"title\":{\"standoff\":15},\"zerolinecolor\":\"white\",\"automargin\":true,\"zerolinewidth\":2},\"yaxis\":{\"gridcolor\":\"white\",\"linecolor\":\"white\",\"ticks\":\"\",\"title\":{\"standoff\":15},\"zerolinecolor\":\"white\",\"automargin\":true,\"zerolinewidth\":2},\"scene\":{\"xaxis\":{\"backgroundcolor\":\"#E5ECF6\",\"gridcolor\":\"white\",\"linecolor\":\"white\",\"showbackground\":true,\"ticks\":\"\",\"zerolinecolor\":\"white\",\"gridwidth\":2},\"yaxis\":{\"backgroundcolor\":\"#E5ECF6\",\"gridcolor\":\"white\",\"linecolor\":\"white\",\"showbackground\":true,\"ticks\":\"\",\"zerolinecolor\":\"white\",\"gridwidth\":2},\"zaxis\":{\"backgroundcolor\":\"#E5ECF6\",\"gridcolor\":\"white\",\"linecolor\":\"white\",\"showbackground\":true,\"ticks\":\"\",\"zerolinecolor\":\"white\",\"gridwidth\":2}},\"shapedefaults\":{\"line\":{\"color\":\"#2a3f5f\"}},\"annotationdefaults\":{\"arrowcolor\":\"#2a3f5f\",\"arrowhead\":0,\"arrowwidth\":1},\"geo\":{\"bgcolor\":\"white\",\"landcolor\":\"#E5ECF6\",\"subunitcolor\":\"white\",\"showland\":true,\"showlakes\":true,\"lakecolor\":\"white\"},\"title\":{\"x\":0.05},\"mapbox\":{\"style\":\"light\"}}},\"legend\":{\"yanchor\":\"top\",\"y\":-0.1,\"xanchor\":\"left\",\"x\":0.2,\"orientation\":\"h\"},\"updatemenus\":[{\"active\":0,\"buttons\":[{\"args\":[{\"y\":[[71,65,96],[120,106,143]],\"x\":[[2017,2018,2019],[2017,2018,2019]]}],\"label\":\"Australia\",\"method\":\"update\",\"visible\":true},{\"args\":[{\"y\":[[59,64,92],[146,134,188]],\"x\":[[2017,2018,2019],[2017,2018,2019]]}],\"label\":\"Brazil\",\"method\":\"update\",\"visible\":true},{\"args\":[{\"y\":[[815,806,769],[1056,1022,912]],\"x\":[[2017,2018,2019],[2017,2018,2019]]}],\"label\":\"Canada\",\"method\":\"update\",\"visible\":true},{\"args\":[{\"y\":[[77,80,124],[165,273,305]],\"x\":[[2017,2018,2019],[2017,2018,2019]]}],\"label\":\"China\",\"method\":\"update\",\"visible\":true},{\"args\":[{\"y\":[[63,38,69],[162,159,187]],\"x\":[[2017,2018,2019],[2017,2018,2019]]}],\"label\":\"Germany\",\"method\":\"update\",\"visible\":true},{\"args\":[{\"y\":[[37,30,36],[128,145,134]],\"x\":[[2017,2018,2019],[2017,2018,2019]]}],\"label\":\"Italy\",\"method\":\"update\",\"visible\":true},{\"args\":[{\"y\":[[41,56,67],[129,171,167]],\"x\":[[2017,2018,2019],[2017,2018,2019]]}],\"label\":\"Japan\",\"method\":\"update\",\"visible\":true},{\"args\":[{\"y\":[[94,94,121],[190,216,224]],\"x\":[[2017,2018,2019],[2017,2018,2019]]}],\"label\":\"Mexico\",\"method\":\"update\",\"visible\":true},{\"args\":[{\"y\":[[12,20,42],[120,132,191]],\"x\":[[2017,2018,2019],[2017,2018,2019]]}],\"label\":\"Spain\",\"method\":\"update\",\"visible\":true},{\"args\":[{\"y\":[[135,171,234],[290,349,445]],\"x\":[[2017,2018,2019],[2017,2018,2019]]}],\"label\":\"United Kingdom\",\"method\":\"update\",\"visible\":true}],\"direction\":\"down\",\"x\":0.3,\"xanchor\":\"left\",\"y\":1.2,\"yanchor\":\"top\"}]},                        {\"responsive\": true}                    ).then(function(){\n",
       "                            \n",
       "var gd = document.getElementById('512fdf87-0201-4ca5-98b3-48822dbf971f');\n",
       "var x = new MutationObserver(function (mutations, observer) {{\n",
       "        var display = window.getComputedStyle(gd).display;\n",
       "        if (!display || display === 'none') {{\n",
       "            console.log([gd, 'removed!']);\n",
       "            Plotly.purge(gd);\n",
       "            observer.disconnect();\n",
       "        }}\n",
       "}});\n",
       "\n",
       "// Listen for the removal of the full notebook cells\n",
       "var notebookContainer = gd.closest('#notebook-container');\n",
       "if (notebookContainer) {{\n",
       "    x.observe(notebookContainer, {childList: true});\n",
       "}}\n",
       "\n",
       "// Listen for the clearing of the current output cell\n",
       "var outputEl = gd.closest('.output');\n",
       "if (outputEl) {{\n",
       "    x.observe(outputEl, {childList: true});\n",
       "}}\n",
       "\n",
       "                        })                };            </script>        </div>"
      ]
     },
     "metadata": {},
     "output_type": "display_data"
    }
   ],
   "source": [
    "### Add the dropdown menu to the chart\n",
    "### specify how you would want to update the chart with different buttons\n",
    "fig.update_layout(\n",
    "    updatemenus=[\n",
    "        dict(\n",
    "            active=0, #button with index 0 is active\n",
    "            buttons=buttons, # add the buttons\n",
    "            direction=\"down\", # specify it is a dropdown menu\n",
    "            x=0.3, # specify where the button stands on the x axis\n",
    "            xanchor=\"left\",\n",
    "            y=1.2, # specify where the button stands on the y axis\n",
    "            yanchor=\"top\",\n",
    "            )            \n",
    "            ],\n",
    "    legend=\n",
    "        dict(\n",
    "            yanchor=\"top\", \n",
    "            y=-0.1, # specify where the legend stands on the y axis\n",
    "            xanchor=\"left\",\n",
    "            x=0.2, # specify where the legend stands on the x axis\n",
    "            orientation='h'\n",
    "            )\n",
    "            )"
   ]
  }
 ],
 "metadata": {
  "kernelspec": {
   "display_name": "Python 3",
   "language": "python",
   "name": "python3"
  },
  "language_info": {
   "codemirror_mode": {
    "name": "ipython",
    "version": 3
   },
   "file_extension": ".py",
   "mimetype": "text/x-python",
   "name": "python",
   "nbconvert_exporter": "python",
   "pygments_lexer": "ipython3",
   "version": "3.11.13"
  }
 },
 "nbformat": 4,
 "nbformat_minor": 5
}
