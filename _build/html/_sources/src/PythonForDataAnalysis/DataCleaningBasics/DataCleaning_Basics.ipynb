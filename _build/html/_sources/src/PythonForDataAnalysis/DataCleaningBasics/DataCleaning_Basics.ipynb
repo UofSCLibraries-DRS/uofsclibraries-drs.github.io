{
 "cells": [
  {
   "cell_type": "markdown",
   "metadata": {},
   "source": [
    "# Data Cleaning Basics"
   ]
  },
  {
   "cell_type": "markdown",
   "metadata": {},
   "source": [
    "## Step 1: Reading Data\n",
    "Data can be read from various file formats such as CSV, JSON, and Excel files. Read more about it [here](https://www.prowesstics.com/blogs/python-data-file-formats/) \n",
    "\n",
    "This code demonstrates how to load and customize a dataset using the Pandas library. It shows how to read a full CSV file into a DataFrame or, alternatively, import only specific columns using the `usecols` parameter to focus on relevant data like year, leading cause, and number of deaths. Another option illustrated is how to remove unnecessary columns after loading the dataset using the `drop()` method to streamline the data for analysis.\n",
    "\n",
    "Here is the [data](./NYC_Leading_Death_Causes.csv) we used but, if you have data you would rather use, feel free to use it. Just make sure to change the path in the data variable."
   ]
  },
  {
   "cell_type": "code",
   "execution_count": 1,
   "metadata": {},
   "outputs": [],
   "source": [
    "import pandas as pd\n",
    "import numpy as np\n",
    "\n",
    "df = pd.read_csv(\"NYC_Leading_Death_Causes.csv\")\n",
    "\n",
    "# If we want to upload only certain columns of the dataset --- example Year, Leading Cause and Deaths\n",
    "#new_df = pd.read_csv('NYC_Leading_Death_Causes.csv', usecols = ['Year','Leading Cause', 'Deaths'])\n",
    "\n",
    "# OR\n",
    "# pandas drop columns using list of column names \n",
    "#new_df = df.drop(['Sex','Death Rate', 'Age Adjusted Death Rate'], axis=1)"
   ]
  },
  {
   "cell_type": "markdown",
   "metadata": {},
   "source": [
    "## Step 2: Exploring Data\n",
    "\n",
    "The `describe()` function is used to generate summary statistics for all numerical columns in the dataset. It provides useful metrics such as count, mean, standard deviation, minimum and maximum values, as well as the 25th, 50th (median), and 75th percentiles. This summary offers a quick overview of the distribution, central tendency, and variability of the numerical data, helping identify patterns or potential outliers."
   ]
  },
  {
   "cell_type": "code",
   "execution_count": 2,
   "metadata": {},
   "outputs": [
    {
     "data": {
      "text/html": [
       "<div>\n",
       "<style scoped>\n",
       "    .dataframe tbody tr th:only-of-type {\n",
       "        vertical-align: middle;\n",
       "    }\n",
       "\n",
       "    .dataframe tbody tr th {\n",
       "        vertical-align: top;\n",
       "    }\n",
       "\n",
       "    .dataframe thead th {\n",
       "        text-align: right;\n",
       "    }\n",
       "</style>\n",
       "<table border=\"1\" class=\"dataframe\">\n",
       "  <thead>\n",
       "    <tr style=\"text-align: right;\">\n",
       "      <th></th>\n",
       "      <th>Year</th>\n",
       "    </tr>\n",
       "  </thead>\n",
       "  <tbody>\n",
       "    <tr>\n",
       "      <th>count</th>\n",
       "      <td>1096.000000</td>\n",
       "    </tr>\n",
       "    <tr>\n",
       "      <th>mean</th>\n",
       "      <td>2010.474453</td>\n",
       "    </tr>\n",
       "    <tr>\n",
       "      <th>std</th>\n",
       "      <td>2.292191</td>\n",
       "    </tr>\n",
       "    <tr>\n",
       "      <th>min</th>\n",
       "      <td>2007.000000</td>\n",
       "    </tr>\n",
       "    <tr>\n",
       "      <th>25%</th>\n",
       "      <td>2008.000000</td>\n",
       "    </tr>\n",
       "    <tr>\n",
       "      <th>50%</th>\n",
       "      <td>2010.000000</td>\n",
       "    </tr>\n",
       "    <tr>\n",
       "      <th>75%</th>\n",
       "      <td>2012.000000</td>\n",
       "    </tr>\n",
       "    <tr>\n",
       "      <th>max</th>\n",
       "      <td>2014.000000</td>\n",
       "    </tr>\n",
       "  </tbody>\n",
       "</table>\n",
       "</div>"
      ],
      "text/plain": [
       "              Year\n",
       "count  1096.000000\n",
       "mean   2010.474453\n",
       "std       2.292191\n",
       "min    2007.000000\n",
       "25%    2008.000000\n",
       "50%    2010.000000\n",
       "75%    2012.000000\n",
       "max    2014.000000"
      ]
     },
     "execution_count": 2,
     "metadata": {},
     "output_type": "execute_result"
    }
   ],
   "source": [
    "# to get summary statistics of data(all numerical columns ONLY)\n",
    "df.describe()"
   ]
  },
  {
   "cell_type": "markdown",
   "metadata": {},
   "source": [
    "The `shape` attribute is used to find the number of rows and columns in a DataFrame. It returns a tuple where the first value represents the number of rows and the second value represents the number of columns. This provides a quick way to understand the overall size and structure of the dataset."
   ]
  },
  {
   "cell_type": "code",
   "execution_count": 3,
   "metadata": {},
   "outputs": [
    {
     "data": {
      "text/plain": [
       "(1096, 7)"
      ]
     },
     "execution_count": 3,
     "metadata": {},
     "output_type": "execute_result"
    }
   ],
   "source": [
    "# find the number of rows and columns of data frame\n",
    "df.shape"
   ]
  },
  {
   "cell_type": "markdown",
   "metadata": {},
   "source": [
    "By default, `head()` returns the top 5 rows, but specifying a number in parentheses lets you control how many rows are shown. So, the `head(10)` function displays the first 10 rows of the DataFrame, allowing you to quickly view a sample of the dataset.  This is helpful for getting an initial look at the data's structure, column names, and sample values."
   ]
  },
  {
   "cell_type": "code",
   "execution_count": 4,
   "metadata": {},
   "outputs": [
    {
     "data": {
      "text/html": [
       "<div>\n",
       "<style scoped>\n",
       "    .dataframe tbody tr th:only-of-type {\n",
       "        vertical-align: middle;\n",
       "    }\n",
       "\n",
       "    .dataframe tbody tr th {\n",
       "        vertical-align: top;\n",
       "    }\n",
       "\n",
       "    .dataframe thead th {\n",
       "        text-align: right;\n",
       "    }\n",
       "</style>\n",
       "<table border=\"1\" class=\"dataframe\">\n",
       "  <thead>\n",
       "    <tr style=\"text-align: right;\">\n",
       "      <th></th>\n",
       "      <th>Year</th>\n",
       "      <th>Leading Cause</th>\n",
       "      <th>Sex</th>\n",
       "      <th>Race Ethnicity</th>\n",
       "      <th>Deaths</th>\n",
       "      <th>Death Rate</th>\n",
       "      <th>Age Adjusted Death Rate</th>\n",
       "    </tr>\n",
       "  </thead>\n",
       "  <tbody>\n",
       "    <tr>\n",
       "      <th>0</th>\n",
       "      <td>2010</td>\n",
       "      <td>Influenza (Flu) and Pneumonia (J09-J18)</td>\n",
       "      <td>F</td>\n",
       "      <td>Hispanic</td>\n",
       "      <td>228</td>\n",
       "      <td>18.7</td>\n",
       "      <td>23.1</td>\n",
       "    </tr>\n",
       "    <tr>\n",
       "      <th>1</th>\n",
       "      <td>2008</td>\n",
       "      <td>Accidents Except Drug Posioning (V01-X39, X43,...</td>\n",
       "      <td>F</td>\n",
       "      <td>Hispanic</td>\n",
       "      <td>68</td>\n",
       "      <td>5.8</td>\n",
       "      <td>6.6</td>\n",
       "    </tr>\n",
       "    <tr>\n",
       "      <th>2</th>\n",
       "      <td>2013</td>\n",
       "      <td>Accidents Except Drug Posioning (V01-X39, X43,...</td>\n",
       "      <td>M</td>\n",
       "      <td>White Non-Hispanic</td>\n",
       "      <td>271</td>\n",
       "      <td>20.1</td>\n",
       "      <td>17.9</td>\n",
       "    </tr>\n",
       "    <tr>\n",
       "      <th>3</th>\n",
       "      <td>2010</td>\n",
       "      <td>Cerebrovascular Disease (Stroke: I60-I69)</td>\n",
       "      <td>M</td>\n",
       "      <td>Hispanic</td>\n",
       "      <td>140</td>\n",
       "      <td>12.3</td>\n",
       "      <td>21.4</td>\n",
       "    </tr>\n",
       "    <tr>\n",
       "      <th>4</th>\n",
       "      <td>2009</td>\n",
       "      <td>Assault (Homicide: Y87.1, X85-Y09)</td>\n",
       "      <td>M</td>\n",
       "      <td>Black Non-Hispanic</td>\n",
       "      <td>255</td>\n",
       "      <td>30</td>\n",
       "      <td>30</td>\n",
       "    </tr>\n",
       "    <tr>\n",
       "      <th>5</th>\n",
       "      <td>2012</td>\n",
       "      <td>Mental and Behavioral Disorders due to Acciden...</td>\n",
       "      <td>F</td>\n",
       "      <td>Other Race/ Ethnicity</td>\n",
       "      <td>.</td>\n",
       "      <td>.</td>\n",
       "      <td>.</td>\n",
       "    </tr>\n",
       "    <tr>\n",
       "      <th>6</th>\n",
       "      <td>2012</td>\n",
       "      <td>Cerebrovascular Disease (Stroke: I60-I69)</td>\n",
       "      <td>F</td>\n",
       "      <td>Asian and Pacific Islander</td>\n",
       "      <td>102</td>\n",
       "      <td>17.5</td>\n",
       "      <td>20.7</td>\n",
       "    </tr>\n",
       "    <tr>\n",
       "      <th>7</th>\n",
       "      <td>2009</td>\n",
       "      <td>Essential Hypertension and Renal Diseases (I10...</td>\n",
       "      <td>M</td>\n",
       "      <td>Asian and Pacific Islander</td>\n",
       "      <td>26</td>\n",
       "      <td>5.1</td>\n",
       "      <td>7.2</td>\n",
       "    </tr>\n",
       "    <tr>\n",
       "      <th>8</th>\n",
       "      <td>2010</td>\n",
       "      <td>All Other Causes</td>\n",
       "      <td>F</td>\n",
       "      <td>White Non-Hispanic</td>\n",
       "      <td>2140</td>\n",
       "      <td>149.7</td>\n",
       "      <td>93.9</td>\n",
       "    </tr>\n",
       "    <tr>\n",
       "      <th>9</th>\n",
       "      <td>2009</td>\n",
       "      <td>Alzheimer's Disease (G30)</td>\n",
       "      <td>F</td>\n",
       "      <td>Other Race/ Ethnicity</td>\n",
       "      <td>.</td>\n",
       "      <td>.</td>\n",
       "      <td>.</td>\n",
       "    </tr>\n",
       "  </tbody>\n",
       "</table>\n",
       "</div>"
      ],
      "text/plain": [
       "   Year                                      Leading Cause Sex  \\\n",
       "0  2010            Influenza (Flu) and Pneumonia (J09-J18)   F   \n",
       "1  2008  Accidents Except Drug Posioning (V01-X39, X43,...   F   \n",
       "2  2013  Accidents Except Drug Posioning (V01-X39, X43,...   M   \n",
       "3  2010          Cerebrovascular Disease (Stroke: I60-I69)   M   \n",
       "4  2009                 Assault (Homicide: Y87.1, X85-Y09)   M   \n",
       "5  2012  Mental and Behavioral Disorders due to Acciden...   F   \n",
       "6  2012          Cerebrovascular Disease (Stroke: I60-I69)   F   \n",
       "7  2009  Essential Hypertension and Renal Diseases (I10...   M   \n",
       "8  2010                                   All Other Causes   F   \n",
       "9  2009                          Alzheimer's Disease (G30)   F   \n",
       "\n",
       "               Race Ethnicity Deaths Death Rate Age Adjusted Death Rate  \n",
       "0                    Hispanic    228       18.7                    23.1  \n",
       "1                    Hispanic     68        5.8                     6.6  \n",
       "2          White Non-Hispanic    271       20.1                    17.9  \n",
       "3                    Hispanic    140       12.3                    21.4  \n",
       "4          Black Non-Hispanic    255         30                      30  \n",
       "5       Other Race/ Ethnicity      .          .                       .  \n",
       "6  Asian and Pacific Islander    102       17.5                    20.7  \n",
       "7  Asian and Pacific Islander     26        5.1                     7.2  \n",
       "8          White Non-Hispanic   2140      149.7                    93.9  \n",
       "9       Other Race/ Ethnicity      .          .                       .  "
      ]
     },
     "execution_count": 4,
     "metadata": {},
     "output_type": "execute_result"
    }
   ],
   "source": [
    "# print top 10 rows of the dataframe. \"head()\" will print top 5 rows\n",
    "df.head(10)"
   ]
  },
  {
   "cell_type": "markdown",
   "metadata": {},
   "source": [
    "By default, `tail()` shows the last 5 rows, but you can specify any number inside the parentheses to customize how many rows you want to see. SO, the `tail(12)` function displays the last 12 rows of the DataFrame, giving you a look at the most recent or bottom entries in the dataset.  This is useful for reviewing the end of the dataset, checking for missing data, or understanding how the data concludes."
   ]
  },
  {
   "cell_type": "code",
   "execution_count": 5,
   "metadata": {},
   "outputs": [
    {
     "data": {
      "text/html": [
       "<div>\n",
       "<style scoped>\n",
       "    .dataframe tbody tr th:only-of-type {\n",
       "        vertical-align: middle;\n",
       "    }\n",
       "\n",
       "    .dataframe tbody tr th {\n",
       "        vertical-align: top;\n",
       "    }\n",
       "\n",
       "    .dataframe thead th {\n",
       "        text-align: right;\n",
       "    }\n",
       "</style>\n",
       "<table border=\"1\" class=\"dataframe\">\n",
       "  <thead>\n",
       "    <tr style=\"text-align: right;\">\n",
       "      <th></th>\n",
       "      <th>Year</th>\n",
       "      <th>Leading Cause</th>\n",
       "      <th>Sex</th>\n",
       "      <th>Race Ethnicity</th>\n",
       "      <th>Deaths</th>\n",
       "      <th>Death Rate</th>\n",
       "      <th>Age Adjusted Death Rate</th>\n",
       "    </tr>\n",
       "  </thead>\n",
       "  <tbody>\n",
       "    <tr>\n",
       "      <th>1084</th>\n",
       "      <td>2008</td>\n",
       "      <td>Nephritis, Nephrotic Syndrome and Nephrisis (N...</td>\n",
       "      <td>F</td>\n",
       "      <td>Asian and Pacific Islander</td>\n",
       "      <td>13</td>\n",
       "      <td>2.4</td>\n",
       "      <td>3.3</td>\n",
       "    </tr>\n",
       "    <tr>\n",
       "      <th>1085</th>\n",
       "      <td>2014</td>\n",
       "      <td>Chronic Lower Respiratory Diseases (J40-J47)</td>\n",
       "      <td>F</td>\n",
       "      <td>Not Stated/Unknown</td>\n",
       "      <td>12</td>\n",
       "      <td>.</td>\n",
       "      <td>.</td>\n",
       "    </tr>\n",
       "    <tr>\n",
       "      <th>1086</th>\n",
       "      <td>2007</td>\n",
       "      <td>Human Immunodeficiency Virus Disease (HIV: B20...</td>\n",
       "      <td>F</td>\n",
       "      <td>Black Non-Hispanic</td>\n",
       "      <td>248</td>\n",
       "      <td>23.6</td>\n",
       "      <td>22.1</td>\n",
       "    </tr>\n",
       "    <tr>\n",
       "      <th>1087</th>\n",
       "      <td>2010</td>\n",
       "      <td>Atherosclerosis (I70)</td>\n",
       "      <td>F</td>\n",
       "      <td>Not Stated/Unknown</td>\n",
       "      <td>.</td>\n",
       "      <td>.</td>\n",
       "      <td>.</td>\n",
       "    </tr>\n",
       "    <tr>\n",
       "      <th>1088</th>\n",
       "      <td>2014</td>\n",
       "      <td>All Other Causes</td>\n",
       "      <td>F</td>\n",
       "      <td>Black Non-Hispanic</td>\n",
       "      <td>1536</td>\n",
       "      <td>146.4</td>\n",
       "      <td>126.4</td>\n",
       "    </tr>\n",
       "    <tr>\n",
       "      <th>1089</th>\n",
       "      <td>2009</td>\n",
       "      <td>Nephritis, Nephrotic Syndrome and Nephrisis (N...</td>\n",
       "      <td>F</td>\n",
       "      <td>Black Non-Hispanic</td>\n",
       "      <td>75</td>\n",
       "      <td>7.2</td>\n",
       "      <td>6.7</td>\n",
       "    </tr>\n",
       "    <tr>\n",
       "      <th>1090</th>\n",
       "      <td>2008</td>\n",
       "      <td>Chronic Liver Disease and Cirrhosis (K70, K73)</td>\n",
       "      <td>F</td>\n",
       "      <td>Other Race/ Ethnicity</td>\n",
       "      <td>.</td>\n",
       "      <td>.</td>\n",
       "      <td>.</td>\n",
       "    </tr>\n",
       "    <tr>\n",
       "      <th>1091</th>\n",
       "      <td>2012</td>\n",
       "      <td>Influenza (Flu) and Pneumonia (J09-J18)</td>\n",
       "      <td>F</td>\n",
       "      <td>Not Stated/Unknown</td>\n",
       "      <td>6</td>\n",
       "      <td>.</td>\n",
       "      <td>.</td>\n",
       "    </tr>\n",
       "    <tr>\n",
       "      <th>1092</th>\n",
       "      <td>2014</td>\n",
       "      <td>Accidents Except Drug Posioning (V01-X39, X43,...</td>\n",
       "      <td>F</td>\n",
       "      <td>White Non-Hispanic</td>\n",
       "      <td>169</td>\n",
       "      <td>11.9</td>\n",
       "      <td>7.4</td>\n",
       "    </tr>\n",
       "    <tr>\n",
       "      <th>1093</th>\n",
       "      <td>2009</td>\n",
       "      <td>Malignant Neoplasms (Cancer: C00-C97)</td>\n",
       "      <td>M</td>\n",
       "      <td>White Non-Hispanic</td>\n",
       "      <td>3236</td>\n",
       "      <td>240.5</td>\n",
       "      <td>205.6</td>\n",
       "    </tr>\n",
       "    <tr>\n",
       "      <th>1094</th>\n",
       "      <td>2009</td>\n",
       "      <td>Intentional Self-Harm (Suicide: X60-X84, Y87.0)</td>\n",
       "      <td>M</td>\n",
       "      <td>White Non-Hispanic</td>\n",
       "      <td>191</td>\n",
       "      <td>14.2</td>\n",
       "      <td>13</td>\n",
       "    </tr>\n",
       "    <tr>\n",
       "      <th>1095</th>\n",
       "      <td>2013</td>\n",
       "      <td>Essential Hypertension and Renal Diseases (I10...</td>\n",
       "      <td>M</td>\n",
       "      <td>Black Non-Hispanic</td>\n",
       "      <td>148</td>\n",
       "      <td>17.2</td>\n",
       "      <td>20.9</td>\n",
       "    </tr>\n",
       "  </tbody>\n",
       "</table>\n",
       "</div>"
      ],
      "text/plain": [
       "      Year                                      Leading Cause Sex  \\\n",
       "1084  2008  Nephritis, Nephrotic Syndrome and Nephrisis (N...   F   \n",
       "1085  2014       Chronic Lower Respiratory Diseases (J40-J47)   F   \n",
       "1086  2007  Human Immunodeficiency Virus Disease (HIV: B20...   F   \n",
       "1087  2010                              Atherosclerosis (I70)   F   \n",
       "1088  2014                                   All Other Causes   F   \n",
       "1089  2009  Nephritis, Nephrotic Syndrome and Nephrisis (N...   F   \n",
       "1090  2008     Chronic Liver Disease and Cirrhosis (K70, K73)   F   \n",
       "1091  2012            Influenza (Flu) and Pneumonia (J09-J18)   F   \n",
       "1092  2014  Accidents Except Drug Posioning (V01-X39, X43,...   F   \n",
       "1093  2009              Malignant Neoplasms (Cancer: C00-C97)   M   \n",
       "1094  2009    Intentional Self-Harm (Suicide: X60-X84, Y87.0)   M   \n",
       "1095  2013  Essential Hypertension and Renal Diseases (I10...   M   \n",
       "\n",
       "                  Race Ethnicity Deaths Death Rate Age Adjusted Death Rate  \n",
       "1084  Asian and Pacific Islander     13        2.4                     3.3  \n",
       "1085          Not Stated/Unknown     12          .                       .  \n",
       "1086          Black Non-Hispanic    248       23.6                    22.1  \n",
       "1087          Not Stated/Unknown      .          .                       .  \n",
       "1088          Black Non-Hispanic   1536      146.4                   126.4  \n",
       "1089          Black Non-Hispanic     75        7.2                     6.7  \n",
       "1090       Other Race/ Ethnicity      .          .                       .  \n",
       "1091          Not Stated/Unknown      6          .                       .  \n",
       "1092          White Non-Hispanic    169       11.9                     7.4  \n",
       "1093          White Non-Hispanic   3236      240.5                   205.6  \n",
       "1094          White Non-Hispanic    191       14.2                      13  \n",
       "1095          Black Non-Hispanic    148       17.2                    20.9  "
      ]
     },
     "execution_count": 5,
     "metadata": {},
     "output_type": "execute_result"
    }
   ],
   "source": [
    "#display last 5 rows / for displaying any other number of last rows, put value inside ();ex tail(10)\n",
    "df.tail(12)"
   ]
  },
  {
   "cell_type": "markdown",
   "metadata": {},
   "source": [
    "The `columns` attribute is used to display all the column names in a DataFrame. It returns an index object containing the names of each column, which helps you understand the structure and available variables in the dataset. This is especially useful when working with large datasets or when you want to reference specific columns for further analysis."
   ]
  },
  {
   "cell_type": "code",
   "execution_count": 6,
   "metadata": {},
   "outputs": [
    {
     "data": {
      "text/plain": [
       "Index(['Year', 'Leading Cause', 'Sex', 'Race Ethnicity', 'Deaths',\n",
       "       'Death Rate', 'Age Adjusted Death Rate'],\n",
       "      dtype='object')"
      ]
     },
     "execution_count": 6,
     "metadata": {},
     "output_type": "execute_result"
    }
   ],
   "source": [
    "# to display all column names\n",
    "df.columns"
   ]
  },
  {
   "cell_type": "markdown",
   "metadata": {},
   "source": [
    "The `rename()` function is used to change column names in a DataFrame. In the first example, the column `'Sex'` is renamed to `'Gender'`, and the `inplace=True` argument ensures the change is applied directly to the existing DataFrame without needing to assign it to a new variable. The second (commented-out) example shows how to rename multiple columns at once by passing a dictionary where each key is the current column name and each value is the new name. This is especially helpful for making column names more descriptive or easier to work with (e.g., removing spaces or standardizing naming conventions). After renaming, using `df.columns` lets you confirm the changes."
   ]
  },
  {
   "cell_type": "code",
   "execution_count": 7,
   "metadata": {},
   "outputs": [
    {
     "data": {
      "text/plain": [
       "Index(['Year', 'Leading Cause', 'Gender', 'Race Ethnicity', 'Deaths',\n",
       "       'Death Rate', 'Age Adjusted Death Rate'],\n",
       "      dtype='object')"
      ]
     },
     "execution_count": 7,
     "metadata": {},
     "output_type": "execute_result"
    }
   ],
   "source": [
    "#Rename one column\n",
    "df.rename(columns = {'Sex':'Gender'}, inplace = True) \n",
    "df.columns\n",
    "\n",
    "# #Rename multiple column\n",
    "#df.rename(columns = {'Leading Cause':'Leading_Cause', 'Race Ethnicity':'Race_Ethnicity', \n",
    "                              #'Death Rate':'Death_Rate', 'Age Adjusted Death Rate': 'Age_Adjusted_Death_Rate'}, inplace = True)"
   ]
  },
  {
   "cell_type": "markdown",
   "metadata": {},
   "source": [
    "The `count()` function is used to find the number of non-null (non-missing) entries in each column of the DataFrame. It returns a count for every column, helping you identify if there are any missing values. This is useful for quickly checking data completeness and ensuring that columns contain the expected number of entries."
   ]
  },
  {
   "cell_type": "code",
   "execution_count": 8,
   "metadata": {
    "scrolled": true
   },
   "outputs": [
    {
     "data": {
      "text/plain": [
       "Year                       1096\n",
       "Leading Cause              1096\n",
       "Gender                     1096\n",
       "Race Ethnicity             1096\n",
       "Deaths                     1096\n",
       "Death Rate                 1096\n",
       "Age Adjusted Death Rate    1096\n",
       "dtype: int64"
      ]
     },
     "execution_count": 8,
     "metadata": {},
     "output_type": "execute_result"
    }
   ],
   "source": [
    "# find the count of rows\n",
    "df.count()"
   ]
  },
  {
   "cell_type": "markdown",
   "metadata": {},
   "source": [
    "The `iloc[:, :]` function is used to print **all rows and all columns** of a DataFrame by index-based selection. The colon before the comma (`:`) selects all rows, and the colon after the comma (`:`) selects all columns. This is helpful when you want to view the entire dataset explicitly, although in practice, large DataFrames may be truncated in the output display for performance reasons."
   ]
  },
  {
   "cell_type": "code",
   "execution_count": 9,
   "metadata": {},
   "outputs": [
    {
     "data": {
      "text/html": [
       "<div>\n",
       "<style scoped>\n",
       "    .dataframe tbody tr th:only-of-type {\n",
       "        vertical-align: middle;\n",
       "    }\n",
       "\n",
       "    .dataframe tbody tr th {\n",
       "        vertical-align: top;\n",
       "    }\n",
       "\n",
       "    .dataframe thead th {\n",
       "        text-align: right;\n",
       "    }\n",
       "</style>\n",
       "<table border=\"1\" class=\"dataframe\">\n",
       "  <thead>\n",
       "    <tr style=\"text-align: right;\">\n",
       "      <th></th>\n",
       "      <th>Year</th>\n",
       "      <th>Leading Cause</th>\n",
       "      <th>Gender</th>\n",
       "      <th>Race Ethnicity</th>\n",
       "      <th>Deaths</th>\n",
       "      <th>Death Rate</th>\n",
       "      <th>Age Adjusted Death Rate</th>\n",
       "    </tr>\n",
       "  </thead>\n",
       "  <tbody>\n",
       "    <tr>\n",
       "      <th>0</th>\n",
       "      <td>2010</td>\n",
       "      <td>Influenza (Flu) and Pneumonia (J09-J18)</td>\n",
       "      <td>F</td>\n",
       "      <td>Hispanic</td>\n",
       "      <td>228</td>\n",
       "      <td>18.7</td>\n",
       "      <td>23.1</td>\n",
       "    </tr>\n",
       "    <tr>\n",
       "      <th>1</th>\n",
       "      <td>2008</td>\n",
       "      <td>Accidents Except Drug Posioning (V01-X39, X43,...</td>\n",
       "      <td>F</td>\n",
       "      <td>Hispanic</td>\n",
       "      <td>68</td>\n",
       "      <td>5.8</td>\n",
       "      <td>6.6</td>\n",
       "    </tr>\n",
       "    <tr>\n",
       "      <th>2</th>\n",
       "      <td>2013</td>\n",
       "      <td>Accidents Except Drug Posioning (V01-X39, X43,...</td>\n",
       "      <td>M</td>\n",
       "      <td>White Non-Hispanic</td>\n",
       "      <td>271</td>\n",
       "      <td>20.1</td>\n",
       "      <td>17.9</td>\n",
       "    </tr>\n",
       "    <tr>\n",
       "      <th>3</th>\n",
       "      <td>2010</td>\n",
       "      <td>Cerebrovascular Disease (Stroke: I60-I69)</td>\n",
       "      <td>M</td>\n",
       "      <td>Hispanic</td>\n",
       "      <td>140</td>\n",
       "      <td>12.3</td>\n",
       "      <td>21.4</td>\n",
       "    </tr>\n",
       "    <tr>\n",
       "      <th>4</th>\n",
       "      <td>2009</td>\n",
       "      <td>Assault (Homicide: Y87.1, X85-Y09)</td>\n",
       "      <td>M</td>\n",
       "      <td>Black Non-Hispanic</td>\n",
       "      <td>255</td>\n",
       "      <td>30</td>\n",
       "      <td>30</td>\n",
       "    </tr>\n",
       "    <tr>\n",
       "      <th>...</th>\n",
       "      <td>...</td>\n",
       "      <td>...</td>\n",
       "      <td>...</td>\n",
       "      <td>...</td>\n",
       "      <td>...</td>\n",
       "      <td>...</td>\n",
       "      <td>...</td>\n",
       "    </tr>\n",
       "    <tr>\n",
       "      <th>1091</th>\n",
       "      <td>2012</td>\n",
       "      <td>Influenza (Flu) and Pneumonia (J09-J18)</td>\n",
       "      <td>F</td>\n",
       "      <td>Not Stated/Unknown</td>\n",
       "      <td>6</td>\n",
       "      <td>.</td>\n",
       "      <td>.</td>\n",
       "    </tr>\n",
       "    <tr>\n",
       "      <th>1092</th>\n",
       "      <td>2014</td>\n",
       "      <td>Accidents Except Drug Posioning (V01-X39, X43,...</td>\n",
       "      <td>F</td>\n",
       "      <td>White Non-Hispanic</td>\n",
       "      <td>169</td>\n",
       "      <td>11.9</td>\n",
       "      <td>7.4</td>\n",
       "    </tr>\n",
       "    <tr>\n",
       "      <th>1093</th>\n",
       "      <td>2009</td>\n",
       "      <td>Malignant Neoplasms (Cancer: C00-C97)</td>\n",
       "      <td>M</td>\n",
       "      <td>White Non-Hispanic</td>\n",
       "      <td>3236</td>\n",
       "      <td>240.5</td>\n",
       "      <td>205.6</td>\n",
       "    </tr>\n",
       "    <tr>\n",
       "      <th>1094</th>\n",
       "      <td>2009</td>\n",
       "      <td>Intentional Self-Harm (Suicide: X60-X84, Y87.0)</td>\n",
       "      <td>M</td>\n",
       "      <td>White Non-Hispanic</td>\n",
       "      <td>191</td>\n",
       "      <td>14.2</td>\n",
       "      <td>13</td>\n",
       "    </tr>\n",
       "    <tr>\n",
       "      <th>1095</th>\n",
       "      <td>2013</td>\n",
       "      <td>Essential Hypertension and Renal Diseases (I10...</td>\n",
       "      <td>M</td>\n",
       "      <td>Black Non-Hispanic</td>\n",
       "      <td>148</td>\n",
       "      <td>17.2</td>\n",
       "      <td>20.9</td>\n",
       "    </tr>\n",
       "  </tbody>\n",
       "</table>\n",
       "<p>1096 rows × 7 columns</p>\n",
       "</div>"
      ],
      "text/plain": [
       "      Year                                      Leading Cause Gender  \\\n",
       "0     2010            Influenza (Flu) and Pneumonia (J09-J18)      F   \n",
       "1     2008  Accidents Except Drug Posioning (V01-X39, X43,...      F   \n",
       "2     2013  Accidents Except Drug Posioning (V01-X39, X43,...      M   \n",
       "3     2010          Cerebrovascular Disease (Stroke: I60-I69)      M   \n",
       "4     2009                 Assault (Homicide: Y87.1, X85-Y09)      M   \n",
       "...    ...                                                ...    ...   \n",
       "1091  2012            Influenza (Flu) and Pneumonia (J09-J18)      F   \n",
       "1092  2014  Accidents Except Drug Posioning (V01-X39, X43,...      F   \n",
       "1093  2009              Malignant Neoplasms (Cancer: C00-C97)      M   \n",
       "1094  2009    Intentional Self-Harm (Suicide: X60-X84, Y87.0)      M   \n",
       "1095  2013  Essential Hypertension and Renal Diseases (I10...      M   \n",
       "\n",
       "          Race Ethnicity Deaths Death Rate Age Adjusted Death Rate  \n",
       "0               Hispanic    228       18.7                    23.1  \n",
       "1               Hispanic     68        5.8                     6.6  \n",
       "2     White Non-Hispanic    271       20.1                    17.9  \n",
       "3               Hispanic    140       12.3                    21.4  \n",
       "4     Black Non-Hispanic    255         30                      30  \n",
       "...                  ...    ...        ...                     ...  \n",
       "1091  Not Stated/Unknown      6          .                       .  \n",
       "1092  White Non-Hispanic    169       11.9                     7.4  \n",
       "1093  White Non-Hispanic   3236      240.5                   205.6  \n",
       "1094  White Non-Hispanic    191       14.2                      13  \n",
       "1095  Black Non-Hispanic    148       17.2                    20.9  \n",
       "\n",
       "[1096 rows x 7 columns]"
      ]
     },
     "execution_count": 9,
     "metadata": {},
     "output_type": "execute_result"
    }
   ],
   "source": [
    "# print ALL rows and ALL columns by index\n",
    "df.iloc[:,:]"
   ]
  },
  {
   "cell_type": "markdown",
   "metadata": {},
   "source": [
    "This code uses `iloc` to access a specific subset of the DataFrame by integer position. It selects rows from index 100 to 124 (which corresponds to the 101st through 125th rows, since indexing starts at 0) and columns from index 4 to 6 (the 5th, 6th, and 7th columns). This allows you to extract and work with a precise slice of the data based on row and column positions rather than labels."
   ]
  },
  {
   "cell_type": "code",
   "execution_count": 10,
   "metadata": {},
   "outputs": [
    {
     "data": {
      "text/html": [
       "<div>\n",
       "<style scoped>\n",
       "    .dataframe tbody tr th:only-of-type {\n",
       "        vertical-align: middle;\n",
       "    }\n",
       "\n",
       "    .dataframe tbody tr th {\n",
       "        vertical-align: top;\n",
       "    }\n",
       "\n",
       "    .dataframe thead th {\n",
       "        text-align: right;\n",
       "    }\n",
       "</style>\n",
       "<table border=\"1\" class=\"dataframe\">\n",
       "  <thead>\n",
       "    <tr style=\"text-align: right;\">\n",
       "      <th></th>\n",
       "      <th>Deaths</th>\n",
       "      <th>Death Rate</th>\n",
       "      <th>Age Adjusted Death Rate</th>\n",
       "    </tr>\n",
       "  </thead>\n",
       "  <tbody>\n",
       "    <tr>\n",
       "      <th>100</th>\n",
       "      <td>1940</td>\n",
       "      <td>226.8</td>\n",
       "      <td>280.7</td>\n",
       "    </tr>\n",
       "    <tr>\n",
       "      <th>101</th>\n",
       "      <td>3366</td>\n",
       "      <td>234.5</td>\n",
       "      <td>160.5</td>\n",
       "    </tr>\n",
       "    <tr>\n",
       "      <th>102</th>\n",
       "      <td>563</td>\n",
       "      <td>39.7</td>\n",
       "      <td>20.4</td>\n",
       "    </tr>\n",
       "    <tr>\n",
       "      <th>103</th>\n",
       "      <td>.</td>\n",
       "      <td>.</td>\n",
       "      <td>.</td>\n",
       "    </tr>\n",
       "    <tr>\n",
       "      <th>104</th>\n",
       "      <td>180</td>\n",
       "      <td>12.7</td>\n",
       "      <td>6.7</td>\n",
       "    </tr>\n",
       "    <tr>\n",
       "      <th>105</th>\n",
       "      <td>7</td>\n",
       "      <td>.</td>\n",
       "      <td>.</td>\n",
       "    </tr>\n",
       "    <tr>\n",
       "      <th>106</th>\n",
       "      <td>47</td>\n",
       "      <td>.</td>\n",
       "      <td>.</td>\n",
       "    </tr>\n",
       "    <tr>\n",
       "      <th>107</th>\n",
       "      <td>.</td>\n",
       "      <td>.</td>\n",
       "      <td>.</td>\n",
       "    </tr>\n",
       "    <tr>\n",
       "      <th>108</th>\n",
       "      <td>63</td>\n",
       "      <td>5.3</td>\n",
       "      <td>6.2</td>\n",
       "    </tr>\n",
       "    <tr>\n",
       "      <th>109</th>\n",
       "      <td>10</td>\n",
       "      <td>.</td>\n",
       "      <td>.</td>\n",
       "    </tr>\n",
       "    <tr>\n",
       "      <th>110</th>\n",
       "      <td>36</td>\n",
       "      <td>.</td>\n",
       "      <td>.</td>\n",
       "    </tr>\n",
       "    <tr>\n",
       "      <th>111</th>\n",
       "      <td>1230</td>\n",
       "      <td>116.8</td>\n",
       "      <td>113.4</td>\n",
       "    </tr>\n",
       "    <tr>\n",
       "      <th>112</th>\n",
       "      <td>279</td>\n",
       "      <td>26.5</td>\n",
       "      <td>25.3</td>\n",
       "    </tr>\n",
       "    <tr>\n",
       "      <th>113</th>\n",
       "      <td>37</td>\n",
       "      <td>6.7</td>\n",
       "      <td>8</td>\n",
       "    </tr>\n",
       "    <tr>\n",
       "      <th>114</th>\n",
       "      <td>6</td>\n",
       "      <td>.</td>\n",
       "      <td>.</td>\n",
       "    </tr>\n",
       "    <tr>\n",
       "      <th>115</th>\n",
       "      <td>1852</td>\n",
       "      <td>176.5</td>\n",
       "      <td>148.4</td>\n",
       "    </tr>\n",
       "    <tr>\n",
       "      <th>116</th>\n",
       "      <td>530</td>\n",
       "      <td>39.6</td>\n",
       "      <td>32.9</td>\n",
       "    </tr>\n",
       "    <tr>\n",
       "      <th>117</th>\n",
       "      <td>11</td>\n",
       "      <td>.</td>\n",
       "      <td>.</td>\n",
       "    </tr>\n",
       "    <tr>\n",
       "      <th>118</th>\n",
       "      <td>554</td>\n",
       "      <td>96.5</td>\n",
       "      <td>118.5</td>\n",
       "    </tr>\n",
       "    <tr>\n",
       "      <th>119</th>\n",
       "      <td>.</td>\n",
       "      <td>.</td>\n",
       "      <td>.</td>\n",
       "    </tr>\n",
       "    <tr>\n",
       "      <th>120</th>\n",
       "      <td>.</td>\n",
       "      <td>.</td>\n",
       "      <td>.</td>\n",
       "    </tr>\n",
       "    <tr>\n",
       "      <th>121</th>\n",
       "      <td>186</td>\n",
       "      <td>21.5</td>\n",
       "      <td>21.5</td>\n",
       "    </tr>\n",
       "    <tr>\n",
       "      <th>122</th>\n",
       "      <td>.</td>\n",
       "      <td>.</td>\n",
       "      <td>.</td>\n",
       "    </tr>\n",
       "    <tr>\n",
       "      <th>123</th>\n",
       "      <td>235</td>\n",
       "      <td>20.6</td>\n",
       "      <td>38.9</td>\n",
       "    </tr>\n",
       "    <tr>\n",
       "      <th>124</th>\n",
       "      <td>2282</td>\n",
       "      <td>217.7</td>\n",
       "      <td>194.2</td>\n",
       "    </tr>\n",
       "  </tbody>\n",
       "</table>\n",
       "</div>"
      ],
      "text/plain": [
       "    Deaths Death Rate Age Adjusted Death Rate\n",
       "100   1940      226.8                   280.7\n",
       "101   3366      234.5                   160.5\n",
       "102    563       39.7                    20.4\n",
       "103      .          .                       .\n",
       "104    180       12.7                     6.7\n",
       "105      7          .                       .\n",
       "106     47          .                       .\n",
       "107      .          .                       .\n",
       "108     63        5.3                     6.2\n",
       "109     10          .                       .\n",
       "110     36          .                       .\n",
       "111   1230      116.8                   113.4\n",
       "112    279       26.5                    25.3\n",
       "113     37        6.7                       8\n",
       "114      6          .                       .\n",
       "115   1852      176.5                   148.4\n",
       "116    530       39.6                    32.9\n",
       "117     11          .                       .\n",
       "118    554       96.5                   118.5\n",
       "119      .          .                       .\n",
       "120      .          .                       .\n",
       "121    186       21.5                    21.5\n",
       "122      .          .                       .\n",
       "123    235       20.6                    38.9\n",
       "124   2282      217.7                   194.2"
      ]
     },
     "execution_count": 10,
     "metadata": {},
     "output_type": "execute_result"
    }
   ],
   "source": [
    "# Access 101 - 124th rows and 5th, 6th and 7th columns by index. Both Row and Column Index starts from 0\n",
    "df.iloc[100:125,4:7]"
   ]
  },
  {
   "cell_type": "markdown",
   "metadata": {},
   "source": [
    "The `loc` accessor is used to select data by label. Here, `df.loc[:, \"Leading Cause\"]` retrieves **all rows** (`:`) but only the column named `\"Leading Cause\"`. This method is useful when you want to access one or more columns directly by their names instead of by their integer positions."
   ]
  },
  {
   "cell_type": "code",
   "execution_count": 11,
   "metadata": {},
   "outputs": [
    {
     "data": {
      "text/plain": [
       "0                 Influenza (Flu) and Pneumonia (J09-J18)\n",
       "1       Accidents Except Drug Posioning (V01-X39, X43,...\n",
       "2       Accidents Except Drug Posioning (V01-X39, X43,...\n",
       "3               Cerebrovascular Disease (Stroke: I60-I69)\n",
       "4                      Assault (Homicide: Y87.1, X85-Y09)\n",
       "                              ...                        \n",
       "1091              Influenza (Flu) and Pneumonia (J09-J18)\n",
       "1092    Accidents Except Drug Posioning (V01-X39, X43,...\n",
       "1093                Malignant Neoplasms (Cancer: C00-C97)\n",
       "1094      Intentional Self-Harm (Suicide: X60-X84, Y87.0)\n",
       "1095    Essential Hypertension and Renal Diseases (I10...\n",
       "Name: Leading Cause, Length: 1096, dtype: object"
      ]
     },
     "execution_count": 11,
     "metadata": {},
     "output_type": "execute_result"
    }
   ],
   "source": [
    "# Access columns by column name\n",
    "df.loc[:,\"Leading Cause\"]"
   ]
  },
  {
   "cell_type": "markdown",
   "metadata": {},
   "source": [
    "Here, `df.Year` retrieves the entire `\"Year\"` column directly using dot notation by referencing the column name as an attribute of the DataFrame. This is a quick and convenient way to access columns with simple names, though it only works when the column name is a valid Python identifier (no spaces or special characters).\n"
   ]
  },
  {
   "cell_type": "code",
   "execution_count": 12,
   "metadata": {},
   "outputs": [
    {
     "data": {
      "text/plain": [
       "0       2010\n",
       "1       2008\n",
       "2       2013\n",
       "3       2010\n",
       "4       2009\n",
       "        ... \n",
       "1091    2012\n",
       "1092    2014\n",
       "1093    2009\n",
       "1094    2009\n",
       "1095    2013\n",
       "Name: Year, Length: 1096, dtype: int64"
      ]
     },
     "execution_count": 12,
     "metadata": {},
     "output_type": "execute_result"
    }
   ],
   "source": [
    "# Another way to access columns (by column name)\n",
    "df.Year"
   ]
  },
  {
   "cell_type": "markdown",
   "metadata": {},
   "source": [
    "The code `df.Leading Cause` attempts to access a column using dot notation, but it will cause an error because the column name contains a space. Dot notation only works for column names that are valid Python identifiers—meaning no spaces or special characters. For columns with spaces (like `\"Leading Cause\"`), you need to use bracket notation instead, such as `df[\"Leading Cause\"]`."
   ]
  },
  {
   "cell_type": "code",
   "execution_count": 13,
   "metadata": {},
   "outputs": [
    {
     "ename": "SyntaxError",
     "evalue": "invalid syntax (2577162025.py, line 3)",
     "output_type": "error",
     "traceback": [
      "  \u001b[36mCell\u001b[39m\u001b[36m \u001b[39m\u001b[32mIn[13]\u001b[39m\u001b[32m, line 3\u001b[39m\n\u001b[31m    \u001b[39m\u001b[31mdf.Leading Cause\u001b[39m\n               ^\n\u001b[31mSyntaxError\u001b[39m\u001b[31m:\u001b[39m invalid syntax\n"
     ]
    }
   ],
   "source": [
    "# Another way to access columns (by column name). The only problem is that it does not work if the\n",
    "#column name has space between them\n",
    "df.Leading Cause"
   ]
  },
  {
   "cell_type": "markdown",
   "metadata": {},
   "source": [
    "# Data Cleaning"
   ]
  },
  {
   "cell_type": "markdown",
   "metadata": {},
   "source": [
    "This code handles duplicate rows in the DataFrame by identifying all rows that are duplicates except for their first occurrence. The `duplicated()` function returns a Boolean series marking True for every duplicate row after the first one based on all columns by default. By using this Boolean series to filter `df`, the code creates a new DataFrame `dupRowsDF` containing only these duplicate rows. Printing `dupRowsDF` lets you see which rows have repeated values across the entire dataset, which is useful for data cleaning and ensuring data quality."
   ]
  },
  {
   "cell_type": "code",
   "execution_count": 14,
   "metadata": {},
   "outputs": [
    {
     "name": "stdout",
     "output_type": "stream",
     "text": [
      "Duplicate Rows except first occurrence based on all columns are :\n",
      "     Year                       Leading Cause Gender      Race Ethnicity  \\\n",
      "32   2009  Assault (Homicide: Y87.1, X85-Y09)      M  Black Non-Hispanic   \n",
      "149  2009  Assault (Homicide: Y87.1, X85-Y09)      M  Black Non-Hispanic   \n",
      "\n",
      "    Deaths Death Rate Age Adjusted Death Rate  \n",
      "32     255         30                      30  \n",
      "149    255         30                      30  \n"
     ]
    }
   ],
   "source": [
    "#[A]Handling duplicate rows*******\n",
    "\n",
    "# Select duplicate rows except first occurrence based on all columns\n",
    "dupRowsDF = df[df.duplicated()]\n",
    "print(\"Duplicate Rows except first occurrence based on all columns are :\")\n",
    "print(dupRowsDF) "
   ]
  },
  {
   "cell_type": "markdown",
   "metadata": {},
   "source": [
    "This code removes all duplicate rows from the DataFrame `df` while keeping only the first occurrence of each duplicated row. The `drop_duplicates()` function returns a new DataFrame `df1` without duplicates. The length of this cleaned DataFrame (`len(df1)`) is printed to show how many unique rows remain after duplicates are removed, helping you understand the impact of duplicate data on the dataset size."
   ]
  },
  {
   "cell_type": "code",
   "execution_count": 15,
   "metadata": {},
   "outputs": [
    {
     "name": "stdout",
     "output_type": "stream",
     "text": [
      "1094\n",
      "the length of the df after deleting duplicate rows is 1094\n"
     ]
    }
   ],
   "source": [
    "### dropping ALL duplicte values except first \n",
    "df1 = df.drop_duplicates() \n",
    "print(len(df1))\n",
    "\n",
    "### displaying data \n",
    "print(\"the length of the df after deleting duplicate rows is\", len(df1))\n"
   ]
  },
  {
   "cell_type": "markdown",
   "metadata": {},
   "source": [
    "The `dtypes` attribute is used to find the data types of all columns in the DataFrame `df1`. It returns a series where each column name is paired with its corresponding data type, such as `int64` for integers or `object` for text. This information is important for understanding how data is stored and for choosing appropriate methods for analysis or manipulation."
   ]
  },
  {
   "cell_type": "code",
   "execution_count": 16,
   "metadata": {},
   "outputs": [
    {
     "data": {
      "text/plain": [
       "Year                        int64\n",
       "Leading Cause              object\n",
       "Gender                     object\n",
       "Race Ethnicity             object\n",
       "Deaths                     object\n",
       "Death Rate                 object\n",
       "Age Adjusted Death Rate    object\n",
       "dtype: object"
      ]
     },
     "execution_count": 16,
     "metadata": {},
     "output_type": "execute_result"
    }
   ],
   "source": [
    "# find the data types of all columns\n",
    "df1.dtypes"
   ]
  },
  {
   "cell_type": "markdown",
   "metadata": {},
   "source": [
    "This code attempts to find the total number of deaths over 8 years by summing the values in the `\"Deaths\"` column. However, since the `\"Deaths\"` column is stored as an `object` type (often meaning it's treated as text), using `.sum()` in this case will concatenate the values like strings instead of performing a numeric addition. As a result, the output will be a meaningless string rather than a valid total. To get an accurate sum, the column should first be converted to a numeric data type using `pd.to_numeric()`."
   ]
  },
  {
   "cell_type": "code",
   "execution_count": 17,
   "metadata": {},
   "outputs": [
    {
     "data": {
      "text/plain": [
       "'22868271140255.102262140.191281761770.102121..9018313123554845929132610746635616803222.15926271204.5168290281.6..829.229314645124448145155271163846951721464.30052811231.55510214716147.7.12631667.2951912161057.410511627221493319299.449519403366563.180747.6310361230279376185253011554..186.23522826538.297156.5714.526119313755727327581291055651570820461.29019710075.896674535219153218119113.116633627126501621486206192521065620916927722693352222.191138216517.533081824631882522721779337120081784..189371.3639221033121379519109710.2851201..1482212715.115629716250211991543938013375202625418227.228521189764317135742044340266229134111252151316558247135133048.267431422722196130590605351313217063391142831877550.36.75507215108853384951278124615950227266.320112172156145262455..5253514178792991455503155171268.14415115434383028.9882798322210399016518244415850229340155.184398358206742463528312517018689164171245951080.622134205265.952743775.4145571124964507..94718229411876.141418.43629.1540.22551163.105258163.26126311349414721756200222.2431281..7911110238797688209113542201686962983518177.11124022998308.18531431082101082146562243750239549622121023820594204423610255155710721829289154711200969.174970145632388263612201557603647824...115501588151.12084.1932581071857648.116780783451354618219379735103482316464156.51565429186177190511116.1154.199224318357118007917026227546250614731583.469258193215173701871871684148513161155569651523408522017162224325529.50.8371533185146.26531538333..1793027.14832851024624881431551012547.46718166867751222352278394114638223842329211632445..174..2235881511443408203450249.206.1091735716751061414727724432051371047158286.7707471910416446137123534511891751230981842725259152266334619952365395.464245322221168.551180.11473871887819572659382011772841013139910675407110660.3016520756561327.11154242.1069645358186.13148102861428196621201523756199402104520451089186114619332191391262532151235.40414094371391231536571541918131782721382.14114923383414533370507398208398781840.19..5015145219123444210859325578.393024021853488521.311512421013.99012121768169202971348.587314983116312221941307200.2678050689272422128567101521195.729223122030710..13192267302713277632.11265314581822383907014633841261582194245146194132191.5627954619583356.1133.12307143.134644474..96961802578622276011822858.17614831810259513220768.618144519611.2182741814992.646..104615636103329557336166.344161740207747339.1818292372199120734721170.20410749903256108.48644272727128615061.184456.8296.613142132209686168276818.89931841216272.7139.13206013611314242258206851115901493622036276156183.683622752.1109341566254..25921521312248.153675.61693236191148'"
      ]
     },
     "execution_count": 17,
     "metadata": {},
     "output_type": "execute_result"
    }
   ],
   "source": [
    "# Find the total number of deaths in 8 years; datatype of \"Deaths\" column is \"object\"\n",
    "# without converting the column to numeric, the matematical operation \"sum\" returns a garbage result\n",
    "df1[\"Deaths\"].sum()"
   ]
  },
  {
   "cell_type": "markdown",
   "metadata": {},
   "source": [
    "This code prepares the `\"Deaths\"` column for numerical analysis by cleaning and converting its values. First, `df1.replace('.', np.nan)` replaces any occurrences of the string `\".\"` in the entire DataFrame with `NaN` (Not a Number), which represents missing or undefined values. Then, `pd.to_numeric(df1[\"Deaths\"])` converts the `\"Deaths\"` column from an object (text) type to a numeric type (`float64` by default), allowing for accurate mathematical operations like summing or averaging. This step is essential when the column contains non-numeric characters that would otherwise interfere with calculations."
   ]
  },
  {
   "cell_type": "code",
   "execution_count": 18,
   "metadata": {},
   "outputs": [],
   "source": [
    "#replace \".\" with \"NaN\" and change datatype of \"Deaths\" to float\n",
    "df1 = df1.replace('.', np.nan)\n",
    "df1[\"Deaths\"] = pd.to_numeric(df1[\"Deaths\"])"
   ]
  },
  {
   "cell_type": "markdown",
   "metadata": {},
   "source": [
    "This code calculates the total number of deaths by summing the values in the `\"Deaths\"` column **after** it has been successfully converted to a numeric data type. Unlike earlier, when the column was stored as an object and resulted in a string concatenation, this time the `.sum()` function performs a proper mathematical operation. The result is the accurate total number of deaths across the dataset, which can now be used for further analysis or reporting."
   ]
  },
  {
   "cell_type": "code",
   "execution_count": 19,
   "metadata": {},
   "outputs": [
    {
     "data": {
      "text/plain": [
       "np.float64(424998.0)"
      ]
     },
     "execution_count": 19,
     "metadata": {},
     "output_type": "execute_result"
    }
   ],
   "source": [
    "# Finding the total number of deaths after converting the datatype of \"Deaths\" column into Numeric, returns correct result\n",
    "df1[\"Deaths\"].sum()"
   ]
  },
  {
   "cell_type": "markdown",
   "metadata": {},
   "source": [
    "# Data Analysis and Visualization"
   ]
  },
  {
   "cell_type": "markdown",
   "metadata": {},
   "source": [
    "This code identifies all the unique causes of death listed in the `\"Leading Cause\"` column. The `.unique()` function returns an array of distinct labels (i.e., categories) found in that column, which helps in understanding the different qualitative or categorical values present in the data. The second line prints the total number of unique causes by using `len(causeDeath)`, which counts how many distinct death causes are represented in the dataset. This is useful for summarizing and preparing for grouped analysis or visualization."
   ]
  },
  {
   "cell_type": "code",
   "execution_count": 20,
   "metadata": {},
   "outputs": [
    {
     "name": "stdout",
     "output_type": "stream",
     "text": [
      "['Influenza (Flu) and Pneumonia (J09-J18)'\n",
      " 'Accidents Except Drug Posioning (V01-X39, X43, X45-X59, Y85-Y86)'\n",
      " 'Cerebrovascular Disease (Stroke: I60-I69)'\n",
      " 'Assault (Homicide: Y87.1, X85-Y09)'\n",
      " 'Mental and Behavioral Disorders due to Accidental Poisoning and Other Psychoactive Substance Use (F11-F16, F18-F19, X40-X42, X44)'\n",
      " 'Essential Hypertension and Renal Diseases (I10, I12)' 'All Other Causes'\n",
      " \"Alzheimer's Disease (G30)\"\n",
      " 'Diseases of Heart (I00-I09, I11, I13, I20-I51)'\n",
      " 'Intentional Self-Harm (Suicide: X60-X84, Y87.0)'\n",
      " 'Human Immunodeficiency Virus Disease (HIV: B20-B24)'\n",
      " 'Chronic Liver Disease and Cirrhosis (K70, K73)'\n",
      " 'Malignant Neoplasms (Cancer: C00-C97)'\n",
      " 'Chronic Lower Respiratory Diseases (J40-J47)'\n",
      " 'Diabetes Mellitus (E10-E14)'\n",
      " 'Certain Conditions originating in the Perinatal Period (P00-P96)'\n",
      " 'Septicemia (A40-A41)' 'Aortic Aneurysm and Dissection (I71)'\n",
      " 'Mental and Behavioral Disorders due to Use of Alcohol (F10)'\n",
      " 'Insitu or Benign / Uncertain Neoplasms (D00-D48)'\n",
      " \"Parkinson's Disease (G20)\"\n",
      " 'Nephritis, Nephrotic Syndrome and Nephrisis (N00-N07, N17-N19, N25-N27)'\n",
      " 'Viral Hepatitis (B15-B19)'\n",
      " 'Congenital Malformations, Deformations, and Chromosomal Abnormalities (Q00-Q99)'\n",
      " 'Atherosclerosis (I70)' 'Tuberculosis (A16-A19)']\n",
      "\n",
      " The number of unique causes of deaths are: 26\n"
     ]
    }
   ],
   "source": [
    "# Find the unique causes of death --- find the unique labels of categorical/qualitative data in the column\n",
    "causeDeath = df1[\"Leading Cause\"].unique()\n",
    "print(causeDeath)\n",
    "\n",
    "# count of unique labels of \"leading cause\"\n",
    "print(\"\\n The number of unique causes of deaths are:\", len(causeDeath))"
   ]
  },
  {
   "cell_type": "markdown",
   "metadata": {},
   "source": [
    "This code calculates the total number of deaths using the `groupby()` function to aggregate data based on specific categories. First, it groups the data by `\"Year\"` and then sums the `\"Deaths\"` column within each year, showing the total number of deaths for every year in the dataset. This helps reveal trends over time. Next, it groups the data by `\"Gender\"` (previously renamed from `\"Sex\"`) and sums the deaths for each gender, giving a comparison of the total number of deaths among males and females. This grouped analysis is useful for identifying patterns and making category-based comparisons in the data.\n"
   ]
  },
  {
   "cell_type": "code",
   "execution_count": 21,
   "metadata": {},
   "outputs": [
    {
     "name": "stdout",
     "output_type": "stream",
     "text": [
      "The total number of deaths every year:\n",
      " Year\n",
      "2007    53996.0\n",
      "2008    54138.0\n",
      "2009    52820.0\n",
      "2010    52505.0\n",
      "2011    52726.0\n",
      "2012    52420.0\n",
      "2013    53387.0\n",
      "2014    53006.0\n",
      "Name: Deaths, dtype: float64\n",
      "\n",
      " The total number of deaths of males and females are:\n",
      " Gender\n",
      "F    217071.0\n",
      "M    207927.0\n",
      "Name: Deaths, dtype: float64\n"
     ]
    }
   ],
   "source": [
    "#FIND THE TOTAL NUMBER OF DEATHS.................using \"groupby\" function\n",
    "#By year\n",
    "totalDeaths_year = df1.groupby(\"Year\")[\"Deaths\"].sum()\n",
    "print(\"The total number of deaths every year:\\n\", totalDeaths_year)\n",
    "\n",
    "#By Gender\n",
    "totalDeaths_gender = df1.groupby(\"Gender\")[\"Deaths\"].sum()\n",
    "print(\"\\n The total number of deaths of males and females are:\\n\", totalDeaths_gender)"
   ]
  },
  {
   "cell_type": "markdown",
   "metadata": {},
   "source": [
    "This code calculates and visualizes the total number of deaths by race/ethnicity using grouping and sorting techniques. First, it groups the DataFrame by the `\"Race Ethnicity\"` column and sums the values in the `\"Deaths\"` column for each group. The `.sort_values(ascending=False)` function then arranges the results in descending order, showing which ethnic groups had the highest to lowest number of deaths. Then, `totalDeaths_Race.plot.bar()` creates a bar chart to visually represent these totals, with a title `\"Total number of deaths by Ethnicity\"`. This visualization makes it easier to compare death counts across different racial and ethnic groups.\n"
   ]
  },
  {
   "cell_type": "code",
   "execution_count": 22,
   "metadata": {},
   "outputs": [
    {
     "name": "stdout",
     "output_type": "stream",
     "text": [
      "The total number of deaths by Ethnicity:\n",
      " Race Ethnicity\n",
      "White Non-Hispanic            206487.0\n",
      "Black Non-Hispanic            111116.0\n",
      "Hispanic                       74802.0\n",
      "Asian and Pacific Islander     26355.0\n",
      "Not Stated/Unknown              4099.0\n",
      "Other Race/ Ethnicity           2139.0\n",
      "Name: Deaths, dtype: float64\n"
     ]
    },
    {
     "data": {
      "text/plain": [
       "<Axes: title={'center': 'Total number of deaths by Ethnicity'}, xlabel='Race Ethnicity'>"
      ]
     },
     "execution_count": 22,
     "metadata": {},
     "output_type": "execute_result"
    },
    {
     "data": {
      "image/png": "[encoded data removed]",
      "text/plain": [
       "<Figure size 640x480 with 1 Axes>"
      ]
     },
     "metadata": {},
     "output_type": "display_data"
    }
   ],
   "source": [
    "#FIND THE TOTAL NUMBER OF DEATHS.................\n",
    "#By Race Ethnicity and sort the answers in descending order\n",
    "totalDeaths_Race = df1.groupby(\"Race Ethnicity\")[\"Deaths\"].sum().sort_values(ascending=False)\n",
    "print(\"The total number of deaths by Ethnicity:\\n\", totalDeaths_Race)\n",
    "\n",
    "# Make a bar diagram for the total deaths by Race\n",
    "totalDeaths_Race.plot.bar(title = \"Total number of deaths by Ethnicity\")"
   ]
  },
  {
   "cell_type": "markdown",
   "metadata": {},
   "source": [
    "This code calculates the total number of deaths for each **Leading Cause of Death**, identifies the **top 5 causes**, saves the results to a new CSV file, and visualizes them in a bar chart. It groups the dataset by `\"Leading Cause\"` and sums the deaths in each category. The `.sort_values(ascending=False).head()` part sorts these totals in descending order and selects the top 5 leading causes with the highest death counts. Then, `totalDeaths_LC.to_csv(\"Deaths_LC.csv\")` writes this summarized result to a new CSV file named **\"Deaths\\_LC.csv\"**. Finally, `totalDeaths_LC.plot.bar()` creates a bar chart that visually displays these top 5 causes of death, making it easier to interpret and compare their impact."
   ]
  },
  {
   "cell_type": "code",
   "execution_count": 23,
   "metadata": {},
   "outputs": [
    {
     "data": {
      "text/plain": [
       "<Axes: xlabel='Leading Cause'>"
      ]
     },
     "execution_count": 23,
     "metadata": {},
     "output_type": "execute_result"
    },
    {
     "data": {
      "image/png": "[encoded data removed]",
      "text/plain": [
       "<Figure size 640x480 with 1 Axes>"
      ]
     },
     "metadata": {},
     "output_type": "display_data"
    }
   ],
   "source": [
    "#FIND THE TOTAL NUMBER OF DEATHS.................\n",
    "# By Leading Cause of Death and write the answer in seperate file \"Death_LC.csv\". Find only top 5 causes\n",
    "\n",
    "totalDeaths_LC = df1.groupby(\"Leading Cause\")[\"Deaths\"].sum().sort_values(ascending=False).head()\n",
    "totalDeaths_LC.to_csv(\"Deaths_LC.csv\") # write the result in another file\n",
    "totalDeaths_LC.plot.bar()"
   ]
  },
  {
   "cell_type": "markdown",
   "metadata": {},
   "source": [
    "This code calculates the **number of deaths for each year, broken down by gender** using the `groupby()` function with multiple grouping columns. It groups the DataFrame first by `\"Year\"` and then by `\"Gender\"`, and for each combination, it sums the values in the `\"Deaths\"` column. This results in a multi-level index (also called a hierarchical index) where each row represents the total deaths for a specific gender in a specific year. The final output provides a detailed breakdown of how death counts vary by gender across different years, which is helpful for identifying trends or disparities over time.\n"
   ]
  },
  {
   "cell_type": "code",
   "execution_count": 24,
   "metadata": {},
   "outputs": [
    {
     "name": "stdout",
     "output_type": "stream",
     "text": [
      "Year  Gender\n",
      "2007  F         27749.0\n",
      "      M         26247.0\n",
      "2008  F         27816.0\n",
      "      M         26322.0\n",
      "2009  F         26941.0\n",
      "      M         25879.0\n",
      "2010  F         26675.0\n",
      "      M         25830.0\n",
      "2011  F         27075.0\n",
      "      M         25651.0\n",
      "2012  F         26766.0\n",
      "      M         25654.0\n",
      "2013  F         27133.0\n",
      "      M         26254.0\n",
      "2014  F         26916.0\n",
      "      M         26090.0\n",
      "Name: Deaths, dtype: float64\n"
     ]
    }
   ],
   "source": [
    "#Number of deaths every year by Gender.......\n",
    "total_lc_gender = df1.groupby([\"Year\",\"Gender\"])[\"Deaths\"].sum()\n",
    "\n",
    "print(total_lc_gender)"
   ]
  },
  {
   "cell_type": "markdown",
   "metadata": {},
   "source": [
    "This code groups the data by both `\"Year\"` and `\"Gender\"` and sums the `\"Deaths\"` for each combination. The `.unstack('Gender')` method pivots the `\"Gender\"` level of the grouped data into separate columns—typically one for `\"F\"` (Female) and one for `\"M\"` (Male)—creating a table where each row represents a year and each column shows the total deaths by gender. Then, `df2[['F','M']].plot(...)` generates a **stacked bar graph** using these gender-based totals, with bars stacked vertically to show each year's total deaths divided into male and female contributions. The `figsize=(12,6)` ensures the plot is wide and readable, and the title highlights the focus on gender distribution across years.\n"
   ]
  },
  {
   "cell_type": "code",
   "execution_count": 25,
   "metadata": {},
   "outputs": [
    {
     "data": {
      "text/plain": [
       "<Axes: title={'center': 'Gender Distribution in Deaths Each Year'}, xlabel='Year'>"
      ]
     },
     "execution_count": 25,
     "metadata": {},
     "output_type": "execute_result"
    },
    {
     "data": {
      "image/png": "[encoded data removed]",
      "text/plain": [
       "<Figure size 1200x600 with 1 Axes>"
      ]
     },
     "metadata": {},
     "output_type": "display_data"
    }
   ],
   "source": [
    "# Draw a stacked bar graph of each year showing Male/female proportion in total deaths\n",
    "df2 = df1.groupby(['Year', 'Gender'])['Deaths'].sum().unstack('Gender')\n",
    "df2[['F','M']].plot(kind='bar', stacked=True, title = \"Gender Distribution in Deaths Each Year\", figsize=(12,6))"
   ]
  },
  {
   "cell_type": "markdown",
   "metadata": {},
   "source": [
    "This code creates a **grouped bar chart** to visually compare male and female death counts for each year. Using the `df2` DataFrame (which contains total deaths grouped by `\"Year\"` and separated by `\"Gender\"`), the `.plot.bar()` function generates side-by-side bars for each year, with one bar for females and one for males. The `width=0.55` parameter controls the thickness of the bars, while `figsize=(12,5)` sets the overall size of the plot for better visibility. The bars are colored green and red to distinguish between genders. The `.legend(bbox_to_anchor=(1.2, 0.5))` command positions the legend outside the main plot area, making it clearer and less cluttered. This grouped bar chart makes it easy to compare gender-specific death counts across multiple years.\n"
   ]
  },
  {
   "cell_type": "code",
   "execution_count": 26,
   "metadata": {},
   "outputs": [
    {
     "data": {
      "text/plain": [
       "<matplotlib.legend.Legend at 0x1244d17d0>"
      ]
     },
     "execution_count": 26,
     "metadata": {},
     "output_type": "execute_result"
    },
    {
     "data": {
      "image/png": "[encoded data removed]",
      "text/plain": [
       "<Figure size 1200x500 with 1 Axes>"
      ]
     },
     "metadata": {},
     "output_type": "display_data"
    }
   ],
   "source": [
    "# Draw a GROUPED bar graph of each year showing the comparison of Male/female deaths each year\n",
    "# width = .55 ------  sets the width of the bars \n",
    "# legend = False ---  Turns the Legend off\n",
    "# figsize ----------  Sets size of plot in inches\n",
    "# legend(bbox_to_anchor = (....)) --------- sets the position of the legend\n",
    "df2.plot.bar(title = \"Comparison of Male/female deaths Each Year\", width=0.55, figsize=(12,5),color=[\"green\",\"red\"]).legend(bbox_to_anchor=(1.2, 0.5))\n"
   ]
  },
  {
   "cell_type": "markdown",
   "metadata": {},
   "source": [
    "This code removes all rows from the DataFrame `df1` that contain `NaN` (missing values) in **any** column using the `dropna()` method. After the rows are dropped, the length of the new DataFrame is printed to show how much data remains. Then, it calculates the total number of deaths from the cleaned dataset.\n",
    "\n",
    "However, dropping rows with **any missing values** can be a risky or inappropriate approach—especially for this dataset—because it might remove rows where only non-critical fields (like a category label or metadata) are missing, while still containing valid numeric death counts. This could lead to underreporting or misrepresentation of the actual data. In such cases, it's better to consider imputing missing values or selectively dropping only rows where essential data (like `\"Deaths\"`) is missing."
   ]
  },
  {
   "cell_type": "code",
   "execution_count": 27,
   "metadata": {},
   "outputs": [
    {
     "name": "stdout",
     "output_type": "stream",
     "text": [
      "The length of df1 after dropping all rows that have NaN in ANY column is: 708\n"
     ]
    },
    {
     "data": {
      "text/plain": [
       "np.float64(418760.0)"
      ]
     },
     "execution_count": 27,
     "metadata": {},
     "output_type": "execute_result"
    }
   ],
   "source": [
    "#dropping all rows with NaN in ANY column --- CAN BE A WRONG APPROACH FOR THIS DATASET\n",
    "df1 = df1.dropna()\n",
    "\n",
    "print(\"The length of df1 after dropping all rows that have NaN in ANY column is:\", len(df1))\n",
    "\n",
    "df1[\"Deaths\"].sum()"
   ]
  },
  {
   "cell_type": "markdown",
   "metadata": {},
   "source": [
    "This code filters the dataset to extract only the rows where the `\"Year\"` column has the value **2010**. The result is stored in a new DataFrame called `df1_2010`, which contains all data entries specifically from the year 2010. This subset can then be used for focused analysis, such as identifying leading causes of death or demographic patterns during that particular year."
   ]
  },
  {
   "cell_type": "code",
   "execution_count": 28,
   "metadata": {},
   "outputs": [],
   "source": [
    "#find the data related to 2010....\n",
    "df1_2010 = df1[df1.Year == 2010]"
   ]
  },
  {
   "cell_type": "markdown",
   "metadata": {},
   "source": [
    "## Acknowledgements\n",
    "\n",
    "The Python code used in this notebook was originally written by Vandana Srivastava, AI/Data Science Specialist, University Libraries, USC.\n",
    "\n",
    "Explanatory text, annotations, and additional instructional content were added by Meara Cox, USC 2026 Graduate."
   ]
  }
 ],
 "metadata": {
  "kernelspec": {
   "display_name": "Python 3",
   "language": "python",
   "name": "python3"
  },
  "language_info": {
   "codemirror_mode": {
    "name": "ipython",
    "version": 3
   },
   "file_extension": ".py",
   "mimetype": "text/x-python",
   "name": "python",
   "nbconvert_exporter": "python",
   "pygments_lexer": "ipython3",
   "version": "3.11.13"
  }
 },
 "nbformat": 4,
 "nbformat_minor": 4
}
