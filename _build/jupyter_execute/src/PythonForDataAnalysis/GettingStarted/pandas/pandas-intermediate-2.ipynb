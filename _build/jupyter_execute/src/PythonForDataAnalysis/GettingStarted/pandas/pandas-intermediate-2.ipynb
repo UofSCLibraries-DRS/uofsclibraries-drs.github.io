{
 "cells": [
  {
   "cell_type": "markdown",
   "id": "7d7200e9-79eb-4bbc-a603-d1ef1005ea7e",
   "metadata": {},
   "source": [
    "# Pandas Intermediate 2\n",
    "\n",
    "**Description:** This notebook describes how to:\n",
    "* Work with time series data in Pandas\n",
    "* Use `.plot()` to make different kinds of static charts\n",
    "\n",
    "**Use Case:** For Learners (Detailed explanation, not ideal for researchers)\n",
    "\n",
    "**Difficulty:** Intermediate\n",
    "\n",
    "**Knowledge Required:** \n",
    "* Python Basics ([Start Python Basics I](../basic/python-basics-1.ipynb))\n",
    "* Pandas Basics ([Start Pandas Basics I](./pandas-1.ipynb))\n",
    "\n",
    "**Knowledge Recommended:** \n",
    "* [Python Intermediate 2](../intermediate/python-intermediate-2.ipynb)\n",
    "* [Python Intermediate 4](../intermediate/python-intermediate-4.ipynb)\n",
    "\n",
    "**Completion Time:** 90 minutes\n",
    "\n",
    "**Data Format:** csv\n",
    "\n",
    "**Libraries Used:** Pandas\n",
    "\n",
    "**Research Pipeline:** None\n",
    "___"
   ]
  },
  {
   "cell_type": "code",
   "execution_count": 1,
   "id": "0e52dab5-a7b4-41a0-9c4a-a6631ee7674d",
   "metadata": {
    "tags": []
   },
   "outputs": [],
   "source": [
    "# import Pandas, `as pd` allows us to shorten typing pandas to pd\n",
    "import pandas as pd"
   ]
  },
  {
   "cell_type": "markdown",
   "id": "16120cd1-a0b0-4158-ade1-b5b88a07c31c",
   "metadata": {},
   "source": [
    "## Times series data\n",
    "\n",
    "Time-series data is everywhere. You see it used in public health record, weather records and many other places. Pandas library provides a comprehensive framework for working with times, dates, and time-series data.\n",
    "\n",
    "In real life, we often find datasets where dates and times are stored as strings. "
   ]
  },
  {
   "cell_type": "code",
   "execution_count": 2,
   "id": "d829022c-ba5e-4b87-86b6-b271c38e7738",
   "metadata": {
    "tags": []
   },
   "outputs": [
    {
     "name": "stdout",
     "output_type": "stream",
     "text": [
      "Sample file ready.\n"
     ]
    },
    {
     "data": {
      "text/html": [
       "<div>\n",
       "<style scoped>\n",
       "    .dataframe tbody tr th:only-of-type {\n",
       "        vertical-align: middle;\n",
       "    }\n",
       "\n",
       "    .dataframe tbody tr th {\n",
       "        vertical-align: top;\n",
       "    }\n",
       "\n",
       "    .dataframe thead th {\n",
       "        text-align: right;\n",
       "    }\n",
       "</style>\n",
       "<table border=\"1\" class=\"dataframe\">\n",
       "  <thead>\n",
       "    <tr style=\"text-align: right;\">\n",
       "      <th></th>\n",
       "      <th>Bank Name</th>\n",
       "      <th>City</th>\n",
       "      <th>State</th>\n",
       "      <th>Cert</th>\n",
       "      <th>Acquiring Institution</th>\n",
       "      <th>Closing Date</th>\n",
       "      <th>Fund</th>\n",
       "    </tr>\n",
       "  </thead>\n",
       "  <tbody>\n",
       "    <tr>\n",
       "      <th>0</th>\n",
       "      <td>First Republic Bank</td>\n",
       "      <td>San Francisco</td>\n",
       "      <td>CA</td>\n",
       "      <td>59017</td>\n",
       "      <td>JPMorgan Chase Bank, N.A.</td>\n",
       "      <td>1-May-23</td>\n",
       "      <td>10543</td>\n",
       "    </tr>\n",
       "    <tr>\n",
       "      <th>1</th>\n",
       "      <td>Signature Bank</td>\n",
       "      <td>New York</td>\n",
       "      <td>NY</td>\n",
       "      <td>57053</td>\n",
       "      <td>Flagstar Bank, N.A.</td>\n",
       "      <td>12-Mar-23</td>\n",
       "      <td>10540</td>\n",
       "    </tr>\n",
       "    <tr>\n",
       "      <th>2</th>\n",
       "      <td>Silicon Valley Bank</td>\n",
       "      <td>Santa Clara</td>\n",
       "      <td>CA</td>\n",
       "      <td>24735</td>\n",
       "      <td>First Citizens Bank &amp; Trust Company</td>\n",
       "      <td>10-Mar-23</td>\n",
       "      <td>10539</td>\n",
       "    </tr>\n",
       "    <tr>\n",
       "      <th>3</th>\n",
       "      <td>Almena State Bank</td>\n",
       "      <td>Almena</td>\n",
       "      <td>KS</td>\n",
       "      <td>15426</td>\n",
       "      <td>Equity Bank</td>\n",
       "      <td>23-Oct-20</td>\n",
       "      <td>10538</td>\n",
       "    </tr>\n",
       "    <tr>\n",
       "      <th>4</th>\n",
       "      <td>First City Bank of Florida</td>\n",
       "      <td>Fort Walton Beach</td>\n",
       "      <td>FL</td>\n",
       "      <td>16748</td>\n",
       "      <td>United Fidelity Bank, fsb</td>\n",
       "      <td>16-Oct-20</td>\n",
       "      <td>10537</td>\n",
       "    </tr>\n",
       "    <tr>\n",
       "      <th>...</th>\n",
       "      <td>...</td>\n",
       "      <td>...</td>\n",
       "      <td>...</td>\n",
       "      <td>...</td>\n",
       "      <td>...</td>\n",
       "      <td>...</td>\n",
       "      <td>...</td>\n",
       "    </tr>\n",
       "    <tr>\n",
       "      <th>561</th>\n",
       "      <td>Superior Bank, FSB</td>\n",
       "      <td>Hinsdale</td>\n",
       "      <td>IL</td>\n",
       "      <td>32646</td>\n",
       "      <td>Superior Federal, FSB</td>\n",
       "      <td>27-Jul-01</td>\n",
       "      <td>6004</td>\n",
       "    </tr>\n",
       "    <tr>\n",
       "      <th>562</th>\n",
       "      <td>Malta National Bank</td>\n",
       "      <td>Malta</td>\n",
       "      <td>OH</td>\n",
       "      <td>6629</td>\n",
       "      <td>North Valley Bank</td>\n",
       "      <td>3-May-01</td>\n",
       "      <td>4648</td>\n",
       "    </tr>\n",
       "    <tr>\n",
       "      <th>563</th>\n",
       "      <td>First Alliance Bank &amp; Trust Co.</td>\n",
       "      <td>Manchester</td>\n",
       "      <td>NH</td>\n",
       "      <td>34264</td>\n",
       "      <td>Southern New Hampshire Bank &amp; Trust</td>\n",
       "      <td>2-Feb-01</td>\n",
       "      <td>4647</td>\n",
       "    </tr>\n",
       "    <tr>\n",
       "      <th>564</th>\n",
       "      <td>National State Bank of Metropolis</td>\n",
       "      <td>Metropolis</td>\n",
       "      <td>IL</td>\n",
       "      <td>3815</td>\n",
       "      <td>Banterra Bank of Marion</td>\n",
       "      <td>14-Dec-00</td>\n",
       "      <td>4646</td>\n",
       "    </tr>\n",
       "    <tr>\n",
       "      <th>565</th>\n",
       "      <td>Bank of Honolulu</td>\n",
       "      <td>Honolulu</td>\n",
       "      <td>HI</td>\n",
       "      <td>21029</td>\n",
       "      <td>Bank of the Orient</td>\n",
       "      <td>13-Oct-00</td>\n",
       "      <td>4645</td>\n",
       "    </tr>\n",
       "  </tbody>\n",
       "</table>\n",
       "<p>566 rows × 7 columns</p>\n",
       "</div>"
      ],
      "text/plain": [
       "                             Bank Name               City State   Cert  \\\n",
       "0                  First Republic Bank      San Francisco    CA  59017   \n",
       "1                       Signature Bank           New York    NY  57053   \n",
       "2                  Silicon Valley Bank        Santa Clara    CA  24735   \n",
       "3                    Almena State Bank             Almena    KS  15426   \n",
       "4           First City Bank of Florida  Fort Walton Beach    FL  16748   \n",
       "..                                 ...                ...   ...    ...   \n",
       "561                 Superior Bank, FSB           Hinsdale    IL  32646   \n",
       "562                Malta National Bank              Malta    OH   6629   \n",
       "563    First Alliance Bank & Trust Co.         Manchester    NH  34264   \n",
       "564  National State Bank of Metropolis         Metropolis    IL   3815   \n",
       "565                   Bank of Honolulu           Honolulu    HI  21029   \n",
       "\n",
       "                   Acquiring Institution Closing Date   Fund  \n",
       "0              JPMorgan Chase Bank, N.A.     1-May-23  10543  \n",
       "1                    Flagstar Bank, N.A.    12-Mar-23  10540  \n",
       "2    First Citizens Bank & Trust Company    10-Mar-23  10539  \n",
       "3                            Equity Bank    23-Oct-20  10538  \n",
       "4              United Fidelity Bank, fsb    16-Oct-20  10537  \n",
       "..                                   ...          ...    ...  \n",
       "561                Superior Federal, FSB    27-Jul-01   6004  \n",
       "562                    North Valley Bank     3-May-01   4648  \n",
       "563  Southern New Hampshire Bank & Trust     2-Feb-01   4647  \n",
       "564              Banterra Bank of Marion    14-Dec-00   4646  \n",
       "565                   Bank of the Orient    13-Oct-00   4645  \n",
       "\n",
       "[566 rows x 7 columns]"
      ]
     },
     "execution_count": 2,
     "metadata": {},
     "output_type": "execute_result"
    }
   ],
   "source": [
    "import urllib\n",
    "from pathlib import Path\n",
    "\n",
    "# Check if a data folder exists. If not, create it.\n",
    "data_folder = Path('../data/')\n",
    "data_folder.mkdir(exist_ok=True)\n",
    "\n",
    "# Download the sample files\n",
    "url = 'https://ithaka-labs.s3.amazonaws.com/static-files/images/tdm/tdmdocs/Pandas1_failed_banks_since_2000.csv'\n",
    "file = '../data/failed_banks.csv'\n",
    "urllib.request.urlretrieve(url, file)\n",
    "print('Sample file ready.')\n",
    "\n",
    "# Read in the data\n",
    "banks_df = pd.read_csv(file)\n",
    "banks_df"
   ]
  },
  {
   "cell_type": "code",
   "execution_count": 3,
   "id": "f01a9f6e-62de-4651-84ad-4db0814c79f7",
   "metadata": {
    "tags": []
   },
   "outputs": [
    {
     "data": {
      "text/plain": [
       "0       1-May-23\n",
       "1      12-Mar-23\n",
       "2      10-Mar-23\n",
       "3      23-Oct-20\n",
       "4      16-Oct-20\n",
       "         ...    \n",
       "561    27-Jul-01\n",
       "562     3-May-01\n",
       "563     2-Feb-01\n",
       "564    14-Dec-00\n",
       "565    13-Oct-00\n",
       "Name: Closing Date, Length: 566, dtype: object"
      ]
     },
     "execution_count": 3,
     "metadata": {},
     "output_type": "execute_result"
    }
   ],
   "source": [
    "# check the data type of the Closing Date column\n",
    "banks_df['Closing Date']"
   ]
  },
  {
   "cell_type": "markdown",
   "id": "96fe668e-ec0c-4291-8243-77894f124c71",
   "metadata": {},
   "source": [
    "As you can see, the dates in the `Closing Date` column are strings. We can convert the data type to `datetime` using the `to_datetime()` function in Pandas. The strings in this column will be turned into `datetime` objects. "
   ]
  },
  {
   "cell_type": "markdown",
   "id": "887ed9c2-0893-4f1e-93c9-885d8d08ae60",
   "metadata": {},
   "source": [
    "## The datetime objects"
   ]
  },
  {
   "cell_type": "code",
   "execution_count": 4,
   "id": "03bf24e7-b9e8-4b01-80ce-8d05beb51765",
   "metadata": {
    "tags": []
   },
   "outputs": [],
   "source": [
    "# convert the strings to datetime\n",
    "banks_df['Closing Date'] = pd.to_datetime(banks_df['Closing Date'], format='%d-%b-%y')"
   ]
  },
  {
   "cell_type": "code",
   "execution_count": 5,
   "id": "09232601-c0ee-45f5-a1f3-a352ac5bb17d",
   "metadata": {
    "tags": []
   },
   "outputs": [
    {
     "data": {
      "text/plain": [
       "0     2023-05-01\n",
       "1     2023-03-12\n",
       "2     2023-03-10\n",
       "3     2020-10-23\n",
       "4     2020-10-16\n",
       "         ...    \n",
       "561   2001-07-27\n",
       "562   2001-05-03\n",
       "563   2001-02-02\n",
       "564   2000-12-14\n",
       "565   2000-10-13\n",
       "Name: Closing Date, Length: 566, dtype: datetime64[ns]"
      ]
     },
     "execution_count": 5,
     "metadata": {},
     "output_type": "execute_result"
    }
   ],
   "source": [
    "# check the data type of the Closing Date column\n",
    "banks_df['Closing Date']"
   ]
  },
  {
   "cell_type": "markdown",
   "id": "c9bc92d1-3aa5-457d-8776-46c59eb3138f",
   "metadata": {
    "execution": {
     "iopub.execute_input": "2023-07-25T02:46:51.141406Z",
     "iopub.status.busy": "2023-07-25T02:46:51.140719Z",
     "iopub.status.idle": "2023-07-25T02:46:51.163684Z",
     "shell.execute_reply": "2023-07-25T02:46:51.162983Z",
     "shell.execute_reply.started": "2023-07-25T02:46:51.141342Z"
    },
    "tags": []
   },
   "source": [
    "When we parse the strings in the `Closing Date` column into `datetime` objects, we specify a format to inform Pandas of how to do the parsing. For the cheatsheet of the format codes, you can check the documentation [here](https://docs.python.org/3/library/datetime.html#strftime-and-strptime-format-codes)."
   ]
  },
  {
   "cell_type": "markdown",
   "id": "49ace390-fed4-4936-86d4-930e352c1e89",
   "metadata": {},
   "source": [
    "One good thing about converting the dates and times into `datetime` objects is that we can then use them to index a dataframe. You will soon see that indexing using `datetime` objects is very flexible. "
   ]
  },
  {
   "cell_type": "code",
   "execution_count": 6,
   "id": "f1806acd-cb95-4480-9274-6ec81efc9449",
   "metadata": {
    "tags": []
   },
   "outputs": [],
   "source": [
    "# set the index to Closing Date\n",
    "banks_df = banks_df.set_index('Closing Date').sort_index()"
   ]
  },
  {
   "cell_type": "code",
   "execution_count": 7,
   "id": "cd43c7b0-2f22-4335-808b-b1410e688f32",
   "metadata": {
    "tags": []
   },
   "outputs": [
    {
     "data": {
      "text/html": [
       "<div>\n",
       "<style scoped>\n",
       "    .dataframe tbody tr th:only-of-type {\n",
       "        vertical-align: middle;\n",
       "    }\n",
       "\n",
       "    .dataframe tbody tr th {\n",
       "        vertical-align: top;\n",
       "    }\n",
       "\n",
       "    .dataframe thead th {\n",
       "        text-align: right;\n",
       "    }\n",
       "</style>\n",
       "<table border=\"1\" class=\"dataframe\">\n",
       "  <thead>\n",
       "    <tr style=\"text-align: right;\">\n",
       "      <th></th>\n",
       "      <th>Bank Name</th>\n",
       "      <th>City</th>\n",
       "      <th>State</th>\n",
       "      <th>Cert</th>\n",
       "      <th>Acquiring Institution</th>\n",
       "      <th>Fund</th>\n",
       "    </tr>\n",
       "    <tr>\n",
       "      <th>Closing Date</th>\n",
       "      <th></th>\n",
       "      <th></th>\n",
       "      <th></th>\n",
       "      <th></th>\n",
       "      <th></th>\n",
       "      <th></th>\n",
       "    </tr>\n",
       "  </thead>\n",
       "  <tbody>\n",
       "    <tr>\n",
       "      <th>2020-02-14</th>\n",
       "      <td>Ericson State Bank</td>\n",
       "      <td>Ericson</td>\n",
       "      <td>NE</td>\n",
       "      <td>18265</td>\n",
       "      <td>Farmers and Merchants Bank</td>\n",
       "      <td>10535</td>\n",
       "    </tr>\n",
       "    <tr>\n",
       "      <th>2020-04-03</th>\n",
       "      <td>The First State Bank</td>\n",
       "      <td>Barboursville</td>\n",
       "      <td>WV</td>\n",
       "      <td>14361</td>\n",
       "      <td>MVB Bank, Inc.</td>\n",
       "      <td>10536</td>\n",
       "    </tr>\n",
       "    <tr>\n",
       "      <th>2020-10-16</th>\n",
       "      <td>First City Bank of Florida</td>\n",
       "      <td>Fort Walton Beach</td>\n",
       "      <td>FL</td>\n",
       "      <td>16748</td>\n",
       "      <td>United Fidelity Bank, fsb</td>\n",
       "      <td>10537</td>\n",
       "    </tr>\n",
       "    <tr>\n",
       "      <th>2020-10-23</th>\n",
       "      <td>Almena State Bank</td>\n",
       "      <td>Almena</td>\n",
       "      <td>KS</td>\n",
       "      <td>15426</td>\n",
       "      <td>Equity Bank</td>\n",
       "      <td>10538</td>\n",
       "    </tr>\n",
       "    <tr>\n",
       "      <th>2023-03-10</th>\n",
       "      <td>Silicon Valley Bank</td>\n",
       "      <td>Santa Clara</td>\n",
       "      <td>CA</td>\n",
       "      <td>24735</td>\n",
       "      <td>First Citizens Bank &amp; Trust Company</td>\n",
       "      <td>10539</td>\n",
       "    </tr>\n",
       "    <tr>\n",
       "      <th>2023-03-12</th>\n",
       "      <td>Signature Bank</td>\n",
       "      <td>New York</td>\n",
       "      <td>NY</td>\n",
       "      <td>57053</td>\n",
       "      <td>Flagstar Bank, N.A.</td>\n",
       "      <td>10540</td>\n",
       "    </tr>\n",
       "    <tr>\n",
       "      <th>2023-05-01</th>\n",
       "      <td>First Republic Bank</td>\n",
       "      <td>San Francisco</td>\n",
       "      <td>CA</td>\n",
       "      <td>59017</td>\n",
       "      <td>JPMorgan Chase Bank, N.A.</td>\n",
       "      <td>10543</td>\n",
       "    </tr>\n",
       "  </tbody>\n",
       "</table>\n",
       "</div>"
      ],
      "text/plain": [
       "                               Bank Name               City State   Cert  \\\n",
       "Closing Date                                                               \n",
       "2020-02-14            Ericson State Bank            Ericson    NE  18265   \n",
       "2020-04-03          The First State Bank      Barboursville    WV  14361   \n",
       "2020-10-16    First City Bank of Florida  Fort Walton Beach    FL  16748   \n",
       "2020-10-23             Almena State Bank             Almena    KS  15426   \n",
       "2023-03-10           Silicon Valley Bank        Santa Clara    CA  24735   \n",
       "2023-03-12                Signature Bank           New York    NY  57053   \n",
       "2023-05-01           First Republic Bank      San Francisco    CA  59017   \n",
       "\n",
       "                            Acquiring Institution   Fund  \n",
       "Closing Date                                              \n",
       "2020-02-14             Farmers and Merchants Bank  10535  \n",
       "2020-04-03                         MVB Bank, Inc.  10536  \n",
       "2020-10-16              United Fidelity Bank, fsb  10537  \n",
       "2020-10-23                            Equity Bank  10538  \n",
       "2023-03-10    First Citizens Bank & Trust Company  10539  \n",
       "2023-03-12                    Flagstar Bank, N.A.  10540  \n",
       "2023-05-01              JPMorgan Chase Bank, N.A.  10543  "
      ]
     },
     "execution_count": 7,
     "metadata": {},
     "output_type": "execute_result"
    }
   ],
   "source": [
    "# select data between two dates\n",
    "banks_df.loc['2020-01-01':'2023-07-01']"
   ]
  },
  {
   "cell_type": "markdown",
   "id": "fcfcbf0d-f3ab-45d5-9643-e187b56ba0e7",
   "metadata": {},
   "source": [
    "Providing the full form YYYY-MM-DD when selecting data from the dataframe is expected, as our indexes are in the format of YYYY-MM-DD. However, what makes `datetime` indexes really convenient is that we can do partial indexing with them!  "
   ]
  },
  {
   "cell_type": "code",
   "execution_count": 8,
   "id": "6c731047-923d-4ef8-9521-5041d7edd84e",
   "metadata": {},
   "outputs": [
    {
     "data": {
      "text/html": [
       "<div>\n",
       "<style scoped>\n",
       "    .dataframe tbody tr th:only-of-type {\n",
       "        vertical-align: middle;\n",
       "    }\n",
       "\n",
       "    .dataframe tbody tr th {\n",
       "        vertical-align: top;\n",
       "    }\n",
       "\n",
       "    .dataframe thead th {\n",
       "        text-align: right;\n",
       "    }\n",
       "</style>\n",
       "<table border=\"1\" class=\"dataframe\">\n",
       "  <thead>\n",
       "    <tr style=\"text-align: right;\">\n",
       "      <th></th>\n",
       "      <th>Bank Name</th>\n",
       "      <th>City</th>\n",
       "      <th>State</th>\n",
       "      <th>Cert</th>\n",
       "      <th>Acquiring Institution</th>\n",
       "      <th>Fund</th>\n",
       "    </tr>\n",
       "    <tr>\n",
       "      <th>Closing Date</th>\n",
       "      <th></th>\n",
       "      <th></th>\n",
       "      <th></th>\n",
       "      <th></th>\n",
       "      <th></th>\n",
       "      <th></th>\n",
       "    </tr>\n",
       "  </thead>\n",
       "  <tbody>\n",
       "    <tr>\n",
       "      <th>2020-02-14</th>\n",
       "      <td>Ericson State Bank</td>\n",
       "      <td>Ericson</td>\n",
       "      <td>NE</td>\n",
       "      <td>18265</td>\n",
       "      <td>Farmers and Merchants Bank</td>\n",
       "      <td>10535</td>\n",
       "    </tr>\n",
       "    <tr>\n",
       "      <th>2020-04-03</th>\n",
       "      <td>The First State Bank</td>\n",
       "      <td>Barboursville</td>\n",
       "      <td>WV</td>\n",
       "      <td>14361</td>\n",
       "      <td>MVB Bank, Inc.</td>\n",
       "      <td>10536</td>\n",
       "    </tr>\n",
       "    <tr>\n",
       "      <th>2020-10-16</th>\n",
       "      <td>First City Bank of Florida</td>\n",
       "      <td>Fort Walton Beach</td>\n",
       "      <td>FL</td>\n",
       "      <td>16748</td>\n",
       "      <td>United Fidelity Bank, fsb</td>\n",
       "      <td>10537</td>\n",
       "    </tr>\n",
       "    <tr>\n",
       "      <th>2020-10-23</th>\n",
       "      <td>Almena State Bank</td>\n",
       "      <td>Almena</td>\n",
       "      <td>KS</td>\n",
       "      <td>15426</td>\n",
       "      <td>Equity Bank</td>\n",
       "      <td>10538</td>\n",
       "    </tr>\n",
       "    <tr>\n",
       "      <th>2023-03-10</th>\n",
       "      <td>Silicon Valley Bank</td>\n",
       "      <td>Santa Clara</td>\n",
       "      <td>CA</td>\n",
       "      <td>24735</td>\n",
       "      <td>First Citizens Bank &amp; Trust Company</td>\n",
       "      <td>10539</td>\n",
       "    </tr>\n",
       "    <tr>\n",
       "      <th>2023-03-12</th>\n",
       "      <td>Signature Bank</td>\n",
       "      <td>New York</td>\n",
       "      <td>NY</td>\n",
       "      <td>57053</td>\n",
       "      <td>Flagstar Bank, N.A.</td>\n",
       "      <td>10540</td>\n",
       "    </tr>\n",
       "    <tr>\n",
       "      <th>2023-05-01</th>\n",
       "      <td>First Republic Bank</td>\n",
       "      <td>San Francisco</td>\n",
       "      <td>CA</td>\n",
       "      <td>59017</td>\n",
       "      <td>JPMorgan Chase Bank, N.A.</td>\n",
       "      <td>10543</td>\n",
       "    </tr>\n",
       "  </tbody>\n",
       "</table>\n",
       "</div>"
      ],
      "text/plain": [
       "                               Bank Name               City State   Cert  \\\n",
       "Closing Date                                                               \n",
       "2020-02-14            Ericson State Bank            Ericson    NE  18265   \n",
       "2020-04-03          The First State Bank      Barboursville    WV  14361   \n",
       "2020-10-16    First City Bank of Florida  Fort Walton Beach    FL  16748   \n",
       "2020-10-23             Almena State Bank             Almena    KS  15426   \n",
       "2023-03-10           Silicon Valley Bank        Santa Clara    CA  24735   \n",
       "2023-03-12                Signature Bank           New York    NY  57053   \n",
       "2023-05-01           First Republic Bank      San Francisco    CA  59017   \n",
       "\n",
       "                            Acquiring Institution   Fund  \n",
       "Closing Date                                              \n",
       "2020-02-14             Farmers and Merchants Bank  10535  \n",
       "2020-04-03                         MVB Bank, Inc.  10536  \n",
       "2020-10-16              United Fidelity Bank, fsb  10537  \n",
       "2020-10-23                            Equity Bank  10538  \n",
       "2023-03-10    First Citizens Bank & Trust Company  10539  \n",
       "2023-03-12                    Flagstar Bank, N.A.  10540  \n",
       "2023-05-01              JPMorgan Chase Bank, N.A.  10543  "
      ]
     },
     "execution_count": 8,
     "metadata": {},
     "output_type": "execute_result"
    }
   ],
   "source": [
    "# select data between two months\n",
    "banks_df.loc['2020-01':'2023-07']"
   ]
  },
  {
   "cell_type": "markdown",
   "id": "0d56fc38-1421-4ece-9760-2cec53df7bc0",
   "metadata": {},
   "source": [
    "As you can see, even if we do not provide the full forms, we do not get an error.  "
   ]
  },
  {
   "cell_type": "code",
   "execution_count": 9,
   "id": "daa8aa80-98da-4a67-914c-c8f7ecb07fcc",
   "metadata": {
    "tags": []
   },
   "outputs": [
    {
     "data": {
      "text/html": [
       "<div>\n",
       "<style scoped>\n",
       "    .dataframe tbody tr th:only-of-type {\n",
       "        vertical-align: middle;\n",
       "    }\n",
       "\n",
       "    .dataframe tbody tr th {\n",
       "        vertical-align: top;\n",
       "    }\n",
       "\n",
       "    .dataframe thead th {\n",
       "        text-align: right;\n",
       "    }\n",
       "</style>\n",
       "<table border=\"1\" class=\"dataframe\">\n",
       "  <thead>\n",
       "    <tr style=\"text-align: right;\">\n",
       "      <th></th>\n",
       "      <th>Bank Name</th>\n",
       "      <th>City</th>\n",
       "      <th>State</th>\n",
       "      <th>Cert</th>\n",
       "      <th>Acquiring Institution</th>\n",
       "      <th>Fund</th>\n",
       "    </tr>\n",
       "    <tr>\n",
       "      <th>Closing Date</th>\n",
       "      <th></th>\n",
       "      <th></th>\n",
       "      <th></th>\n",
       "      <th></th>\n",
       "      <th></th>\n",
       "      <th></th>\n",
       "    </tr>\n",
       "  </thead>\n",
       "  <tbody>\n",
       "    <tr>\n",
       "      <th>2020-02-14</th>\n",
       "      <td>Ericson State Bank</td>\n",
       "      <td>Ericson</td>\n",
       "      <td>NE</td>\n",
       "      <td>18265</td>\n",
       "      <td>Farmers and Merchants Bank</td>\n",
       "      <td>10535</td>\n",
       "    </tr>\n",
       "    <tr>\n",
       "      <th>2020-04-03</th>\n",
       "      <td>The First State Bank</td>\n",
       "      <td>Barboursville</td>\n",
       "      <td>WV</td>\n",
       "      <td>14361</td>\n",
       "      <td>MVB Bank, Inc.</td>\n",
       "      <td>10536</td>\n",
       "    </tr>\n",
       "    <tr>\n",
       "      <th>2020-10-16</th>\n",
       "      <td>First City Bank of Florida</td>\n",
       "      <td>Fort Walton Beach</td>\n",
       "      <td>FL</td>\n",
       "      <td>16748</td>\n",
       "      <td>United Fidelity Bank, fsb</td>\n",
       "      <td>10537</td>\n",
       "    </tr>\n",
       "    <tr>\n",
       "      <th>2020-10-23</th>\n",
       "      <td>Almena State Bank</td>\n",
       "      <td>Almena</td>\n",
       "      <td>KS</td>\n",
       "      <td>15426</td>\n",
       "      <td>Equity Bank</td>\n",
       "      <td>10538</td>\n",
       "    </tr>\n",
       "    <tr>\n",
       "      <th>2023-03-10</th>\n",
       "      <td>Silicon Valley Bank</td>\n",
       "      <td>Santa Clara</td>\n",
       "      <td>CA</td>\n",
       "      <td>24735</td>\n",
       "      <td>First Citizens Bank &amp; Trust Company</td>\n",
       "      <td>10539</td>\n",
       "    </tr>\n",
       "    <tr>\n",
       "      <th>2023-03-12</th>\n",
       "      <td>Signature Bank</td>\n",
       "      <td>New York</td>\n",
       "      <td>NY</td>\n",
       "      <td>57053</td>\n",
       "      <td>Flagstar Bank, N.A.</td>\n",
       "      <td>10540</td>\n",
       "    </tr>\n",
       "    <tr>\n",
       "      <th>2023-05-01</th>\n",
       "      <td>First Republic Bank</td>\n",
       "      <td>San Francisco</td>\n",
       "      <td>CA</td>\n",
       "      <td>59017</td>\n",
       "      <td>JPMorgan Chase Bank, N.A.</td>\n",
       "      <td>10543</td>\n",
       "    </tr>\n",
       "  </tbody>\n",
       "</table>\n",
       "</div>"
      ],
      "text/plain": [
       "                               Bank Name               City State   Cert  \\\n",
       "Closing Date                                                               \n",
       "2020-02-14            Ericson State Bank            Ericson    NE  18265   \n",
       "2020-04-03          The First State Bank      Barboursville    WV  14361   \n",
       "2020-10-16    First City Bank of Florida  Fort Walton Beach    FL  16748   \n",
       "2020-10-23             Almena State Bank             Almena    KS  15426   \n",
       "2023-03-10           Silicon Valley Bank        Santa Clara    CA  24735   \n",
       "2023-03-12                Signature Bank           New York    NY  57053   \n",
       "2023-05-01           First Republic Bank      San Francisco    CA  59017   \n",
       "\n",
       "                            Acquiring Institution   Fund  \n",
       "Closing Date                                              \n",
       "2020-02-14             Farmers and Merchants Bank  10535  \n",
       "2020-04-03                         MVB Bank, Inc.  10536  \n",
       "2020-10-16              United Fidelity Bank, fsb  10537  \n",
       "2020-10-23                            Equity Bank  10538  \n",
       "2023-03-10    First Citizens Bank & Trust Company  10539  \n",
       "2023-03-12                    Flagstar Bank, N.A.  10540  \n",
       "2023-05-01              JPMorgan Chase Bank, N.A.  10543  "
      ]
     },
     "execution_count": 9,
     "metadata": {},
     "output_type": "execute_result"
    }
   ],
   "source": [
    "# select data between two years\n",
    "banks_df.loc['2020':'2023']"
   ]
  },
  {
   "cell_type": "code",
   "execution_count": 10,
   "id": "50b44f43-f3f4-4627-8168-2df3294f29c9",
   "metadata": {
    "tags": []
   },
   "outputs": [],
   "source": [
    "# reset the index for later use\n",
    "banks_df = banks_df.reset_index()"
   ]
  },
  {
   "cell_type": "markdown",
   "id": "888db0cc-1ee7-42ec-ace1-070b8fd5ea52",
   "metadata": {},
   "source": [
    "Note that this kind of partial indexing is impossible with other data types. Let's create a small dataframe to test what will happen if we use partial indexing with string dates.  "
   ]
  },
  {
   "cell_type": "code",
   "execution_count": 11,
   "id": "2d665de5-5a05-4407-a01c-a3349c68aa9f",
   "metadata": {
    "tags": []
   },
   "outputs": [
    {
     "ename": "KeyError",
     "evalue": "'2020'",
     "output_type": "error",
     "traceback": [
      "\u001b[31m---------------------------------------------------------------------------\u001b[39m",
      "\u001b[31mKeyError\u001b[39m                                  Traceback (most recent call last)",
      "\u001b[36mFile \u001b[39m\u001b[32m/opt/homebrew/lib/python3.11/site-packages/pandas/core/indexes/base.py:3812\u001b[39m, in \u001b[36mIndex.get_loc\u001b[39m\u001b[34m(self, key)\u001b[39m\n\u001b[32m   3811\u001b[39m \u001b[38;5;28;01mtry\u001b[39;00m:\n\u001b[32m-> \u001b[39m\u001b[32m3812\u001b[39m     \u001b[38;5;28;01mreturn\u001b[39;00m \u001b[38;5;28;43mself\u001b[39;49m\u001b[43m.\u001b[49m\u001b[43m_engine\u001b[49m\u001b[43m.\u001b[49m\u001b[43mget_loc\u001b[49m\u001b[43m(\u001b[49m\u001b[43mcasted_key\u001b[49m\u001b[43m)\u001b[49m\n\u001b[32m   3813\u001b[39m \u001b[38;5;28;01mexcept\u001b[39;00m \u001b[38;5;167;01mKeyError\u001b[39;00m \u001b[38;5;28;01mas\u001b[39;00m err:\n",
      "\u001b[36mFile \u001b[39m\u001b[32mpandas/_libs/index.pyx:167\u001b[39m, in \u001b[36mpandas._libs.index.IndexEngine.get_loc\u001b[39m\u001b[34m()\u001b[39m\n",
      "\u001b[36mFile \u001b[39m\u001b[32mpandas/_libs/index.pyx:196\u001b[39m, in \u001b[36mpandas._libs.index.IndexEngine.get_loc\u001b[39m\u001b[34m()\u001b[39m\n",
      "\u001b[36mFile \u001b[39m\u001b[32mpandas/_libs/hashtable_class_helper.pxi:7088\u001b[39m, in \u001b[36mpandas._libs.hashtable.PyObjectHashTable.get_item\u001b[39m\u001b[34m()\u001b[39m\n",
      "\u001b[36mFile \u001b[39m\u001b[32mpandas/_libs/hashtable_class_helper.pxi:7096\u001b[39m, in \u001b[36mpandas._libs.hashtable.PyObjectHashTable.get_item\u001b[39m\u001b[34m()\u001b[39m\n",
      "\u001b[31mKeyError\u001b[39m: '2020'",
      "\nThe above exception was the direct cause of the following exception:\n",
      "\u001b[31mKeyError\u001b[39m                                  Traceback (most recent call last)",
      "\u001b[36mCell\u001b[39m\u001b[36m \u001b[39m\u001b[32mIn[11]\u001b[39m\u001b[32m, line 9\u001b[39m\n\u001b[32m      6\u001b[39m date_str = date_str.set_index(\u001b[33m'\u001b[39m\u001b[33mDate\u001b[39m\u001b[33m'\u001b[39m)\n\u001b[32m      8\u001b[39m \u001b[38;5;66;03m# select data using partial indexing\u001b[39;00m\n\u001b[32m----> \u001b[39m\u001b[32m9\u001b[39m \u001b[43mdate_str\u001b[49m\u001b[43m.\u001b[49m\u001b[43mloc\u001b[49m\u001b[43m[\u001b[49m\u001b[33;43m'\u001b[39;49m\u001b[33;43m2020\u001b[39;49m\u001b[33;43m'\u001b[39;49m\u001b[43m]\u001b[49m\n",
      "\u001b[36mFile \u001b[39m\u001b[32m/opt/homebrew/lib/python3.11/site-packages/pandas/core/indexing.py:1191\u001b[39m, in \u001b[36m_LocationIndexer.__getitem__\u001b[39m\u001b[34m(self, key)\u001b[39m\n\u001b[32m   1189\u001b[39m maybe_callable = com.apply_if_callable(key, \u001b[38;5;28mself\u001b[39m.obj)\n\u001b[32m   1190\u001b[39m maybe_callable = \u001b[38;5;28mself\u001b[39m._check_deprecated_callable_usage(key, maybe_callable)\n\u001b[32m-> \u001b[39m\u001b[32m1191\u001b[39m \u001b[38;5;28;01mreturn\u001b[39;00m \u001b[38;5;28;43mself\u001b[39;49m\u001b[43m.\u001b[49m\u001b[43m_getitem_axis\u001b[49m\u001b[43m(\u001b[49m\u001b[43mmaybe_callable\u001b[49m\u001b[43m,\u001b[49m\u001b[43m \u001b[49m\u001b[43maxis\u001b[49m\u001b[43m=\u001b[49m\u001b[43maxis\u001b[49m\u001b[43m)\u001b[49m\n",
      "\u001b[36mFile \u001b[39m\u001b[32m/opt/homebrew/lib/python3.11/site-packages/pandas/core/indexing.py:1431\u001b[39m, in \u001b[36m_LocIndexer._getitem_axis\u001b[39m\u001b[34m(self, key, axis)\u001b[39m\n\u001b[32m   1429\u001b[39m \u001b[38;5;66;03m# fall thru to straight lookup\u001b[39;00m\n\u001b[32m   1430\u001b[39m \u001b[38;5;28mself\u001b[39m._validate_key(key, axis)\n\u001b[32m-> \u001b[39m\u001b[32m1431\u001b[39m \u001b[38;5;28;01mreturn\u001b[39;00m \u001b[38;5;28;43mself\u001b[39;49m\u001b[43m.\u001b[49m\u001b[43m_get_label\u001b[49m\u001b[43m(\u001b[49m\u001b[43mkey\u001b[49m\u001b[43m,\u001b[49m\u001b[43m \u001b[49m\u001b[43maxis\u001b[49m\u001b[43m=\u001b[49m\u001b[43maxis\u001b[49m\u001b[43m)\u001b[49m\n",
      "\u001b[36mFile \u001b[39m\u001b[32m/opt/homebrew/lib/python3.11/site-packages/pandas/core/indexing.py:1381\u001b[39m, in \u001b[36m_LocIndexer._get_label\u001b[39m\u001b[34m(self, label, axis)\u001b[39m\n\u001b[32m   1379\u001b[39m \u001b[38;5;28;01mdef\u001b[39;00m\u001b[38;5;250m \u001b[39m\u001b[34m_get_label\u001b[39m(\u001b[38;5;28mself\u001b[39m, label, axis: AxisInt):\n\u001b[32m   1380\u001b[39m     \u001b[38;5;66;03m# GH#5567 this will fail if the label is not present in the axis.\u001b[39;00m\n\u001b[32m-> \u001b[39m\u001b[32m1381\u001b[39m     \u001b[38;5;28;01mreturn\u001b[39;00m \u001b[38;5;28;43mself\u001b[39;49m\u001b[43m.\u001b[49m\u001b[43mobj\u001b[49m\u001b[43m.\u001b[49m\u001b[43mxs\u001b[49m\u001b[43m(\u001b[49m\u001b[43mlabel\u001b[49m\u001b[43m,\u001b[49m\u001b[43m \u001b[49m\u001b[43maxis\u001b[49m\u001b[43m=\u001b[49m\u001b[43maxis\u001b[49m\u001b[43m)\u001b[49m\n",
      "\u001b[36mFile \u001b[39m\u001b[32m/opt/homebrew/lib/python3.11/site-packages/pandas/core/generic.py:4320\u001b[39m, in \u001b[36mNDFrame.xs\u001b[39m\u001b[34m(self, key, axis, level, drop_level)\u001b[39m\n\u001b[32m   4318\u001b[39m             new_index = index[loc]\n\u001b[32m   4319\u001b[39m \u001b[38;5;28;01melse\u001b[39;00m:\n\u001b[32m-> \u001b[39m\u001b[32m4320\u001b[39m     loc = \u001b[43mindex\u001b[49m\u001b[43m.\u001b[49m\u001b[43mget_loc\u001b[49m\u001b[43m(\u001b[49m\u001b[43mkey\u001b[49m\u001b[43m)\u001b[49m\n\u001b[32m   4322\u001b[39m     \u001b[38;5;28;01mif\u001b[39;00m \u001b[38;5;28misinstance\u001b[39m(loc, np.ndarray):\n\u001b[32m   4323\u001b[39m         \u001b[38;5;28;01mif\u001b[39;00m loc.dtype == np.bool_:\n",
      "\u001b[36mFile \u001b[39m\u001b[32m/opt/homebrew/lib/python3.11/site-packages/pandas/core/indexes/base.py:3819\u001b[39m, in \u001b[36mIndex.get_loc\u001b[39m\u001b[34m(self, key)\u001b[39m\n\u001b[32m   3814\u001b[39m     \u001b[38;5;28;01mif\u001b[39;00m \u001b[38;5;28misinstance\u001b[39m(casted_key, \u001b[38;5;28mslice\u001b[39m) \u001b[38;5;129;01mor\u001b[39;00m (\n\u001b[32m   3815\u001b[39m         \u001b[38;5;28misinstance\u001b[39m(casted_key, abc.Iterable)\n\u001b[32m   3816\u001b[39m         \u001b[38;5;129;01mand\u001b[39;00m \u001b[38;5;28many\u001b[39m(\u001b[38;5;28misinstance\u001b[39m(x, \u001b[38;5;28mslice\u001b[39m) \u001b[38;5;28;01mfor\u001b[39;00m x \u001b[38;5;129;01min\u001b[39;00m casted_key)\n\u001b[32m   3817\u001b[39m     ):\n\u001b[32m   3818\u001b[39m         \u001b[38;5;28;01mraise\u001b[39;00m InvalidIndexError(key)\n\u001b[32m-> \u001b[39m\u001b[32m3819\u001b[39m     \u001b[38;5;28;01mraise\u001b[39;00m \u001b[38;5;167;01mKeyError\u001b[39;00m(key) \u001b[38;5;28;01mfrom\u001b[39;00m\u001b[38;5;250m \u001b[39m\u001b[34;01merr\u001b[39;00m\n\u001b[32m   3820\u001b[39m \u001b[38;5;28;01mexcept\u001b[39;00m \u001b[38;5;167;01mTypeError\u001b[39;00m:\n\u001b[32m   3821\u001b[39m     \u001b[38;5;66;03m# If we have a listlike key, _check_indexing_error will raise\u001b[39;00m\n\u001b[32m   3822\u001b[39m     \u001b[38;5;66;03m#  InvalidIndexError. Otherwise we fall through and re-raise\u001b[39;00m\n\u001b[32m   3823\u001b[39m     \u001b[38;5;66;03m#  the TypeError.\u001b[39;00m\n\u001b[32m   3824\u001b[39m     \u001b[38;5;28mself\u001b[39m._check_indexing_error(key)\n",
      "\u001b[31mKeyError\u001b[39m: '2020'"
     ]
    }
   ],
   "source": [
    "# create a df with a column of dates stored as strings\n",
    "date_str = pd.DataFrame({'Date':['2020-06-01', '2021-06-30'],\n",
    "                        'num_failed_banks':[1,2]})\n",
    "\n",
    "# set the index column to the Date column\n",
    "date_str = date_str.set_index('Date')\n",
    "\n",
    "# select data using partial indexing\n",
    "date_str.loc['2020']"
   ]
  },
  {
   "cell_type": "markdown",
   "id": "39e3dd14-99c4-411a-8cf5-f73ac4c31655",
   "metadata": {},
   "source": [
    "We got a key error! This is because '2020' is not one of the indexes and partial indexing with strings is impossible. If we supply '2020' as the index, Pandas will try to find the rows whose index is '2020', but there are no rows with this index in our small dataframe!"
   ]
  },
  {
   "cell_type": "markdown",
   "id": "ca911598-df5f-47f1-b9a6-2a664e479533",
   "metadata": {},
   "source": [
    "The `datetime` class has a variety of attributes that we can access. For example, we can access the 'year', 'month', and 'date' from the full form of a `datetime` object. "
   ]
  },
  {
   "cell_type": "code",
   "execution_count": 12,
   "id": "45106cfe-e541-49c7-9732-b60527fbd916",
   "metadata": {
    "tags": []
   },
   "outputs": [
    {
     "data": {
      "text/plain": [
       "0      2000\n",
       "1      2000\n",
       "2      2001\n",
       "3      2001\n",
       "4      2001\n",
       "       ... \n",
       "561    2020\n",
       "562    2020\n",
       "563    2023\n",
       "564    2023\n",
       "565    2023\n",
       "Name: Closing Date, Length: 566, dtype: int32"
      ]
     },
     "execution_count": 12,
     "metadata": {},
     "output_type": "execute_result"
    }
   ],
   "source": [
    "# access the 'year' from datetime objects\n",
    "banks_df['Closing Date'].dt.year"
   ]
  },
  {
   "cell_type": "markdown",
   "id": "7b86991a-32fb-4c59-ba04-55f30a1a3852",
   "metadata": {},
   "source": [
    "The `datetime` class also has a variety of methods that we can use. For example, if we would like to get the day of week for each date in the `Closing Date` column, we can use the `day_name()` method."
   ]
  },
  {
   "cell_type": "code",
   "execution_count": 13,
   "id": "382f800f-fe43-436a-bb37-6b551d991840",
   "metadata": {
    "tags": []
   },
   "outputs": [
    {
     "data": {
      "text/plain": [
       "0        Friday\n",
       "1      Thursday\n",
       "2        Friday\n",
       "3      Thursday\n",
       "4        Friday\n",
       "         ...   \n",
       "561      Friday\n",
       "562      Friday\n",
       "563      Friday\n",
       "564      Sunday\n",
       "565      Monday\n",
       "Name: Closing Date, Length: 566, dtype: object"
      ]
     },
     "execution_count": 13,
     "metadata": {},
     "output_type": "execute_result"
    }
   ],
   "source": [
    "# access the day of week from datetime objects\n",
    "banks_df['Closing Date'].dt.day_name()"
   ]
  },
  {
   "cell_type": "markdown",
   "id": "4644bd9c-4bca-4d4e-8549-4cfb077f3959",
   "metadata": {},
   "source": [
    "The attributes and methods available in the `datetime` class make it extremely easy to extract the 'year', 'month' and 'date' into different columns.\n",
    "\n",
    "In the following code cell, can you write some code to create a new column that contains the closing years of the banks? In [Pandas basics 2](./pandas-2.ipynb), we did it with string slicing, but this time let's try using the attributes of the `datetime` class to do it. "
   ]
  },
  {
   "cell_type": "code",
   "execution_count": 14,
   "id": "f2041fcd-bfcf-46ac-bde1-1fd7351c141a",
   "metadata": {
    "tags": []
   },
   "outputs": [],
   "source": [
    "# create a new column containing the closing years\n"
   ]
  },
  {
   "cell_type": "markdown",
   "id": "dbedd8f9-191f-422d-936b-8704e12ff317",
   "metadata": {},
   "source": [
    "Grouping data using the `datetime` objects is also quite convenient. We can use the `resample()` method to specify the granularity with which we would like to group the data. "
   ]
  },
  {
   "cell_type": "code",
   "execution_count": 15,
   "id": "4b8d4233-6b14-41c3-bd82-a2bcd9a80c66",
   "metadata": {
    "tags": []
   },
   "outputs": [
    {
     "name": "stderr",
     "output_type": "stream",
     "text": [
      "/var/folders/2h/84wxzls579b1yv00g4jj02fh0000gn/T/ipykernel_87857/312667976.py:2: FutureWarning: 'Y' is deprecated and will be removed in a future version, please use 'YE' instead.\n",
      "  banks_df.resample('Y', on='Closing Date').size()\n"
     ]
    },
    {
     "data": {
      "text/plain": [
       "Closing Date\n",
       "2000-12-31      2\n",
       "2001-12-31      4\n",
       "2002-12-31     11\n",
       "2003-12-31      3\n",
       "2004-12-31      4\n",
       "2005-12-31      0\n",
       "2006-12-31      0\n",
       "2007-12-31      3\n",
       "2008-12-31     25\n",
       "2009-12-31    140\n",
       "2010-12-31    157\n",
       "2011-12-31     92\n",
       "2012-12-31     51\n",
       "2013-12-31     24\n",
       "2014-12-31     18\n",
       "2015-12-31      8\n",
       "2016-12-31      5\n",
       "2017-12-31      8\n",
       "2018-12-31      0\n",
       "2019-12-31      4\n",
       "2020-12-31      4\n",
       "2021-12-31      0\n",
       "2022-12-31      0\n",
       "2023-12-31      3\n",
       "Freq: YE-DEC, dtype: int64"
      ]
     },
     "execution_count": 15,
     "metadata": {},
     "output_type": "execute_result"
    }
   ],
   "source": [
    "# group the data using resample()\n",
    "banks_df.resample('Y', on='Closing Date').size()"
   ]
  },
  {
   "cell_type": "markdown",
   "id": "f8d56b9e-5b05-450f-907f-a2b9c23d31a0",
   "metadata": {},
   "source": [
    "With `resample()`, we can choose to upsample or downsample. "
   ]
  },
  {
   "cell_type": "code",
   "execution_count": 16,
   "id": "51b69667-04ea-454c-a7cf-e61ecc554b6d",
   "metadata": {
    "tags": []
   },
   "outputs": [
    {
     "name": "stderr",
     "output_type": "stream",
     "text": [
      "/var/folders/2h/84wxzls579b1yv00g4jj02fh0000gn/T/ipykernel_87857/3076179390.py:2: FutureWarning: 'M' is deprecated and will be removed in a future version, please use 'ME' instead.\n",
      "  banks_df.resample('M', on='Closing Date').size()\n"
     ]
    },
    {
     "data": {
      "text/plain": [
       "Closing Date\n",
       "2000-10-31    1\n",
       "2000-11-30    0\n",
       "2000-12-31    1\n",
       "2001-01-31    0\n",
       "2001-02-28    1\n",
       "             ..\n",
       "2023-01-31    0\n",
       "2023-02-28    0\n",
       "2023-03-31    2\n",
       "2023-04-30    0\n",
       "2023-05-31    1\n",
       "Freq: ME, Length: 272, dtype: int64"
      ]
     },
     "execution_count": 16,
     "metadata": {},
     "output_type": "execute_result"
    }
   ],
   "source": [
    "# downsample to month with smaller granularity\n",
    "banks_df.resample('M', on='Closing Date').size()"
   ]
  },
  {
   "cell_type": "code",
   "execution_count": 17,
   "id": "1fe9c55c-7f17-4b0e-af52-f1f6d12bd8f9",
   "metadata": {
    "tags": []
   },
   "outputs": [
    {
     "name": "stderr",
     "output_type": "stream",
     "text": [
      "/var/folders/2h/84wxzls579b1yv00g4jj02fh0000gn/T/ipykernel_87857/2767640105.py:2: FutureWarning: 'H' is deprecated and will be removed in a future version, please use 'h' instead.\n",
      "  banks_df.resample('12H', on='Closing Date').size()\n"
     ]
    },
    {
     "data": {
      "text/plain": [
       "Closing Date\n",
       "2000-10-13 00:00:00    1\n",
       "2000-10-13 12:00:00    0\n",
       "2000-10-14 00:00:00    0\n",
       "2000-10-14 12:00:00    0\n",
       "2000-10-15 00:00:00    0\n",
       "                      ..\n",
       "2023-04-29 00:00:00    0\n",
       "2023-04-29 12:00:00    0\n",
       "2023-04-30 00:00:00    0\n",
       "2023-04-30 12:00:00    0\n",
       "2023-05-01 00:00:00    1\n",
       "Freq: 12h, Length: 16471, dtype: int64"
      ]
     },
     "execution_count": 17,
     "metadata": {},
     "output_type": "execute_result"
    }
   ],
   "source": [
    "# upsample to 12 hours with greater granularity\n",
    "banks_df.resample('12H', on='Closing Date').size()"
   ]
  },
  {
   "cell_type": "markdown",
   "id": "e4f662b9-cc7f-448f-849d-6654214e6e6a",
   "metadata": {},
   "source": [
    "In [Pandas intermediate 1](./pandas-intermediate-1.ipynb), you have learned how to group the data using `groupby()`. In the next code cell, can you use both `groupby()` and `resample()` to get how many banks were failed in each state by year?"
   ]
  },
  {
   "cell_type": "code",
   "execution_count": 18,
   "id": "f72bbfc9-ef5a-4db7-915d-4b6df6be50f0",
   "metadata": {
    "tags": []
   },
   "outputs": [],
   "source": [
    "# get how many banks were failed in each state by year\n"
   ]
  },
  {
   "cell_type": "markdown",
   "id": "c1c51458-c04d-4831-8c05-96f2491a2e39",
   "metadata": {
    "execution": {
     "iopub.execute_input": "2023-07-25T14:22:02.457473Z",
     "iopub.status.busy": "2023-07-25T14:22:02.456788Z",
     "iopub.status.idle": "2023-07-25T14:22:02.478595Z",
     "shell.execute_reply": "2023-07-25T14:22:02.478114Z",
     "shell.execute_reply.started": "2023-07-25T14:22:02.457403Z"
    }
   },
   "source": [
    "### The timedelta objects"
   ]
  },
  {
   "cell_type": "markdown",
   "id": "4ffb4b81-ca62-479f-aa06-a3327ddec1ae",
   "metadata": {},
   "source": [
    "In Pandas, the difference between two time points is a `timedelta` object. In other words, while `datetime` objects are used to represent instants of time, `timedelta` objects are used to represent durations of time. \n",
    "\n",
    "When you substract one `datetime` object from another, you'll get a `timedelta` object."
   ]
  },
  {
   "cell_type": "code",
   "execution_count": 19,
   "id": "f78423de-abde-4f60-9527-c6a73b2ad5df",
   "metadata": {
    "tags": []
   },
   "outputs": [
    {
     "data": {
      "text/plain": [
       "Timedelta('0 days 04:00:00')"
      ]
     },
     "execution_count": 19,
     "metadata": {},
     "output_type": "execute_result"
    }
   ],
   "source": [
    "# substract one time point from another \n",
    "pd.to_datetime('2020-06-01 12:00:00') - pd.to_datetime('2020-06-01 8:00:00')"
   ]
  },
  {
   "cell_type": "markdown",
   "id": "c8cd45c9-329b-4cd9-9f93-b83160833684",
   "metadata": {},
   "source": [
    "In the following, let's grab the 2022 Boston Marathon dataset and use the completion time of the runners as an example. "
   ]
  },
  {
   "cell_type": "code",
   "execution_count": 20,
   "id": "647fb5a2-c833-460c-b025-f98d0ee8e286",
   "metadata": {
    "tags": []
   },
   "outputs": [
    {
     "name": "stdout",
     "output_type": "stream",
     "text": [
      "Sample file ready.\n",
      "<class 'pandas.core.series.Series'>\n",
      "RangeIndex: 24834 entries, 0 to 24833\n",
      "Series name: OfficialTime\n",
      "Non-Null Count  Dtype \n",
      "--------------  ----- \n",
      "24834 non-null  object\n",
      "dtypes: object(1)\n",
      "memory usage: 194.1+ KB\n"
     ]
    }
   ],
   "source": [
    "# Get the urls to the files and download the files\n",
    "import urllib.request\n",
    "url = 'https://ithaka-labs.s3.amazonaws.com/static-files/images/tdm/tdmdocs/DataViz3_BostonMarathon2022.csv'\n",
    "urllib.request.urlretrieve(url, '../data/'+url.rsplit('/')[-1][9:])\n",
    "    \n",
    "# Success message\n",
    "print('Sample file ready.')\n",
    "\n",
    "# create a dataframe\n",
    "bm_22 = pd.read_csv('../data/BostonMarathon2022.csv')\n",
    "\n",
    "# get the data type of the OfficialTime column\n",
    "bm_22['OfficialTime'].info()"
   ]
  },
  {
   "cell_type": "code",
   "execution_count": 21,
   "id": "fd7aa2ca-c04e-4ccb-85ce-ccf49bba7d54",
   "metadata": {
    "tags": []
   },
   "outputs": [],
   "source": [
    "# turn the data type of the OfficialTime column to timedelta\n",
    "bm_22['OfficialTime'] = pd.to_timedelta(bm_22['OfficialTime'])"
   ]
  },
  {
   "cell_type": "code",
   "execution_count": 22,
   "id": "50fb6c94-d94d-4e9f-ad35-9005730b1ef3",
   "metadata": {
    "tags": []
   },
   "outputs": [
    {
     "data": {
      "text/plain": [
       "Timedelta('0 days 05:17:48')"
      ]
     },
     "execution_count": 22,
     "metadata": {},
     "output_type": "execute_result"
    }
   ],
   "source": [
    "# get the difference in completion time between the \n",
    "# fastest runner and the slowest runner\n",
    "bm_22['OfficialTime'].max() - bm_22['OfficialTime'].min()"
   ]
  },
  {
   "cell_type": "markdown",
   "id": "889ad811-59a0-43b7-baf7-de67df3c4383",
   "metadata": {},
   "source": [
    "Just like the `datetime` objects, the `timedelta` objects also have a variety of attributes and methods that we can make use of. "
   ]
  },
  {
   "cell_type": "code",
   "execution_count": 23,
   "id": "f3c52de3-667c-41e5-8a04-c49f7e45b4ee",
   "metadata": {
    "tags": []
   },
   "outputs": [
    {
     "data": {
      "text/html": [
       "<div>\n",
       "<style scoped>\n",
       "    .dataframe tbody tr th:only-of-type {\n",
       "        vertical-align: middle;\n",
       "    }\n",
       "\n",
       "    .dataframe tbody tr th {\n",
       "        vertical-align: top;\n",
       "    }\n",
       "\n",
       "    .dataframe thead th {\n",
       "        text-align: right;\n",
       "    }\n",
       "</style>\n",
       "<table border=\"1\" class=\"dataframe\">\n",
       "  <thead>\n",
       "    <tr style=\"text-align: right;\">\n",
       "      <th></th>\n",
       "      <th>days</th>\n",
       "      <th>hours</th>\n",
       "      <th>minutes</th>\n",
       "      <th>seconds</th>\n",
       "      <th>milliseconds</th>\n",
       "      <th>microseconds</th>\n",
       "      <th>nanoseconds</th>\n",
       "    </tr>\n",
       "  </thead>\n",
       "  <tbody>\n",
       "    <tr>\n",
       "      <th>0</th>\n",
       "      <td>0</td>\n",
       "      <td>2</td>\n",
       "      <td>6</td>\n",
       "      <td>51</td>\n",
       "      <td>0</td>\n",
       "      <td>0</td>\n",
       "      <td>0</td>\n",
       "    </tr>\n",
       "    <tr>\n",
       "      <th>1</th>\n",
       "      <td>0</td>\n",
       "      <td>2</td>\n",
       "      <td>7</td>\n",
       "      <td>21</td>\n",
       "      <td>0</td>\n",
       "      <td>0</td>\n",
       "      <td>0</td>\n",
       "    </tr>\n",
       "    <tr>\n",
       "      <th>2</th>\n",
       "      <td>0</td>\n",
       "      <td>2</td>\n",
       "      <td>7</td>\n",
       "      <td>27</td>\n",
       "      <td>0</td>\n",
       "      <td>0</td>\n",
       "      <td>0</td>\n",
       "    </tr>\n",
       "    <tr>\n",
       "      <th>3</th>\n",
       "      <td>0</td>\n",
       "      <td>2</td>\n",
       "      <td>7</td>\n",
       "      <td>53</td>\n",
       "      <td>0</td>\n",
       "      <td>0</td>\n",
       "      <td>0</td>\n",
       "    </tr>\n",
       "    <tr>\n",
       "      <th>4</th>\n",
       "      <td>0</td>\n",
       "      <td>2</td>\n",
       "      <td>8</td>\n",
       "      <td>47</td>\n",
       "      <td>0</td>\n",
       "      <td>0</td>\n",
       "      <td>0</td>\n",
       "    </tr>\n",
       "    <tr>\n",
       "      <th>...</th>\n",
       "      <td>...</td>\n",
       "      <td>...</td>\n",
       "      <td>...</td>\n",
       "      <td>...</td>\n",
       "      <td>...</td>\n",
       "      <td>...</td>\n",
       "      <td>...</td>\n",
       "    </tr>\n",
       "    <tr>\n",
       "      <th>24829</th>\n",
       "      <td>0</td>\n",
       "      <td>6</td>\n",
       "      <td>56</td>\n",
       "      <td>35</td>\n",
       "      <td>0</td>\n",
       "      <td>0</td>\n",
       "      <td>0</td>\n",
       "    </tr>\n",
       "    <tr>\n",
       "      <th>24830</th>\n",
       "      <td>0</td>\n",
       "      <td>6</td>\n",
       "      <td>58</td>\n",
       "      <td>12</td>\n",
       "      <td>0</td>\n",
       "      <td>0</td>\n",
       "      <td>0</td>\n",
       "    </tr>\n",
       "    <tr>\n",
       "      <th>24831</th>\n",
       "      <td>0</td>\n",
       "      <td>6</td>\n",
       "      <td>58</td>\n",
       "      <td>50</td>\n",
       "      <td>0</td>\n",
       "      <td>0</td>\n",
       "      <td>0</td>\n",
       "    </tr>\n",
       "    <tr>\n",
       "      <th>24832</th>\n",
       "      <td>0</td>\n",
       "      <td>7</td>\n",
       "      <td>1</td>\n",
       "      <td>32</td>\n",
       "      <td>0</td>\n",
       "      <td>0</td>\n",
       "      <td>0</td>\n",
       "    </tr>\n",
       "    <tr>\n",
       "      <th>24833</th>\n",
       "      <td>0</td>\n",
       "      <td>7</td>\n",
       "      <td>24</td>\n",
       "      <td>39</td>\n",
       "      <td>0</td>\n",
       "      <td>0</td>\n",
       "      <td>0</td>\n",
       "    </tr>\n",
       "  </tbody>\n",
       "</table>\n",
       "<p>24834 rows × 7 columns</p>\n",
       "</div>"
      ],
      "text/plain": [
       "       days  hours  minutes  seconds  milliseconds  microseconds  nanoseconds\n",
       "0         0      2        6       51             0             0            0\n",
       "1         0      2        7       21             0             0            0\n",
       "2         0      2        7       27             0             0            0\n",
       "3         0      2        7       53             0             0            0\n",
       "4         0      2        8       47             0             0            0\n",
       "...     ...    ...      ...      ...           ...           ...          ...\n",
       "24829     0      6       56       35             0             0            0\n",
       "24830     0      6       58       12             0             0            0\n",
       "24831     0      6       58       50             0             0            0\n",
       "24832     0      7        1       32             0             0            0\n",
       "24833     0      7       24       39             0             0            0\n",
       "\n",
       "[24834 rows x 7 columns]"
      ]
     },
     "execution_count": 23,
     "metadata": {},
     "output_type": "execute_result"
    }
   ],
   "source": [
    "# get the components of a timedelta object\n",
    "bm_22['OfficialTime'].dt.components"
   ]
  },
  {
   "cell_type": "code",
   "execution_count": 24,
   "id": "a5bd263a-8c7e-4fe2-a859-eb5071797e4f",
   "metadata": {
    "tags": []
   },
   "outputs": [
    {
     "data": {
      "text/plain": [
       "0         7611.0\n",
       "1         7641.0\n",
       "2         7647.0\n",
       "3         7673.0\n",
       "4         7727.0\n",
       "          ...   \n",
       "24829    24995.0\n",
       "24830    25092.0\n",
       "24831    25130.0\n",
       "24832    25292.0\n",
       "24833    26679.0\n",
       "Name: OfficialTime, Length: 24834, dtype: float64"
      ]
     },
     "execution_count": 24,
     "metadata": {},
     "output_type": "execute_result"
    }
   ],
   "source": [
    "# Get the completion time in seconds\n",
    "bm_22['OfficialTime'].dt.total_seconds()"
   ]
  },
  {
   "cell_type": "markdown",
   "id": "1069bc0f-f416-4e06-a9fa-98b62cf4983b",
   "metadata": {
    "execution": {
     "iopub.execute_input": "2023-07-25T15:12:28.382717Z",
     "iopub.status.busy": "2023-07-25T15:12:28.382034Z",
     "iopub.status.idle": "2023-07-25T15:12:28.404289Z",
     "shell.execute_reply": "2023-07-25T15:12:28.403667Z",
     "shell.execute_reply.started": "2023-07-25T15:12:28.382654Z"
    }
   },
   "source": [
    "Suppose you would like to get the average completion time of the runners in the United States. How do you do that? "
   ]
  },
  {
   "cell_type": "code",
   "execution_count": 25,
   "id": "9270a035-955f-48ce-8b24-7e78b3f2fc6e",
   "metadata": {
    "tags": []
   },
   "outputs": [],
   "source": [
    "# get the average completion time of the runners in the US\n"
   ]
  },
  {
   "cell_type": "markdown",
   "id": "3448028f-e0bb-4f9c-b42e-64699d0d93ce",
   "metadata": {},
   "source": [
    "## Plotting in Pandas\n",
    "\n",
    "Pandas uses the `.plot()` method to create charts and plots. In this section, we'll learn how to use the `.plot()` method to make different kinds of charts. "
   ]
  },
  {
   "cell_type": "markdown",
   "id": "3caf32a3-736e-44ba-9a21-7ae4215d4c62",
   "metadata": {},
   "source": [
    "### Scatterplot\n",
    "Scatter plots are usually used to show the relationship between different variables. Suppose we would like to see whether there is a relationship between the age of the runners and their completion time."
   ]
  },
  {
   "cell_type": "code",
   "execution_count": 26,
   "id": "1a6a5ad8-a69d-41c5-b405-4c653c9f4f68",
   "metadata": {
    "tags": []
   },
   "outputs": [
    {
     "data": {
      "text/plain": [
       "<Axes: xlabel='AgeOnRaceDay', ylabel='OfficialTime'>"
      ]
     },
     "execution_count": 26,
     "metadata": {},
     "output_type": "execute_result"
    },
    {
     "data": {
      "image/png": "[encoded data removed]",
      "text/plain": [
       "<Figure size 640x480 with 1 Axes>"
      ]
     },
     "metadata": {},
     "output_type": "display_data"
    }
   ],
   "source": [
    "# prepare the data\n",
    "bm_22_sc = bm_22[['AgeOnRaceDay', 'OfficialTime']].copy()\n",
    "\n",
    "# make a scatter plot\n",
    "bm_22_sc.plot(kind='scatter', x='AgeOnRaceDay', y='OfficialTime')"
   ]
  },
  {
   "cell_type": "markdown",
   "id": "09ebca28-cf30-4e3e-9516-f1656d34cd7e",
   "metadata": {},
   "source": [
    "If the data are categorically grouped, you can slice the data into smaller data series and color them differently.  \n",
    "\n",
    "For example, suppose we are interested in the relationship between the age and the completion time of the runners from France. "
   ]
  },
  {
   "cell_type": "code",
   "execution_count": 27,
   "id": "04d4e705-6e44-44cf-b3a2-69e4e82126a7",
   "metadata": {
    "tags": []
   },
   "outputs": [
    {
     "data": {
      "text/html": [
       "<div>\n",
       "<style scoped>\n",
       "    .dataframe tbody tr th:only-of-type {\n",
       "        vertical-align: middle;\n",
       "    }\n",
       "\n",
       "    .dataframe tbody tr th {\n",
       "        vertical-align: top;\n",
       "    }\n",
       "\n",
       "    .dataframe thead th {\n",
       "        text-align: right;\n",
       "    }\n",
       "</style>\n",
       "<table border=\"1\" class=\"dataframe\">\n",
       "  <thead>\n",
       "    <tr style=\"text-align: right;\">\n",
       "      <th></th>\n",
       "      <th>AgeOnRaceDay</th>\n",
       "      <th>OfficialTime</th>\n",
       "      <th>Gender</th>\n",
       "    </tr>\n",
       "  </thead>\n",
       "  <tbody>\n",
       "    <tr>\n",
       "      <th>42</th>\n",
       "      <td>58</td>\n",
       "      <td>0 days 04:23:33</td>\n",
       "      <td>F</td>\n",
       "    </tr>\n",
       "  </tbody>\n",
       "</table>\n",
       "</div>"
      ],
      "text/plain": [
       "    AgeOnRaceDay    OfficialTime Gender\n",
       "42            58 0 days 04:23:33      F"
      ]
     },
     "execution_count": 27,
     "metadata": {},
     "output_type": "execute_result"
    }
   ],
   "source": [
    "# prepare the data\n",
    "bm_22_sc_fm = bm_22.loc[bm_22['CountryOfResName']=='France'][['AgeOnRaceDay', 'OfficialTime', 'Gender']].copy()\n",
    "bm_22_sc_fm = bm_22_sc_fm.sort_values(by='Gender').reset_index(drop=True)\n",
    "\n",
    "# get the cutting point in the Gender column\n",
    "bm_22_sc_fm.loc[bm_22_sc_fm['Gender']=='F'].tail(1)"
   ]
  },
  {
   "cell_type": "code",
   "execution_count": 28,
   "id": "3d922267-5e1c-4a9a-8797-08ed4972b894",
   "metadata": {
    "tags": []
   },
   "outputs": [
    {
     "data": {
      "image/png": "[encoded data removed]",
      "text/plain": [
       "<Figure size 640x480 with 1 Axes>"
      ]
     },
     "metadata": {},
     "output_type": "display_data"
    }
   ],
   "source": [
    "# make a scatter plot\n",
    "ax1 = bm_22_sc_fm.loc[:42].plot(kind='scatter',\n",
    "                                   x='AgeOnRaceDay',\n",
    "                                   y='OfficialTime', \n",
    "                                   c='blue',label='F')\n",
    "\n",
    "ax2 = bm_22_sc_fm.loc[43:].plot(kind='scatter',\n",
    "                                   x='AgeOnRaceDay',\n",
    "                                   y='OfficialTime', \n",
    "                                   c='orange',label='M', ax=ax1)"
   ]
  },
  {
   "cell_type": "markdown",
   "id": "bb40d3b4-a979-4342-b171-5efff0e0b975",
   "metadata": {},
   "source": [
    "### Bar charts\n",
    "\n",
    "In [Pandas intermediate 1](./pandas-intermediate-1.ipynb), we have plotted a bar chart showing the number of failed banks by year in the failed banks dataset. In this section, let's plot more kinds of bar charts. Suppose we would like to get the top ten non-US countries with the most runners and plot the number of runners from them in a horizontal bar chart.   "
   ]
  },
  {
   "cell_type": "code",
   "execution_count": 29,
   "id": "ca6ed9a2-afbb-48d3-8a12-acd13a74d021",
   "metadata": {
    "tags": []
   },
   "outputs": [
    {
     "data": {
      "text/plain": [
       "CountryOfResName\n",
       "Ireland            172\n",
       "France             183\n",
       "Netherlands        185\n",
       "Italy              202\n",
       "Spain              258\n",
       "Germany            264\n",
       "Brazil             288\n",
       "Mexico             393\n",
       "United Kingdom    1002\n",
       "Canada            1478\n",
       "dtype: int64"
      ]
     },
     "execution_count": 29,
     "metadata": {},
     "output_type": "execute_result"
    }
   ],
   "source": [
    "# prepare the data\n",
    "bm_22_hbar = bm_22.groupby('CountryOfResName').size().sort_values().iloc[-11:-1]\n",
    "bm_22_hbar"
   ]
  },
  {
   "cell_type": "code",
   "execution_count": 30,
   "id": "b1f22b98-dca4-4eb5-81b5-3a54e1959dbe",
   "metadata": {
    "tags": []
   },
   "outputs": [
    {
     "data": {
      "text/plain": [
       "<Axes: ylabel='CountryOfResName'>"
      ]
     },
     "execution_count": 30,
     "metadata": {},
     "output_type": "execute_result"
    },
    {
     "data": {
      "image/png": "[encoded data removed]",
      "text/plain": [
       "<Figure size 640x480 with 1 Axes>"
      ]
     },
     "metadata": {},
     "output_type": "display_data"
    }
   ],
   "source": [
    "# make a horizontal bar chart\n",
    "bm_22_hbar.plot(kind='barh')"
   ]
  },
  {
   "cell_type": "markdown",
   "id": "84596f26-2e62-4134-b872-5cf3b7e4d0df",
   "metadata": {},
   "source": [
    "Now, suppose we would like to break the total number of runners in each country by gender and make a stacked bar chart instead."
   ]
  },
  {
   "cell_type": "code",
   "execution_count": 31,
   "id": "48ac4fb2-2d2a-419b-9b46-43bfdcca2bd6",
   "metadata": {
    "tags": []
   },
   "outputs": [],
   "source": [
    "# prepare the data\n",
    "bm_22_sthbar = bm_22[['CountryOfResName', 'Gender']].copy()\n",
    "\n",
    "# get the names of the top 10 non-US countries with the most runners \n",
    "ctry = bm_22_sthbar.groupby('CountryOfResName').size().sort_values().iloc[-11:-1].index\n",
    "\n",
    "# restructure the df for plotting\n",
    "bm_22_sthbar = bm_22_sthbar.loc[bm_22_sthbar['CountryOfResName'].isin(ctry)].copy()\n",
    "bm_22_sthbar = bm_22_sthbar.groupby(['CountryOfResName', 'Gender']).size().to_frame().unstack()\n",
    "bm_22_sthbar.columns = bm_22_sthbar.columns.droplevel(0)\n",
    "bm_22_sthbar['sum'] = bm_22_sthbar['F'] + bm_22_sthbar['M'] \n",
    "bm_22_sthbar = bm_22_sthbar.sort_values(by='sum').drop(columns='sum')"
   ]
  },
  {
   "cell_type": "code",
   "execution_count": 32,
   "id": "cb35ceb5-f7dc-4d14-b4b2-84fff8f4379b",
   "metadata": {
    "tags": []
   },
   "outputs": [
    {
     "data": {
      "text/plain": [
       "<Axes: ylabel='CountryOfResName'>"
      ]
     },
     "execution_count": 32,
     "metadata": {},
     "output_type": "execute_result"
    },
    {
     "data": {
      "image/png": "[encoded data removed]",
      "text/plain": [
       "<Figure size 640x480 with 1 Axes>"
      ]
     },
     "metadata": {},
     "output_type": "display_data"
    }
   ],
   "source": [
    "# make the stacked horizontal bar chart\n",
    "bm_22_sthbar.plot(kind='barh', stacked=True)"
   ]
  },
  {
   "cell_type": "markdown",
   "id": "f05195f4-75e9-4ea6-b432-3dcfa7273e1e",
   "metadata": {},
   "source": [
    "<h2 style=\"color:red; display:inline\">Coding Challenge! &lt; / &gt; </h2>\n",
    "\n",
    "Can you plot another bar chart showing the number of female and male runners from the same ten countries but this time with the two bars for each country standing next to each other?"
   ]
  },
  {
   "cell_type": "code",
   "execution_count": 33,
   "id": "e42e0a93-566c-4df7-81b8-e078e4da36f4",
   "metadata": {},
   "outputs": [],
   "source": [
    "# make a bar chart showing the number of female and male runners \n",
    "# of the top non-US countries with the most runners\n",
    "# with two bars for each country, one for female, one for male\n"
   ]
  },
  {
   "cell_type": "markdown",
   "id": "5e565ec4-9569-4cd1-8dc5-c29b4a610794",
   "metadata": {},
   "source": [
    "## Pie chart\n",
    "A pie chart is usually used to show how a total amount is divided between different levels of a categorical variable. In a pie chart, the levels of a categorical variable is represented by a slice of the pie.  \n",
    "\n",
    "Let's make a pie chart that shows how the total number of runners are divided between the completion time in hours. "
   ]
  },
  {
   "cell_type": "code",
   "execution_count": 34,
   "id": "c5be1802-e50f-43c1-9519-e94df505fcaa",
   "metadata": {
    "tags": []
   },
   "outputs": [
    {
     "data": {
      "text/plain": [
       "<Axes: >"
      ]
     },
     "execution_count": 34,
     "metadata": {},
     "output_type": "execute_result"
    },
    {
     "data": {
      "image/png": "[encoded data removed]",
      "text/plain": [
       "<Figure size 640x480 with 1 Axes>"
      ]
     },
     "metadata": {},
     "output_type": "display_data"
    }
   ],
   "source": [
    "### prepare the data\n",
    "\n",
    "# get the column(s) of interest\n",
    "bm_22_pie = bm_22[['OfficialTime']].copy()\n",
    "\n",
    "# create a new column containing the hours\n",
    "bm_22_pie['Hour'] = bm_22_pie['OfficialTime'].dt.components['hours']\n",
    "\n",
    "# group the data by Hour and get how many runners there are in each subgroup\n",
    "bm_22_pie = bm_22_pie.groupby('Hour').size()\n",
    "\n",
    "# make the pie chart\n",
    "bm_22_pie.plot(kind='pie', labels=None, legend=True)"
   ]
  },
  {
   "cell_type": "markdown",
   "id": "fed48aae-000e-4d56-81f0-b61dbd4d7a38",
   "metadata": {},
   "source": [
    "### Histogram\n",
    "\n",
    "A histogram is a bar chart which shows the frequency of observations. In a histogram, the x-axis is a continuous quantitative value. The height of each bar shows the frequency of a certain range of values. The biggest difference between a bar chart and a histogram is that a bar chart has categorical values on the x-axis but a histogram has continuous quantitative values on the x-axis. \n",
    "\n",
    "Suppose we are interested in the distribution of the age of the runners in ranges of 10. How many runners were of age 20 - 29 at the time of race? How many were of age 30 - 39? Moreover, we would like to make a histogram that shows the distribution of age. Before we do that, can you take a guess which age group has the most runners?"
   ]
  },
  {
   "cell_type": "code",
   "execution_count": 35,
   "id": "1cc15ca3-5644-44ad-8409-f13425c8fdbc",
   "metadata": {
    "tags": []
   },
   "outputs": [
    {
     "name": "stdout",
     "output_type": "stream",
     "text": [
      "81\n",
      "18\n"
     ]
    }
   ],
   "source": [
    "# get the youngest and oldest age\n",
    "print(bm_22['AgeOnRaceDay'].max())\n",
    "print(bm_22['AgeOnRaceDay'].min())"
   ]
  },
  {
   "cell_type": "code",
   "execution_count": 36,
   "id": "cf53f320-df78-45b7-965a-0bd5b6c1ee39",
   "metadata": {
    "tags": []
   },
   "outputs": [
    {
     "data": {
      "text/plain": [
       "<Axes: xlabel='Age', ylabel='Num_runners'>"
      ]
     },
     "execution_count": 36,
     "metadata": {},
     "output_type": "execute_result"
    },
    {
     "data": {
      "image/png": "[encoded data removed]",
      "text/plain": [
       "<Figure size 640x480 with 1 Axes>"
      ]
     },
     "metadata": {},
     "output_type": "display_data"
    }
   ],
   "source": [
    "# prepare the data for plotting\n",
    "bm_22_hist = bm_22['AgeOnRaceDay'].copy()\n",
    "\n",
    "# make a range of bins\n",
    "bins = range(10, 100, 10)\n",
    "\n",
    "bm_22_hist.plot(kind='hist', bins=bins, edgecolor='black', xlabel='Age',ylabel='Num_runners')"
   ]
  },
  {
   "cell_type": "markdown",
   "id": "b1a89b5d-a861-4b69-a273-7eebf1050a9a",
   "metadata": {},
   "source": [
    "In the next code cell, can you make a histogram that displays the distribution of the completion time of the runners in ranges of 1 hour? "
   ]
  },
  {
   "cell_type": "code",
   "execution_count": 37,
   "id": "1d224d5b-9323-41ce-803b-0cd0b68320df",
   "metadata": {},
   "outputs": [],
   "source": [
    "# make a histogram displaying the distribution of \n",
    "# the completion time of the runners in ranges of 1 hour\n"
   ]
  },
  {
   "cell_type": "markdown",
   "id": "8ed4cbcf-8805-4b53-81ad-b4f9e84b0c1b",
   "metadata": {},
   "source": [
    "### Line graph\n",
    "\n",
    "A line graph consists of points connected by line segments. It is commonly used to demonstrate changes in value. Oftentimes, the horizontal axis holds \"time\" and the vertical axis shows the change in a value of interest.\n",
    "\n",
    "In [Pandas intermediate 1](./pandas-intermediate-1.ipynb), we made a bar chart to display the number of failed banks by year. Let's make a line graph to show the change in the number over the years in that dataset. "
   ]
  },
  {
   "cell_type": "code",
   "execution_count": 38,
   "id": "24f64cf2-3d5f-4b0d-b830-c494305699ef",
   "metadata": {
    "tags": []
   },
   "outputs": [
    {
     "data": {
      "text/plain": [
       "<Axes: xlabel='Year'>"
      ]
     },
     "execution_count": 38,
     "metadata": {},
     "output_type": "execute_result"
    },
    {
     "data": {
      "image/png": "[encoded data removed]",
      "text/plain": [
       "<Figure size 640x480 with 1 Axes>"
      ]
     },
     "metadata": {},
     "output_type": "display_data"
    }
   ],
   "source": [
    "### prepare the data for plotting\n",
    "\n",
    "# get the column(s) of interest\n",
    "banks_line = banks_df[['Closing Date']].copy()\n",
    "\n",
    "# create a new column containing the years\n",
    "banks_line['Year'] = banks_line['Closing Date'].dt.year.astype(str)\n",
    "\n",
    "# group the data by year and get how many banks failed in each year\n",
    "banks_line = banks_line.groupby('Year').size()\n",
    "\n",
    "# plot the line graph\n",
    "banks_line.plot(xlabel='Year')"
   ]
  },
  {
   "cell_type": "markdown",
   "id": "fef7e90b-5465-4bcd-abed-3be2d92e2a15",
   "metadata": {},
   "source": [
    "___\n",
    "## Lesson Complete\n",
    "\n",
    "Congratulations! You have completed *Pandas Intermediate 2*.\n",
    "\n",
    "### Start Next Lesson: [Pandas intermediate 3 ->](./pandas-intermediate-3.ipynb)\n",
    "\n",
    "### Exercise Solutions\n",
    "Here are a few solutions for exercises in this lesson."
   ]
  },
  {
   "cell_type": "code",
   "execution_count": 39,
   "id": "714cdcba-7350-4d1f-af32-47a897721745",
   "metadata": {
    "tags": []
   },
   "outputs": [
    {
     "name": "stderr",
     "output_type": "stream",
     "text": [
      "/var/folders/2h/84wxzls579b1yv00g4jj02fh0000gn/T/ipykernel_87857/1017730424.py:2: FutureWarning: 'Y' is deprecated and will be removed in a future version, please use 'YE' instead.\n",
      "  banks_df.groupby('State').resample('Y', on='Closing Date').size()\n",
      "/var/folders/2h/84wxzls579b1yv00g4jj02fh0000gn/T/ipykernel_87857/1017730424.py:2: FutureWarning: DataFrameGroupBy.resample operated on the grouping columns. This behavior is deprecated, and in a future version of pandas the grouping columns will be excluded from the operation. Either pass `include_groups=False` to exclude the groupings or explicitly select the grouping columns after groupby to silence this warning.\n",
      "  banks_df.groupby('State').resample('Y', on='Closing Date').size()\n"
     ]
    },
    {
     "data": {
      "text/plain": [
       "State  Closing Date\n",
       "AL     2009-12-31      3\n",
       "       2010-12-31      1\n",
       "       2011-12-31      2\n",
       "       2012-12-31      1\n",
       "AR     2001-12-31      1\n",
       "                      ..\n",
       "WV     2017-12-31      0\n",
       "       2018-12-31      0\n",
       "       2019-12-31      0\n",
       "       2020-12-31      1\n",
       "WY     2009-12-31      1\n",
       "Length: 414, dtype: int64"
      ]
     },
     "execution_count": 39,
     "metadata": {},
     "output_type": "execute_result"
    }
   ],
   "source": [
    "# get how many banks were failed in each state by year\n",
    "banks_df.groupby('State').resample('Y', on='Closing Date').size()"
   ]
  },
  {
   "cell_type": "code",
   "execution_count": 40,
   "id": "8b7b2ca5-6c05-44c4-93ef-f2c58ee552ac",
   "metadata": {
    "tags": []
   },
   "outputs": [
    {
     "name": "stdout",
     "output_type": "stream",
     "text": [
      "Sample file ready.\n"
     ]
    },
    {
     "data": {
      "text/plain": [
       "Timedelta('0 days 03:46:59.303082375')"
      ]
     },
     "execution_count": 40,
     "metadata": {},
     "output_type": "execute_result"
    }
   ],
   "source": [
    "# get the average completion time of the runners from the US\n",
    "\n",
    "# Get the url to the file and download the file\n",
    "import urllib.request\n",
    "url = 'https://ithaka-labs.s3.amazonaws.com/static-files/images/tdm/tdmdocs/DataViz3_BostonMarathon2022.csv'\n",
    "urllib.request.urlretrieve(url, '../data/'+url.rsplit('/')[-1][9:])\n",
    "    \n",
    "# Success message\n",
    "print('Sample file ready.')\n",
    "\n",
    "# create a dataframe\n",
    "bm_22 = pd.read_csv('../data/BostonMarathon2022.csv')\n",
    "\n",
    "# turn the 'OfficialTime' column to type timedelta\n",
    "bm_22['OfficialTime'] = pd.to_timedelta(bm_22['OfficialTime'])\n",
    "\n",
    "# get the average completion time of the runners in the US\n",
    "bm_22.loc[bm_22['CountryOfResName']=='United States of America']['OfficialTime'].mean()"
   ]
  },
  {
   "cell_type": "code",
   "execution_count": 41,
   "id": "105daa4d-8fc1-4311-9daa-890503ffab59",
   "metadata": {
    "tags": []
   },
   "outputs": [
    {
     "data": {
      "text/plain": [
       "<Axes: xlabel='CountryOfResName'>"
      ]
     },
     "execution_count": 41,
     "metadata": {},
     "output_type": "execute_result"
    },
    {
     "data": {
      "image/png": "[encoded data removed]",
      "text/plain": [
       "<Figure size 640x480 with 1 Axes>"
      ]
     },
     "metadata": {},
     "output_type": "display_data"
    }
   ],
   "source": [
    "## create a bar chart with two bard next to each other for each country\n",
    "# prepare the data\n",
    "bm_22_bar_fm = bm_22[['CountryOfResName', 'Gender']].copy()\n",
    "\n",
    "# get the names of the top 10 non-US countries with the most runners \n",
    "ctry = bm_22_bar_fm.groupby('CountryOfResName').size().sort_values().iloc[-11:-1].index\n",
    "\n",
    "# restructure the df for plotting\n",
    "bm_22_bar_fm = bm_22_bar_fm.loc[bm_22_bar_fm['CountryOfResName'].isin(ctry)].copy()\n",
    "bm_22_bar_fm = bm_22_bar_fm.groupby(['CountryOfResName', 'Gender']).size().to_frame().unstack()\n",
    "bm_22_bar_fm.columns = bm_22_bar_fm.columns.droplevel(0)\n",
    "\n",
    "# plot the bar chart\n",
    "bm_22_bar_fm.plot(kind='bar')"
   ]
  },
  {
   "cell_type": "code",
   "execution_count": 42,
   "id": "883f946c-7e58-4f59-80ab-4f5109a9bf50",
   "metadata": {
    "tags": []
   },
   "outputs": [
    {
     "name": "stdout",
     "output_type": "stream",
     "text": [
      "Sample file ready.\n"
     ]
    },
    {
     "data": {
      "text/plain": [
       "<Axes: ylabel='Num_runners'>"
      ]
     },
     "execution_count": 42,
     "metadata": {},
     "output_type": "execute_result"
    },
    {
     "data": {
      "image/png": "[encoded data removed]",
      "text/plain": [
       "<Figure size 640x480 with 1 Axes>"
      ]
     },
     "metadata": {},
     "output_type": "display_data"
    }
   ],
   "source": [
    "### make a histogram showing the distribution of completion time \n",
    "### in ranges of 1 hour\n",
    "\n",
    "# Get the url to the file and download the file\n",
    "import urllib.request\n",
    "url = 'https://ithaka-labs.s3.amazonaws.com/static-files/images/tdm/tdmdocs/DataViz3_BostonMarathon2022.csv'\n",
    "urllib.request.urlretrieve(url, '../data/'+url.rsplit('/')[-1][9:])\n",
    "    \n",
    "# Success message\n",
    "print('Sample file ready.')\n",
    "\n",
    "# create a dataframe\n",
    "bm_22 = pd.read_csv('../data/BostonMarathon2022.csv')\n",
    "\n",
    "# get the column of interest\n",
    "bm_22_time = bm_22[['OfficialTime']].copy()\n",
    "\n",
    "# make a new column containing the hour only\n",
    "bm_22_time['Hour'] = bm_22_time['OfficialTime'].str[0].astype(int)\n",
    "\n",
    "# get the max and min value from OfficialTime\n",
    "min_h = bm_22_time['Hour'].min()\n",
    "max_h = bm_22_time['Hour'].max()\n",
    "\n",
    "# make the bins\n",
    "bins = range(min_h, max_h+2)\n",
    "\n",
    "# plot the histogram\n",
    "bm_22_time['Hour'].plot(kind='hist', logy=True, bins=bins, edgecolor='black', ylabel='Num_runners')"
   ]
  },
  {
   "cell_type": "code",
   "execution_count": null,
   "id": "add194c6-17ab-4bff-8a43-ca0608267b3c",
   "metadata": {},
   "outputs": [],
   "source": []
  }
 ],
 "metadata": {
  "kernelspec": {
   "display_name": "Python 3",
   "language": "python",
   "name": "python3"
  },
  "language_info": {
   "codemirror_mode": {
    "name": "ipython",
    "version": 3
   },
   "file_extension": ".py",
   "mimetype": "text/x-python",
   "name": "python",
   "nbconvert_exporter": "python",
   "pygments_lexer": "ipython3",
   "version": "3.11.13"
  }
 },
 "nbformat": 4,
 "nbformat_minor": 5
}