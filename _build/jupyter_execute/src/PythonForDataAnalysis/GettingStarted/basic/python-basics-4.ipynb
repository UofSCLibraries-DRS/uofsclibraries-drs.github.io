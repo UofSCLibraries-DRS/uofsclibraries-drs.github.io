{
 "cells": [
  {
   "cell_type": "markdown",
   "id": "3826bcf1",
   "metadata": {},
   "source": [
    "<img align=\"left\" src=\"https://ithaka-labs.s3.amazonaws.com/static-files/images/tdm/tdmdocs/CC_BY.png\"><br />\n",
    "\n",
    "Created by [Nathan Kelber](http://nkelber.com) for [JSTOR Labs](https://labs.jstor.org/) under [Creative Commons CC BY License](https://creativecommons.org/licenses/by/4.0/)<br />\n",
    "___"
   ]
  },
  {
   "cell_type": "markdown",
   "id": "71697c60",
   "metadata": {},
   "source": [
    "# Python Basics 4\n",
    "\n",
    "**Description:** \n",
    "This lesson describes the basics of writing your own functions including:\n",
    "\n",
    "* `def` statements\n",
    "* [Local scope](https://www.w3schools.com/python/gloss_python_local_scope.asp)\n",
    "* [Global scope](https://www.w3schools.com/python/gloss_python_global_scope.asp)\n",
    "\n",
    "This lesson concludes with a description of popular Python packages and directions for installing them in Constellate.\n",
    "\n",
    "This is part 4 of 5 in the series *Python Basics* that will prepare you to do text analysis using the [Python](https://www.w3schools.com/python/default.asp) programming language.\n",
    "\n",
    "**Knowledge Required:** \n",
    "* [Getting Started with Jupyter Notebooks](../../../getting-started-with-jupyter.ipynb)\n",
    "* [Python Basics 1](./python-basics-1.ipynb)\n",
    "* [Python Basics 2](./python-basics-2.ipynb)\n",
    "* [Python Basics 3](./python-basics-3.ipynb)\n",
    "\n",
    "___"
   ]
  },
  {
   "cell_type": "markdown",
   "id": "697fe708",
   "metadata": {},
   "source": [
    "## Functions\n",
    "\n",
    "We have used several [Python](https://www.w3schools.com/python/default.asp) [functions](https://www.w3schools.com/python/python_functions.asp) already, including `print()`, `input()`, and `range()`. You can identify a function by the fact that it ends with a set of parentheses `()` where [arguments](https://www.w3schools.com/python/gloss_python_function_arguments.asp) can be **passed** into the function. Depending on the [function](https://www.w3schools.com/python/python_functions.asp) (and your goals for using it), a [function](https://www.w3schools.com/python/python_functions.asp) may accept no [arguments](https://www.w3schools.com/python/gloss_python_function_arguments.asp), a single [argument](https://www.w3schools.com/python/gloss_python_function_arguments.asp), or many [arguments](https://www.w3schools.com/python/gloss_python_function_arguments.asp). For example, when we use the `print()` [function](https://www.w3schools.com/python/python_functions.asp), a [string](https://www.w3schools.com/python/python_strings.asp) (or a variable containing a [string](https://www.w3schools.com/python/python_strings.asp)) is passed as an [argument](https://www.w3schools.com/python/gloss_python_function_arguments.asp).\n",
    "\n",
    "[Functions](https://www.w3schools.com/python/python_functions.asp) are a convenient shorthand, like a mini-program, that makes our code more **modular**. We don't need to know all the details of how the `print()` [function](https://www.w3schools.com/python/python_functions.asp) works in order to use it. [Functions](https://www.w3schools.com/python/python_functions.asp) are sometimes called \"black boxes\", in that we can put an [argument](https://www.w3schools.com/python/gloss_python_function_arguments.asp) into the box and a **return value** comes out. We don't need to know the inner details of the \"black box\" to use it. (Of course, as you advance your programming skills, you may become curious about how certain [functions](https://www.w3schools.com/python/python_functions.asp) work. And if you work with sensitive data, you may *need* to peer in the black box to ensure the security and accuracy of the output.)\n",
    "\n",
    "### Libraries and Modules\n",
    "\n",
    "While [Python](https://www.w3schools.com/python/default.asp) comes with many [functions](https://www.w3schools.com/python/python_functions.asp), there are thousands more that others have written. Adding them all to [Python](https://www.w3schools.com/python/default.asp) would create mass confusion, since many people could use the same name for [functions](https://www.w3schools.com/python/python_functions.asp) that do different things. The solution then is that [functions](https://www.w3schools.com/python/python_functions.asp) are stored in [modules](https://www.w3schools.com/python/python_modules.asp) that can be **imported** for use. A [module](https://www.w3schools.com/python/python_modules.asp) is a [Python](https://www.w3schools.com/python/default.asp) file (extension \".py\") that contains the definitions for the [functions](https://www.w3schools.com/python/python_functions.asp) written in [Python](https://www.w3schools.com/python/default.asp). These [modules](https://www.w3schools.com/python/python_modules.asp) (individual [Python](https://www.w3schools.com/python/default.asp) files) can then be collected into even larger groups called [packages](https://docs.python.org/3/glossary.html#term-package) and [libraries](https://www.geeksforgeeks.org/python/libraries-in-python/). Depending on how many [functions](https://www.w3schools.com/python/python_functions.asp) you need for the program you are writing, you may import a single [module](https://www.w3schools.com/python/python_modules.asp), a [package](https://docs.python.org/3/glossary.html#term-package) of [modules](https://www.w3schools.com/python/python_modules.asp), or a whole [library](https://www.geeksforgeeks.org/python/libraries-in-python/).\n",
    "\n",
    "The general form of importing a [module](https://www.w3schools.com/python/python_modules.asp) is:\n",
    "`import module_name`\n",
    "\n",
    "You may recall from the \"Getting Started with Jupyter Notebooks\" lesson, we imported the `time` [module](https://www.w3schools.com/python/python_modules.asp) and used the `sleep()` [function](https://www.w3schools.com/python/python_functions.asp) to wait 5 seconds."
   ]
  },
  {
   "cell_type": "code",
   "execution_count": 1,
   "id": "00ad02a0",
   "metadata": {},
   "outputs": [
    {
     "name": "stdout",
     "output_type": "stream",
     "text": [
      "Waiting 5 seconds...\n",
      "Done\n"
     ]
    }
   ],
   "source": [
    "# A program that waits five seconds then prints \"Done\"\n",
    "\n",
    "import time # We import all the functions in the `time` module\n",
    "\n",
    "print('Waiting 5 seconds...')\n",
    "time.sleep(5) # We run the sleep() function from the time module using `time.sleep()`\n",
    "print('Done')"
   ]
  },
  {
   "cell_type": "markdown",
   "id": "c9d4846c",
   "metadata": {},
   "source": [
    "We can also just import the `sleep()` [function](https://www.w3schools.com/python/python_functions.asp) without importing the whole `time` [module](https://www.w3schools.com/python/python_modules.asp). The syntax is:\n",
    "\n",
    "`from module import function`"
   ]
  },
  {
   "cell_type": "code",
   "execution_count": 2,
   "id": "353cac6a",
   "metadata": {},
   "outputs": [
    {
     "name": "stdout",
     "output_type": "stream",
     "text": [
      "Waiting 5 seconds...\n",
      "Done\n"
     ]
    }
   ],
   "source": [
    "# A program that waits five seconds then prints \"Done\"\n",
    "\n",
    "from time import sleep # We import just the sleep() function from the time module\n",
    "\n",
    "\n",
    "print('Waiting 5 seconds...')\n",
    "\n",
    "sleep(5) # Notice that we just call the sleep() function, not time.sleep()\n",
    "print('Done')"
   ]
  },
  {
   "cell_type": "markdown",
   "id": "589a12a4",
   "metadata": {},
   "source": [
    "## Writing a Function\n",
    "\n",
    "In the above examples, we **called** a [function](https://www.w3schools.com/python/python_functions.asp) that was already written. However, we can also create our own functions!\n",
    "\n",
    "The first step is to define the function before we call it. We use a **function definition statement** followed by a function description and a [code block](https://docs.python.org/3/reference/executionmodel.html) containing the function's actions:\n",
    "\n",
    "```\n",
    "def my_function():\n",
    "    \"\"\"Description of what the functions does\"\"\"\n",
    "    python code to be executed\n",
    "```\n",
    "\n",
    "\n",
    "After the [function](https://www.w3schools.com/python/python_functions.asp) is defined, we can **call** on it to do us a favor whenever we need by simply executing the [function](https://www.w3schools.com/python/python_functions.asp) like so:\n",
    "\n",
    "`my_function()`\n",
    "\n",
    "After the function is defined, we can call it as many times as we want without having to rewrite its code. In the example below, we create a function called `complimenter_function` then call it twice."
   ]
  },
  {
   "cell_type": "code",
   "execution_count": 3,
   "id": "c659fdeb",
   "metadata": {},
   "outputs": [],
   "source": [
    "# Create a complimenter function\n",
    "def complimenter_function():\n",
    "    \"\"\"prints a compliment\"\"\" # Function definition statement\n",
    "    print('You are looking great today!')"
   ]
  },
  {
   "cell_type": "markdown",
   "id": "82b8e059",
   "metadata": {},
   "source": [
    "After you define a function, don't forget to call it to make it do the work!"
   ]
  },
  {
   "cell_type": "code",
   "execution_count": 4,
   "id": "f5853d2e",
   "metadata": {},
   "outputs": [
    {
     "name": "stdout",
     "output_type": "stream",
     "text": [
      "You are looking great today!\n"
     ]
    }
   ],
   "source": [
    "# Give a compliment by calling the function\n",
    "complimenter_function()"
   ]
  },
  {
   "cell_type": "markdown",
   "id": "ce038c1c",
   "metadata": {},
   "source": [
    "Ideally, a function definition statement should specify the data that the function takes and whether it returns any data. The triple quote notation can use single or double quotes, and it allows the string for the definition statement to expand over multiple lines in Python. If you would like to see a function's definition statement, you can use the `help()` function to check it out."
   ]
  },
  {
   "cell_type": "code",
   "execution_count": 5,
   "id": "6f62e946",
   "metadata": {},
   "outputs": [
    {
     "name": "stdout",
     "output_type": "stream",
     "text": [
      "Help on function complimenter_function in module __main__:\n",
      "\n",
      "complimenter_function()\n",
      "    prints a compliment\n",
      "\n"
     ]
    }
   ],
   "source": [
    "# Examining the function definition statement for our function\n",
    "# Note that the parentheses are not included with complimenter_function\n",
    "help(complimenter_function)"
   ]
  },
  {
   "cell_type": "code",
   "execution_count": 6,
   "id": "534c1286",
   "metadata": {},
   "outputs": [],
   "source": [
    "# Try using help() to read the definition for the sleep function\n"
   ]
  },
  {
   "cell_type": "markdown",
   "id": "a39772ed",
   "metadata": {},
   "source": [
    "### Parameters vs. Arguments\n",
    "\n",
    "When we write a [function](https://www.w3schools.com/python/python_functions.asp) definition, we can define a [parameter](https://www.geeksforgeeks.org/python/deep-dive-into-parameters-and-arguments-in-python/) to work with the [function](https://www.w3schools.com/python/python_functions.asp). We use the word [parameter](https://www.geeksforgeeks.org/python/deep-dive-into-parameters-and-arguments-in-python/) to describe the [variable](https://www.w3schools.com/python/python_variables.asp) in parentheses within a [function](https://www.w3schools.com/python/python_functions.asp) definition:\n",
    "\n",
    "```\n",
    "def my_function(input_variable):\n",
    "    \"\"\"Takes in X and returns Y\"\"\"\n",
    "    do this task\n",
    "```\n",
    "\n",
    "\n",
    "In the pseudo-code above, `input_variable` is a [parameter](https://www.geeksforgeeks.org/python/deep-dive-into-parameters-and-arguments-in-python/) because it is being used within the context of a [function](https://www.w3schools.com/python/python_functions.asp) *definition*. When we actually call and run our [function](https://www.w3schools.com/python/python_functions.asp), the actual [variable](https://www.w3schools.com/python/python_variables.asp) or value we pass to the [function](https://www.w3schools.com/python/python_functions.asp) is called an [argument](https://www.w3schools.com/python/gloss_python_function_arguments.asp)."
   ]
  },
  {
   "cell_type": "code",
   "execution_count": 7,
   "id": "94da95a0",
   "metadata": {
    "tags": []
   },
   "outputs": [],
   "source": [
    "# Change the complimenter function to give user-dependent compliment\n",
    "def complimenter_function(user_name):\n",
    "    \"\"\"Takes in a name string, prints a compliment with the name\"\"\"\n",
    "    print(f'You are looking great today, {user_name}!')"
   ]
  },
  {
   "cell_type": "code",
   "execution_count": 8,
   "id": "ed626493",
   "metadata": {
    "tags": []
   },
   "outputs": [
    {
     "name": "stdout",
     "output_type": "stream",
     "text": [
      "You are looking great today, Sam!\n"
     ]
    }
   ],
   "source": [
    "# Pass an argument to a function\n",
    "complimenter_function('Sam')"
   ]
  },
  {
   "cell_type": "markdown",
   "id": "fcbc25d2-2303-44db-bc60-8106117cf5b0",
   "metadata": {},
   "source": [
    "Arguments can be passed in based on parameter order (positional) or they can be explicitly passed using an `=`. (This could be useful if we wanted to pass an argument for the 10th parameter, but we did not want to pass arguments for the nine other parameters defined before it.)"
   ]
  },
  {
   "cell_type": "code",
   "execution_count": 9,
   "id": "b3390e31-f90b-42d0-a1b3-88585f9a4f23",
   "metadata": {
    "tags": []
   },
   "outputs": [
    {
     "name": "stdout",
     "output_type": "stream",
     "text": [
      "You are looking great today, Sam!\n"
     ]
    }
   ],
   "source": [
    "# Pass an argument with =\n",
    "# user_name is the parameter, 'Sam' is the argument\n",
    "complimenter_function(user_name='Sam')"
   ]
  },
  {
   "cell_type": "markdown",
   "id": "d58135fb",
   "metadata": {},
   "source": [
    "In the above example, we passed a [string](https://www.w3schools.com/python/python_strings.asp) into our [function](https://www.w3schools.com/python/python_functions.asp), but we could also pass a [variable](https://www.w3schools.com/python/python_variables.asp). Try this next. Since the `complimenter_function` has already been defined, you can call it in the next cell without defining it again."
   ]
  },
  {
   "cell_type": "code",
   "execution_count": 10,
   "id": "be8ef139",
   "metadata": {},
   "outputs": [],
   "source": [
    "# Ask the user for their name and store it in a variable called name\n",
    "# Then call the complimenter_function and pass in the name variable\n",
    "\n"
   ]
  },
  {
   "cell_type": "markdown",
   "id": "e0a51d7c",
   "metadata": {},
   "source": [
    "A variable passed into a function could contain a [list](https://www.w3schools.com/python/python_lists.asp) or [dictionary](https://www.w3schools.com/python/python_dictionaries.asp)."
   ]
  },
  {
   "cell_type": "code",
   "execution_count": 11,
   "id": "468bc093",
   "metadata": {},
   "outputs": [
    {
     "name": "stdout",
     "output_type": "stream",
     "text": [
      "Hi Jenny!\n",
      "Hi Pierre!\n",
      "Hi Hamed!\n"
     ]
    }
   ],
   "source": [
    "# A list of names\n",
    "list_of_names = ['Jenny', 'Pierre', 'Hamed']\n",
    "\n",
    "def greet_a_list(names):\n",
    "    \"\"\"takes a list of names and prints out a greeting for each name\"\"\"\n",
    "    for name in names:\n",
    "        print(f'Hi {name}!')\n",
    "\n",
    "greet_a_list(list_of_names)"
   ]
  },
  {
   "cell_type": "markdown",
   "id": "eb4f09f4",
   "metadata": {},
   "source": [
    "### The Importance of Avoiding Duplication\n",
    "\n",
    "Using [functions](https://www.w3schools.com/python/python_functions.asp) makes it easier for us to update our code. Let's say we wanted to change our compliment. We can simply change the [function](https://www.w3schools.com/python/python_functions.asp) definition one time to make the change everywhere. See if you can change the compliment given by our complimenter function."
   ]
  },
  {
   "cell_type": "code",
   "execution_count": 12,
   "id": "9649e738",
   "metadata": {},
   "outputs": [],
   "source": [
    "# Create a complimenter function that gives compliment\n",
    "def complimenter_function(user_name):\n",
    "    \"\"\"Takes in a name string, prints a compliment with the name\"\"\"\n",
    "    print(f'You are looking great today, {user_name}!')"
   ]
  },
  {
   "cell_type": "code",
   "execution_count": 13,
   "id": "78c9a90e",
   "metadata": {},
   "outputs": [
    {
     "name": "stdout",
     "output_type": "stream",
     "text": [
      "You are looking great today, John!\n",
      "You are looking great today, Jane!\n"
     ]
    }
   ],
   "source": [
    "# Give a new compliment by calling the function\n",
    "name = input('What is your name? ')\n",
    "complimenter_function(name)\n",
    "\n",
    "friend = input('Who is your friend? ')\n",
    "complimenter_function(friend)"
   ]
  },
  {
   "cell_type": "markdown",
   "id": "1d85c0b9",
   "metadata": {},
   "source": [
    "By changing our [function](https://www.w3schools.com/python/python_functions.asp) definition just one time, we were able to make our program behave differently every time it was called. If our program was large, it might call our custom function hundreds of times. If our code repeated like that, we would need to change it in every place!\n",
    "\n",
    "Generally, it is good practice to avoid duplicating program code to avoid having to change it in multiple places. When programmers edit their code, they may spend time **deduplicating** (getting rid of code that repeats). This makes the code easier to read and maintain."
   ]
  },
  {
   "cell_type": "markdown",
   "id": "26568407",
   "metadata": {},
   "source": [
    "___\n",
    "<h2 style=\"color:red; display:inline\">Coding Challenge! &lt; / &gt; </h2>\n",
    "\n",
    "**In the next cell, try writing a function that accepts a [dictionary](https://www.w3schools.com/python/python_dictionaries.asp) as an [argument](https://www.w3schools.com/python/gloss_python_function_arguments.asp). Use a flow control statement to print out all the names and occupations for the contacts.**\n",
    "___\n",
    "\n"
   ]
  },
  {
   "cell_type": "code",
   "execution_count": 14,
   "id": "a3d16303",
   "metadata": {},
   "outputs": [],
   "source": [
    "# A dictionary of names and occupations\n",
    "contacts = {\n",
    " 'Amanda Bennett': 'Engineer, electrical',\n",
    " 'Bryan Miller': 'Radiation protection practitioner',\n",
    " 'Chris Garrison': 'Planning and development surveyor',\n",
    " 'Debra Allen': 'Intelligence analyst'}\n",
    "\n",
    "# Define and then call your function here\n",
    "\n"
   ]
  },
  {
   "cell_type": "markdown",
   "id": "21b93edb",
   "metadata": {},
   "source": [
    "### Function Return Values\n",
    "\n",
    "Whether or not a [function](https://www.w3schools.com/python/python_functions.asp) takes an [argument](https://www.w3schools.com/python/gloss_python_function_arguments.asp), it will always return a value. If we do not specify that return value in our [function](https://www.w3schools.com/python/python_functions.asp) definition, it is automatically set to `None`, a special value like the Boolean `True` and `False` that simply means null or nothing. (`None` is not the same thing as, say, the integer `0`.) We can also specify return values for our [function](https://www.w3schools.com/python/python_functions.asp) using a [flow control statement](https://docs.python.org/3/tutorial/controlflow.html) followed by `return` in a [code block](https://docs.python.org/3/reference/executionmodel.html).\n",
    "\n",
    "If you don't write a `Return` statement in your function, a `None` value will be returned. If you don't write a `Return` statement in your function, a `None` value will be returned. "
   ]
  },
  {
   "cell_type": "code",
   "execution_count": 15,
   "id": "4ec37309",
   "metadata": {
    "tags": []
   },
   "outputs": [
    {
     "name": "stdout",
     "output_type": "stream",
     "text": [
      "You are looking great today, Sam!\n",
      "None\n"
     ]
    }
   ],
   "source": [
    "# Find out the returned value for the following function\n",
    "\n",
    "def complimenter_function(user_name):\n",
    "    \"\"\"Takes in a name string, prints a compliment with the name\"\"\"\n",
    "    print(f'You are looking great today, {user_name}!')\n",
    "\n",
    "print(complimenter_function('Sam'))"
   ]
  },
  {
   "cell_type": "markdown",
   "id": "f8e649ef-f83e-4137-ae32-58763f048a12",
   "metadata": {},
   "source": [
    "Instead of automatically printing inside the function, the better approach is to return a string value and let the user decide whether to print it or do something else with it. Ideally, our function definition statement should indicate what goes into the function and what is returned by the function."
   ]
  },
  {
   "cell_type": "code",
   "execution_count": 16,
   "id": "da623e0c-6af8-456b-9cfb-0864328fe7f0",
   "metadata": {
    "tags": []
   },
   "outputs": [
    {
     "name": "stdout",
     "output_type": "stream",
     "text": [
      "You are looking great today, Sam!\n"
     ]
    }
   ],
   "source": [
    "# Adding a return statement\n",
    "def complimenter_function(user_name):\n",
    "    \"\"\"Takes in a name string, returns a compliment with the name\"\"\" # We are returning now\n",
    "    return f'You are looking great today, {user_name}!'\n",
    "\n",
    "compliment = complimenter_function('Sam')\n",
    "print(compliment)"
   ]
  },
  {
   "cell_type": "markdown",
   "id": "197457c8-e161-447c-8601-6c9e52b77f54",
   "metadata": {},
   "source": [
    "Returning the string allows the programmer to use the output instead of just printing it automatically. This is usually the better practice. \n",
    "\n",
    "We can also offer multiple return statements with flow control. Let's write a function for telling fortunes. We can call it `fortune_picker` and it will accept a number (1-6) then return a string for the fortune."
   ]
  },
  {
   "cell_type": "code",
   "execution_count": 17,
   "id": "78d9baee",
   "metadata": {},
   "outputs": [
    {
     "name": "stdout",
     "output_type": "stream",
     "text": [
      "A new friend will help you find yourself.\n"
     ]
    }
   ],
   "source": [
    "# A fortune-teller program that contains a function `fortune_picker`\n",
    "# `fortune_picker` accepts an integer (1-6) and returns a fortune string\n",
    "\n",
    "def fortune_picker(fortune_number): # A function definition statement that has a parameter `fortune_number`\n",
    "    \"\"\"takes an integer (1-6) and returns a fortune string\"\"\"\n",
    "    if fortune_number == 1:\n",
    "        return 'You will have six children.'\n",
    "    elif fortune_number == 2:\n",
    "        return 'You will become very wise.'\n",
    "    elif  fortune_number == 3:\n",
    "        return 'A new friend will help you find yourself.'\n",
    "    elif fortune_number == 4:\n",
    "        return 'A great fortune is coming to you.'\n",
    "    elif fortune_number == 5:\n",
    "        return 'That promising venture... it is a trap.'\n",
    "    elif fortune_number == 6: \n",
    "        return 'Sort yourself out then find love.'\n",
    "\n",
    "fortune = fortune_picker(3) # return a fortune string and store it in fortune\n",
    "print(fortune)"
   ]
  },
  {
   "cell_type": "markdown",
   "id": "67870781",
   "metadata": {},
   "source": [
    "In our example, we passed the [argument](https://www.w3schools.com/python/gloss_python_function_arguments.asp) `3` that returned the [string](https://www.w3schools.com/python/python_strings.asp) `'A new friend will help you find yourself'`. To change the fortune, we would have to pass a different [integer](https://www.w3schools.com/python/python_numbers.asp) into the [function](https://www.w3schools.com/python/python_functions.asp). To make our fortune-teller random, we could import the [function](https://www.w3schools.com/python/python_functions.asp) `randint()` that chooses a random number between two [integers](https://www.w3schools.com/python/python_numbers.asp). We pass the two [integers](https://www.w3schools.com/python/python_numbers.asp) as [arguments](https://www.w3schools.com/python/gloss_python_function_arguments.asp) separated by a comma."
   ]
  },
  {
   "cell_type": "code",
   "execution_count": 18,
   "id": "eb7c1875",
   "metadata": {
    "scrolled": true
   },
   "outputs": [
    {
     "name": "stdout",
     "output_type": "stream",
     "text": [
      "Your fortune is: \n",
      "A great fortune is coming to you.\n",
      "Would you like another fortune?\n",
      "You will become very wise.\n",
      "Would you like another fortune?\n",
      "I have no more fortunes to share.\n"
     ]
    }
   ],
   "source": [
    "# A fortune-teller program that uses a random integer\n",
    "\n",
    "from random import randint # import the randint() function from the random module\n",
    "\n",
    "def fortune_picker(fortune_number): # A function definition statement that has a parameter `fortune_number`\n",
    "    if fortune_number == 1:\n",
    "        return 'You will have six children.'\n",
    "    elif fortune_number == 2:\n",
    "        return 'You will become very wise.'\n",
    "    elif  fortune_number == 3:\n",
    "        return 'A new friend will help you find yourself.'\n",
    "    elif fortune_number == 4:\n",
    "        return 'A great fortune is coming to you.'\n",
    "    elif fortune_number == 5:\n",
    "        return 'That promising venture... it is a trap.'\n",
    "    elif fortune_number == 6: \n",
    "        return 'Sort yourself out then find love.'\n",
    "\n",
    "random_number = randint(1, 6) # Choose a random number between 1 and 6 and assign it to a new variable `random_number`\n",
    "fortune = fortune_picker(random_number) # Return a fortune string\n",
    "\n",
    "print('Your fortune is: ')\n",
    "print(fortune)\n",
    "    \n",
    "while True:\n",
    "    print('Would you like another fortune?')\n",
    "    repeat_fortune = input()\n",
    "    if repeat_fortune == 'yes' or repeat_fortune == 'Yes':\n",
    "        random_number = randint(1, 6) \n",
    "        print(fortune_picker(random_number))\n",
    "        continue\n",
    "    else:\n",
    "        print('I have no more fortunes to share.')\n",
    "        break"
   ]
  },
  {
   "cell_type": "markdown",
   "id": "e3e7ccae",
   "metadata": {},
   "source": [
    "___\n",
    "<h2 style=\"color:red; display:inline\">Coding Challenge! &lt; / &gt; </h2>\n",
    "\n",
    "**Try writing a function that accepts user inputting a name and returns the person's occupation. You can use the `.get()` method to retrieve the relevant occupation, such as:**\n",
    "\n",
    "`contacts.get('Amanda', 'No contact with that name')`\n",
    "\n",
    "**Remember, the second string will be returned if the name 'Amanda' is not in our dictionary.**\n",
    "___"
   ]
  },
  {
   "cell_type": "code",
   "execution_count": 19,
   "id": "598ced7f",
   "metadata": {},
   "outputs": [],
   "source": [
    "# A program that returns the occupation when users supply a given name\n",
    "\n",
    "# A dictionary of names and occupations\n",
    "contacts = {\n",
    " 'Amanda': 'Engineer, electrical',\n",
    " 'Bryan': 'Radiation protection practitioner',\n",
    " 'Christopher': 'Planning and development surveyor',\n",
    " 'Debra': 'Intelligence analyst'}\n",
    "\n",
    "# The function definition and program\n"
   ]
  },
  {
   "cell_type": "markdown",
   "id": "09ceb9ce",
   "metadata": {},
   "source": [
    "### Local and Global Scope\n",
    "\n",
    "We have seen that [functions](https://www.w3schools.com/python/python_functions.asp) make maintaining code easier by avoiding duplication. One of the most dangerous areas for duplication is [variable](https://www.w3schools.com/python/python_variables.asp) names. As programming projects become larger, the possibility that a [variable](https://www.w3schools.com/python/python_variables.asp) will be re-used goes up. This can cause weird errors in our programs that are hard to track down. We can alleviate the problem of duplicate [variable](https://www.w3schools.com/python/python_variables.asp) names through the concepts of [local scope](https://www.w3schools.com/python/gloss_python_local_scope.asp) and [global scope](https://www.w3schools.com/python/gloss_python_global_scope.asp).\n",
    "\n",
    "We use the phrase [local scope](https://www.w3schools.com/python/gloss_python_local_scope.asp) to describe what happens within a [function](https://www.w3schools.com/python/python_functions.asp). The [local scope](https://www.w3schools.com/python/gloss_python_local_scope.asp) of a [function](https://www.w3schools.com/python/python_functions.asp) may contain a [local variables](https://www.w3schools.com/python/gloss_python_local_scope.asp), but once that [function](https://www.w3schools.com/python/python_functions.asp) has completed the [local variables](https://www.w3schools.com/python/gloss_python_local_scope.asp) and their contents are erased.\n",
    "\n",
    "On the other hand, we can also create [global variables](https://www.w3schools.com/python/gloss_python_global_scope.asp) that persist at the top-level of the program *and also* within the [local scope](https://www.w3schools.com/python/gloss_python_local_scope.asp) of a [function](https://www.w3schools.com/python/python_functions.asp).\n",
    "\n",
    "* In the [global scope](https://www.w3schools.com/python/gloss_python_global_scope.asp), [Python](https://www.w3schools.com/python/default.asp) does not recognize any [local variable](https://www.w3schools.com/python/gloss_python_local_scope.asp) from within the program's [functions](https://www.w3schools.com/python/python_functions.asp)\n",
    "* In the [local scope](https://www.w3schools.com/python/gloss_python_local_scope.asp) of a [function](https://www.w3schools.com/python/python_functions.asp), [Python](https://www.w3schools.com/python/default.asp) can recognize any [global variables](https://www.w3schools.com/python/gloss_python_global_scope.asp)\n",
    "* It is possible for there to be a [global variable](https://www.w3schools.com/python/gloss_python_global_scope.asp) and a [local variable](https://www.w3schools.com/python/gloss_python_local_scope.asp) with the same name\n",
    "\n",
    "Ideally, [Python](https://www.w3schools.com/python/default.asp) programs should limit the number of [global variables](https://www.w3schools.com/python/gloss_python_global_scope.asp) and create most [variables](https://www.w3schools.com/python/python_variables.asp) in a [local scope](https://www.w3schools.com/python/gloss_python_local_scope.asp). This keeps confounding variables localized in functions where they are used and then discarded."
   ]
  },
  {
   "cell_type": "code",
   "execution_count": 20,
   "id": "f355fd60",
   "metadata": {},
   "outputs": [
    {
     "name": "stdout",
     "output_type": "stream",
     "text": [
      "We are in the local context:\n",
      "global\n",
      "local\n"
     ]
    }
   ],
   "source": [
    "# Demonstration of global variable being used in a local scope\n",
    "# The program crashes when a local variable is used in a global scope\n",
    "global_string = 'global'\n",
    "\n",
    "def print_strings():\n",
    "    print('We are in the local context:')\n",
    "    local_string = 'local'\n",
    "    print(global_string)\n",
    "    print(local_string)\n",
    "    \n",
    "\n",
    "print_strings()"
   ]
  },
  {
   "cell_type": "markdown",
   "id": "9994b91f",
   "metadata": {},
   "source": [
    "The code above defines a [global variable](https://www.w3schools.com/python/gloss_python_global_scope.asp) `global_string` with the value of 'global'. A [function](https://www.w3schools.com/python/python_functions.asp), called `print_strings`, then defines a [local variable](https://www.w3schools.com/python/gloss_python_local_scope.asp) `local_string` with a value of 'local'. When we call the `print_strings()` [function](https://www.w3schools.com/python/python_functions.asp), it prints the [local variable](https://www.w3schools.com/python/gloss_python_local_scope.asp) and the [global variable](https://www.w3schools.com/python/gloss_python_global_scope.asp). "
   ]
  },
  {
   "cell_type": "code",
   "execution_count": 21,
   "id": "07150127",
   "metadata": {},
   "outputs": [
    {
     "name": "stdout",
     "output_type": "stream",
     "text": [
      "We are now in the global context: \n",
      "global\n"
     ]
    },
    {
     "ename": "NameError",
     "evalue": "name 'local_string' is not defined",
     "output_type": "error",
     "traceback": [
      "\u001b[31m---------------------------------------------------------------------------\u001b[39m",
      "\u001b[31mNameError\u001b[39m                                 Traceback (most recent call last)",
      "\u001b[36mCell\u001b[39m\u001b[36m \u001b[39m\u001b[32mIn[21]\u001b[39m\u001b[32m, line 4\u001b[39m\n\u001b[32m      2\u001b[39m \u001b[38;5;28mprint\u001b[39m(\u001b[33m'\u001b[39m\u001b[33mWe are now in the global context: \u001b[39m\u001b[33m'\u001b[39m)\n\u001b[32m      3\u001b[39m \u001b[38;5;28mprint\u001b[39m(global_string)\n\u001b[32m----> \u001b[39m\u001b[32m4\u001b[39m \u001b[38;5;28mprint\u001b[39m(\u001b[43mlocal_string\u001b[49m)\n",
      "\u001b[31mNameError\u001b[39m: name 'local_string' is not defined"
     ]
    }
   ],
   "source": [
    "# The function has closed, now the local string has been discarded\n",
    "print('We are now in the global context: ')\n",
    "print(global_string)\n",
    "print(local_string)"
   ]
  },
  {
   "cell_type": "markdown",
   "id": "6f37ff80",
   "metadata": {},
   "source": [
    "After the `print_strings()` [function](https://www.w3schools.com/python/python_functions.asp) completes, we try to print both variables in a [global scope](https://www.w3schools.com/python/gloss_python_global_scope.asp). The program prints `global_string` but crashes when trying to print `local_string` in a [global scope](https://www.w3schools.com/python/gloss_python_global_scope.asp).\n",
    "\n",
    "It's a good practice not to name a [local variable](https://www.w3schools.com/python/gloss_python_local_scope.asp) the same thing as a [global variable](https://www.w3schools.com/python/gloss_python_global_scope.asp). If we define a [variable](https://www.w3schools.com/python/python_variables.asp) with the same name in a [local scope](https://www.w3schools.com/python/gloss_python_local_scope.asp), it becomes a [local variable](https://www.w3schools.com/python/gloss_python_local_scope.asp) within that scope. Once the [function](https://www.w3schools.com/python/python_functions.asp) is closed, the [global variable](https://www.w3schools.com/python/gloss_python_global_scope.asp) retains its original value."
   ]
  },
  {
   "cell_type": "code",
   "execution_count": 22,
   "id": "e1ed2293",
   "metadata": {},
   "outputs": [
    {
     "name": "stdout",
     "output_type": "stream",
     "text": [
      "local\n"
     ]
    }
   ],
   "source": [
    "# A demonstration of global and local scope using the same variable name\n",
    "# print(string) returns two different results\n",
    "string = 'global'\n",
    "\n",
    "def share_strings():\n",
    "    string = 'local'\n",
    "    print(string)\n",
    "\n",
    "share_strings()"
   ]
  },
  {
   "cell_type": "code",
   "execution_count": 23,
   "id": "7dd7e713",
   "metadata": {},
   "outputs": [
    {
     "name": "stdout",
     "output_type": "stream",
     "text": [
      "global\n"
     ]
    }
   ],
   "source": [
    "# print the string variable in the global context\n",
    "print(string)"
   ]
  },
  {
   "cell_type": "markdown",
   "id": "f57ecf6e-8149-4639-bf2b-fed7d72b7efa",
   "metadata": {},
   "source": [
    "## Popular Python Packages\n",
    "\n",
    "[Modules](https://www.w3schools.com/python/python_modules.asp) containing functions for a similar type of task are often grouped together into a [package](https://docs.python.org/3/glossary.html#term-package). Here are some of the most popular packages used in Python:\n",
    "\n",
    "### Processing and cleaning data\n",
    "\n",
    "* [NumPy](https://numpy.org/) (num-pie)- Speeds up scientific analysis of very large amounts of data in arrays\n",
    "* [pandas](https://pandas.pydata.org/)- Completes data manipulation, particularly moving, cleaning, and improving data quality\n",
    "\n",
    "### Visualizing data\n",
    "* [matplotlib](https://matplotlib.org/)- Creates static, animated, and interactive visualizations. \n",
    "* [Seaborn](https://seaborn.pydata.org/)- An expansion of matplotlib that provides a \"high-level interface for drawing attractive and informative statistical graphics\n",
    "* [Plotly](https://plotly.com/)- Create graphs, analytics, and statistics visualizations\n",
    "* [Dash](https://plotly.com/dash/)- Create interactive web applications and dashboards\n",
    "\n",
    "### Text Analysis\n",
    "* [spaCy](https://spacy.io/)- Do text analysis on a large variety of languages\n",
    "* [gensim](https://radimrehurek.com/gensim/)- Do topic modeling\n",
    "* [NLTK](https://www.nltk.org/) (Natural Language Tool Kit)-  Access corpora and complete text analysis tasks like tokenization, stemming, tagging, parsing, and semantic reasoning\n",
    "\n",
    "### Artificial Intelligence and Machine Learning\n",
    "\n",
    "* [sci-kit-learn](https://scikit-learn.org/stable/)- Implement machine learning in areas such as classification, predictive analytics, regression, and clustering\n",
    "* [Keras](https://keras.io/)- Implement deep learning using neural networks\n",
    "* [TensorFlow](https://www.tensorflow.org/)- Implement machine learning with a particular focus on training and deep neural networks\n",
    "* [🤗 Transformers](https://huggingface.co/docs/transformers/index)- Easily work a variety of models based on Hugging Face 🤗\n",
    "\n",
    "### Data Gathering\n",
    "\n",
    "* [Requests](https://requests.readthedocs.io/en/latest/)- An HTTP client that helps connect to websites and download files\n",
    "* [urllib3](https://urllib3.readthedocs.io/en/stable/)- Another HTTP client that helps connect to websites and download files\n",
    "* [Beautiful Soup](https://www.crummy.com/software/BeautifulSoup/bs4/doc/)- Pull data out of HTML or XML files, helpful for scraping information from websites\n",
    "* [Scrapy](https://scrapy.org/)- Helps extract data from websites\n",
    "\n",
    "### Textual Digitization\n",
    "\n",
    "* [Tesseract](https://github.com/tesseract-ocr/tesseract)- Use optical character recognition to convert images into plaintext\n",
    "* [Pillow](https://pillow.readthedocs.io/en/stable/)- Read and manipulate images with Python\n",
    "\n",
    "Packages are generally installed by using [PyPI](https://pypi.org/), the official Python package index. As of April 2022, there are over 350,000 packages available."
   ]
  },
  {
   "cell_type": "markdown",
   "id": "fd3640ce",
   "metadata": {},
   "source": [
    "## Installing a Python Package in Constellate\n",
    "\n",
    "If you would like to install a package that is not in Constellate, we recommend using the pip installer with packages from the [Python Package Index](https://pypi.org/). In a code cell insert the following code:\n",
    "\n",
    "`!pip install package_name`\n",
    "\n",
    "for the relevant package you would like to install. The exclamation point indicates the line should be run as a terminal command. \n",
    "\n",
    "Refer to the package's documentation for guidance."
   ]
  },
  {
   "cell_type": "code",
   "execution_count": null,
   "id": "7d4872e9",
   "metadata": {
    "tags": []
   },
   "outputs": [],
   "source": [
    "# Install Scrapy\n",
    "!pip install scrapy"
   ]
  },
  {
   "cell_type": "markdown",
   "id": "d28f96a1",
   "metadata": {},
   "source": [
    "___\n",
    "## Lesson Complete\n",
    "\n",
    "Congratulations! You have completed *Python Basics 4*. There is one more lesson in *Python Basics*:\n",
    "\n",
    "* *Python Basics 5*\n",
    "\n",
    "### Start Next Lesson: [Python Basics 5](./python-basics-5.ipynb)\n",
    "\n",
    "### Exercise Solutions\n",
    "Here are a few solutions for exercises in this lesson.\n"
   ]
  },
  {
   "cell_type": "code",
   "execution_count": 25,
   "id": "bb187c3e",
   "metadata": {},
   "outputs": [
    {
     "name": "stdout",
     "output_type": "stream",
     "text": [
      "Amanda Bennett  | Engineer, electrical\n",
      "Bryan Miller    | Radiation protection practitioner\n",
      "Chris Garrison  | Planning and development surveyor\n",
      "Debra Allen     | Intelligence analyst\n"
     ]
    }
   ],
   "source": [
    "# A dictionary of names and occupations\n",
    "contacts = {\n",
    " 'Amanda Bennett': 'Engineer, electrical',\n",
    " 'Bryan Miller': 'Radiation protection practitioner',\n",
    " 'Chris Garrison': 'Planning and development surveyor',\n",
    " 'Debra Allen': 'Intelligence analyst'}\n",
    "\n",
    "# Define and then call your function here\n",
    "\n",
    "def print_contacts(contacts_names):\n",
    "    \"\"\"Prints out all the contacts in a contacts dictionary\"\"\"\n",
    "    for name, occupation in contacts.items():\n",
    "        print(name.ljust(15), '|', occupation)\n",
    "\n",
    "print_contacts(contacts)"
   ]
  },
  {
   "cell_type": "code",
   "execution_count": 2,
   "id": "5a38505e",
   "metadata": {},
   "outputs": [
    {
     "name": "stdout",
     "output_type": "stream",
     "text": [
      "Enter a name to look up an occupation (or enter quit):\n",
      "Engineer, electrical\n",
      "Enter a name to look up an occupation (or enter quit):\n",
      "Shutting down..\n"
     ]
    }
   ],
   "source": [
    "# A dictionary of names and occupations\n",
    "contacts = {\n",
    " 'Amanda': 'Engineer, electrical',\n",
    " 'Bryan': 'Radiation protection practitioner',\n",
    " 'Christopher': 'Planning and development surveyor',\n",
    " 'Debra': 'Intelligence analyst'}\n",
    "\n",
    "\n",
    "def occupation_finder(name):\n",
    "    \"\"\"Allows a user to find the occupation of a particular contact\"\"\"\n",
    "    return contacts.get(name, 'No contact with that name')\n",
    "    \n",
    "while True:\n",
    "    print('Enter a name to look up an occupation (or enter quit):')\n",
    "    name = input()\n",
    "    if name == 'quit':\n",
    "        print('Shutting down..')\n",
    "        break\n",
    "    else:\n",
    "        print(occupation_finder(name))\n",
    "        continue"
   ]
  },
  {
   "cell_type": "code",
   "execution_count": null,
   "id": "3f49e6a1",
   "metadata": {},
   "outputs": [],
   "source": []
  }
 ],
 "metadata": {
  "kernelspec": {
   "display_name": "Python 3",
   "language": "python",
   "name": "python3"
  },
  "language_info": {
   "codemirror_mode": {
    "name": "ipython",
    "version": 3
   },
   "file_extension": ".py",
   "mimetype": "text/x-python",
   "name": "python",
   "nbconvert_exporter": "python",
   "pygments_lexer": "ipython3",
   "version": "3.11.13"
  },
  "toc": {
   "base_numbering": 1,
   "nav_menu": {},
   "number_sections": true,
   "sideBar": true,
   "skip_h1_title": true,
   "title_cell": "Table of Contents",
   "title_sidebar": "Contents",
   "toc_cell": false,
   "toc_position": {
    "height": "calc(100% - 180px)",
    "left": "10px",
    "top": "150px",
    "width": "165px"
   },
   "toc_section_display": true,
   "toc_window_display": false
  }
 },
 "nbformat": 4,
 "nbformat_minor": 5
}