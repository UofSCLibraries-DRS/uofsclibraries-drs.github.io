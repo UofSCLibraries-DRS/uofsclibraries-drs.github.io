{
 "cells": [
  {
   "cell_type": "markdown",
   "metadata": {},
   "source": [
    "<img align=\"left\" src=\"https://ithaka-labs.s3.amazonaws.com/static-files/images/tdm/tdmdocs/CC_BY.png\"><br />\n",
    "\n",
    "Created by [Nathan Kelber](http://nkelber.com) and Ted Lawless for [JSTOR Labs](https://labs.jstor.org/) under [Creative Commons CC BY License](https://creativecommons.org/licenses/by/4.0/)<br />\n",
    "___"
   ]
  },
  {
   "cell_type": "markdown",
   "metadata": {},
   "source": [
    "# Python Basics 3\n",
    "\n",
    "**Description:** \n",
    "This lesson describes the basics of [lists](https://www.w3schools.com/python/python_lists.asp) and [dictionaries](https://www.w3schools.com/python/python_dictionaries.asp) including:\n",
    "\n",
    "* The `in` and `not in` [operators](https://www.w3schools.com/python/python_operators.asp)\n",
    "* [Lists](https://www.w3schools.com/python/python_lists.asp)\n",
    "* [List](https://www.w3schools.com/python/python_lists.asp) methods (`index()`, `append()`, `insert()`, `sort()`)\n",
    "* [Dictionaries](https://www.w3schools.com/python/python_dictionaries.asp)\n",
    "* [Dictionary](https://www.w3schools.com/python/python_dictionaries.asp) methods (`update()`, `keys()`, `values()`, `items()`, `get()`)\n",
    "\n",
    "This is part 3 of 5 in the series *Python Basics* that will prepare you to do text analysis using the [Python](https://www.w3schools.com/python/default.asp) programming language.\n",
    "\n",
    "**Knowledge Required:** \n",
    "* [Getting Started with Jupyter Notebooks](../../../getting-started-with-jupyter.ipynb)\n",
    "* [Python Basics 1](./python-basics-1.ipynb)\n",
    "* [Python Basics 2](./python-basics-2.ipynb)\n",
    "\n",
    "___"
   ]
  },
  {
   "cell_type": "markdown",
   "metadata": {},
   "source": [
    "In *Python Basics 1*, we learned about three data types: [integers](https://www.w3schools.com/python/python_numbers.asp), [floats](https://www.w3schools.com/python/python_numbers.asp), and [strings](https://www.w3schools.com/python/python_strings.asp). In this lesson, we will learn about two additional data types: [lists](https://www.w3schools.com/python/python_lists.asp) and [dictionaries](https://www.w3schools.com/python/python_dictionaries.asp). [Lists](https://www.w3schools.com/python/python_lists.asp) and [dictionaries](https://www.w3schools.com/python/python_dictionaries.asp) help us store many values inside a single [variable](https://www.w3schools.com/python/python_variables.asp). This is helpful for a few reasons.\n",
    "\n",
    "* We can store many items in a single [list](https://www.w3schools.com/python/python_lists.asp) or [dictionary](https://www.w3schools.com/python/python_dictionaries.asp), making it easier to keep the data together\n",
    "* [Lists](https://www.w3schools.com/python/python_lists.asp) and [dictionaries](https://www.w3schools.com/python/python_dictionaries.asp) only require a single [assignment statement](https://www.w3schools.com/python/python_variables_multiple.asp)\n",
    "* [Lists](https://www.w3schools.com/python/python_lists.asp) and [dictionaries](https://www.w3schools.com/python/python_dictionaries.asp) have additional capabilities that will make organizing our data easier\n",
    "\n",
    "The fundamental difference between a [list](https://www.w3schools.com/python/python_lists.asp) and a [dictionary](https://www.w3schools.com/python/python_dictionaries.asp) is that a [list](https://www.w3schools.com/python/python_lists.asp) stores items in sequential order (starting from 0) while a [dictionary](https://www.w3schools.com/python/python_dictionaries.asp) stores items in [key/value pairs](https://www.w3schools.com/python/python_dictionaries_access.asp). When we want to retrieve an item in a list, we use an [index number](https://www.w3schools.com/python/python_lists_access.asp) or a set of [index numbers](https://www.w3schools.com/python/python_lists_access.asp) called a [slice](https://www.w3schools.com/python/python_lists_access.asp) as a reference. When we want to retrieve an item from a [dictionary](https://www.w3schools.com/python/python_dictionaries.asp), we supply a [key](https://www.w3schools.com/python/python_dictionaries_access.asp) that returns the [value](https://www.w3schools.com/python/python_dictionaries_access.asp) (or set of values) associated with that [key](https://www.w3schools.com/python/python_dictionaries_access.asp). Each of these approaches can be beneficial depending on what kind of data we are working with (and what we intend to do with the data)."
   ]
  },
  {
   "cell_type": "markdown",
   "metadata": {},
   "source": [
    "## Lists\n",
    "\n",
    "A [list](https://www.w3schools.com/python/python_lists.asp) can store anywhere from zero to millions of items. The items that can be stored in a [list](https://www.w3schools.com/python/python_lists.asp) include the data types we have already learned: [integers](https://www.w3schools.com/python/python_numbers.asp), [floats](https://www.w3schools.com/python/python_numbers.asp), and [strings](https://www.w3schools.com/python/python_strings.asp). A [list](https://www.w3schools.com/python/python_lists.asp) [assignment statement](https://www.w3schools.com/python/python_variables_multiple.asp) takes the form.\n",
    "`my_list = [item1, item2, item3, item4...]`"
   ]
  },
  {
   "cell_type": "code",
   "execution_count": 1,
   "metadata": {},
   "outputs": [
    {
     "name": "stdout",
     "output_type": "stream",
     "text": [
      "[7, 21, 100]\n"
     ]
    }
   ],
   "source": [
    "# A list containing integers\n",
    "my_favorite_numbers = [7, 21, 100]\n",
    "print(my_favorite_numbers)"
   ]
  },
  {
   "cell_type": "code",
   "execution_count": 2,
   "metadata": {},
   "outputs": [
    {
     "name": "stdout",
     "output_type": "stream",
     "text": [
      "['Harriet Tubman', 'Rosa Parks', 'Pauli Murray']\n"
     ]
    }
   ],
   "source": [
    "# A list containing strings\n",
    "my_inspirations = ['Harriet Tubman', 'Rosa Parks', 'Pauli Murray']\n",
    "print(my_inspirations)"
   ]
  },
  {
   "cell_type": "markdown",
   "metadata": {},
   "source": [
    "Both `my_favorite_numbers` and `my_inspirations` have three items, but we could have also initialized them with no items `my_favorite_numbers = []` or many more items. \n",
    "\n",
    "### List Index\n",
    "\n",
    "Each item has an [index number](https://www.w3schools.com/python/python_lists_access.asp) that depends on their order. The first item is 0, the second item is 1, the third item is 2, etc. In the `my_inspirations` list, `'Pauli Murray'` is item 2."
   ]
  },
  {
   "cell_type": "code",
   "execution_count": 3,
   "metadata": {},
   "outputs": [
    {
     "data": {
      "text/plain": [
       "'Pauli Murray'"
      ]
     },
     "execution_count": 3,
     "metadata": {},
     "output_type": "execute_result"
    }
   ],
   "source": [
    "# Retrieving an item in a list\n",
    "my_inspirations[2]"
   ]
  },
  {
   "cell_type": "markdown",
   "metadata": {},
   "source": [
    "___\n",
    "<h3 style=\"color:red; display:inline\">Try it! &lt; / &gt; </h3>\n",
    "\n",
    "**What happens if you change the index number to 1? What about 3? 2.0?**\n",
    "\n",
    "___"
   ]
  },
  {
   "cell_type": "code",
   "execution_count": 4,
   "metadata": {},
   "outputs": [],
   "source": [
    "# Try out using different index numbers\n"
   ]
  },
  {
   "cell_type": "markdown",
   "metadata": {},
   "source": [
    "\n",
    "[Lists](https://www.w3schools.com/python/python_lists.asp) can also contain other [lists](https://www.w3schools.com/python/python_lists.asp). To retrieve a value from a [list](https://www.w3schools.com/python/python_lists.asp) within a [list](https://www.w3schools.com/python/python_lists.asp), we use two [indexes](https://www.w3schools.com/python/python_lists_access.asp) (or indices)."
   ]
  },
  {
   "cell_type": "code",
   "execution_count": 5,
   "metadata": {},
   "outputs": [
    {
     "data": {
      "text/plain": [
       "'Pauli Murray'"
      ]
     },
     "execution_count": 5,
     "metadata": {},
     "output_type": "execute_result"
    }
   ],
   "source": [
    "# Retrieving an item from a list within a list\n",
    "my_inspirations = [['Harriet Tubman', 'Rosa Parks', 'Pauli Murray'], ['Martin Luther King Jr.', 'Frederick Douglass', 'Malcolm X']]\n",
    "my_inspirations[0][2]"
   ]
  },
  {
   "cell_type": "markdown",
   "metadata": {},
   "source": [
    "___\n",
    "<h3 style=\"color:red; display:inline\">Try it! &lt; / &gt; </h3>\n",
    "\n",
    "**Can you change the index for `my_inspirations` to retrieve `'Malcolm X'`?**\n",
    "___"
   ]
  },
  {
   "cell_type": "code",
   "execution_count": 6,
   "metadata": {},
   "outputs": [],
   "source": [
    "# Try retrieving Malcolm X from the my_inspirations list\n"
   ]
  },
  {
   "cell_type": "markdown",
   "metadata": {},
   "source": [
    "We can also select items from a [list](https://www.w3schools.com/python/python_lists.asp) beginning from the end/right side of a [list](https://www.w3schools.com/python/python_lists.asp) by using negative [index numbers](https://www.w3schools.com/python/python_lists_access.asp)."
   ]
  },
  {
   "cell_type": "code",
   "execution_count": 7,
   "metadata": {},
   "outputs": [
    {
     "data": {
      "text/plain": [
       "'Pauli Murray'"
      ]
     },
     "execution_count": 7,
     "metadata": {},
     "output_type": "execute_result"
    }
   ],
   "source": [
    "# Retrieving an item from the end of a list by using negative indices\n",
    "my_inspirations = ['Harriet Tubman', 'Rosa Parks', 'Pauli Murray']\n",
    "my_inspirations[-1]"
   ]
  },
  {
   "cell_type": "markdown",
   "metadata": {},
   "source": [
    "It is not uncommon for [lists](https://www.w3schools.com/python/python_lists.asp) to be hundreds or thousands of items long. It would be a chore to count all those items to create a [slice](https://www.w3schools.com/python/python_lists_access.asp). If you want to know the length of a [list](https://www.w3schools.com/python/python_lists.asp), you can use the `len()` function."
   ]
  },
  {
   "cell_type": "code",
   "execution_count": 8,
   "metadata": {},
   "outputs": [
    {
     "data": {
      "text/plain": [
       "7"
      ]
     },
     "execution_count": 8,
     "metadata": {},
     "output_type": "execute_result"
    }
   ],
   "source": [
    "# Using the len() function to discover the number of items in the list\n",
    "staff = ['Aaron Aston',\n",
    "         'Brianna Barton',\n",
    "         'Carla Cameron',\n",
    "         'Delia Darcy',\n",
    "         'Evelyn Elgin',\n",
    "         'Frederick Federov',\n",
    "         'Gaston Garbo']\n",
    "len(staff)"
   ]
  },
  {
   "cell_type": "markdown",
   "metadata": {},
   "source": [
    "### Slicing a list\n",
    "We can also retrieve a group of consecutive items from a [list](https://www.w3schools.com/python/python_lists.asp) using [slices](https://www.w3schools.com/python/python_lists_access.asp) instead of a single [index number](https://www.w3schools.com/python/python_lists_access.asp). We create a [slice](https://www.w3schools.com/python/python_lists_access.asp) by indicating a starting and ending [index number](https://www.w3schools.com/python/python_lists_access.asp). The [slice](https://www.w3schools.com/python/python_lists_access.asp) is a smaller [list](https://www.w3schools.com/python/python_lists.asp) containing all the items between our starting and stopping [index number](https://www.w3schools.com/python/python_lists_access.asp)."
   ]
  },
  {
   "cell_type": "code",
   "execution_count": 9,
   "metadata": {},
   "outputs": [
    {
     "data": {
      "text/plain": [
       "['Brianna Barton', 'Carla Cameron']"
      ]
     },
     "execution_count": 9,
     "metadata": {},
     "output_type": "execute_result"
    }
   ],
   "source": [
    "# Taking a slice of a list\n",
    "staff = ['Aaron Aston',\n",
    "         'Brianna Barton',\n",
    "         'Carla Cameron',\n",
    "         'Delia Darcy',\n",
    "         'Evelyn Elgin',\n",
    "         'Frederick Federov',\n",
    "         'Gaston Garbo']\n",
    "staff[1:3]"
   ]
  },
  {
   "cell_type": "markdown",
   "metadata": {},
   "source": [
    "Notice in our [slice](https://www.w3schools.com/python/python_lists_access.asp) that the second [index](https://www.w3schools.com/python/python_lists_access.asp) in a [slice](https://www.w3schools.com/python/python_lists_access.asp) is the stopping point. That is our return [list](https://www.w3schools.com/python/python_lists.asp) contains `staff[1]` (`'Brianna Barton'`) and `staff[2]` (`'Carla Cameron'`), but it does not include `staff[3]` (`'Delia Darcy'`). This can be confusing if you were expecting three items instead of two. One way to remember this is by subtracting the [indexes](https://www.w3schools.com/python/python_lists_access.asp) in your head (3 - 1 = 2 items)."
   ]
  },
  {
   "cell_type": "markdown",
   "metadata": {},
   "source": [
    "The `staff` [list](https://www.w3schools.com/python/python_lists.asp) is 7 items long, meaning the whole [list](https://www.w3schools.com/python/python_lists.asp) is within the [slice](https://www.w3schools.com/python/python_lists_access.asp) `staff[0:7]`. When we take a [slice](https://www.w3schools.com/python/python_lists_access.asp) of a [list](https://www.w3schools.com/python/python_lists.asp) we can also leave out the first [index number](https://www.w3schools.com/python/python_lists_access.asp) (0 is assumed) or the stopping [index number](https://www.w3schools.com/python/python_lists_access.asp) (the last item is assumed)."
   ]
  },
  {
   "cell_type": "code",
   "execution_count": 10,
   "metadata": {},
   "outputs": [
    {
     "data": {
      "text/plain": [
       "['Aaron Aston',\n",
       " 'Brianna Barton',\n",
       " 'Carla Cameron',\n",
       " 'Delia Darcy',\n",
       " 'Evelyn Elgin']"
      ]
     },
     "execution_count": 10,
     "metadata": {},
     "output_type": "execute_result"
    }
   ],
   "source": [
    "# Taking a slice of a list without a beginning index\n",
    "staff = ['Aaron Aston',\n",
    "         'Brianna Barton',\n",
    "         'Carla Cameron',\n",
    "         'Delia Darcy',\n",
    "         'Evelyn Elgin',\n",
    "         'Frederick Federov',\n",
    "         'Gaston Garbo']\n",
    "staff[:5]"
   ]
  },
  {
   "cell_type": "markdown",
   "metadata": {},
   "source": [
    "___\n",
    "<h3 style=\"color:red; display:inline\">Try it! &lt; / &gt; </h3>\n",
    "\n",
    "**Can you take a [slice](https://www.w3schools.com/python/python_lists_access.asp) from the staff [list](https://www.w3schools.com/python/python_lists.asp) without using a an ending [index number](https://www.w3schools.com/python/python_lists_access.asp)? What if we don't use a starting or ending index?**\n",
    "___\n"
   ]
  },
  {
   "cell_type": "code",
   "execution_count": 11,
   "metadata": {},
   "outputs": [],
   "source": [
    "# Try slicing the staff list without an ending index? What about no starting or ending index?\n"
   ]
  },
  {
   "cell_type": "markdown",
   "metadata": {},
   "source": [
    "### The `in` and `not in` Operators\n",
    "\n",
    "If we have a long [list](https://www.w3schools.com/python/python_lists.asp), it may be helpful to check whether a value is in the [list](https://www.w3schools.com/python/python_lists.asp). We can do this with the `in` and `not in` operators, which return a [boolean value](https://www.w3schools.com/python/python_booleans.asp): **True** or **False**."
   ]
  },
  {
   "cell_type": "code",
   "execution_count": 12,
   "metadata": {},
   "outputs": [
    {
     "data": {
      "text/plain": [
       "True"
      ]
     },
     "execution_count": 12,
     "metadata": {},
     "output_type": "execute_result"
    }
   ],
   "source": [
    "# Checking whether an item is in a list using the `in` operator\n",
    "\n",
    "# Create a list called `staff`\n",
    "staff = ['Tara Richards',\n",
    " 'Tammy French',\n",
    " 'Justin Douglas',\n",
    " 'Lauren Marquez',\n",
    " 'Aaron Wilson',\n",
    " 'Dennis Howell',\n",
    " 'Brandon Reed',\n",
    " 'Kelly Baker',\n",
    " 'Justin Howard',\n",
    " 'Sarah Myers',\n",
    " 'Vanessa Burgess',\n",
    " 'Timothy Davidson',\n",
    " 'Jessica Lee',\n",
    " 'Christopher Miller',\n",
    " 'Lisa Grant',\n",
    " 'Ryan Chan',\n",
    " 'Gary Carson',\n",
    " 'Anthony Mitchell',\n",
    " 'Jacob Turner',\n",
    " 'Jennifer Bonilla',\n",
    " 'Rachel Gonzalez',\n",
    " 'Andrew Clark',\n",
    " 'Richard Pearson',\n",
    " 'Glenn Allen',\n",
    " 'Jacqueline Gallagher',\n",
    " 'Carlos Mcdowell',\n",
    " 'Jeffrey Harris',\n",
    " 'Danielle Griffith',\n",
    " 'Sarah Craig',\n",
    " 'Vernon Vasquez',\n",
    " 'Anthony Burton',\n",
    " 'Erica Bryant',\n",
    " 'Patricia Walker',\n",
    " 'Karen Brown',\n",
    " 'Terri Walker',\n",
    " 'Michelle Knight',\n",
    " 'Kathleen Douglas',\n",
    " 'Debbie Estrada',\n",
    " 'Jennifer Brewer',\n",
    " 'Taylor Rodriguez',\n",
    " 'Lisa Turner',\n",
    " 'Julie Hudson',\n",
    " 'Christina Cox',\n",
    " 'Nancy Patrick',\n",
    " 'Rita Mosley',\n",
    " 'Nicholas Gordon',\n",
    " 'Wanda Vasquez',\n",
    " 'Jason Lopez',\n",
    " 'Anna Powers',\n",
    " 'Tyler Perez']\n",
    "\n",
    "# Check whether a name is in staff\n",
    "'Patricia Walker' in staff"
   ]
  },
  {
   "cell_type": "markdown",
   "metadata": {},
   "source": [
    "___\n",
    "<h3 style=\"color:red; display:inline\">Try it! &lt; / &gt; </h3>\n",
    "\n",
    "**Is Rita McDowell in `staff`? What about Erica Bryant?**\n",
    "___"
   ]
  },
  {
   "cell_type": "code",
   "execution_count": 13,
   "metadata": {},
   "outputs": [],
   "source": [
    "# Check if Rita McDowell and Erica Bryant are in staff\n"
   ]
  },
  {
   "cell_type": "markdown",
   "metadata": {},
   "source": [
    "We can change the value of any item in a [list](https://www.w3schools.com/python/python_lists.asp) using an [assignment statement](https://www.w3schools.com/python/python_variables_multiple.asp) that contains the item's [index number](https://www.w3schools.com/python/python_lists_access.asp)."
   ]
  },
  {
   "cell_type": "code",
   "execution_count": 14,
   "metadata": {},
   "outputs": [
    {
     "name": "stdout",
     "output_type": "stream",
     "text": [
      "['Tara Richards', 'Tammy French', 'Justin Douglas']\n",
      "['Tara Richards', 'Tammy Simons', 'Justin Douglas']\n"
     ]
    }
   ],
   "source": [
    "# Changing the value of an item in a list\n",
    "staff = ['Tara Richards', 'Tammy French', 'Justin Douglas']\n",
    "print(staff)\n",
    "\n",
    "# Changing an item using an assignment state with index number\n",
    "staff[1] = 'Tammy Simons'\n",
    "print(staff)\n"
   ]
  },
  {
   "cell_type": "markdown",
   "metadata": {},
   "source": [
    "Now we know how to change an item in a [list](https://www.w3schools.com/python/python_lists.asp). And can use the `in` and `not in` operator to determine if an item is in the [list](https://www.w3schools.com/python/python_lists.asp). But if we don't know the [index number](https://www.w3schools.com/python/python_lists_access.asp) of the item, we won't know which [index number](https://www.w3schools.com/python/python_lists_access.asp) to change. We need a way to pass both the name of the [list](https://www.w3schools.com/python/python_lists.asp) and the name of the item simultaneously to a [function](https://www.w3schools.com/python/python_functions.asp). To do that, we'll use a special kind of [function](https://www.w3schools.com/python/python_functions.asp) called a [method](https://www.w3schools.com/python/python_lists_methods.asp)."
   ]
  },
  {
   "cell_type": "markdown",
   "metadata": {},
   "source": [
    "## List Methods\n",
    "\n",
    "A [method](https://www.w3schools.com/python/python_lists_methods.asp) is a kind of [function](https://www.w3schools.com/python/python_functions.asp). (Remember, [functions](https://www.w3schools.com/python/python_functions.asp) end in parentheses.) [Methods](https://www.w3schools.com/python/python_lists_methods.asp), however, act on objects (like [lists](https://www.w3schools.com/python/python_lists.asp)) so they have a slightly different written form. We will take a look at five useful [methods](https://www.w3schools.com/python/python_lists_methods.asp) for working with [lists](https://www.w3schools.com/python/python_lists.asp).\n",
    "\n",
    "|Method Name | Purpose | Form |\n",
    "|---|---|---|\n",
    "|index()| search for an item in a list and return the index number | list_name.index(item_name)|\n",
    "|append()| add an item to the end of a list | list_name.append(item_name)|\n",
    "|insert()| insert an item in the middle of a list | list_name.insert(index_number, item_name)|\n",
    "|remove()| remove an item from a list based on value | list_name.remove('item_value')|\n",
    "|sort()| sort the order of a list | list_name.sort()|\n",
    "\n",
    "### The `index()` Method\n",
    "\n",
    "The `index()` [method](https://www.w3schools.com/python/python_lists_methods.asp) checks to see if a value is in a [list](https://www.w3schools.com/python/python_lists.asp). If the value is found, it returns the [index number](https://www.w3schools.com/python/python_lists_access.asp) for the first item with that value. (Keep in mind, there could be multiple items with a single value in a [list](https://www.w3schools.com/python/python_lists.asp)). If the value is not found, the `index()` [method](https://www.w3schools.com/python/python_lists_methods.asp) returns a `ValueError`."
   ]
  },
  {
   "cell_type": "code",
   "execution_count": 15,
   "metadata": {},
   "outputs": [
    {
     "data": {
      "text/plain": [
       "12"
      ]
     },
     "execution_count": 15,
     "metadata": {},
     "output_type": "execute_result"
    }
   ],
   "source": [
    "# Using the index() method to return the index number of an item by passing a value\n",
    "staff = ['Tara Richards',\n",
    " 'Tammy French',\n",
    " 'Justin Douglas',\n",
    " 'Lauren Marquez',\n",
    " 'Aaron Wilson',\n",
    " 'Dennis Howell',\n",
    " 'Brandon Reed',\n",
    " 'Kelly Baker',\n",
    " 'Justin Howard',\n",
    " 'Sarah Myers',\n",
    " 'Vanessa Burgess',\n",
    " 'Timothy Davidson',\n",
    " 'Jessica Lee',\n",
    " 'Christopher Miller',\n",
    " 'Lisa Grant',\n",
    " 'Ryan Chan',\n",
    " 'Gary Carson',\n",
    " 'Anthony Mitchell',\n",
    " 'Jacob Turner',\n",
    " 'Jennifer Bonilla',\n",
    " 'Rachel Gonzalez',\n",
    " 'Andrew Clark',\n",
    " 'Richard Pearson',\n",
    " 'Glenn Allen']\n",
    "\n",
    "# Find the index number of a list item\n",
    "staff.index('Jessica Lee')"
   ]
  },
  {
   "cell_type": "markdown",
   "metadata": {},
   "source": [
    "___\n",
    "<h3 style=\"color:red; display:inline\">Try it! &lt; / &gt; </h3>\n",
    "\n",
    "**What is the index number of Lisa Grant in `staff`?**\n",
    "___"
   ]
  },
  {
   "cell_type": "code",
   "execution_count": null,
   "metadata": {},
   "outputs": [],
   "source": []
  },
  {
   "cell_type": "markdown",
   "metadata": {},
   "source": [
    "Lists can contain multiple identical items. If there are multiple identical items, we need to use some flow control to return all the indices. The `enumerate()` function allows us to keep track of the `index` and `element` at the same time. Notice that this `for` loop defines two variables. The first variable keeps track of the current index number in the loop, the second variable keeps track of the value for the current element."
   ]
  },
  {
   "cell_type": "code",
   "execution_count": 16,
   "metadata": {},
   "outputs": [
    {
     "name": "stdout",
     "output_type": "stream",
     "text": [
      "1\n",
      "4\n"
     ]
    }
   ],
   "source": [
    "# Getting all indices for items that repeat\n",
    "\n",
    "staff = ['Tara Richards',\n",
    " 'John Smith',\n",
    " 'Justin Douglas',\n",
    " 'Lauren Marquez',\n",
    " 'John Smith']\n",
    "\n",
    "# Use the enumerate function\n",
    "for index, name in enumerate(staff):\n",
    "    if name == 'John Smith':\n",
    "        print(index)"
   ]
  },
  {
   "cell_type": "markdown",
   "metadata": {},
   "source": [
    "### The `append()` Method\n",
    "\n",
    "The `append()` [method](https://www.w3schools.com/python/python_lists_methods.asp) adds a value to the end of a [list](https://www.w3schools.com/python/python_lists.asp)."
   ]
  },
  {
   "cell_type": "markdown",
   "metadata": {},
   "source": [
    "___\n",
    "<h3 style=\"color:red; display:inline\">Try it! &lt; / &gt; </h3>\n",
    "\n",
    "**Can you add your name to `staff`?**\n",
    "___"
   ]
  },
  {
   "cell_type": "code",
   "execution_count": 17,
   "metadata": {},
   "outputs": [
    {
     "data": {
      "text/plain": [
       "['Tara Richards',\n",
       " 'Tammy French',\n",
       " 'Justin Douglas',\n",
       " 'Lauren Marquez',\n",
       " 'Aaron Wilson',\n",
       " 'Dennis Howell',\n",
       " 'Brandon Reed',\n",
       " 'Kelly Baker',\n",
       " 'Justin Howard',\n",
       " 'Sarah Myers',\n",
       " 'Vanessa Burgess',\n",
       " 'Timothy Davidson',\n",
       " 'Jessica Lee',\n",
       " 'Christopher Miller',\n",
       " 'Lisa Grant',\n",
       " 'Ryan Chan',\n",
       " 'Gary Carson',\n",
       " 'Anthony Mitchell',\n",
       " 'Jacob Turner',\n",
       " 'Jennifer Bonilla',\n",
       " 'Rachel Gonzalez',\n",
       " 'Andrew Clark',\n",
       " 'Richard Pearson',\n",
       " 'Glenn Allen']"
      ]
     },
     "execution_count": 17,
     "metadata": {},
     "output_type": "execute_result"
    }
   ],
   "source": [
    "# Using the append() method to add an item to the end of a list\n",
    "staff = ['Tara Richards',\n",
    " 'Tammy French',\n",
    " 'Justin Douglas',\n",
    " 'Lauren Marquez',\n",
    " 'Aaron Wilson',\n",
    " 'Dennis Howell',\n",
    " 'Brandon Reed',\n",
    " 'Kelly Baker',\n",
    " 'Justin Howard',\n",
    " 'Sarah Myers',\n",
    " 'Vanessa Burgess',\n",
    " 'Timothy Davidson',\n",
    " 'Jessica Lee',\n",
    " 'Christopher Miller',\n",
    " 'Lisa Grant',\n",
    " 'Ryan Chan',\n",
    " 'Gary Carson',\n",
    " 'Anthony Mitchell',\n",
    " 'Jacob Turner',\n",
    " 'Jennifer Bonilla',\n",
    " 'Rachel Gonzalez',\n",
    " 'Andrew Clark',\n",
    " 'Richard Pearson',\n",
    " 'Glenn Allen']\n",
    "\n",
    "# Append a staff member to the list\n",
    "\n",
    "\n",
    "# Prints `staff` in a vertical list format to check that the name was added. \n",
    "# The list() function will print our list in an easier to read format than the print() function.\n",
    "list(staff) "
   ]
  },
  {
   "cell_type": "markdown",
   "metadata": {},
   "source": [
    "We can also add an item to the end of a [list](https://www.w3schools.com/python/python_lists.asp) by using an [assignment statement](https://www.w3schools.com/python/python_variables_multiple.asp)."
   ]
  },
  {
   "cell_type": "code",
   "execution_count": 18,
   "metadata": {},
   "outputs": [
    {
     "data": {
      "text/plain": [
       "['Tara Richards',\n",
       " 'Tammy French',\n",
       " 'Justin Douglas',\n",
       " 'Lauren Marquez',\n",
       " 'Aaron Wilson',\n",
       " 'Dennis Howell',\n",
       " 'Brandon Reed',\n",
       " 'Kelly Baker',\n",
       " 'Justin Howard',\n",
       " 'Sarah Myers',\n",
       " 'Vanessa Burgess',\n",
       " 'Timothy Davidson',\n",
       " 'Jessica Lee',\n",
       " 'Christopher Miller',\n",
       " 'Lisa Grant',\n",
       " 'Ryan Chan',\n",
       " 'Gary Carson',\n",
       " 'Anthony Mitchell',\n",
       " 'Jacob Turner',\n",
       " 'Jennifer Bonilla',\n",
       " 'Rachel Gonzalez',\n",
       " 'Andrew Clark',\n",
       " 'Richard Pearson',\n",
       " 'Glenn Allen',\n",
       " 'Dustin Henderson']"
      ]
     },
     "execution_count": 18,
     "metadata": {},
     "output_type": "execute_result"
    }
   ],
   "source": [
    "# Adding an item to a list using an assignment statement\n",
    "# We are concatenating two lists\n",
    "\n",
    "staff = staff + ['Dustin Henderson'] # Concatenate staff list with the list ['Dustin Henderson']\n",
    "list(staff)"
   ]
  },
  {
   "cell_type": "markdown",
   "metadata": {},
   "source": [
    "### The `insert()` Method\n",
    "\n",
    "The `insert()` [method](https://www.w3schools.com/python/python_lists_methods.asp) is similar to `append()` but it takes an [argument](https://www.w3schools.com/python/gloss_python_function_arguments.asp) that lets us choose an [index number](https://www.w3schools.com/python/python_lists_access.asp) to insert the new item."
   ]
  },
  {
   "cell_type": "code",
   "execution_count": 19,
   "metadata": {},
   "outputs": [
    {
     "data": {
      "text/plain": [
       "['Tara Richards',\n",
       " 'Tammy French',\n",
       " 'Justin Douglas',\n",
       " 'Lauren Marquez',\n",
       " 'Aaron Wilson',\n",
       " 'Arya Stark',\n",
       " 'Dennis Howell',\n",
       " 'Brandon Reed',\n",
       " 'Kelly Baker',\n",
       " 'Justin Howard',\n",
       " 'Sarah Myers',\n",
       " 'Vanessa Burgess',\n",
       " 'Timothy Davidson',\n",
       " 'Jessica Lee',\n",
       " 'Christopher Miller',\n",
       " 'Lisa Grant',\n",
       " 'Ryan Chan',\n",
       " 'Gary Carson',\n",
       " 'Anthony Mitchell',\n",
       " 'Jacob Turner',\n",
       " 'Jennifer Bonilla',\n",
       " 'Rachel Gonzalez',\n",
       " 'Andrew Clark',\n",
       " 'Richard Pearson',\n",
       " 'Glenn Allen']"
      ]
     },
     "execution_count": 19,
     "metadata": {},
     "output_type": "execute_result"
    }
   ],
   "source": [
    "# Using the insert() method to add an item at a specific index number\n",
    "staff = ['Tara Richards',\n",
    " 'Tammy French',\n",
    " 'Justin Douglas',\n",
    " 'Lauren Marquez',\n",
    " 'Aaron Wilson',\n",
    " 'Dennis Howell',\n",
    " 'Brandon Reed',\n",
    " 'Kelly Baker',\n",
    " 'Justin Howard',\n",
    " 'Sarah Myers',\n",
    " 'Vanessa Burgess',\n",
    " 'Timothy Davidson',\n",
    " 'Jessica Lee',\n",
    " 'Christopher Miller',\n",
    " 'Lisa Grant',\n",
    " 'Ryan Chan',\n",
    " 'Gary Carson',\n",
    " 'Anthony Mitchell',\n",
    " 'Jacob Turner',\n",
    " 'Jennifer Bonilla',\n",
    " 'Rachel Gonzalez',\n",
    " 'Andrew Clark',\n",
    " 'Richard Pearson',\n",
    " 'Glenn Allen']\n",
    "\n",
    "staff.insert(5, 'Arya Stark') # Insert the name 'Arya Stark' at index 5 (The sixth name on the list)\n",
    "list(staff) # Prints `staff` to check that the name was added at the right spot"
   ]
  },
  {
   "cell_type": "markdown",
   "metadata": {},
   "source": [
    "___\n",
    "<h3 style=\"color:red; display:inline\">Try it! &lt; / &gt; </h3>\n",
    "\n",
    "**Can you make your name the third item on `staff`?**\n",
    "___"
   ]
  },
  {
   "cell_type": "code",
   "execution_count": 20,
   "metadata": {},
   "outputs": [
    {
     "data": {
      "text/plain": [
       "['Tara Richards',\n",
       " 'Tammy French',\n",
       " 'Justin Douglas',\n",
       " 'Lauren Marquez',\n",
       " 'Aaron Wilson',\n",
       " 'Arya Stark',\n",
       " 'Dennis Howell',\n",
       " 'Brandon Reed',\n",
       " 'Kelly Baker',\n",
       " 'Justin Howard',\n",
       " 'Sarah Myers',\n",
       " 'Vanessa Burgess',\n",
       " 'Timothy Davidson',\n",
       " 'Jessica Lee',\n",
       " 'Christopher Miller',\n",
       " 'Lisa Grant',\n",
       " 'Ryan Chan',\n",
       " 'Gary Carson',\n",
       " 'Anthony Mitchell',\n",
       " 'Jacob Turner',\n",
       " 'Jennifer Bonilla',\n",
       " 'Rachel Gonzalez',\n",
       " 'Andrew Clark',\n",
       " 'Richard Pearson',\n",
       " 'Glenn Allen']"
      ]
     },
     "execution_count": 20,
     "metadata": {},
     "output_type": "execute_result"
    }
   ],
   "source": [
    "# Add your name to the staff list\n",
    "\n",
    "\n",
    "# Show the new staff list after your addition\n",
    "list(staff)"
   ]
  },
  {
   "cell_type": "markdown",
   "metadata": {},
   "source": [
    "### The `remove()` Method\n",
    "\n",
    "The `remove()` [method](https://www.w3schools.com/python/python_lists_methods.asp) removes the first item from the [list](https://www.w3schools.com/python/python_lists.asp) that has a matching value."
   ]
  },
  {
   "cell_type": "code",
   "execution_count": 21,
   "metadata": {},
   "outputs": [
    {
     "data": {
      "text/plain": [
       "['Tara Richards',\n",
       " 'Tammy French',\n",
       " 'Justin Douglas',\n",
       " 'Lauren Marquez',\n",
       " 'Aaron Wilson',\n",
       " 'Dennis Howell',\n",
       " 'Brandon Reed',\n",
       " 'Kelly Baker',\n",
       " 'Justin Howard',\n",
       " 'Sarah Myers',\n",
       " 'Vanessa Burgess',\n",
       " 'Timothy Davidson',\n",
       " 'Jessica Lee',\n",
       " 'Christopher Miller',\n",
       " 'Lisa Grant',\n",
       " 'Ryan Chan',\n",
       " 'Gary Carson',\n",
       " 'Anthony Mitchell',\n",
       " 'Jacob Turner',\n",
       " 'Jennifer Bonilla',\n",
       " 'Rachel Gonzalez',\n",
       " 'Andrew Clark',\n",
       " 'Glenn Allen']"
      ]
     },
     "execution_count": 21,
     "metadata": {},
     "output_type": "execute_result"
    }
   ],
   "source": [
    "# Using the remove() method to remove the first item with a matching value\n",
    "staff = ['Tara Richards',\n",
    " 'Tammy French',\n",
    " 'Justin Douglas',\n",
    " 'Lauren Marquez',\n",
    " 'Aaron Wilson',\n",
    " 'Dennis Howell',\n",
    " 'Brandon Reed',\n",
    " 'Kelly Baker',\n",
    " 'Justin Howard',\n",
    " 'Sarah Myers',\n",
    " 'Vanessa Burgess',\n",
    " 'Timothy Davidson',\n",
    " 'Jessica Lee',\n",
    " 'Christopher Miller',\n",
    " 'Lisa Grant',\n",
    " 'Ryan Chan',\n",
    " 'Gary Carson',\n",
    " 'Anthony Mitchell',\n",
    " 'Jacob Turner',\n",
    " 'Jennifer Bonilla',\n",
    " 'Rachel Gonzalez',\n",
    " 'Andrew Clark',\n",
    " 'Richard Pearson',\n",
    " 'Glenn Allen']\n",
    "# Write your remove statement under this comment\n",
    "staff.remove('Richard Pearson')\n",
    "# Print `staff` to check that the name was removed\n",
    "list(staff) "
   ]
  },
  {
   "cell_type": "markdown",
   "metadata": {},
   "source": [
    "___\n",
    "<h3 style=\"color:red; display:inline\">Try it! &lt; / &gt; </h3>\n",
    "\n",
    "**Can you remove Glenn Allen from `staff`?**\n",
    "___"
   ]
  },
  {
   "cell_type": "code",
   "execution_count": 22,
   "metadata": {},
   "outputs": [
    {
     "data": {
      "text/plain": [
       "['Tara Richards',\n",
       " 'Tammy French',\n",
       " 'Justin Douglas',\n",
       " 'Lauren Marquez',\n",
       " 'Aaron Wilson',\n",
       " 'Dennis Howell',\n",
       " 'Brandon Reed',\n",
       " 'Kelly Baker',\n",
       " 'Justin Howard',\n",
       " 'Sarah Myers',\n",
       " 'Vanessa Burgess',\n",
       " 'Timothy Davidson',\n",
       " 'Jessica Lee',\n",
       " 'Christopher Miller',\n",
       " 'Lisa Grant',\n",
       " 'Ryan Chan',\n",
       " 'Gary Carson',\n",
       " 'Anthony Mitchell',\n",
       " 'Jacob Turner',\n",
       " 'Jennifer Bonilla',\n",
       " 'Rachel Gonzalez',\n",
       " 'Andrew Clark',\n",
       " 'Glenn Allen']"
      ]
     },
     "execution_count": 22,
     "metadata": {},
     "output_type": "execute_result"
    }
   ],
   "source": [
    "# Remove Glenn Allen from the staff list\n",
    "\n",
    "\n",
    "# Show the staff list again to confirm the change was made\n",
    "list(staff)"
   ]
  },
  {
   "cell_type": "markdown",
   "metadata": {},
   "source": [
    "Like the `.index()` method, the `.remove()` only works on the first item it finds in the list. If there are repeating items on the list, you can use some flow control to make sure you remove them all."
   ]
  },
  {
   "cell_type": "code",
   "execution_count": 23,
   "metadata": {},
   "outputs": [
    {
     "data": {
      "text/plain": [
       "['Lauren Marquez']"
      ]
     },
     "execution_count": 23,
     "metadata": {},
     "output_type": "execute_result"
    }
   ],
   "source": [
    "# Removing an item that appears multiple times on the list\n",
    "\n",
    "staff = ['John Smith',\n",
    " 'Lauren Marquez',\n",
    " 'John Smith']\n",
    "\n",
    "# Use a while loop for flow control\n",
    "while 'John Smith' in staff:\n",
    "    staff.remove('John Smith')\n",
    "\n",
    "# List the staff members after the removal\n",
    "list(staff)"
   ]
  },
  {
   "cell_type": "markdown",
   "metadata": {},
   "source": [
    "If you know the value you wish to remove then the `remove()` [method](https://www.w3schools.com/python/python_lists_methods.asp) is the best option. If you know the [index number](https://www.w3schools.com/python/python_lists_access.asp) of the item, you can use a `del` statement to delete [list](https://www.w3schools.com/python/python_lists.asp) items."
   ]
  },
  {
   "cell_type": "code",
   "execution_count": 24,
   "metadata": {},
   "outputs": [
    {
     "data": {
      "text/plain": [
       "['Tara Richards',\n",
       " 'Tammy French',\n",
       " 'Justin Douglas',\n",
       " 'Lauren Marquez',\n",
       " 'Aaron Wilson',\n",
       " 'Dennis Howell',\n",
       " 'Brandon Reed',\n",
       " 'Kelly Baker',\n",
       " 'Justin Howard',\n",
       " 'Sarah Myers',\n",
       " 'Vanessa Burgess',\n",
       " 'Timothy Davidson',\n",
       " 'Jessica Lee',\n",
       " 'Christopher Miller',\n",
       " 'Lisa Grant',\n",
       " 'Ryan Chan',\n",
       " 'Gary Carson',\n",
       " 'Anthony Mitchell',\n",
       " 'Jacob Turner',\n",
       " 'Jennifer Bonilla',\n",
       " 'Rachel Gonzalez',\n",
       " 'Andrew Clark',\n",
       " 'Richard Pearson']"
      ]
     },
     "execution_count": 24,
     "metadata": {},
     "output_type": "execute_result"
    }
   ],
   "source": [
    "# Using a `del` statement to delete a list item\n",
    "staff = ['Tara Richards',\n",
    " 'Tammy French',\n",
    " 'Justin Douglas',\n",
    " 'Lauren Marquez',\n",
    " 'Aaron Wilson',\n",
    " 'Dennis Howell',\n",
    " 'Brandon Reed',\n",
    " 'Kelly Baker',\n",
    " 'Justin Howard',\n",
    " 'Sarah Myers',\n",
    " 'Vanessa Burgess',\n",
    " 'Timothy Davidson',\n",
    " 'Jessica Lee',\n",
    " 'Christopher Miller',\n",
    " 'Lisa Grant',\n",
    " 'Ryan Chan',\n",
    " 'Gary Carson',\n",
    " 'Anthony Mitchell',\n",
    " 'Jacob Turner',\n",
    " 'Jennifer Bonilla',\n",
    " 'Rachel Gonzalez',\n",
    " 'Andrew Clark',\n",
    " 'Richard Pearson',\n",
    " 'Glenn Allen']\n",
    "del staff[-1] # Delete the final item in the list. In this case, 'Glenn Allen'.\n",
    "list(staff)"
   ]
  },
  {
   "cell_type": "markdown",
   "metadata": {},
   "source": [
    "### The `sort()` Method\n",
    "\n",
    "The `sort()` [method](https://www.w3schools.com/python/python_lists_methods.asp) sorts a [list](https://www.w3schools.com/python/python_lists.asp) in alphabetical order, where strings with capital letters are sorted A-Z, then strings with lowercase letters are sorted A-Z."
   ]
  },
  {
   "cell_type": "code",
   "execution_count": 25,
   "metadata": {},
   "outputs": [
    {
     "data": {
      "text/plain": [
       "['Aaron Wilson',\n",
       " 'Andrew Clark',\n",
       " 'Anthony Mitchell',\n",
       " 'Brandon Reed',\n",
       " 'Christopher Miller',\n",
       " 'Dennis Howell',\n",
       " 'Gary Carson',\n",
       " 'Glenn Allen',\n",
       " 'Jacob Turner',\n",
       " 'Jennifer Bonilla',\n",
       " 'Jessica Lee',\n",
       " 'Justin Douglas',\n",
       " 'Justin Howard',\n",
       " 'Kelly Baker',\n",
       " 'Lauren Marquez',\n",
       " 'Lisa Grant',\n",
       " 'Rachel Gonzalez',\n",
       " 'Richard Pearson',\n",
       " 'Ryan Chan',\n",
       " 'Sarah Myers',\n",
       " 'Tammy French',\n",
       " 'Tara Richards',\n",
       " 'Timothy Davidson',\n",
       " 'Vanessa Burgess']"
      ]
     },
     "execution_count": 25,
     "metadata": {},
     "output_type": "execute_result"
    }
   ],
   "source": [
    "# Using the `sort()` method to sort a list in alpha-numeric order\n",
    "staff = ['Tara Richards',\n",
    " 'Tammy French',\n",
    " 'Justin Douglas',\n",
    " 'Lauren Marquez',\n",
    " 'Aaron Wilson',\n",
    " 'Dennis Howell',\n",
    " 'Brandon Reed',\n",
    " 'Kelly Baker',\n",
    " 'Justin Howard',\n",
    " 'Sarah Myers',\n",
    " 'Vanessa Burgess',\n",
    " 'Timothy Davidson',\n",
    " 'Jessica Lee',\n",
    " 'Christopher Miller',\n",
    " 'Lisa Grant',\n",
    " 'Ryan Chan',\n",
    " 'Gary Carson',\n",
    " 'Anthony Mitchell',\n",
    " 'Jacob Turner',\n",
    " 'Jennifer Bonilla',\n",
    " 'Rachel Gonzalez',\n",
    " 'Andrew Clark',\n",
    " 'Richard Pearson',\n",
    " 'Glenn Allen']\n",
    "staff.sort()\n",
    "list(staff)"
   ]
  },
  {
   "cell_type": "markdown",
   "metadata": {},
   "source": [
    "___\n",
    "<h3 style=\"color:red; display:inline\">Try it! &lt; / &gt; </h3>\n",
    "\n",
    "**The `sort()` method can take the argument `reverse=True`. Try applying it to the `sort()` method above. What does it do?**\n",
    "___"
   ]
  },
  {
   "cell_type": "code",
   "execution_count": 26,
   "metadata": {},
   "outputs": [],
   "source": [
    "# Try out sorting in reverse order\n"
   ]
  },
  {
   "cell_type": "markdown",
   "metadata": {},
   "source": [
    "### Iterate through a list with a `for` loop\n",
    "We can use a `for` loop to iterate through all the items in a list. The `for` loop will *create* a new temporary variable to store the current item in the list (no assignment statement required). "
   ]
  },
  {
   "cell_type": "code",
   "execution_count": 27,
   "metadata": {},
   "outputs": [
    {
     "name": "stdout",
     "output_type": "stream",
     "text": [
      "Aaron Wilson\n",
      "Andrew Clark\n",
      "Anthony Mitchell\n",
      "Brandon Reed\n",
      "Christopher Miller\n",
      "Dennis Howell\n",
      "Gary Carson\n",
      "Glenn Allen\n",
      "Jacob Turner\n",
      "Jennifer Bonilla\n",
      "Jessica Lee\n",
      "Justin Douglas\n",
      "Justin Howard\n",
      "Kelly Baker\n",
      "Lauren Marquez\n",
      "Lisa Grant\n",
      "Rachel Gonzalez\n",
      "Richard Pearson\n",
      "Ryan Chan\n",
      "Sarah Myers\n",
      "Tammy French\n",
      "Tara Richards\n",
      "Timothy Davidson\n",
      "Vanessa Burgess\n"
     ]
    }
   ],
   "source": [
    "# Using a for loop with a list\n",
    "for person in staff: # Whatever is after `for` becomes the temporary variable\n",
    "    print(person)"
   ]
  },
  {
   "cell_type": "markdown",
   "metadata": {},
   "source": [
    "___\n",
    "<h2 style=\"color:red; display:inline\">Coding Challenge! &lt; / &gt; </h2>\n",
    "\n",
    "**Using your knowledge of flow control statements and lists, can you solve the following challenges? To complete these challenges, we will use a list called `ranking` based on FIFA's rankings of the Women's National Teams before the World Cup.**\n",
    "___"
   ]
  },
  {
   "cell_type": "code",
   "execution_count": 28,
   "metadata": {},
   "outputs": [],
   "source": [
    "# Level 1 Challenge\n",
    "# The data has some errors in it. Correct the following errors:\n",
    "# Correct the spelling of Canada in the rankings\n",
    "# Remove Uruguay from the rankings and add Australia at the bottom\n",
    "# Add England to the rankings after Sweden\n",
    "\n",
    "ranking = ['USA',\n",
    "           'Germany',\n",
    "           'Sweden',\n",
    "           'France',\n",
    "           'Uruguay',\n",
    "           'Spain',\n",
    "           'Canda',\n",
    "           'Brazil',\n",
    "           'Netherlands',]\n"
   ]
  },
  {
   "cell_type": "code",
   "execution_count": 29,
   "metadata": {},
   "outputs": [],
   "source": [
    "# Level 2 Challenge\n",
    "# Write a program that lets the user input any country and check if they are in the top ten ranking\n",
    "ranking = ['USA',\n",
    " 'Germany',\n",
    " 'Sweden',\n",
    " 'England',\n",
    " 'France',\n",
    " 'Spain',\n",
    " 'Canada',\n",
    " 'Brazil',\n",
    " 'Netherlands',\n",
    " 'Australia']"
   ]
  },
  {
   "cell_type": "code",
   "execution_count": 30,
   "metadata": {},
   "outputs": [],
   "source": [
    "# Level 3 Challenge\n",
    "# Write a program that lets a user input a country and receive their rank\n",
    "\n",
    "ranking = ['USA',\n",
    " 'Germany',\n",
    " 'Sweden',\n",
    " 'England',\n",
    " 'France',\n",
    " 'Spain',\n",
    " 'Canada',\n",
    " 'Brazil',\n",
    " 'Netherlands',\n",
    " 'Australia']"
   ]
  },
  {
   "cell_type": "code",
   "execution_count": 31,
   "metadata": {},
   "outputs": [],
   "source": [
    "# Level 4 Challenge\n",
    "# Write a program that lets a user input a country and return all the teams with a higher rank\n",
    "ranking = ['USA',\n",
    " 'Germany',\n",
    " 'Sweden',\n",
    " 'England',\n",
    " 'France',\n",
    " 'Spain',\n",
    " 'Canada',\n",
    " 'Brazil',\n",
    " 'Netherlands',\n",
    " 'Australia']"
   ]
  },
  {
   "cell_type": "markdown",
   "metadata": {},
   "source": [
    "## Dictionaries\n",
    "\n",
    "Like a [list](https://www.w3schools.com/python/python_lists.asp), a [dictionary](https://www.w3schools.com/python/python_dictionaries.asp) can hold many values within a single [variable](https://www.w3schools.com/python/python_variables.asp). We have seen that the items of a [list](https://www.w3schools.com/python/python_lists.asp) are stored in a strictly-ordered fashion, starting from item 0. In a [dictionary](https://www.w3schools.com/python/python_dictionaries.asp), each [value](https://www.w3schools.com/python/python_dictionaries_access.asp) is stored in relation to a descriptive [key](https://www.w3schools.com/python/python_dictionaries_access.asp) forming a [key/value pair](https://www.w3schools.com/python/python_dictionaries_access.asp). Technically, as of [Python](https://www.w3schools.com/python/default.asp) 3.7 (June 2018), [dictionaries](https://www.w3schools.com/python/python_dictionaries.asp) are also ordered by insertion. In practice, however, the most useful aspect of a [dictionary](https://www.w3schools.com/python/python_dictionaries.asp) is the ability to supply a [key](https://www.w3schools.com/python/python_dictionaries_access.asp) and receive a [value](https://www.w3schools.com/python/python_dictionaries_access.asp) without reference to [indices](https://www.w3schools.com/python/python_lists_access.asp). Whereas a [list](https://www.w3schools.com/python/python_lists.asp) is typed with brackets `[]`, a [dictionary](https://www.w3schools.com/python/python_dictionaries.asp) is typed with braces `{}`. The [key](https://www.w3schools.com/python/python_dictionaries_access.asp) and/or [value](https://www.w3schools.com/python/python_dictionaries_access.asp) can be an [integer](https://www.w3schools.com/python/python_numbers.asp), [float](https://www.w3schools.com/python/python_numbers.asp), or [string](https://www.w3schools.com/python/python_strings.asp).\n",
    "\n",
    "`example_dictionary = {key1 : value1, key2 : value2, key3 : value3}`\n",
    "\n",
    "We could imagine, for example, a [dictionary](https://www.w3schools.com/python/python_dictionaries.asp) with our professional contacts' names as [keys](https://www.w3schools.com/python/python_dictionaries_access.asp) and their occupations as [values](https://www.w3schools.com/python/python_dictionaries_access.asp)."
   ]
  },
  {
   "cell_type": "code",
   "execution_count": 32,
   "metadata": {},
   "outputs": [
    {
     "name": "stdout",
     "output_type": "stream",
     "text": [
      "{'Amanda Bennett': 'Engineer, electrical',\n",
      " 'Bryan Miller': 'Radiation protection practitioner',\n",
      " 'Christopher Garrison': 'Planning and development surveyor',\n",
      " 'Debra Allen': 'Intelligence analyst',\n",
      " 'Donna Decker': 'Architect',\n",
      " 'Heather Bullock': 'Media planner',\n",
      " 'Jason Brown': 'Energy manager',\n",
      " 'Jason Soto': 'Lighting technician, broadcasting/film/video',\n",
      " 'Marissa Munoz': 'Further education lecturer',\n",
      " 'Matthew Mccall': 'Chief Technology Officer',\n",
      " 'Michael Norman': 'Translator',\n",
      " 'Nicole Leblanc': 'Financial controller',\n",
      " 'Noah Delgado': 'Engineer, land',\n",
      " 'Rachel Charles': 'Physicist, medical',\n",
      " 'Stephanie Petty': 'Architect'}\n"
     ]
    }
   ],
   "source": [
    "# An example of a dictionary storing names and occupations\n",
    "contacts ={\n",
    " 'Amanda Bennett': 'Engineer, electrical',\n",
    " 'Bryan Miller': 'Radiation protection practitioner',\n",
    " 'Christopher Garrison': 'Planning and development surveyor',\n",
    " 'Debra Allen': 'Intelligence analyst',\n",
    " 'Donna Decker': 'Architect',\n",
    " 'Heather Bullock': 'Media planner',\n",
    " 'Jason Brown': 'Energy manager',\n",
    " 'Jason Soto': 'Lighting technician, broadcasting/film/video',\n",
    " 'Marissa Munoz': 'Further education lecturer',\n",
    " 'Matthew Mccall': 'Chief Technology Officer',\n",
    " 'Michael Norman': 'Translator',\n",
    " 'Nicole Leblanc': 'Financial controller',\n",
    " 'Noah Delgado': 'Engineer, land',\n",
    " 'Rachel Charles': 'Physicist, medical',\n",
    " 'Stephanie Petty': 'Architect'}\n",
    "from pprint import pprint # We import the pretty print function which prints out dictionaries in a neater fashion than the built-in print() function\n",
    "pprint(contacts) # Use the pretty print function to print `contacts`"
   ]
  },
  {
   "cell_type": "markdown",
   "metadata": {},
   "source": [
    "We can add a new [key/value pair](https://www.w3schools.com/python/python_dictionaries_access.asp) to our [dictionary](https://www.w3schools.com/python/python_dictionaries.asp) using an [assignment statement](https://www.w3schools.com/python/python_variables_multiple.asp)."
   ]
  },
  {
   "cell_type": "code",
   "execution_count": 33,
   "metadata": {},
   "outputs": [
    {
     "name": "stdout",
     "output_type": "stream",
     "text": [
      "{'Amanda Bennett': 'Engineer, electrical',\n",
      " 'Bryan Miller': 'Radiation protection practitioner',\n",
      " 'Christopher Garrison': 'Planning and development surveyor',\n",
      " 'Debra Allen': 'Intelligence analyst',\n",
      " 'Donna Decker': 'Architect',\n",
      " 'Heather Bullock': 'Media planner',\n",
      " 'Jason Brown': 'Energy manager',\n",
      " 'Jason Soto': 'Lighting technician, broadcasting/film/video',\n",
      " 'Marissa Munoz': 'Further education lecturer',\n",
      " 'Matthew Mccall': 'Chief Technology Officer',\n",
      " 'Michael Norman': 'Translator',\n",
      " 'Nathan Kelber': 'Constellate Education Manager',\n",
      " 'Nicole Leblanc': 'Financial controller',\n",
      " 'Noah Delgado': 'Engineer, land',\n",
      " 'Rachel Charles': 'Physicist, medical',\n",
      " 'Stephanie Petty': 'Architect'}\n"
     ]
    }
   ],
   "source": [
    "# Adding the key 'Nathan Kelber' with the value 'Constellate Education Manager' to the dictionary contact\n",
    "contacts['Nathan Kelber'] = 'Constellate Education Manager'\n",
    "\n",
    "pprint(contacts) # Use the pretty print function to print `contacts`"
   ]
  },
  {
   "cell_type": "markdown",
   "metadata": {},
   "source": [
    "___\n",
    "<h3 style=\"color:red; display:inline\">Try it! &lt; / &gt; </h3>\n",
    "\n",
    "**Can you add your name to the contacts dictionary?**\n",
    "___"
   ]
  },
  {
   "cell_type": "markdown",
   "metadata": {},
   "source": [
    "Similar to deleting an item from a [list](https://www.w3schools.com/python/python_lists.asp), we can use a `del` statement to delete a [key/value pair](https://www.w3schools.com/python/python_dictionaries_access.asp). We do not need to worry about duplicates because every key in a dictionary must be unique."
   ]
  },
  {
   "cell_type": "code",
   "execution_count": 34,
   "metadata": {},
   "outputs": [
    {
     "name": "stdout",
     "output_type": "stream",
     "text": [
      "{'Amanda Bennett': 'Engineer, electrical',\n",
      " 'Christopher Garrison': 'Planning and development surveyor',\n",
      " 'Debra Allen': 'Intelligence analyst',\n",
      " 'Donna Decker': 'Architect',\n",
      " 'Heather Bullock': 'Media planner',\n",
      " 'Jason Brown': 'Energy manager',\n",
      " 'Jason Soto': 'Lighting technician, broadcasting/film/video',\n",
      " 'Marissa Munoz': 'Further education lecturer',\n",
      " 'Matthew Mccall': 'Chief Technology Officer',\n",
      " 'Michael Norman': 'Translator',\n",
      " 'Nathan Kelber': 'Constellate Education Manager',\n",
      " 'Nicole Leblanc': 'Financial controller',\n",
      " 'Noah Delgado': 'Engineer, land',\n",
      " 'Rachel Charles': 'Physicist, medical',\n",
      " 'Stephanie Petty': 'Architect'}\n"
     ]
    }
   ],
   "source": [
    "# Deleting a key/value pair from the dictionary contacts\n",
    "del contacts['Bryan Miller'] \n",
    "\n",
    "pprint(contacts) # Use the pretty print function to print `contacts`"
   ]
  },
  {
   "cell_type": "markdown",
   "metadata": {},
   "source": [
    "## Dictionary Methods\n",
    "\n",
    "We'll take a look at five useful [methods](https://www.w3schools.com/python/python_dictionaries_methods.asp) for working with [dictionaries](https://www.w3schools.com/python/python_dictionaries.asp): `update()`, `keys()`, `values()`, `items()`, and `get()`.\n",
    "\n",
    "|Method Name | Purpose | Form |\n",
    "|---|---|---|\n",
    "|update()| add new key/value pairs to a dictionary | dict_name.update({key1:value1, key2:value2})|\n",
    "| &nbsp; | combine two dictionaries |dict_name.update(dict_name2)|\n",
    "|keys()| check if a key is in a dictionary (True/False) | key_name in dict_name.keys()|\n",
    "| &nbsp; | Loop through the keys in a dictionary | for k in dict.keys():|\n",
    "|values()| check if a value is in a dictionary (True/False) | value_name in dict_name.values()|\n",
    "| &nbsp;| Loop through the values in a dictionary | for v in dict.values():|\n",
    "|items()| Loop through the keys and values in a dictionary | for k, v in dict.items():|\n",
    "|get()| retrieve the value for a specific key | dict_name.get(key_name) |"
   ]
  },
  {
   "cell_type": "markdown",
   "metadata": {},
   "source": [
    "### The `update()` Method\n",
    "\n",
    "The `update()` [method](https://www.w3schools.com/python/python_dictionaries_methods.asp) is useful for adding many [key/value pairs](https://www.w3schools.com/python/python_dictionaries_access.asp) to a [dictionary](https://www.w3schools.com/python/python_dictionaries.asp) at once. The `update()` [method](https://www.w3schools.com/python/python_dictionaries_methods.asp) accepts a single [key/value pair](https://www.w3schools.com/python/python_dictionaries_access.asp), multiple pairs, or even other [dictionaries](https://www.w3schools.com/python/python_dictionaries.asp)."
   ]
  },
  {
   "cell_type": "code",
   "execution_count": 35,
   "metadata": {},
   "outputs": [
    {
     "name": "stdout",
     "output_type": "stream",
     "text": [
      "{'Amanda Bennett': 'Engineer, electrical',\n",
      " 'Christopher Garrison': 'Planning and development surveyor',\n",
      " 'Debra Allen': 'Intelligence analyst',\n",
      " 'Donna Decker': 'Architect',\n",
      " 'Heather Bullock': 'Media planner',\n",
      " 'Jason Brown': 'Energy manager',\n",
      " 'Jason Soto': 'Lighting technician, broadcasting/film/video',\n",
      " 'Marissa Munoz': 'Further education lecturer',\n",
      " 'Matthew Mccall': 'Chief Technology Officer',\n",
      " 'Michael Norman': 'Translator',\n",
      " 'Nathan Kelber': 'Constellate Education Manager',\n",
      " 'Nicole Leblanc': 'Financial controller',\n",
      " 'Noah Delgado': 'Engineer, land',\n",
      " 'Rachel Charles': 'Physicist, medical',\n",
      " 'Stephanie Petty': 'Architect'}\n"
     ]
    }
   ],
   "source": [
    "# Add a single key/value pair to the dictionary contacts using the update() method\n",
    "contacts.update(\n",
    "    {'Nathan Kelber': 'Constellate Education Manager'}\n",
    ")\n",
    "\n",
    "pprint(contacts) # Use the pretty print function to print `contacts`"
   ]
  },
  {
   "cell_type": "code",
   "execution_count": 36,
   "metadata": {},
   "outputs": [
    {
     "name": "stdout",
     "output_type": "stream",
     "text": [
      "{'Amanda Bennett': 'Engineer, electrical',\n",
      " 'Christopher Garrison': 'Planning and development surveyor',\n",
      " 'Debra Allen': 'Intelligence analyst',\n",
      " 'Donna Decker': 'Architect',\n",
      " 'Heather Bullock': 'Media planner',\n",
      " 'Ian DesJardins': 'Software Engineer',\n",
      " 'Jason Brown': 'Energy manager',\n",
      " 'Jason Soto': 'Lighting technician, broadcasting/film/video',\n",
      " 'Marissa Munoz': 'Further education lecturer',\n",
      " 'Matt Lincoln': 'Software Engineer',\n",
      " 'Matthew Mccall': 'Chief Technology Officer',\n",
      " 'Michael Norman': 'Translator',\n",
      " 'Nathan Kelber': 'Constellate Education Manager',\n",
      " 'Nicole Leblanc': 'Financial controller',\n",
      " 'Noah Delgado': 'Engineer, land',\n",
      " 'Rachel Charles': 'Physicist, medical',\n",
      " 'Stephanie Petty': 'Architect',\n",
      " 'Zhuo Chen': 'Text Analysis Instructor'}\n"
     ]
    }
   ],
   "source": [
    "# Adding several key/value pairs to the dictionary contacts using the update() method\n",
    "contacts.update(\n",
    "    {\"Matt Lincoln\": \"Software Engineer\",\n",
    "     'Ian DesJardins': 'Software Engineer',\n",
    "    'Zhuo Chen': 'Text Analysis Instructor'}\n",
    ")\n",
    "\n",
    "pprint(contacts) # Use the pretty print function to print `contacts`"
   ]
  },
  {
   "cell_type": "markdown",
   "metadata": {},
   "source": [
    "### The `keys()` and `values()` Methods\n",
    "\n",
    "The `keys()`, `values()`, and `items()` [methods](https://www.w3schools.com/python/python_dictionaries_methods.asp) are useful for when checking whether a particular [key](https://www.w3schools.com/python/python_dictionaries_access.asp) or [value](https://www.w3schools.com/python/python_dictionaries_access.asp) exists in a [dictionary](https://www.w3schools.com/python/python_dictionaries.asp). We can pair them with `in` or `not in` operators to check whether a value is in our [dictionary](https://www.w3schools.com/python/python_dictionaries.asp) (just like we did with [lists](https://www.w3schools.com/python/python_lists.asp))."
   ]
  },
  {
   "cell_type": "code",
   "execution_count": 37,
   "metadata": {},
   "outputs": [
    {
     "data": {
      "text/plain": [
       "True"
      ]
     },
     "execution_count": 37,
     "metadata": {},
     "output_type": "execute_result"
    }
   ],
   "source": [
    "# Checking if a key is in the contacts dictionary\n",
    "# Do I know a Noah Delgado?\n",
    "'Noah Delgado' in contacts.keys()"
   ]
  },
  {
   "cell_type": "code",
   "execution_count": 38,
   "metadata": {},
   "outputs": [
    {
     "data": {
      "text/plain": [
       "True"
      ]
     },
     "execution_count": 38,
     "metadata": {},
     "output_type": "execute_result"
    }
   ],
   "source": [
    "# Checking if a value is in the contacts dictionary\n",
    "# Do I know an Architect?\n",
    "'Architect' in contacts.values()"
   ]
  },
  {
   "cell_type": "markdown",
   "metadata": {},
   "source": [
    "### The `get()` Method\n",
    "\n",
    "If we are sure a [key](https://www.w3schools.com/python/python_dictionaries_access.asp) exists, we can return the corresponding value using:\n",
    "\n",
    "`dict_name[key_name]` "
   ]
  },
  {
   "cell_type": "code",
   "execution_count": 39,
   "metadata": {},
   "outputs": [
    {
     "data": {
      "text/plain": [
       "'Engineer, land'"
      ]
     },
     "execution_count": 39,
     "metadata": {},
     "output_type": "execute_result"
    }
   ],
   "source": [
    "# Return a value for a particular key\n",
    "contacts['Noah Delgado']"
   ]
  },
  {
   "cell_type": "markdown",
   "metadata": {},
   "source": [
    "However, if the [key](https://www.w3schools.com/python/python_dictionaries_access.asp) is not found, the result will be a `KeyError`. "
   ]
  },
  {
   "cell_type": "code",
   "execution_count": 40,
   "metadata": {},
   "outputs": [
    {
     "ename": "KeyError",
     "evalue": "'Mickey Mouse'",
     "output_type": "error",
     "traceback": [
      "\u001b[31m---------------------------------------------------------------------------\u001b[39m",
      "\u001b[31mKeyError\u001b[39m                                  Traceback (most recent call last)",
      "\u001b[36mCell\u001b[39m\u001b[36m \u001b[39m\u001b[32mIn[40]\u001b[39m\u001b[32m, line 2\u001b[39m\n\u001b[32m      1\u001b[39m \u001b[38;5;66;03m# Asking for a key that does not exist\u001b[39;00m\n\u001b[32m----> \u001b[39m\u001b[32m2\u001b[39m \u001b[43mcontacts\u001b[49m\u001b[43m[\u001b[49m\u001b[33;43m'\u001b[39;49m\u001b[33;43mMickey Mouse\u001b[39;49m\u001b[33;43m'\u001b[39;49m\u001b[43m]\u001b[49m\n",
      "\u001b[31mKeyError\u001b[39m: 'Mickey Mouse'"
     ]
    }
   ],
   "source": [
    "# Asking for a key that does not exist\n",
    "contacts['Mickey Mouse']"
   ]
  },
  {
   "cell_type": "markdown",
   "metadata": {},
   "source": [
    "The more robust approach is to use the `get()` [method](https://www.w3schools.com/python/python_dictionaries_methods.asp). If the [key](https://www.w3schools.com/python/python_dictionaries_access.asp) is not found, the `None` value will be returned. (Optionally, we can also specify a default message to return.)\n",
    "\n",
    "`dict_name.get('key_name', 'key_not_found_message')`"
   ]
  },
  {
   "cell_type": "code",
   "execution_count": 41,
   "metadata": {},
   "outputs": [
    {
     "data": {
      "text/plain": [
       "'Further education lecturer'"
      ]
     },
     "execution_count": 41,
     "metadata": {},
     "output_type": "execute_result"
    }
   ],
   "source": [
    "# Using the get() method to retrieve the value for the key 'Marissa Munoz'\n",
    "contacts.get('Marissa Munoz')"
   ]
  },
  {
   "cell_type": "markdown",
   "metadata": {},
   "source": [
    "### Combining `keys()`, `values()`, and `items()` with Flow Control Statements\n",
    "\n",
    "It is often usful to combine `for` loops with the keys(), values(), or items() [methods](https://www.w3schools.com/python/python_dictionaries_methods.asp) to repeat a task for each entry in a [dictionary](https://www.w3schools.com/python/python_dictionaries.asp). We have the following options:\n",
    "\n",
    "* `.keys()` iterates through only the dictionary keys\n",
    "* `.values()` iterates through only the dictionary values\n",
    "* `.items()` iterates through the keys *and* values\n",
    "\n",
    "Just like a list `for` loop, a temporary variable will be created based on whatever name comes after `for`."
   ]
  },
  {
   "cell_type": "code",
   "execution_count": 42,
   "metadata": {},
   "outputs": [
    {
     "name": "stdout",
     "output_type": "stream",
     "text": [
      "Amanda Bennett\n",
      "Christopher Garrison\n",
      "Debra Allen\n",
      "Donna Decker\n",
      "Heather Bullock\n",
      "Jason Brown\n",
      "Jason Soto\n",
      "Marissa Munoz\n",
      "Matthew Mccall\n",
      "Michael Norman\n",
      "Nicole Leblanc\n",
      "Noah Delgado\n",
      "Rachel Charles\n",
      "Stephanie Petty\n",
      "Nathan Kelber\n",
      "Matt Lincoln\n",
      "Ian DesJardins\n",
      "Zhuo Chen\n"
     ]
    }
   ],
   "source": [
    "# Print every key in our contacts dictionary\n",
    "for name in contacts.keys(): # The variable `name` could be any variable name we choose\n",
    "    print(name)"
   ]
  },
  {
   "cell_type": "code",
   "execution_count": 43,
   "metadata": {},
   "outputs": [
    {
     "name": "stdout",
     "output_type": "stream",
     "text": [
      "Engineer, electrical\n",
      "Planning and development surveyor\n",
      "Intelligence analyst\n",
      "Architect\n",
      "Media planner\n",
      "Energy manager\n",
      "Lighting technician, broadcasting/film/video\n",
      "Further education lecturer\n",
      "Chief Technology Officer\n",
      "Translator\n",
      "Financial controller\n",
      "Engineer, land\n",
      "Physicist, medical\n",
      "Architect\n",
      "Constellate Education Manager\n",
      "Software Engineer\n",
      "Software Engineer\n",
      "Text Analysis Instructor\n"
     ]
    }
   ],
   "source": [
    "# Print every value in our contacts dictionary\n",
    "for occupation in contacts.values(): # The variable `occupation` here could be any variable name we choose\n",
    "    print(occupation)"
   ]
  },
  {
   "cell_type": "markdown",
   "metadata": {},
   "source": [
    "If we use the `.items()` method, we need to define *two* variable names. It is valid Python to define two variables at once."
   ]
  },
  {
   "cell_type": "code",
   "execution_count": 44,
   "metadata": {},
   "outputs": [
    {
     "name": "stdout",
     "output_type": "stream",
     "text": [
      "Python\n",
      "Basics\n"
     ]
    }
   ],
   "source": [
    "# Define two variables at once in Python and assign two strings\n",
    "word1, word2 = 'Python', 'Basics'\n",
    "\n",
    "# Verify the variables have been properly assigned\n",
    "print(word1)\n",
    "print(word2)"
   ]
  },
  {
   "cell_type": "code",
   "execution_count": 45,
   "metadata": {},
   "outputs": [
    {
     "name": "stdout",
     "output_type": "stream",
     "text": [
      "Amanda Bennett has the job: Engineer, electrical\n",
      "Christopher Garrison has the job: Planning and development surveyor\n",
      "Debra Allen has the job: Intelligence analyst\n",
      "Donna Decker has the job: Architect\n",
      "Heather Bullock has the job: Media planner\n",
      "Jason Brown has the job: Energy manager\n",
      "Jason Soto has the job: Lighting technician, broadcasting/film/video\n",
      "Marissa Munoz has the job: Further education lecturer\n",
      "Matthew Mccall has the job: Chief Technology Officer\n",
      "Michael Norman has the job: Translator\n",
      "Nicole Leblanc has the job: Financial controller\n",
      "Noah Delgado has the job: Engineer, land\n",
      "Rachel Charles has the job: Physicist, medical\n",
      "Stephanie Petty has the job: Architect\n",
      "Nathan Kelber has the job: Constellate Education Manager\n",
      "Matt Lincoln has the job: Software Engineer\n",
      "Ian DesJardins has the job: Software Engineer\n",
      "Zhuo Chen has the job: Text Analysis Instructor\n"
     ]
    }
   ],
   "source": [
    "# Print every key and value in our contacts dictionary\n",
    "for name, occupation in contacts.items():\n",
    "    print(f'{name} has the job: {occupation}')"
   ]
  },
  {
   "cell_type": "markdown",
   "metadata": {},
   "source": [
    "___\n",
    "<h2 style=\"color:red; display:inline\">Coding Challenge! &lt; / &gt; </h2>\n",
    "\n",
    "**Using your knowledge of flow control statements and dictionaries, can you write a program that lists all the architects in your contacts? Check the end of this notebook for possible solutions.**\n",
    "___"
   ]
  },
  {
   "cell_type": "code",
   "execution_count": 46,
   "metadata": {},
   "outputs": [],
   "source": [
    "# Level 1 Challenge\n",
    "# A challenge to search a contacts dictionary and output any individuals who are architects. The result\n",
    "# should contain the name of any contacts who are architects.\n",
    "\n",
    "contacts ={\n",
    " 'Amanda Bennett': 'Engineer, electrical',\n",
    " 'Bryan Miller': 'Radiation protection practitioner',\n",
    " 'Christopher Garrison': 'Planning and development surveyor',\n",
    " 'Debra Allen': 'Intelligence analyst',\n",
    " 'Donna Decker': 'Architect',\n",
    " 'Heather Bullock': 'Media planner',\n",
    " 'Jason Brown': 'Energy manager',\n",
    " 'Jason Soto': 'Lighting technician, broadcasting/film/video',\n",
    " 'Marissa Munoz': 'Further education lecturer',\n",
    " 'Matthew Mccall': 'Chief Technology Officer',\n",
    " 'Michael Norman': 'Translator',\n",
    " 'Nicole Leblanc': 'Financial controller',\n",
    " 'Noah Delgado': 'Engineer, land',\n",
    " 'Rachel Charles': 'Physicist, medical',\n",
    " 'Stephanie Petty': 'Architect'}\n",
    "\n",
    "# Write your solution here. Example solutions at the end of this notebook.\n"
   ]
  },
  {
   "cell_type": "code",
   "execution_count": 47,
   "metadata": {},
   "outputs": [],
   "source": [
    "# Level 2 Challenge\n",
    "# From the dictionary called contacts, create a Python list called `leads` containing the names of people \n",
    "# who are architects, translators, or media planners.\n"
   ]
  },
  {
   "cell_type": "markdown",
   "metadata": {},
   "source": [
    "___\n",
    "## Lesson Complete\n",
    "Congratulations! You have completed *Python Basics 3*. There are two more lessons in *Python Basics*:\n",
    "\n",
    "* *Python Basics 4*\n",
    "* *Python Basics 5*\n",
    "\n",
    "### Start Next Lesson: [Python Basics 4](./python-basics-4.ipynb)"
   ]
  },
  {
   "cell_type": "markdown",
   "metadata": {},
   "source": [
    "### Coding Challenge! Solutions\n"
   ]
  },
  {
   "cell_type": "code",
   "execution_count": 48,
   "metadata": {},
   "outputs": [],
   "source": [
    "# Level 1 Solution\n",
    "# Correct the errors in the ranking list\n",
    "\n",
    "# Create the list\n",
    "ranking = ['USA',\n",
    "           'Germany',\n",
    "           'Sweden',\n",
    "           'France',\n",
    "           'Uruguay',\n",
    "           'Spain',\n",
    "           'Canda',\n",
    "           'Brazil',\n",
    "           'Netherlands',]\n",
    "\n",
    "# Correct the spelling of Canada\n",
    "ranking[6] = 'Canada'\n",
    "\n",
    "# Remove Uruguay and add Australia\n",
    "if 'Uruguay' in ranking:\n",
    "    ranking.remove('Uruguay')\n",
    "\n",
    "ranking.append('Australia')\n",
    "\n",
    "# Add England after Sweden\n",
    "if 'Sweden' in ranking:\n",
    "    england_index = ranking.index('Sweden') + 1\n",
    "    ranking.insert(england_index, 'England')"
   ]
  },
  {
   "cell_type": "code",
   "execution_count": 49,
   "metadata": {},
   "outputs": [
    {
     "name": "stdout",
     "output_type": "stream",
     "text": [
      "USA is in the top ten!\n"
     ]
    }
   ],
   "source": [
    "# Level 2 Solution\n",
    "# Write a program that lets the user input any country and check if they are in the top ten ranking\n",
    "\n",
    "# Create the ranking list\n",
    "ranking = ['USA',\n",
    " 'Germany',\n",
    " 'Sweden',\n",
    " 'England',\n",
    " 'France',\n",
    " 'Spain',\n",
    " 'Canada',\n",
    " 'Brazil',\n",
    " 'Netherlands',\n",
    " 'Australia']\n",
    "\n",
    "# Get the country from the user\n",
    "country = input('Which country are you interested in? ')\n",
    "\n",
    "if country in ranking:\n",
    "    print(f'{country} is in the top ten!')\n",
    "else:\n",
    "    print(f'{country} is not in the top ten.')"
   ]
  },
  {
   "cell_type": "code",
   "execution_count": 54,
   "metadata": {},
   "outputs": [
    {
     "name": "stdout",
     "output_type": "stream",
     "text": [
      "Sweden is ranked 3\n"
     ]
    }
   ],
   "source": [
    "# Level 3 Solution\n",
    "# Write a program that lets a user input a country and receive their rank\n",
    "\n",
    "# Create the ranking list\n",
    "ranking = ['USA',\n",
    " 'Germany',\n",
    " 'Sweden',\n",
    " 'England',\n",
    " 'France',\n",
    " 'Spain',\n",
    " 'Canada',\n",
    " 'Brazil',\n",
    " 'Netherlands',\n",
    " 'Australia']\n",
    "\n",
    "# Get the country from the user\n",
    "country = input('Which country are you interested in? ')\n",
    "\n",
    "if country in ranking:\n",
    "    rank = ranking.index(country) + 1\n",
    "    print(f'{country} is ranked {rank}')\n",
    "else:\n",
    "    print(f'{country} is not in the top ten.')"
   ]
  },
  {
   "cell_type": "code",
   "execution_count": 51,
   "metadata": {},
   "outputs": [
    {
     "name": "stdout",
     "output_type": "stream",
     "text": [
      "These countries have a higher rank:\n",
      "USA\n"
     ]
    }
   ],
   "source": [
    "# Level 4 Solution\n",
    "# Write a program that lets a user input a country and return all the teams with a higher rank\n",
    "\n",
    "# Create the ranking list\n",
    "ranking = ['USA',\n",
    " 'Germany',\n",
    " 'Sweden',\n",
    " 'England',\n",
    " 'France',\n",
    " 'Spain',\n",
    " 'Canada',\n",
    " 'Brazil',\n",
    " 'Netherlands',\n",
    " 'Australia']\n",
    "\n",
    "# Get the country from the user\n",
    "country = input('Which country are you interested in? ')\n",
    "\n",
    "if country in ranking:\n",
    "    index = ranking.index(country)\n",
    "else:\n",
    "    index = None\n",
    "    print('That country is not in the top ten.')\n",
    "\n",
    "if index != None:\n",
    "    print('These countries have a higher rank:')\n",
    "    for each_country in ranking[:index]:\n",
    "        print(each_country)"
   ]
  },
  {
   "cell_type": "markdown",
   "metadata": {},
   "source": [
    "#### Dictionaries Challenge Level 1"
   ]
  },
  {
   "cell_type": "code",
   "execution_count": 52,
   "metadata": {},
   "outputs": [
    {
     "name": "stdout",
     "output_type": "stream",
     "text": [
      "Donna Decker\n",
      "Stephanie Petty\n"
     ]
    }
   ],
   "source": [
    "# Level 1 Challenge Solution\n",
    "# A challenge to search a contacts dictionary and output any individuals who are architects. The result\n",
    "# should contain the name of any contacts who are architects.\n",
    "\n",
    "contacts ={\n",
    " 'Amanda Bennett': 'Engineer, electrical',\n",
    " 'Bryan Miller': 'Radiation protection practitioner',\n",
    " 'Christopher Garrison': 'Planning and development surveyor',\n",
    " 'Debra Allen': 'Intelligence analyst',\n",
    " 'Donna Decker': 'Architect',\n",
    " 'Heather Bullock': 'Media planner',\n",
    " 'Jason Brown': 'Energy manager',\n",
    " 'Jason Soto': 'Lighting technician, broadcasting/film/video',\n",
    " 'Marissa Munoz': 'Further education lecturer',\n",
    " 'Matthew Mccall': 'Chief Technology Officer',\n",
    " 'Michael Norman': 'Translator',\n",
    " 'Nicole Leblanc': 'Financial controller',\n",
    " 'Noah Delgado': 'Engineer, land',\n",
    " 'Rachel Charles': 'Physicist, medical',\n",
    " 'Stephanie Petty': 'Architect'}\n",
    "\n",
    "# Write your solution here. Example solutions at the end of this notebook.\n",
    "\n",
    "for name, occupation in contacts.items():\n",
    "    if occupation == 'Architect':\n",
    "        print(name)"
   ]
  },
  {
   "cell_type": "markdown",
   "metadata": {},
   "source": [
    "#### Dictionaries Challenge Level 2"
   ]
  },
  {
   "cell_type": "code",
   "execution_count": 53,
   "metadata": {},
   "outputs": [
    {
     "name": "stdout",
     "output_type": "stream",
     "text": [
      "['Donna Decker', 'Heather Bullock', 'Michael Norman', 'Stephanie Petty']\n"
     ]
    }
   ],
   "source": [
    "# Level 2 Challenge\n",
    "# From the dictionary called contacts, create a Python list called `leads` containing the names of people \n",
    "# who are architects, translators, or media planners.\n",
    "leads = []\n",
    "\n",
    "for name, occupation in contacts.items():\n",
    "    if occupation == 'Architect' or occupation == 'Translator' or occupation =='Media planner':\n",
    "        leads.append(name)\n",
    "\n",
    "print(leads)"
   ]
  }
 ],
 "metadata": {
  "kernelspec": {
   "display_name": "Python 3",
   "language": "python",
   "name": "python3"
  },
  "language_info": {
   "codemirror_mode": {
    "name": "ipython",
    "version": 3
   },
   "file_extension": ".py",
   "mimetype": "text/x-python",
   "name": "python",
   "nbconvert_exporter": "python",
   "pygments_lexer": "ipython3",
   "version": "3.11.13"
  },
  "toc": {
   "base_numbering": 1,
   "nav_menu": {},
   "number_sections": true,
   "sideBar": true,
   "skip_h1_title": true,
   "title_cell": "Table of Contents",
   "title_sidebar": "Contents",
   "toc_cell": false,
   "toc_position": {
    "height": "calc(100% - 180px)",
    "left": "10px",
    "top": "150px",
    "width": "354px"
   },
   "toc_section_display": true,
   "toc_window_display": false
  }
 },
 "nbformat": 4,
 "nbformat_minor": 4
}
