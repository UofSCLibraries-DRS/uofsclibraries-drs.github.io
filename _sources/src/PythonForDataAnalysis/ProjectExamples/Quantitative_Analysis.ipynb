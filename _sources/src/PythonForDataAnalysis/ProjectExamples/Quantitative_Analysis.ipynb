{
 "cells": [
  {
   "cell_type": "markdown",
   "id": "237ec23a",
   "metadata": {},
   "source": [
    "# Quantitative Analysis \n",
    "\n",
    "This Jupyter notebook provides a comprehensive **exploratory data analysis (EDA)** of the Boston Housing dataset. It walks through data loading, cleaning, indexing, grouping, and summary statistics, with clear examples and commentary. The goal is to help users develop familiarity with `pandas`, `numpy`, `matplotlib`, and `seaborn` for quantitative analysis. Special attention is given to understanding data distribution, variable relationships, and insights related to housing near the Charles River.\n"
   ]
  },
  {
   "cell_type": "markdown",
   "id": "4a5381d1",
   "metadata": {},
   "source": [
    "## Installing Libraries"
   ]
  },
  {
   "cell_type": "code",
   "execution_count": null,
   "id": "05a909aa",
   "metadata": {},
   "outputs": [],
   "source": [
    "%pip install numpy \n",
    "%pip install pandas\n",
    "%pip install seaborn\n",
    "%pip install matplotlib"
   ]
  },
  {
   "cell_type": "code",
   "execution_count": 2,
   "id": "2b9ff03f",
   "metadata": {},
   "outputs": [],
   "source": [
    "import numpy as np\n",
    "import pandas as pd\n",
    "import seaborn as sns\n",
    "import matplotlib.pyplot as plt"
   ]
  },
  {
   "cell_type": "markdown",
   "id": "99406a7c",
   "metadata": {},
   "source": [
    "## Exploratory Data Analysis"
   ]
  },
  {
   "cell_type": "markdown",
   "id": "8862c5d6",
   "metadata": {},
   "source": [
    "Using `set_option` in pandas so that floating-point numbers (decimals) are shown with only **2 digits after the decimal point** when printed. It helps make data tables easier to read.\n",
    "\n",
    "For more arguments `set_option` can take checkout [Pandas Documentation on set_options](https://pandas.pydata.org/docs/reference/api/pandas.set_option.html)"
   ]
  },
  {
   "cell_type": "code",
   "execution_count": 3,
   "id": "f4022b21",
   "metadata": {},
   "outputs": [],
   "source": [
    "# Set pandas options for better display of floating point numbers\n",
    "pd.set_option(\"display.precision\", 2)"
   ]
  },
  {
   "cell_type": "markdown",
   "id": "8ef3c30a",
   "metadata": {},
   "source": [
    "Using `read_csv` to load a CSV file named `\"Boston.csv\"` into a pandas **DataFrame** called `df`. The using `head()` to display the first 5 rows, by default. We could also use `head(10)` if we wanted to display the first 10 rows."
   ]
  },
  {
   "cell_type": "markdown",
   "id": "460ba4a5",
   "metadata": {},
   "source": [
    "Here is the [data](./Boston.csv) we used but, if you have data you would rather use, feel free to use it. Just make sure to change the path in the data variable."
   ]
  },
  {
   "cell_type": "code",
   "execution_count": 4,
   "id": "4d814f3a",
   "metadata": {},
   "outputs": [
    {
     "data": {
      "text/html": [
       "<div>\n",
       "<style scoped>\n",
       "    .dataframe tbody tr th:only-of-type {\n",
       "        vertical-align: middle;\n",
       "    }\n",
       "\n",
       "    .dataframe tbody tr th {\n",
       "        vertical-align: top;\n",
       "    }\n",
       "\n",
       "    .dataframe thead th {\n",
       "        text-align: right;\n",
       "    }\n",
       "</style>\n",
       "<table border=\"1\" class=\"dataframe\">\n",
       "  <thead>\n",
       "    <tr style=\"text-align: right;\">\n",
       "      <th></th>\n",
       "      <th>Unnamed: 0</th>\n",
       "      <th>crim</th>\n",
       "      <th>zn</th>\n",
       "      <th>indus</th>\n",
       "      <th>chas</th>\n",
       "      <th>nox</th>\n",
       "      <th>rm</th>\n",
       "      <th>age</th>\n",
       "      <th>dis</th>\n",
       "      <th>rad</th>\n",
       "      <th>tax</th>\n",
       "      <th>ptratio</th>\n",
       "      <th>black</th>\n",
       "      <th>lstat</th>\n",
       "      <th>medv</th>\n",
       "    </tr>\n",
       "  </thead>\n",
       "  <tbody>\n",
       "    <tr>\n",
       "      <th>0</th>\n",
       "      <td>1</td>\n",
       "      <td>6.32e-03</td>\n",
       "      <td>18.0</td>\n",
       "      <td>2.31</td>\n",
       "      <td>0</td>\n",
       "      <td>0.54</td>\n",
       "      <td>6.58</td>\n",
       "      <td>65.2</td>\n",
       "      <td>4.09</td>\n",
       "      <td>1</td>\n",
       "      <td>296</td>\n",
       "      <td>15.3</td>\n",
       "      <td>396.90</td>\n",
       "      <td>4.98</td>\n",
       "      <td>24.0</td>\n",
       "    </tr>\n",
       "    <tr>\n",
       "      <th>1</th>\n",
       "      <td>2</td>\n",
       "      <td>2.73e-02</td>\n",
       "      <td>0.0</td>\n",
       "      <td>7.07</td>\n",
       "      <td>0</td>\n",
       "      <td>0.47</td>\n",
       "      <td>6.42</td>\n",
       "      <td>78.9</td>\n",
       "      <td>4.97</td>\n",
       "      <td>2</td>\n",
       "      <td>242</td>\n",
       "      <td>17.8</td>\n",
       "      <td>396.90</td>\n",
       "      <td>9.14</td>\n",
       "      <td>21.6</td>\n",
       "    </tr>\n",
       "    <tr>\n",
       "      <th>2</th>\n",
       "      <td>3</td>\n",
       "      <td>2.73e-02</td>\n",
       "      <td>0.0</td>\n",
       "      <td>7.07</td>\n",
       "      <td>0</td>\n",
       "      <td>0.47</td>\n",
       "      <td>7.18</td>\n",
       "      <td>61.1</td>\n",
       "      <td>4.97</td>\n",
       "      <td>2</td>\n",
       "      <td>242</td>\n",
       "      <td>17.8</td>\n",
       "      <td>392.83</td>\n",
       "      <td>4.03</td>\n",
       "      <td>34.7</td>\n",
       "    </tr>\n",
       "    <tr>\n",
       "      <th>3</th>\n",
       "      <td>4</td>\n",
       "      <td>3.24e-02</td>\n",
       "      <td>0.0</td>\n",
       "      <td>2.18</td>\n",
       "      <td>0</td>\n",
       "      <td>0.46</td>\n",
       "      <td>7.00</td>\n",
       "      <td>45.8</td>\n",
       "      <td>6.06</td>\n",
       "      <td>3</td>\n",
       "      <td>222</td>\n",
       "      <td>18.7</td>\n",
       "      <td>394.63</td>\n",
       "      <td>2.94</td>\n",
       "      <td>33.4</td>\n",
       "    </tr>\n",
       "    <tr>\n",
       "      <th>4</th>\n",
       "      <td>5</td>\n",
       "      <td>6.91e-02</td>\n",
       "      <td>0.0</td>\n",
       "      <td>2.18</td>\n",
       "      <td>0</td>\n",
       "      <td>0.46</td>\n",
       "      <td>7.15</td>\n",
       "      <td>54.2</td>\n",
       "      <td>6.06</td>\n",
       "      <td>3</td>\n",
       "      <td>222</td>\n",
       "      <td>18.7</td>\n",
       "      <td>396.90</td>\n",
       "      <td>5.33</td>\n",
       "      <td>36.2</td>\n",
       "    </tr>\n",
       "  </tbody>\n",
       "</table>\n",
       "</div>"
      ],
      "text/plain": [
       "   Unnamed: 0      crim    zn  indus  chas   nox    rm   age   dis  rad  tax  \\\n",
       "0           1  6.32e-03  18.0   2.31     0  0.54  6.58  65.2  4.09    1  296   \n",
       "1           2  2.73e-02   0.0   7.07     0  0.47  6.42  78.9  4.97    2  242   \n",
       "2           3  2.73e-02   0.0   7.07     0  0.47  7.18  61.1  4.97    2  242   \n",
       "3           4  3.24e-02   0.0   2.18     0  0.46  7.00  45.8  6.06    3  222   \n",
       "4           5  6.91e-02   0.0   2.18     0  0.46  7.15  54.2  6.06    3  222   \n",
       "\n",
       "   ptratio   black  lstat  medv  \n",
       "0     15.3  396.90   4.98  24.0  \n",
       "1     17.8  396.90   9.14  21.6  \n",
       "2     17.8  392.83   4.03  34.7  \n",
       "3     18.7  394.63   2.94  33.4  \n",
       "4     18.7  396.90   5.33  36.2  "
      ]
     },
     "execution_count": 4,
     "metadata": {},
     "output_type": "execute_result"
    }
   ],
   "source": [
    "# Load the Boston housing dataset\n",
    "df = pd.read_csv(\"./Boston.csv\")\n",
    "# Display the first few rows of the dataset\n",
    "df.head()"
   ]
  },
  {
   "cell_type": "markdown",
   "id": "9c5336dc",
   "metadata": {},
   "source": [
    "`drop()` removes the column named 'Unnamed: 0' from the DataFrame df in place (without creating a new DataFrame). `axis=1` means you're dropping a column (not a row). `inplace=True` means the change is made directly to df — no need to reassign it."
   ]
  },
  {
   "cell_type": "code",
   "execution_count": 5,
   "id": "206ce958",
   "metadata": {},
   "outputs": [],
   "source": [
    "# Drop the 'Unnamed: 0' column\n",
    "df.drop(columns=['Unnamed: 0'], axis=1, inplace=True)"
   ]
  },
  {
   "cell_type": "markdown",
   "id": "77eede4e",
   "metadata": {},
   "source": [
    "### Printing DataFrames"
   ]
  },
  {
   "cell_type": "markdown",
   "id": "af49a952",
   "metadata": {},
   "source": [
    "Displays the **number of rows and columns** in the dataset `df`. `.shape` returns a **tuple**: `(num_rows, num_columns)`."
   ]
  },
  {
   "cell_type": "code",
   "execution_count": 6,
   "id": "272836b5",
   "metadata": {},
   "outputs": [
    {
     "name": "stdout",
     "output_type": "stream",
     "text": [
      "(506, 14)\n"
     ]
    }
   ],
   "source": [
    "# Display the number of rows and columns in the dataset\n",
    "print(df.shape)"
   ]
  },
  {
   "cell_type": "markdown",
   "id": "35a7939f",
   "metadata": {},
   "source": [
    "Prints the **column names** of the DataFrame `df`. `.columns` returns an **Index object** containing all column labels. This helps you quickly see what features (columns) are included in the dataset."
   ]
  },
  {
   "cell_type": "code",
   "execution_count": 7,
   "id": "48a7d121",
   "metadata": {},
   "outputs": [
    {
     "name": "stdout",
     "output_type": "stream",
     "text": [
      "Index(['crim', 'zn', 'indus', 'chas', 'nox', 'rm', 'age', 'dis', 'rad', 'tax',\n",
      "       'ptratio', 'black', 'lstat', 'medv'],\n",
      "      dtype='object')\n"
     ]
    }
   ],
   "source": [
    "# Display the column names of the dataset\n",
    "print(df.columns)"
   ]
  },
  {
   "cell_type": "markdown",
   "id": "9e9bf507",
   "metadata": {},
   "source": [
    "`.info` displays a summary of the dataset, including: number of rows and columns, column names, number of non-null (non-missing) values in each column, column data types, and memory usage. This is helpful to see if the data has any missing values. "
   ]
  },
  {
   "cell_type": "code",
   "execution_count": 8,
   "id": "59b3b9cf",
   "metadata": {},
   "outputs": [
    {
     "name": "stdout",
     "output_type": "stream",
     "text": [
      "<class 'pandas.core.frame.DataFrame'>\n",
      "RangeIndex: 506 entries, 0 to 505\n",
      "Data columns (total 14 columns):\n",
      " #   Column   Non-Null Count  Dtype  \n",
      "---  ------   --------------  -----  \n",
      " 0   crim     506 non-null    float64\n",
      " 1   zn       506 non-null    float64\n",
      " 2   indus    506 non-null    float64\n",
      " 3   chas     506 non-null    int64  \n",
      " 4   nox      506 non-null    float64\n",
      " 5   rm       506 non-null    float64\n",
      " 6   age      506 non-null    float64\n",
      " 7   dis      506 non-null    float64\n",
      " 8   rad      506 non-null    int64  \n",
      " 9   tax      506 non-null    int64  \n",
      " 10  ptratio  506 non-null    float64\n",
      " 11  black    506 non-null    float64\n",
      " 12  lstat    506 non-null    float64\n",
      " 13  medv     506 non-null    float64\n",
      "dtypes: float64(11), int64(3)\n",
      "memory usage: 55.5 KB\n",
      "None\n"
     ]
    }
   ],
   "source": [
    "# Display the summary information of the dataset\n",
    "print(df.info())"
   ]
  },
  {
   "cell_type": "markdown",
   "id": "f90b11e6",
   "metadata": {},
   "source": [
    "The column `chas` represents Charles River dummy variable (= 1 if tract bounds river; 0 otherwise). If this variable was not already of type `int` and was of type `boolean` we could use `astype()` to change its type from `boolean` to `int`. This would allow for easier numerical analysis. \n",
    "\n",
    "Since, `chas` is already of type `int` we will leave the next line commented out. "
   ]
  },
  {
   "cell_type": "code",
   "execution_count": 9,
   "id": "f9372b52",
   "metadata": {},
   "outputs": [],
   "source": [
    "#df[\"chas\"] = df[\"chas\"].astype(\"int64\")"
   ]
  },
  {
   "cell_type": "markdown",
   "id": "094cb72b",
   "metadata": {},
   "source": [
    "`describe()` displays basic statistical summaries for each numeric column in the dataset df.\n",
    "\n",
    "Output includes:\n",
    "count – number of non-missing values\n",
    "mean – average\n",
    "std – standard deviation\n",
    "min – minimum value\n",
    "25%, 50% (median), 75% – quartiles\n",
    "max – maximum value\n",
    "\n",
    "Using this can help you understand your data by seeing the ranges, detect outliers or skews, check for data issues, and help guide you in processing the data. "
   ]
  },
  {
   "cell_type": "code",
   "execution_count": 10,
   "id": "17e9cd15",
   "metadata": {},
   "outputs": [
    {
     "data": {
      "text/html": [
       "<div>\n",
       "<style scoped>\n",
       "    .dataframe tbody tr th:only-of-type {\n",
       "        vertical-align: middle;\n",
       "    }\n",
       "\n",
       "    .dataframe tbody tr th {\n",
       "        vertical-align: top;\n",
       "    }\n",
       "\n",
       "    .dataframe thead th {\n",
       "        text-align: right;\n",
       "    }\n",
       "</style>\n",
       "<table border=\"1\" class=\"dataframe\">\n",
       "  <thead>\n",
       "    <tr style=\"text-align: right;\">\n",
       "      <th></th>\n",
       "      <th>crim</th>\n",
       "      <th>zn</th>\n",
       "      <th>indus</th>\n",
       "      <th>chas</th>\n",
       "      <th>nox</th>\n",
       "      <th>rm</th>\n",
       "      <th>age</th>\n",
       "      <th>dis</th>\n",
       "      <th>rad</th>\n",
       "      <th>tax</th>\n",
       "      <th>ptratio</th>\n",
       "      <th>black</th>\n",
       "      <th>lstat</th>\n",
       "      <th>medv</th>\n",
       "    </tr>\n",
       "  </thead>\n",
       "  <tbody>\n",
       "    <tr>\n",
       "      <th>count</th>\n",
       "      <td>5.06e+02</td>\n",
       "      <td>506.00</td>\n",
       "      <td>506.00</td>\n",
       "      <td>506.00</td>\n",
       "      <td>506.00</td>\n",
       "      <td>506.00</td>\n",
       "      <td>506.00</td>\n",
       "      <td>506.00</td>\n",
       "      <td>506.00</td>\n",
       "      <td>506.00</td>\n",
       "      <td>506.00</td>\n",
       "      <td>506.00</td>\n",
       "      <td>506.00</td>\n",
       "      <td>506.00</td>\n",
       "    </tr>\n",
       "    <tr>\n",
       "      <th>mean</th>\n",
       "      <td>3.61e+00</td>\n",
       "      <td>11.36</td>\n",
       "      <td>11.14</td>\n",
       "      <td>0.07</td>\n",
       "      <td>0.55</td>\n",
       "      <td>6.28</td>\n",
       "      <td>68.57</td>\n",
       "      <td>3.80</td>\n",
       "      <td>9.55</td>\n",
       "      <td>408.24</td>\n",
       "      <td>18.46</td>\n",
       "      <td>356.67</td>\n",
       "      <td>12.65</td>\n",
       "      <td>22.53</td>\n",
       "    </tr>\n",
       "    <tr>\n",
       "      <th>std</th>\n",
       "      <td>8.60e+00</td>\n",
       "      <td>23.32</td>\n",
       "      <td>6.86</td>\n",
       "      <td>0.25</td>\n",
       "      <td>0.12</td>\n",
       "      <td>0.70</td>\n",
       "      <td>28.15</td>\n",
       "      <td>2.11</td>\n",
       "      <td>8.71</td>\n",
       "      <td>168.54</td>\n",
       "      <td>2.16</td>\n",
       "      <td>91.29</td>\n",
       "      <td>7.14</td>\n",
       "      <td>9.20</td>\n",
       "    </tr>\n",
       "    <tr>\n",
       "      <th>min</th>\n",
       "      <td>6.32e-03</td>\n",
       "      <td>0.00</td>\n",
       "      <td>0.46</td>\n",
       "      <td>0.00</td>\n",
       "      <td>0.39</td>\n",
       "      <td>3.56</td>\n",
       "      <td>2.90</td>\n",
       "      <td>1.13</td>\n",
       "      <td>1.00</td>\n",
       "      <td>187.00</td>\n",
       "      <td>12.60</td>\n",
       "      <td>0.32</td>\n",
       "      <td>1.73</td>\n",
       "      <td>5.00</td>\n",
       "    </tr>\n",
       "    <tr>\n",
       "      <th>25%</th>\n",
       "      <td>8.20e-02</td>\n",
       "      <td>0.00</td>\n",
       "      <td>5.19</td>\n",
       "      <td>0.00</td>\n",
       "      <td>0.45</td>\n",
       "      <td>5.89</td>\n",
       "      <td>45.02</td>\n",
       "      <td>2.10</td>\n",
       "      <td>4.00</td>\n",
       "      <td>279.00</td>\n",
       "      <td>17.40</td>\n",
       "      <td>375.38</td>\n",
       "      <td>6.95</td>\n",
       "      <td>17.02</td>\n",
       "    </tr>\n",
       "    <tr>\n",
       "      <th>50%</th>\n",
       "      <td>2.57e-01</td>\n",
       "      <td>0.00</td>\n",
       "      <td>9.69</td>\n",
       "      <td>0.00</td>\n",
       "      <td>0.54</td>\n",
       "      <td>6.21</td>\n",
       "      <td>77.50</td>\n",
       "      <td>3.21</td>\n",
       "      <td>5.00</td>\n",
       "      <td>330.00</td>\n",
       "      <td>19.05</td>\n",
       "      <td>391.44</td>\n",
       "      <td>11.36</td>\n",
       "      <td>21.20</td>\n",
       "    </tr>\n",
       "    <tr>\n",
       "      <th>75%</th>\n",
       "      <td>3.68e+00</td>\n",
       "      <td>12.50</td>\n",
       "      <td>18.10</td>\n",
       "      <td>0.00</td>\n",
       "      <td>0.62</td>\n",
       "      <td>6.62</td>\n",
       "      <td>94.07</td>\n",
       "      <td>5.19</td>\n",
       "      <td>24.00</td>\n",
       "      <td>666.00</td>\n",
       "      <td>20.20</td>\n",
       "      <td>396.23</td>\n",
       "      <td>16.96</td>\n",
       "      <td>25.00</td>\n",
       "    </tr>\n",
       "    <tr>\n",
       "      <th>max</th>\n",
       "      <td>8.90e+01</td>\n",
       "      <td>100.00</td>\n",
       "      <td>27.74</td>\n",
       "      <td>1.00</td>\n",
       "      <td>0.87</td>\n",
       "      <td>8.78</td>\n",
       "      <td>100.00</td>\n",
       "      <td>12.13</td>\n",
       "      <td>24.00</td>\n",
       "      <td>711.00</td>\n",
       "      <td>22.00</td>\n",
       "      <td>396.90</td>\n",
       "      <td>37.97</td>\n",
       "      <td>50.00</td>\n",
       "    </tr>\n",
       "  </tbody>\n",
       "</table>\n",
       "</div>"
      ],
      "text/plain": [
       "           crim      zn   indus    chas     nox      rm     age     dis  \\\n",
       "count  5.06e+02  506.00  506.00  506.00  506.00  506.00  506.00  506.00   \n",
       "mean   3.61e+00   11.36   11.14    0.07    0.55    6.28   68.57    3.80   \n",
       "std    8.60e+00   23.32    6.86    0.25    0.12    0.70   28.15    2.11   \n",
       "min    6.32e-03    0.00    0.46    0.00    0.39    3.56    2.90    1.13   \n",
       "25%    8.20e-02    0.00    5.19    0.00    0.45    5.89   45.02    2.10   \n",
       "50%    2.57e-01    0.00    9.69    0.00    0.54    6.21   77.50    3.21   \n",
       "75%    3.68e+00   12.50   18.10    0.00    0.62    6.62   94.07    5.19   \n",
       "max    8.90e+01  100.00   27.74    1.00    0.87    8.78  100.00   12.13   \n",
       "\n",
       "          rad     tax  ptratio   black   lstat    medv  \n",
       "count  506.00  506.00   506.00  506.00  506.00  506.00  \n",
       "mean     9.55  408.24    18.46  356.67   12.65   22.53  \n",
       "std      8.71  168.54     2.16   91.29    7.14    9.20  \n",
       "min      1.00  187.00    12.60    0.32    1.73    5.00  \n",
       "25%      4.00  279.00    17.40  375.38    6.95   17.02  \n",
       "50%      5.00  330.00    19.05  391.44   11.36   21.20  \n",
       "75%     24.00  666.00    20.20  396.23   16.96   25.00  \n",
       "max     24.00  711.00    22.00  396.90   37.97   50.00  "
      ]
     },
     "execution_count": 10,
     "metadata": {},
     "output_type": "execute_result"
    }
   ],
   "source": [
    "# Display basic statistics of the dataset\n",
    "df.describe()"
   ]
  },
  {
   "cell_type": "markdown",
   "id": "187f7b99",
   "metadata": {},
   "source": [
    "### Sorting"
   ]
  },
  {
   "cell_type": "markdown",
   "id": "fe8c347d",
   "metadata": {},
   "source": [
    "`sort_values()` **sorts the dataset by the `tax` column in descending order** (from highest to lowest) and then uses `head()` to display the **top 5 rows** of the result. This helps you **quickly find the most heavily taxed areas** in the dataset and can reveal **extreme values or outliers** in the `tax` column.\n",
    "\n",
    "If you wanted the **lowest** tax values, you would set `ascending=True`.\n"
   ]
  },
  {
   "cell_type": "code",
   "execution_count": 11,
   "id": "7df5a007",
   "metadata": {},
   "outputs": [
    {
     "data": {
      "text/html": [
       "<div>\n",
       "<style scoped>\n",
       "    .dataframe tbody tr th:only-of-type {\n",
       "        vertical-align: middle;\n",
       "    }\n",
       "\n",
       "    .dataframe tbody tr th {\n",
       "        vertical-align: top;\n",
       "    }\n",
       "\n",
       "    .dataframe thead th {\n",
       "        text-align: right;\n",
       "    }\n",
       "</style>\n",
       "<table border=\"1\" class=\"dataframe\">\n",
       "  <thead>\n",
       "    <tr style=\"text-align: right;\">\n",
       "      <th></th>\n",
       "      <th>crim</th>\n",
       "      <th>zn</th>\n",
       "      <th>indus</th>\n",
       "      <th>chas</th>\n",
       "      <th>nox</th>\n",
       "      <th>rm</th>\n",
       "      <th>age</th>\n",
       "      <th>dis</th>\n",
       "      <th>rad</th>\n",
       "      <th>tax</th>\n",
       "      <th>ptratio</th>\n",
       "      <th>black</th>\n",
       "      <th>lstat</th>\n",
       "      <th>medv</th>\n",
       "    </tr>\n",
       "  </thead>\n",
       "  <tbody>\n",
       "    <tr>\n",
       "      <th>492</th>\n",
       "      <td>0.11</td>\n",
       "      <td>0.0</td>\n",
       "      <td>27.74</td>\n",
       "      <td>0</td>\n",
       "      <td>0.61</td>\n",
       "      <td>5.98</td>\n",
       "      <td>83.5</td>\n",
       "      <td>2.11</td>\n",
       "      <td>4</td>\n",
       "      <td>711</td>\n",
       "      <td>20.1</td>\n",
       "      <td>396.90</td>\n",
       "      <td>13.35</td>\n",
       "      <td>20.1</td>\n",
       "    </tr>\n",
       "    <tr>\n",
       "      <th>491</th>\n",
       "      <td>0.11</td>\n",
       "      <td>0.0</td>\n",
       "      <td>27.74</td>\n",
       "      <td>0</td>\n",
       "      <td>0.61</td>\n",
       "      <td>5.98</td>\n",
       "      <td>98.8</td>\n",
       "      <td>1.87</td>\n",
       "      <td>4</td>\n",
       "      <td>711</td>\n",
       "      <td>20.1</td>\n",
       "      <td>390.11</td>\n",
       "      <td>18.07</td>\n",
       "      <td>13.6</td>\n",
       "    </tr>\n",
       "    <tr>\n",
       "      <th>490</th>\n",
       "      <td>0.21</td>\n",
       "      <td>0.0</td>\n",
       "      <td>27.74</td>\n",
       "      <td>0</td>\n",
       "      <td>0.61</td>\n",
       "      <td>5.09</td>\n",
       "      <td>98.0</td>\n",
       "      <td>1.82</td>\n",
       "      <td>4</td>\n",
       "      <td>711</td>\n",
       "      <td>20.1</td>\n",
       "      <td>318.43</td>\n",
       "      <td>29.68</td>\n",
       "      <td>8.1</td>\n",
       "    </tr>\n",
       "    <tr>\n",
       "      <th>489</th>\n",
       "      <td>0.18</td>\n",
       "      <td>0.0</td>\n",
       "      <td>27.74</td>\n",
       "      <td>0</td>\n",
       "      <td>0.61</td>\n",
       "      <td>5.41</td>\n",
       "      <td>98.3</td>\n",
       "      <td>1.76</td>\n",
       "      <td>4</td>\n",
       "      <td>711</td>\n",
       "      <td>20.1</td>\n",
       "      <td>344.05</td>\n",
       "      <td>23.97</td>\n",
       "      <td>7.0</td>\n",
       "    </tr>\n",
       "    <tr>\n",
       "      <th>488</th>\n",
       "      <td>0.15</td>\n",
       "      <td>0.0</td>\n",
       "      <td>27.74</td>\n",
       "      <td>0</td>\n",
       "      <td>0.61</td>\n",
       "      <td>5.45</td>\n",
       "      <td>92.7</td>\n",
       "      <td>1.82</td>\n",
       "      <td>4</td>\n",
       "      <td>711</td>\n",
       "      <td>20.1</td>\n",
       "      <td>395.09</td>\n",
       "      <td>18.06</td>\n",
       "      <td>15.2</td>\n",
       "    </tr>\n",
       "  </tbody>\n",
       "</table>\n",
       "</div>"
      ],
      "text/plain": [
       "     crim   zn  indus  chas   nox    rm   age   dis  rad  tax  ptratio  \\\n",
       "492  0.11  0.0  27.74     0  0.61  5.98  83.5  2.11    4  711     20.1   \n",
       "491  0.11  0.0  27.74     0  0.61  5.98  98.8  1.87    4  711     20.1   \n",
       "490  0.21  0.0  27.74     0  0.61  5.09  98.0  1.82    4  711     20.1   \n",
       "489  0.18  0.0  27.74     0  0.61  5.41  98.3  1.76    4  711     20.1   \n",
       "488  0.15  0.0  27.74     0  0.61  5.45  92.7  1.82    4  711     20.1   \n",
       "\n",
       "      black  lstat  medv  \n",
       "492  396.90  13.35  20.1  \n",
       "491  390.11  18.07  13.6  \n",
       "490  318.43  29.68   8.1  \n",
       "489  344.05  23.97   7.0  \n",
       "488  395.09  18.06  15.2  "
      ]
     },
     "execution_count": 11,
     "metadata": {},
     "output_type": "execute_result"
    }
   ],
   "source": [
    "# Display the first 5 rows of the dataset,  sorted by a specific column\n",
    "df.sort_values(by=\"tax\", ascending=False).head()"
   ]
  },
  {
   "cell_type": "markdown",
   "id": "ace7cd29",
   "metadata": {},
   "source": [
    "You can also sort by more than one column."
   ]
  },
  {
   "cell_type": "code",
   "execution_count": 12,
   "id": "14f5ad89",
   "metadata": {},
   "outputs": [
    {
     "data": {
      "text/html": [
       "<div>\n",
       "<style scoped>\n",
       "    .dataframe tbody tr th:only-of-type {\n",
       "        vertical-align: middle;\n",
       "    }\n",
       "\n",
       "    .dataframe tbody tr th {\n",
       "        vertical-align: top;\n",
       "    }\n",
       "\n",
       "    .dataframe thead th {\n",
       "        text-align: right;\n",
       "    }\n",
       "</style>\n",
       "<table border=\"1\" class=\"dataframe\">\n",
       "  <thead>\n",
       "    <tr style=\"text-align: right;\">\n",
       "      <th></th>\n",
       "      <th>crim</th>\n",
       "      <th>zn</th>\n",
       "      <th>indus</th>\n",
       "      <th>chas</th>\n",
       "      <th>nox</th>\n",
       "      <th>rm</th>\n",
       "      <th>age</th>\n",
       "      <th>dis</th>\n",
       "      <th>rad</th>\n",
       "      <th>tax</th>\n",
       "      <th>ptratio</th>\n",
       "      <th>black</th>\n",
       "      <th>lstat</th>\n",
       "      <th>medv</th>\n",
       "    </tr>\n",
       "  </thead>\n",
       "  <tbody>\n",
       "    <tr>\n",
       "      <th>488</th>\n",
       "      <td>0.15</td>\n",
       "      <td>0.0</td>\n",
       "      <td>27.74</td>\n",
       "      <td>0</td>\n",
       "      <td>0.61</td>\n",
       "      <td>5.45</td>\n",
       "      <td>92.7</td>\n",
       "      <td>1.82</td>\n",
       "      <td>4</td>\n",
       "      <td>711</td>\n",
       "      <td>20.1</td>\n",
       "      <td>395.09</td>\n",
       "      <td>18.06</td>\n",
       "      <td>15.2</td>\n",
       "    </tr>\n",
       "    <tr>\n",
       "      <th>489</th>\n",
       "      <td>0.18</td>\n",
       "      <td>0.0</td>\n",
       "      <td>27.74</td>\n",
       "      <td>0</td>\n",
       "      <td>0.61</td>\n",
       "      <td>5.41</td>\n",
       "      <td>98.3</td>\n",
       "      <td>1.76</td>\n",
       "      <td>4</td>\n",
       "      <td>711</td>\n",
       "      <td>20.1</td>\n",
       "      <td>344.05</td>\n",
       "      <td>23.97</td>\n",
       "      <td>7.0</td>\n",
       "    </tr>\n",
       "    <tr>\n",
       "      <th>490</th>\n",
       "      <td>0.21</td>\n",
       "      <td>0.0</td>\n",
       "      <td>27.74</td>\n",
       "      <td>0</td>\n",
       "      <td>0.61</td>\n",
       "      <td>5.09</td>\n",
       "      <td>98.0</td>\n",
       "      <td>1.82</td>\n",
       "      <td>4</td>\n",
       "      <td>711</td>\n",
       "      <td>20.1</td>\n",
       "      <td>318.43</td>\n",
       "      <td>29.68</td>\n",
       "      <td>8.1</td>\n",
       "    </tr>\n",
       "    <tr>\n",
       "      <th>491</th>\n",
       "      <td>0.11</td>\n",
       "      <td>0.0</td>\n",
       "      <td>27.74</td>\n",
       "      <td>0</td>\n",
       "      <td>0.61</td>\n",
       "      <td>5.98</td>\n",
       "      <td>98.8</td>\n",
       "      <td>1.87</td>\n",
       "      <td>4</td>\n",
       "      <td>711</td>\n",
       "      <td>20.1</td>\n",
       "      <td>390.11</td>\n",
       "      <td>18.07</td>\n",
       "      <td>13.6</td>\n",
       "    </tr>\n",
       "    <tr>\n",
       "      <th>492</th>\n",
       "      <td>0.11</td>\n",
       "      <td>0.0</td>\n",
       "      <td>27.74</td>\n",
       "      <td>0</td>\n",
       "      <td>0.61</td>\n",
       "      <td>5.98</td>\n",
       "      <td>83.5</td>\n",
       "      <td>2.11</td>\n",
       "      <td>4</td>\n",
       "      <td>711</td>\n",
       "      <td>20.1</td>\n",
       "      <td>396.90</td>\n",
       "      <td>13.35</td>\n",
       "      <td>20.1</td>\n",
       "    </tr>\n",
       "  </tbody>\n",
       "</table>\n",
       "</div>"
      ],
      "text/plain": [
       "     crim   zn  indus  chas   nox    rm   age   dis  rad  tax  ptratio  \\\n",
       "488  0.15  0.0  27.74     0  0.61  5.45  92.7  1.82    4  711     20.1   \n",
       "489  0.18  0.0  27.74     0  0.61  5.41  98.3  1.76    4  711     20.1   \n",
       "490  0.21  0.0  27.74     0  0.61  5.09  98.0  1.82    4  711     20.1   \n",
       "491  0.11  0.0  27.74     0  0.61  5.98  98.8  1.87    4  711     20.1   \n",
       "492  0.11  0.0  27.74     0  0.61  5.98  83.5  2.11    4  711     20.1   \n",
       "\n",
       "      black  lstat  medv  \n",
       "488  395.09  18.06  15.2  \n",
       "489  344.05  23.97   7.0  \n",
       "490  318.43  29.68   8.1  \n",
       "491  390.11  18.07  13.6  \n",
       "492  396.90  13.35  20.1  "
      ]
     },
     "execution_count": 12,
     "metadata": {},
     "output_type": "execute_result"
    }
   ],
   "source": [
    "# Display the first 5 rows of the dataset, sorted by 'chas' and 'tax'\n",
    "df.sort_values(by=[\"chas\", \"tax\"], ascending=[True, False]).head()"
   ]
  },
  {
   "cell_type": "markdown",
   "id": "a1124c43",
   "metadata": {},
   "source": [
    "### Indexing and Retrieving Data"
   ]
  },
  {
   "cell_type": "markdown",
   "id": "2d65c43f",
   "metadata": {},
   "source": [
    "To get a single column, you can use a `DataFrame['Name']` construction. Using this we can get the proportion of homes near the Charles River.  We can wrap it in `float()` to convert it to a regular python float value. \n",
    "\n",
    "Our result tells us that **6.92%** of these homes are along the Charles River. "
   ]
  },
  {
   "cell_type": "code",
   "execution_count": 13,
   "id": "9dd8606b",
   "metadata": {},
   "outputs": [
    {
     "data": {
      "text/plain": [
       "0.0691699604743083"
      ]
     },
     "execution_count": 13,
     "metadata": {},
     "output_type": "execute_result"
    }
   ],
   "source": [
    "# Display the mean of the 'chas' column\n",
    "float(df[\"chas\"].mean())"
   ]
  },
  {
   "cell_type": "markdown",
   "id": "5358f979",
   "metadata": {},
   "source": [
    "Boolean indexing with a single column is simple and powerful. You use the syntax `df[P(df['Name'])]`, where `P` is a condition applied to each value in the `'Name'` column. This returns a new DataFrame that includes **only the rows** where the `'Name'` values meet the condition `P`.\n",
    "\n",
    "We can use this to get the average numerical values for housed that are along the Charles River."
   ]
  },
  {
   "cell_type": "code",
   "execution_count": 14,
   "id": "4afe66b7",
   "metadata": {},
   "outputs": [
    {
     "data": {
      "text/plain": [
       "crim         1.85\n",
       "zn           7.71\n",
       "indus       12.72\n",
       "chas         1.00\n",
       "nox          0.59\n",
       "rm           6.52\n",
       "age         77.50\n",
       "dis          3.03\n",
       "rad          9.31\n",
       "tax        386.26\n",
       "ptratio     17.49\n",
       "black      373.00\n",
       "lstat       11.24\n",
       "medv        28.44\n",
       "dtype: float64"
      ]
     },
     "execution_count": 14,
     "metadata": {},
     "output_type": "execute_result"
    }
   ],
   "source": [
    "df[df[\"chas\"] == 1].mean()"
   ]
  },
  {
   "cell_type": "markdown",
   "id": "c560dedb",
   "metadata": {},
   "source": [
    "What is the average number of rooms per dwelling of houses that are on the Charles River?"
   ]
  },
  {
   "cell_type": "code",
   "execution_count": 15,
   "id": "3bfc60e9",
   "metadata": {},
   "outputs": [
    {
     "data": {
      "text/plain": [
       "6.5196000000000005"
      ]
     },
     "execution_count": 15,
     "metadata": {},
     "output_type": "execute_result"
    }
   ],
   "source": [
    "float(df[df[\"chas\"] == 1][\"rm\"].mean())"
   ]
  },
  {
   "cell_type": "markdown",
   "id": "21052682",
   "metadata": {},
   "source": [
    "DataFrames can be accessed using column labels, row labels (index), or row numbers. The `.loc[]` method is used for indexing by labels, while `.iloc[]` is used for indexing by position (row/column numbers).\n",
    "\n",
    "In the first example, we're asking for all rows with index values from 0 to 5 **and** all columns from `'crim'` to `'indus'`, **including both endpoints**. In the second example, we're requesting the values from the **first five rows** and the **first three columns**, using standard Python slicing—so the end index is **not included**."
   ]
  },
  {
   "cell_type": "code",
   "execution_count": 16,
   "id": "2a9df27d",
   "metadata": {},
   "outputs": [
    {
     "data": {
      "text/html": [
       "<div>\n",
       "<style scoped>\n",
       "    .dataframe tbody tr th:only-of-type {\n",
       "        vertical-align: middle;\n",
       "    }\n",
       "\n",
       "    .dataframe tbody tr th {\n",
       "        vertical-align: top;\n",
       "    }\n",
       "\n",
       "    .dataframe thead th {\n",
       "        text-align: right;\n",
       "    }\n",
       "</style>\n",
       "<table border=\"1\" class=\"dataframe\">\n",
       "  <thead>\n",
       "    <tr style=\"text-align: right;\">\n",
       "      <th></th>\n",
       "      <th>crim</th>\n",
       "      <th>zn</th>\n",
       "      <th>indus</th>\n",
       "    </tr>\n",
       "  </thead>\n",
       "  <tbody>\n",
       "    <tr>\n",
       "      <th>0</th>\n",
       "      <td>6.32e-03</td>\n",
       "      <td>18.0</td>\n",
       "      <td>2.31</td>\n",
       "    </tr>\n",
       "    <tr>\n",
       "      <th>1</th>\n",
       "      <td>2.73e-02</td>\n",
       "      <td>0.0</td>\n",
       "      <td>7.07</td>\n",
       "    </tr>\n",
       "    <tr>\n",
       "      <th>2</th>\n",
       "      <td>2.73e-02</td>\n",
       "      <td>0.0</td>\n",
       "      <td>7.07</td>\n",
       "    </tr>\n",
       "    <tr>\n",
       "      <th>3</th>\n",
       "      <td>3.24e-02</td>\n",
       "      <td>0.0</td>\n",
       "      <td>2.18</td>\n",
       "    </tr>\n",
       "    <tr>\n",
       "      <th>4</th>\n",
       "      <td>6.91e-02</td>\n",
       "      <td>0.0</td>\n",
       "      <td>2.18</td>\n",
       "    </tr>\n",
       "    <tr>\n",
       "      <th>5</th>\n",
       "      <td>2.99e-02</td>\n",
       "      <td>0.0</td>\n",
       "      <td>2.18</td>\n",
       "    </tr>\n",
       "  </tbody>\n",
       "</table>\n",
       "</div>"
      ],
      "text/plain": [
       "       crim    zn  indus\n",
       "0  6.32e-03  18.0   2.31\n",
       "1  2.73e-02   0.0   7.07\n",
       "2  2.73e-02   0.0   7.07\n",
       "3  3.24e-02   0.0   2.18\n",
       "4  6.91e-02   0.0   2.18\n",
       "5  2.99e-02   0.0   2.18"
      ]
     },
     "execution_count": 16,
     "metadata": {},
     "output_type": "execute_result"
    }
   ],
   "source": [
    "df.loc[0:5, \"crim\":\"indus\"]"
   ]
  },
  {
   "cell_type": "code",
   "execution_count": 17,
   "id": "0ef4fdc0",
   "metadata": {},
   "outputs": [
    {
     "data": {
      "text/html": [
       "<div>\n",
       "<style scoped>\n",
       "    .dataframe tbody tr th:only-of-type {\n",
       "        vertical-align: middle;\n",
       "    }\n",
       "\n",
       "    .dataframe tbody tr th {\n",
       "        vertical-align: top;\n",
       "    }\n",
       "\n",
       "    .dataframe thead th {\n",
       "        text-align: right;\n",
       "    }\n",
       "</style>\n",
       "<table border=\"1\" class=\"dataframe\">\n",
       "  <thead>\n",
       "    <tr style=\"text-align: right;\">\n",
       "      <th></th>\n",
       "      <th>crim</th>\n",
       "      <th>zn</th>\n",
       "      <th>indus</th>\n",
       "    </tr>\n",
       "  </thead>\n",
       "  <tbody>\n",
       "    <tr>\n",
       "      <th>0</th>\n",
       "      <td>6.32e-03</td>\n",
       "      <td>18.0</td>\n",
       "      <td>2.31</td>\n",
       "    </tr>\n",
       "    <tr>\n",
       "      <th>1</th>\n",
       "      <td>2.73e-02</td>\n",
       "      <td>0.0</td>\n",
       "      <td>7.07</td>\n",
       "    </tr>\n",
       "    <tr>\n",
       "      <th>2</th>\n",
       "      <td>2.73e-02</td>\n",
       "      <td>0.0</td>\n",
       "      <td>7.07</td>\n",
       "    </tr>\n",
       "    <tr>\n",
       "      <th>3</th>\n",
       "      <td>3.24e-02</td>\n",
       "      <td>0.0</td>\n",
       "      <td>2.18</td>\n",
       "    </tr>\n",
       "    <tr>\n",
       "      <th>4</th>\n",
       "      <td>6.91e-02</td>\n",
       "      <td>0.0</td>\n",
       "      <td>2.18</td>\n",
       "    </tr>\n",
       "  </tbody>\n",
       "</table>\n",
       "</div>"
      ],
      "text/plain": [
       "       crim    zn  indus\n",
       "0  6.32e-03  18.0   2.31\n",
       "1  2.73e-02   0.0   7.07\n",
       "2  2.73e-02   0.0   7.07\n",
       "3  3.24e-02   0.0   2.18\n",
       "4  6.91e-02   0.0   2.18"
      ]
     },
     "execution_count": 17,
     "metadata": {},
     "output_type": "execute_result"
    }
   ],
   "source": [
    "df.iloc[0:5, 0:3]"
   ]
  },
  {
   "cell_type": "markdown",
   "id": "9a3660ec",
   "metadata": {},
   "source": [
    "To access the first or the last line of the data frame, we can use the df[:1] or df[-1:] construct:"
   ]
  },
  {
   "cell_type": "code",
   "execution_count": 18,
   "id": "ca3dc69f",
   "metadata": {},
   "outputs": [
    {
     "data": {
      "text/html": [
       "<div>\n",
       "<style scoped>\n",
       "    .dataframe tbody tr th:only-of-type {\n",
       "        vertical-align: middle;\n",
       "    }\n",
       "\n",
       "    .dataframe tbody tr th {\n",
       "        vertical-align: top;\n",
       "    }\n",
       "\n",
       "    .dataframe thead th {\n",
       "        text-align: right;\n",
       "    }\n",
       "</style>\n",
       "<table border=\"1\" class=\"dataframe\">\n",
       "  <thead>\n",
       "    <tr style=\"text-align: right;\">\n",
       "      <th></th>\n",
       "      <th>crim</th>\n",
       "      <th>zn</th>\n",
       "      <th>indus</th>\n",
       "      <th>chas</th>\n",
       "      <th>nox</th>\n",
       "      <th>rm</th>\n",
       "      <th>age</th>\n",
       "      <th>dis</th>\n",
       "      <th>rad</th>\n",
       "      <th>tax</th>\n",
       "      <th>ptratio</th>\n",
       "      <th>black</th>\n",
       "      <th>lstat</th>\n",
       "      <th>medv</th>\n",
       "    </tr>\n",
       "  </thead>\n",
       "  <tbody>\n",
       "    <tr>\n",
       "      <th>0</th>\n",
       "      <td>6.32e-03</td>\n",
       "      <td>18.0</td>\n",
       "      <td>2.31</td>\n",
       "      <td>0</td>\n",
       "      <td>0.54</td>\n",
       "      <td>6.58</td>\n",
       "      <td>65.2</td>\n",
       "      <td>4.09</td>\n",
       "      <td>1</td>\n",
       "      <td>296</td>\n",
       "      <td>15.3</td>\n",
       "      <td>396.9</td>\n",
       "      <td>4.98</td>\n",
       "      <td>24.0</td>\n",
       "    </tr>\n",
       "  </tbody>\n",
       "</table>\n",
       "</div>"
      ],
      "text/plain": [
       "       crim    zn  indus  chas   nox    rm   age   dis  rad  tax  ptratio  \\\n",
       "0  6.32e-03  18.0   2.31     0  0.54  6.58  65.2  4.09    1  296     15.3   \n",
       "\n",
       "   black  lstat  medv  \n",
       "0  396.9   4.98  24.0  "
      ]
     },
     "execution_count": 18,
     "metadata": {},
     "output_type": "execute_result"
    }
   ],
   "source": [
    "df[:1]"
   ]
  },
  {
   "cell_type": "code",
   "execution_count": 19,
   "id": "9329081e",
   "metadata": {},
   "outputs": [
    {
     "data": {
      "text/html": [
       "<div>\n",
       "<style scoped>\n",
       "    .dataframe tbody tr th:only-of-type {\n",
       "        vertical-align: middle;\n",
       "    }\n",
       "\n",
       "    .dataframe tbody tr th {\n",
       "        vertical-align: top;\n",
       "    }\n",
       "\n",
       "    .dataframe thead th {\n",
       "        text-align: right;\n",
       "    }\n",
       "</style>\n",
       "<table border=\"1\" class=\"dataframe\">\n",
       "  <thead>\n",
       "    <tr style=\"text-align: right;\">\n",
       "      <th></th>\n",
       "      <th>crim</th>\n",
       "      <th>zn</th>\n",
       "      <th>indus</th>\n",
       "      <th>chas</th>\n",
       "      <th>nox</th>\n",
       "      <th>rm</th>\n",
       "      <th>age</th>\n",
       "      <th>dis</th>\n",
       "      <th>rad</th>\n",
       "      <th>tax</th>\n",
       "      <th>ptratio</th>\n",
       "      <th>black</th>\n",
       "      <th>lstat</th>\n",
       "      <th>medv</th>\n",
       "    </tr>\n",
       "  </thead>\n",
       "  <tbody>\n",
       "    <tr>\n",
       "      <th>505</th>\n",
       "      <td>0.05</td>\n",
       "      <td>0.0</td>\n",
       "      <td>11.93</td>\n",
       "      <td>0</td>\n",
       "      <td>0.57</td>\n",
       "      <td>6.03</td>\n",
       "      <td>80.8</td>\n",
       "      <td>2.5</td>\n",
       "      <td>1</td>\n",
       "      <td>273</td>\n",
       "      <td>21.0</td>\n",
       "      <td>396.9</td>\n",
       "      <td>7.88</td>\n",
       "      <td>11.9</td>\n",
       "    </tr>\n",
       "  </tbody>\n",
       "</table>\n",
       "</div>"
      ],
      "text/plain": [
       "     crim   zn  indus  chas   nox    rm   age  dis  rad  tax  ptratio  black  \\\n",
       "505  0.05  0.0  11.93     0  0.57  6.03  80.8  2.5    1  273     21.0  396.9   \n",
       "\n",
       "     lstat  medv  \n",
       "505   7.88  11.9  "
      ]
     },
     "execution_count": 19,
     "metadata": {},
     "output_type": "execute_result"
    }
   ],
   "source": [
    "df[-1:]"
   ]
  },
  {
   "cell_type": "markdown",
   "id": "e5ceb1cc",
   "metadata": {},
   "source": [
    "### Applying Functions to Cells, Columns and Rows"
   ]
  },
  {
   "cell_type": "markdown",
   "id": "14068ceb",
   "metadata": {},
   "source": [
    "We can use `apply()` to apply functions to each column. Here we are getting the max value from each column. You can also use `apply()` on each row by setting `axis=1`. "
   ]
  },
  {
   "cell_type": "code",
   "execution_count": 20,
   "id": "95bd6e1a",
   "metadata": {},
   "outputs": [
    {
     "data": {
      "text/plain": [
       "crim        88.98\n",
       "zn         100.00\n",
       "indus       27.74\n",
       "chas         1.00\n",
       "nox          0.87\n",
       "rm           8.78\n",
       "age        100.00\n",
       "dis         12.13\n",
       "rad         24.00\n",
       "tax        711.00\n",
       "ptratio     22.00\n",
       "black      396.90\n",
       "lstat       37.97\n",
       "medv        50.00\n",
       "dtype: float64"
      ]
     },
     "execution_count": 20,
     "metadata": {},
     "output_type": "execute_result"
    }
   ],
   "source": [
    "df.apply(np.max, axis=0)"
   ]
  },
  {
   "cell_type": "markdown",
   "id": "4ae0661f",
   "metadata": {},
   "source": [
    "### Grouping"
   ]
  },
  {
   "cell_type": "markdown",
   "id": "e6100fa1",
   "metadata": {},
   "source": [
    "This code **Groups the DataFrame by the `'chas'` column** and shows summary statistics for the specified columns (`\"crim\"`, `\"zn\"`, `\"indus\"`).\n",
    "\n",
    "**Step-by-step explanation**:\n",
    "\n",
    "1. **`columns_to_show = [...]`**\n",
    "   Selects the three columns you want to summarize.\n",
    "\n",
    "2. **`df.groupby([\"chas\"])`**\n",
    "   Splits the data into two groups based on the binary `'chas'` column:\n",
    "\n",
    "   * `0` = not near Charles River\n",
    "   * `1` = near Charles River\n",
    "\n",
    "3. **`[columns_to_show]`**\n",
    "   Limits the output to just the `\"crim\"`, `\"zn\"`, and `\"indus\"` columns.\n",
    "\n",
    "4. **`.describe(percentiles=[])`**\n",
    "   Returns descriptive statistics for each group:\n",
    "\n",
    "   * **count**, **mean**, **std**, **min**, **50% (median)**, **max**\n",
    "   * No extra percentiles (like 25% and 75%) are included because `percentiles=[]`\n",
    "\n",
    "\n",
    "**Why it's useful**:\n",
    "\n",
    "This lets you **compare basic statistics** (e.g., mean crime rate or zoning area) **between homes near and not near the Charles River**.\n"
   ]
  },
  {
   "cell_type": "code",
   "execution_count": 21,
   "id": "55a47d56",
   "metadata": {},
   "outputs": [
    {
     "data": {
      "text/html": [
       "<div>\n",
       "<style scoped>\n",
       "    .dataframe tbody tr th:only-of-type {\n",
       "        vertical-align: middle;\n",
       "    }\n",
       "\n",
       "    .dataframe tbody tr th {\n",
       "        vertical-align: top;\n",
       "    }\n",
       "\n",
       "    .dataframe thead tr th {\n",
       "        text-align: left;\n",
       "    }\n",
       "\n",
       "    .dataframe thead tr:last-of-type th {\n",
       "        text-align: right;\n",
       "    }\n",
       "</style>\n",
       "<table border=\"1\" class=\"dataframe\">\n",
       "  <thead>\n",
       "    <tr>\n",
       "      <th></th>\n",
       "      <th colspan=\"6\" halign=\"left\">crim</th>\n",
       "      <th colspan=\"6\" halign=\"left\">zn</th>\n",
       "      <th colspan=\"6\" halign=\"left\">indus</th>\n",
       "    </tr>\n",
       "    <tr>\n",
       "      <th></th>\n",
       "      <th>count</th>\n",
       "      <th>mean</th>\n",
       "      <th>std</th>\n",
       "      <th>min</th>\n",
       "      <th>50%</th>\n",
       "      <th>max</th>\n",
       "      <th>count</th>\n",
       "      <th>mean</th>\n",
       "      <th>std</th>\n",
       "      <th>min</th>\n",
       "      <th>50%</th>\n",
       "      <th>max</th>\n",
       "      <th>count</th>\n",
       "      <th>mean</th>\n",
       "      <th>std</th>\n",
       "      <th>min</th>\n",
       "      <th>50%</th>\n",
       "      <th>max</th>\n",
       "    </tr>\n",
       "    <tr>\n",
       "      <th>chas</th>\n",
       "      <th></th>\n",
       "      <th></th>\n",
       "      <th></th>\n",
       "      <th></th>\n",
       "      <th></th>\n",
       "      <th></th>\n",
       "      <th></th>\n",
       "      <th></th>\n",
       "      <th></th>\n",
       "      <th></th>\n",
       "      <th></th>\n",
       "      <th></th>\n",
       "      <th></th>\n",
       "      <th></th>\n",
       "      <th></th>\n",
       "      <th></th>\n",
       "      <th></th>\n",
       "      <th></th>\n",
       "    </tr>\n",
       "  </thead>\n",
       "  <tbody>\n",
       "    <tr>\n",
       "      <th>0</th>\n",
       "      <td>471.0</td>\n",
       "      <td>3.74</td>\n",
       "      <td>8.88</td>\n",
       "      <td>6.32e-03</td>\n",
       "      <td>0.25</td>\n",
       "      <td>88.98</td>\n",
       "      <td>471.0</td>\n",
       "      <td>11.63</td>\n",
       "      <td>23.62</td>\n",
       "      <td>0.0</td>\n",
       "      <td>0.0</td>\n",
       "      <td>100.0</td>\n",
       "      <td>471.0</td>\n",
       "      <td>11.02</td>\n",
       "      <td>6.91</td>\n",
       "      <td>0.46</td>\n",
       "      <td>8.56</td>\n",
       "      <td>27.74</td>\n",
       "    </tr>\n",
       "    <tr>\n",
       "      <th>1</th>\n",
       "      <td>35.0</td>\n",
       "      <td>1.85</td>\n",
       "      <td>2.49</td>\n",
       "      <td>1.50e-02</td>\n",
       "      <td>0.45</td>\n",
       "      <td>8.98</td>\n",
       "      <td>35.0</td>\n",
       "      <td>7.71</td>\n",
       "      <td>18.80</td>\n",
       "      <td>0.0</td>\n",
       "      <td>0.0</td>\n",
       "      <td>90.0</td>\n",
       "      <td>35.0</td>\n",
       "      <td>12.72</td>\n",
       "      <td>5.96</td>\n",
       "      <td>1.21</td>\n",
       "      <td>13.89</td>\n",
       "      <td>19.58</td>\n",
       "    </tr>\n",
       "  </tbody>\n",
       "</table>\n",
       "</div>"
      ],
      "text/plain": [
       "       crim                                        zn                          \\\n",
       "      count  mean   std       min   50%    max  count   mean    std  min  50%   \n",
       "chas                                                                            \n",
       "0     471.0  3.74  8.88  6.32e-03  0.25  88.98  471.0  11.63  23.62  0.0  0.0   \n",
       "1      35.0  1.85  2.49  1.50e-02  0.45   8.98   35.0   7.71  18.80  0.0  0.0   \n",
       "\n",
       "             indus                                   \n",
       "        max  count   mean   std   min    50%    max  \n",
       "chas                                                 \n",
       "0     100.0  471.0  11.02  6.91  0.46   8.56  27.74  \n",
       "1      90.0   35.0  12.72  5.96  1.21  13.89  19.58  "
      ]
     },
     "execution_count": 21,
     "metadata": {},
     "output_type": "execute_result"
    }
   ],
   "source": [
    "columns_to_show = [\"crim\", \"zn\", \"indus\"]\n",
    "\n",
    "df.groupby([\"chas\"])[columns_to_show].describe(percentiles=[])"
   ]
  },
  {
   "cell_type": "markdown",
   "id": "87b7130c",
   "metadata": {},
   "source": [
    "We can do the same as above but use `.agg` by passing it a list of funcions. "
   ]
  },
  {
   "cell_type": "code",
   "execution_count": 22,
   "id": "23b9f6c1",
   "metadata": {},
   "outputs": [
    {
     "data": {
      "text/html": [
       "<div>\n",
       "<style scoped>\n",
       "    .dataframe tbody tr th:only-of-type {\n",
       "        vertical-align: middle;\n",
       "    }\n",
       "\n",
       "    .dataframe tbody tr th {\n",
       "        vertical-align: top;\n",
       "    }\n",
       "\n",
       "    .dataframe thead tr th {\n",
       "        text-align: left;\n",
       "    }\n",
       "\n",
       "    .dataframe thead tr:last-of-type th {\n",
       "        text-align: right;\n",
       "    }\n",
       "</style>\n",
       "<table border=\"1\" class=\"dataframe\">\n",
       "  <thead>\n",
       "    <tr>\n",
       "      <th></th>\n",
       "      <th colspan=\"4\" halign=\"left\">crim</th>\n",
       "      <th colspan=\"4\" halign=\"left\">zn</th>\n",
       "      <th colspan=\"4\" halign=\"left\">indus</th>\n",
       "    </tr>\n",
       "    <tr>\n",
       "      <th></th>\n",
       "      <th>mean</th>\n",
       "      <th>std</th>\n",
       "      <th>min</th>\n",
       "      <th>max</th>\n",
       "      <th>mean</th>\n",
       "      <th>std</th>\n",
       "      <th>min</th>\n",
       "      <th>max</th>\n",
       "      <th>mean</th>\n",
       "      <th>std</th>\n",
       "      <th>min</th>\n",
       "      <th>max</th>\n",
       "    </tr>\n",
       "    <tr>\n",
       "      <th>chas</th>\n",
       "      <th></th>\n",
       "      <th></th>\n",
       "      <th></th>\n",
       "      <th></th>\n",
       "      <th></th>\n",
       "      <th></th>\n",
       "      <th></th>\n",
       "      <th></th>\n",
       "      <th></th>\n",
       "      <th></th>\n",
       "      <th></th>\n",
       "      <th></th>\n",
       "    </tr>\n",
       "  </thead>\n",
       "  <tbody>\n",
       "    <tr>\n",
       "      <th>0</th>\n",
       "      <td>3.74</td>\n",
       "      <td>8.88</td>\n",
       "      <td>6.32e-03</td>\n",
       "      <td>88.98</td>\n",
       "      <td>11.63</td>\n",
       "      <td>23.62</td>\n",
       "      <td>0.0</td>\n",
       "      <td>100.0</td>\n",
       "      <td>11.02</td>\n",
       "      <td>6.91</td>\n",
       "      <td>0.46</td>\n",
       "      <td>27.74</td>\n",
       "    </tr>\n",
       "    <tr>\n",
       "      <th>1</th>\n",
       "      <td>1.85</td>\n",
       "      <td>2.49</td>\n",
       "      <td>1.50e-02</td>\n",
       "      <td>8.98</td>\n",
       "      <td>7.71</td>\n",
       "      <td>18.80</td>\n",
       "      <td>0.0</td>\n",
       "      <td>90.0</td>\n",
       "      <td>12.72</td>\n",
       "      <td>5.96</td>\n",
       "      <td>1.21</td>\n",
       "      <td>19.58</td>\n",
       "    </tr>\n",
       "  </tbody>\n",
       "</table>\n",
       "</div>"
      ],
      "text/plain": [
       "      crim                            zn                     indus        \\\n",
       "      mean   std       min    max   mean    std  min    max   mean   std   \n",
       "chas                                                                       \n",
       "0     3.74  8.88  6.32e-03  88.98  11.63  23.62  0.0  100.0  11.02  6.91   \n",
       "1     1.85  2.49  1.50e-02   8.98   7.71  18.80  0.0   90.0  12.72  5.96   \n",
       "\n",
       "                   \n",
       "       min    max  \n",
       "chas               \n",
       "0     0.46  27.74  \n",
       "1     1.21  19.58  "
      ]
     },
     "execution_count": 22,
     "metadata": {},
     "output_type": "execute_result"
    }
   ],
   "source": [
    "columns_to_show = [\"crim\", \"zn\", \"indus\"]\n",
    "\n",
    "df.groupby([\"chas\"])[columns_to_show].agg([\"mean\", \"std\", \"min\", \"max\"])"
   ]
  },
  {
   "cell_type": "markdown",
   "id": "b4dab170",
   "metadata": {},
   "source": [
    "### Summary Tables"
   ]
  },
  {
   "cell_type": "markdown",
   "id": "96c36d8b",
   "metadata": {},
   "source": [
    "Suppose we want to see how the observations in our sample are distributed in the context of two variables - `chas` and `rad`. To do so, we can build a contingency table using the `crosstab` method. This can be used to help you see the relationship between two variables. "
   ]
  },
  {
   "cell_type": "code",
   "execution_count": 23,
   "id": "f020e26d",
   "metadata": {},
   "outputs": [
    {
     "data": {
      "text/html": [
       "<div>\n",
       "<style scoped>\n",
       "    .dataframe tbody tr th:only-of-type {\n",
       "        vertical-align: middle;\n",
       "    }\n",
       "\n",
       "    .dataframe tbody tr th {\n",
       "        vertical-align: top;\n",
       "    }\n",
       "\n",
       "    .dataframe thead th {\n",
       "        text-align: right;\n",
       "    }\n",
       "</style>\n",
       "<table border=\"1\" class=\"dataframe\">\n",
       "  <thead>\n",
       "    <tr style=\"text-align: right;\">\n",
       "      <th>rad</th>\n",
       "      <th>1</th>\n",
       "      <th>2</th>\n",
       "      <th>3</th>\n",
       "      <th>4</th>\n",
       "      <th>5</th>\n",
       "      <th>6</th>\n",
       "      <th>7</th>\n",
       "      <th>8</th>\n",
       "      <th>24</th>\n",
       "    </tr>\n",
       "    <tr>\n",
       "      <th>chas</th>\n",
       "      <th></th>\n",
       "      <th></th>\n",
       "      <th></th>\n",
       "      <th></th>\n",
       "      <th></th>\n",
       "      <th></th>\n",
       "      <th></th>\n",
       "      <th></th>\n",
       "      <th></th>\n",
       "    </tr>\n",
       "  </thead>\n",
       "  <tbody>\n",
       "    <tr>\n",
       "      <th>0</th>\n",
       "      <td>19</td>\n",
       "      <td>24</td>\n",
       "      <td>36</td>\n",
       "      <td>102</td>\n",
       "      <td>104</td>\n",
       "      <td>26</td>\n",
       "      <td>17</td>\n",
       "      <td>19</td>\n",
       "      <td>124</td>\n",
       "    </tr>\n",
       "    <tr>\n",
       "      <th>1</th>\n",
       "      <td>1</td>\n",
       "      <td>0</td>\n",
       "      <td>2</td>\n",
       "      <td>8</td>\n",
       "      <td>11</td>\n",
       "      <td>0</td>\n",
       "      <td>0</td>\n",
       "      <td>5</td>\n",
       "      <td>8</td>\n",
       "    </tr>\n",
       "  </tbody>\n",
       "</table>\n",
       "</div>"
      ],
      "text/plain": [
       "rad   1   2   3    4    5   6   7   8    24\n",
       "chas                                       \n",
       "0     19  24  36  102  104  26  17  19  124\n",
       "1      1   0   2    8   11   0   0   5    8"
      ]
     },
     "execution_count": 23,
     "metadata": {},
     "output_type": "execute_result"
    }
   ],
   "source": [
    "pd.crosstab(df[\"chas\"], df[\"rad\"])"
   ]
  },
  {
   "cell_type": "markdown",
   "id": "def65a36",
   "metadata": {},
   "source": [
    "`pivot_table` creates a **pivot table** that shows the **average values** of the `\"zn\"`, `\"indus\"`, and `\"nox\"` columns, **grouped by** the values in the `\"chas\"` column.\n",
    "\n",
    "**What it does**:\n",
    "\n",
    "* **Rows (`index`)**: Unique values in `\"chas\"` (usually 0 or 1 — whether a home is near the Charles River).\n",
    "* **Values**: The columns `\"zn\"` (proportion of residential land zoned for lots over 25,000 sq.ft.), `\"indus\"` (proportion of non-retail business acres per town), and `\"nox\"` (nitric oxides concentration (parts per 10 million)).\n",
    "* **`aggfunc=\"mean\"`**: Calculates the **mean** for each group.\n",
    "\n",
    "**Why it's useful**:\n",
    "\n",
    "It helps you **compare average zoning, industrial proportion, and pollution** between homes near the river and those that aren't.\n"
   ]
  },
  {
   "cell_type": "code",
   "execution_count": 24,
   "id": "b1441262",
   "metadata": {},
   "outputs": [
    {
     "data": {
      "text/html": [
       "<div>\n",
       "<style scoped>\n",
       "    .dataframe tbody tr th:only-of-type {\n",
       "        vertical-align: middle;\n",
       "    }\n",
       "\n",
       "    .dataframe tbody tr th {\n",
       "        vertical-align: top;\n",
       "    }\n",
       "\n",
       "    .dataframe thead th {\n",
       "        text-align: right;\n",
       "    }\n",
       "</style>\n",
       "<table border=\"1\" class=\"dataframe\">\n",
       "  <thead>\n",
       "    <tr style=\"text-align: right;\">\n",
       "      <th></th>\n",
       "      <th>indus</th>\n",
       "      <th>nox</th>\n",
       "      <th>zn</th>\n",
       "    </tr>\n",
       "    <tr>\n",
       "      <th>chas</th>\n",
       "      <th></th>\n",
       "      <th></th>\n",
       "      <th></th>\n",
       "    </tr>\n",
       "  </thead>\n",
       "  <tbody>\n",
       "    <tr>\n",
       "      <th>0</th>\n",
       "      <td>11.02</td>\n",
       "      <td>0.55</td>\n",
       "      <td>11.63</td>\n",
       "    </tr>\n",
       "    <tr>\n",
       "      <th>1</th>\n",
       "      <td>12.72</td>\n",
       "      <td>0.59</td>\n",
       "      <td>7.71</td>\n",
       "    </tr>\n",
       "  </tbody>\n",
       "</table>\n",
       "</div>"
      ],
      "text/plain": [
       "      indus   nox     zn\n",
       "chas                    \n",
       "0     11.02  0.55  11.63\n",
       "1     12.72  0.59   7.71"
      ]
     },
     "execution_count": 24,
     "metadata": {},
     "output_type": "execute_result"
    }
   ],
   "source": [
    "df.pivot_table(\n",
    "    [\"zn\", \"indus\", \"nox\"],\n",
    "    [\"chas\"],\n",
    "    aggfunc=\"mean\",\n",
    ")"
   ]
  },
  {
   "cell_type": "markdown",
   "id": "6f8323ca",
   "metadata": {},
   "source": [
    "Uses, `sns.displot`, Seaborn to create a distribution plot (histogram) of the `medv` column, which represents median home values in the Boston housing dataset."
   ]
  },
  {
   "cell_type": "code",
   "execution_count": 25,
   "id": "6541ebe6",
   "metadata": {},
   "outputs": [
    {
     "data": {
      "image/png": "[encoded data removed]",
      "text/plain": [
       "<Figure size 500x500 with 1 Axes>"
      ]
     },
     "metadata": {},
     "output_type": "display_data"
    }
   ],
   "source": [
    "sns.displot(x=df['medv']);"
   ]
  },
  {
   "cell_type": "markdown",
   "id": "789cf16e",
   "metadata": {},
   "source": [
    "This code block creates a **heatmap of the correlation matrix** for the dataset `df` using Matplotlib and Seaborn:\n",
    "\n",
    "**What this does**:\n",
    "\n",
    "* **`df.corr()`** calculates the **Pearson correlation** between all numeric features.\n",
    "* **`sns.heatmap()`** visualizes this correlation matrix:\n",
    "\n",
    "  * Cells are **color-coded** by strength of correlation (red = stronger).\n",
    "  * **`annot=True`** shows the numeric correlation values in each cell.\n",
    "  * **`fmt='.2f'`** ensures values are shown with 2 decimal places.\n",
    "\n",
    "**Why it's useful**:\n",
    "\n",
    "* Helps you **spot strong positive or negative relationships** between variables.\n",
    "* Useful for **feature selection** or identifying **multicollinearity** in models.\n",
    "\n",
    "**Multicollinearity** occurs when two or more predictor variables are highly correlated, which can make it difficult to determine their individual effects in a regression model.\n"
   ]
  },
  {
   "cell_type": "code",
   "execution_count": 26,
   "id": "6cd0913a",
   "metadata": {},
   "outputs": [
    {
     "data": {
      "image/png": "[encoded data removed]",
      "text/plain": [
       "<Figure size 1200x1200 with 2 Axes>"
      ]
     },
     "metadata": {},
     "output_type": "display_data"
    }
   ],
   "source": [
    "plt.figure(figsize=(12,12))\n",
    "cor = df.corr()\n",
    "sns.heatmap(cor, annot=True, cmap=plt.cm.Reds, fmt='.2f');"
   ]
  },
  {
   "cell_type": "markdown",
   "id": "a052d690",
   "metadata": {},
   "source": [
    "## Acknowledgements\n",
    "\n",
    "Information, code examples, and dataset insights in this notebook were adapted or inspired by the following Kaggle resources:\n",
    "\n",
    "Kashnitsky, A. – [Topic 1: Exploratory Data Analysis with Pandas](https://www.kaggle.com/code/kashnitsky/topic-1-exploratory-data-analysis-with-pandas#2.-First-attempt-at-predicting-telecom-churn)  \n",
    "Ziad Hamada Fathy – [Boston House Price Predictions](https://www.kaggle.com/code/ziadhamadafathy/boston-house-price-predictions)  \n",
    "Willian Leite – [Boston Housing Dataset](https://www.kaggle.com/datasets/willianleite/boston-housing-dataset/code)\n",
    "\n",
    "Thanks to these contributors for their valuable work.\n",
    "\n",
    "This notebook was created by Meara Cox, June 2024, as a part of her summer internship. "
   ]
  }
 ],
 "metadata": {
  "kernelspec": {
   "display_name": "Python 3",
   "language": "python",
   "name": "python3"
  },
  "language_info": {
   "codemirror_mode": {
    "name": "ipython",
    "version": 3
   },
   "file_extension": ".py",
   "mimetype": "text/x-python",
   "name": "python",
   "nbconvert_exporter": "python",
   "pygments_lexer": "ipython3",
   "version": "3.11.13"
  }
 },
 "nbformat": 4,
 "nbformat_minor": 5
}
