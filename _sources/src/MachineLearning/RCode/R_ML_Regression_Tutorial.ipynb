{
 "cells": [
  {
   "cell_type": "markdown",
   "id": "bbe1c35e",
   "metadata": {},
   "source": [
    "# Machine Learning Tutorial: Regression in R\n",
    "\n",
    "This notebook walks through a regression task using the **Iris** dataset."
   ]
  },
  {
   "cell_type": "markdown",
   "id": "9b4f80f0",
   "metadata": {},
   "source": [
    "## Step 1: Install and Load Packages\n",
    "\n",
    "This code loads all the R packages needed for the regression tutorial:\n",
    "\n",
    "* **`tidyverse`**: A collection of packages for data manipulation and visualization (e.g., `dplyr`, `ggplot2`).\n",
    "* **`caret`**: Provides tools for training and evaluating machine learning models.\n",
    "* **`randomForest`**: Implements the Random Forest algorithm for regression or classification.\n",
    "* **`ggplot2`**: Used for creating informative and elegant data visualizations.\n",
    "* **`Metrics`**: Offers performance evaluation metrics like RMSE and MAE.\n",
    "* **`MASS`**: Contains datasets and functions for statistical modeling (used here for the `Boston` dataset).\n",
    "* **`corrplot`**: Used to visualize correlations between features using correlation matrices.\n",
    "\n",
    "The commented `install.packages()` line reminds users to install these packages first if they are not already installed.\n"
   ]
  },
  {
   "cell_type": "code",
   "execution_count": null,
   "id": "d732d4e2",
   "metadata": {
    "vscode": {
     "languageId": "r"
    }
   },
   "outputs": [],
   "source": [
    "# Install if needed:\n",
    "install.packages(c(\"tidyverse\", \"caret\", \"randomForest\", \"ggplot2\", \"Metrics\", \"corrplot\"))\n",
    "\n",
    "library(tidyverse)\n",
    "library(caret)\n",
    "library(randomForest)\n",
    "library(ggplot2)\n",
    "library(Metrics)\n",
    "library(MASS)\n",
    "library(corrplot)"
   ]
  },
  {
   "cell_type": "markdown",
   "id": "f8067764",
   "metadata": {},
   "source": [
    "## Step 2: Load the Dataset\n",
    "\n",
    "We begin by loading the built-in **Iris** dataset into a variable called `df`. This dataset is widely used in machine learning tutorials and contains 150 samples of iris flowers across three species (*setosa*, *versicolor*, and *virginica*). Each sample includes four numerical features: sepal length, sepal width, petal length, and petal width.\n",
    "\n",
    "To get an initial look at the data, we use two functions:\n",
    "\n",
    "* **`head(df)`**: Displays the first six rows of the dataset, allowing us to quickly check the format and feature values.\n",
    "* **`tail(df, n = 10)`**: Shows the last ten rows of the dataset, helping us spot any unusual entries or patterns at the end of the data frame.\n",
    "\n",
    "These preview functions are useful for gaining a quick understanding of the dataset before diving into data exploration or modeling.\n"
   ]
  },
  {
   "cell_type": "code",
   "execution_count": 2,
   "id": "12a4e962",
   "metadata": {
    "vscode": {
     "languageId": "r"
    }
   },
   "outputs": [
    {
     "data": {
      "text/html": [
       "<table class=\"dataframe\">\n",
       "<caption>A data.frame: 6 x 5</caption>\n",
       "<thead>\n",
       "\t<tr><th></th><th scope=col>Sepal.Length</th><th scope=col>Sepal.Width</th><th scope=col>Petal.Length</th><th scope=col>Petal.Width</th><th scope=col>Species</th></tr>\n",
       "\t<tr><th></th><th scope=col>&lt;dbl&gt;</th><th scope=col>&lt;dbl&gt;</th><th scope=col>&lt;dbl&gt;</th><th scope=col>&lt;dbl&gt;</th><th scope=col>&lt;fct&gt;</th></tr>\n",
       "</thead>\n",
       "<tbody>\n",
       "\t<tr><th scope=row>1</th><td>5.1</td><td>3.5</td><td>1.4</td><td>0.2</td><td>setosa</td></tr>\n",
       "\t<tr><th scope=row>2</th><td>4.9</td><td>3.0</td><td>1.4</td><td>0.2</td><td>setosa</td></tr>\n",
       "\t<tr><th scope=row>3</th><td>4.7</td><td>3.2</td><td>1.3</td><td>0.2</td><td>setosa</td></tr>\n",
       "\t<tr><th scope=row>4</th><td>4.6</td><td>3.1</td><td>1.5</td><td>0.2</td><td>setosa</td></tr>\n",
       "\t<tr><th scope=row>5</th><td>5.0</td><td>3.6</td><td>1.4</td><td>0.2</td><td>setosa</td></tr>\n",
       "\t<tr><th scope=row>6</th><td>5.4</td><td>3.9</td><td>1.7</td><td>0.4</td><td>setosa</td></tr>\n",
       "</tbody>\n",
       "</table>\n"
      ],
      "text/latex": [
       "A data.frame: 6 x 5\n",
       "\\begin{tabular}{r|lllll}\n",
       "  & Sepal.Length & Sepal.Width & Petal.Length & Petal.Width & Species\\\\\n",
       "  & <dbl> & <dbl> & <dbl> & <dbl> & <fct>\\\\\n",
       "\\hline\n",
       "\t1 & 5.1 & 3.5 & 1.4 & 0.2 & setosa\\\\\n",
       "\t2 & 4.9 & 3.0 & 1.4 & 0.2 & setosa\\\\\n",
       "\t3 & 4.7 & 3.2 & 1.3 & 0.2 & setosa\\\\\n",
       "\t4 & 4.6 & 3.1 & 1.5 & 0.2 & setosa\\\\\n",
       "\t5 & 5.0 & 3.6 & 1.4 & 0.2 & setosa\\\\\n",
       "\t6 & 5.4 & 3.9 & 1.7 & 0.4 & setosa\\\\\n",
       "\\end{tabular}\n"
      ],
      "text/markdown": [
       "\n",
       "A data.frame: 6 x 5\n",
       "\n",
       "| <!--/--> | Sepal.Length &lt;dbl&gt; | Sepal.Width &lt;dbl&gt; | Petal.Length &lt;dbl&gt; | Petal.Width &lt;dbl&gt; | Species &lt;fct&gt; |\n",
       "|---|---|---|---|---|---|\n",
       "| 1 | 5.1 | 3.5 | 1.4 | 0.2 | setosa |\n",
       "| 2 | 4.9 | 3.0 | 1.4 | 0.2 | setosa |\n",
       "| 3 | 4.7 | 3.2 | 1.3 | 0.2 | setosa |\n",
       "| 4 | 4.6 | 3.1 | 1.5 | 0.2 | setosa |\n",
       "| 5 | 5.0 | 3.6 | 1.4 | 0.2 | setosa |\n",
       "| 6 | 5.4 | 3.9 | 1.7 | 0.4 | setosa |\n",
       "\n"
      ],
      "text/plain": [
       "  Sepal.Length Sepal.Width Petal.Length Petal.Width Species\n",
       "1 5.1          3.5         1.4          0.2         setosa \n",
       "2 4.9          3.0         1.4          0.2         setosa \n",
       "3 4.7          3.2         1.3          0.2         setosa \n",
       "4 4.6          3.1         1.5          0.2         setosa \n",
       "5 5.0          3.6         1.4          0.2         setosa \n",
       "6 5.4          3.9         1.7          0.4         setosa "
      ]
     },
     "metadata": {},
     "output_type": "display_data"
    },
    {
     "data": {
      "text/html": [
       "<table class=\"dataframe\">\n",
       "<caption>A data.frame: 10 x 5</caption>\n",
       "<thead>\n",
       "\t<tr><th></th><th scope=col>Sepal.Length</th><th scope=col>Sepal.Width</th><th scope=col>Petal.Length</th><th scope=col>Petal.Width</th><th scope=col>Species</th></tr>\n",
       "\t<tr><th></th><th scope=col>&lt;dbl&gt;</th><th scope=col>&lt;dbl&gt;</th><th scope=col>&lt;dbl&gt;</th><th scope=col>&lt;dbl&gt;</th><th scope=col>&lt;fct&gt;</th></tr>\n",
       "</thead>\n",
       "<tbody>\n",
       "\t<tr><th scope=row>141</th><td>6.7</td><td>3.1</td><td>5.6</td><td>2.4</td><td>virginica</td></tr>\n",
       "\t<tr><th scope=row>142</th><td>6.9</td><td>3.1</td><td>5.1</td><td>2.3</td><td>virginica</td></tr>\n",
       "\t<tr><th scope=row>143</th><td>5.8</td><td>2.7</td><td>5.1</td><td>1.9</td><td>virginica</td></tr>\n",
       "\t<tr><th scope=row>144</th><td>6.8</td><td>3.2</td><td>5.9</td><td>2.3</td><td>virginica</td></tr>\n",
       "\t<tr><th scope=row>145</th><td>6.7</td><td>3.3</td><td>5.7</td><td>2.5</td><td>virginica</td></tr>\n",
       "\t<tr><th scope=row>146</th><td>6.7</td><td>3.0</td><td>5.2</td><td>2.3</td><td>virginica</td></tr>\n",
       "\t<tr><th scope=row>147</th><td>6.3</td><td>2.5</td><td>5.0</td><td>1.9</td><td>virginica</td></tr>\n",
       "\t<tr><th scope=row>148</th><td>6.5</td><td>3.0</td><td>5.2</td><td>2.0</td><td>virginica</td></tr>\n",
       "\t<tr><th scope=row>149</th><td>6.2</td><td>3.4</td><td>5.4</td><td>2.3</td><td>virginica</td></tr>\n",
       "\t<tr><th scope=row>150</th><td>5.9</td><td>3.0</td><td>5.1</td><td>1.8</td><td>virginica</td></tr>\n",
       "</tbody>\n",
       "</table>\n"
      ],
      "text/latex": [
       "A data.frame: 10 x 5\n",
       "\\begin{tabular}{r|lllll}\n",
       "  & Sepal.Length & Sepal.Width & Petal.Length & Petal.Width & Species\\\\\n",
       "  & <dbl> & <dbl> & <dbl> & <dbl> & <fct>\\\\\n",
       "\\hline\n",
       "\t141 & 6.7 & 3.1 & 5.6 & 2.4 & virginica\\\\\n",
       "\t142 & 6.9 & 3.1 & 5.1 & 2.3 & virginica\\\\\n",
       "\t143 & 5.8 & 2.7 & 5.1 & 1.9 & virginica\\\\\n",
       "\t144 & 6.8 & 3.2 & 5.9 & 2.3 & virginica\\\\\n",
       "\t145 & 6.7 & 3.3 & 5.7 & 2.5 & virginica\\\\\n",
       "\t146 & 6.7 & 3.0 & 5.2 & 2.3 & virginica\\\\\n",
       "\t147 & 6.3 & 2.5 & 5.0 & 1.9 & virginica\\\\\n",
       "\t148 & 6.5 & 3.0 & 5.2 & 2.0 & virginica\\\\\n",
       "\t149 & 6.2 & 3.4 & 5.4 & 2.3 & virginica\\\\\n",
       "\t150 & 5.9 & 3.0 & 5.1 & 1.8 & virginica\\\\\n",
       "\\end{tabular}\n"
      ],
      "text/markdown": [
       "\n",
       "A data.frame: 10 x 5\n",
       "\n",
       "| <!--/--> | Sepal.Length &lt;dbl&gt; | Sepal.Width &lt;dbl&gt; | Petal.Length &lt;dbl&gt; | Petal.Width &lt;dbl&gt; | Species &lt;fct&gt; |\n",
       "|---|---|---|---|---|---|\n",
       "| 141 | 6.7 | 3.1 | 5.6 | 2.4 | virginica |\n",
       "| 142 | 6.9 | 3.1 | 5.1 | 2.3 | virginica |\n",
       "| 143 | 5.8 | 2.7 | 5.1 | 1.9 | virginica |\n",
       "| 144 | 6.8 | 3.2 | 5.9 | 2.3 | virginica |\n",
       "| 145 | 6.7 | 3.3 | 5.7 | 2.5 | virginica |\n",
       "| 146 | 6.7 | 3.0 | 5.2 | 2.3 | virginica |\n",
       "| 147 | 6.3 | 2.5 | 5.0 | 1.9 | virginica |\n",
       "| 148 | 6.5 | 3.0 | 5.2 | 2.0 | virginica |\n",
       "| 149 | 6.2 | 3.4 | 5.4 | 2.3 | virginica |\n",
       "| 150 | 5.9 | 3.0 | 5.1 | 1.8 | virginica |\n",
       "\n"
      ],
      "text/plain": [
       "    Sepal.Length Sepal.Width Petal.Length Petal.Width Species  \n",
       "141 6.7          3.1         5.6          2.4         virginica\n",
       "142 6.9          3.1         5.1          2.3         virginica\n",
       "143 5.8          2.7         5.1          1.9         virginica\n",
       "144 6.8          3.2         5.9          2.3         virginica\n",
       "145 6.7          3.3         5.7          2.5         virginica\n",
       "146 6.7          3.0         5.2          2.3         virginica\n",
       "147 6.3          2.5         5.0          1.9         virginica\n",
       "148 6.5          3.0         5.2          2.0         virginica\n",
       "149 6.2          3.4         5.4          2.3         virginica\n",
       "150 5.9          3.0         5.1          1.8         virginica"
      ]
     },
     "metadata": {},
     "output_type": "display_data"
    }
   ],
   "source": [
    "df <- iris\n",
    "# Display the first 6 rows of a data frame df\n",
    "head(df)\n",
    "\n",
    "# Display the last 10 rows of df\n",
    "tail(df, n = 10)"
   ]
  },
  {
   "cell_type": "markdown",
   "id": "e3b621e1",
   "metadata": {},
   "source": [
    "## Step 3: Data Cleaning (checking for missing data)\n",
    "\n",
    "Before proceeding with data preprocessing or model training, it’s important to understand the quality and distribution of the dataset. In this step, we perform two key checks:\n",
    "\n",
    "* **Missing Values**:\n",
    "  Using `sum(is.na(df))`, we check for any missing (`NA`) values in the dataset. Although the Iris dataset is clean by default, verifying the absence of missing data is a good habit in any machine learning pipeline.\n",
    "\n",
    "* **Summary Statistics**:\n",
    "  The `summary(df)` function provides descriptive statistics for each column in the dataset. For numerical variables, it displays metrics such as **minimum**, **1st quartile**, **median**, **mean**, **3rd quartile**, and **maximum** values. For categorical variables (like species), it shows the number of occurrences for each category.\n",
    "\n",
    "These checks help ensure data quality and give you a clearer picture of how features are distributed before scaling or modeling.\n"
   ]
  },
  {
   "cell_type": "code",
   "execution_count": 3,
   "id": "be041443",
   "metadata": {
    "vscode": {
     "languageId": "r"
    }
   },
   "outputs": [
    {
     "name": "stdout",
     "output_type": "stream",
     "text": [
      "[1] \"The number of missing values in the data:\"\n"
     ]
    },
    {
     "data": {
      "text/html": [
       "0"
      ],
      "text/latex": [
       "0"
      ],
      "text/markdown": [
       "0"
      ],
      "text/plain": [
       "[1] 0"
      ]
     },
     "metadata": {},
     "output_type": "display_data"
    },
    {
     "name": "stdout",
     "output_type": "stream",
     "text": [
      "[1] \"summary statistics of the data\"\n"
     ]
    },
    {
     "data": {
      "text/plain": [
       "  Sepal.Length    Sepal.Width     Petal.Length    Petal.Width   \n",
       " Min.   :4.300   Min.   :2.000   Min.   :1.000   Min.   :0.100  \n",
       " 1st Qu.:5.100   1st Qu.:2.800   1st Qu.:1.600   1st Qu.:0.300  \n",
       " Median :5.800   Median :3.000   Median :4.350   Median :1.300  \n",
       " Mean   :5.843   Mean   :3.057   Mean   :3.758   Mean   :1.199  \n",
       " 3rd Qu.:6.400   3rd Qu.:3.300   3rd Qu.:5.100   3rd Qu.:1.800  \n",
       " Max.   :7.900   Max.   :4.400   Max.   :6.900   Max.   :2.500  \n",
       "       Species  \n",
       " setosa    :50  \n",
       " versicolor:50  \n",
       " virginica :50  \n",
       "                \n",
       "                \n",
       "                "
      ]
     },
     "metadata": {},
     "output_type": "display_data"
    }
   ],
   "source": [
    "print(\"The number of missing values in the data:\")\n",
    "sum(is.na(df)) # count of missing values\n",
    "\n",
    "print(\"summary statistics of the data\")\n",
    "summary(df)"
   ]
  },
  {
   "cell_type": "markdown",
   "id": "ab99332b",
   "metadata": {},
   "source": [
    "## Step 4: Exploratory Data Analysis (EDA)\n",
    "\n",
    "Before training any machine learning model, it's valuable to visualize the distribution of key features and explore relationships between them. This step provides two important visualizations:\n",
    "\n",
    "### 1. Distribution Plot of a Key Feature\n",
    "\n",
    "We begin by visualizing the distribution of **`Petal.Length`**, one of the most informative features in the Iris dataset. Using `ggplot2`, a histogram is plotted to show how frequently each petal length value occurs:\n",
    "\n",
    "This histogram helps identify the shape of the distribution (e.g., skewed, normal, multimodal), and whether there are outliers or distinct clusters that could impact model performance.\n",
    "\n",
    "### 2. Correlation Heatmap of Numerical Features\n",
    "\n",
    "Next, we compute and visualize the **correlation matrix** for all numerical features in the dataset (excluding the categorical `Species` column). The correlation matrix shows how strongly each pair of numerical features is linearly related.\n",
    "\n",
    "* **`cor()`**: Calculates pairwise Pearson correlation coefficients.\n",
    "* **`corrplot()`**: Produces a color-coded heatmap where stronger correlations appear as more vivid colors.\n",
    "\n",
    "  * Values near 1 indicate strong positive correlation.\n",
    "  * Values near -1 indicate strong negative correlation.\n",
    "  * Values near 0 indicate little to no correlation.\n",
    "\n",
    "Understanding these relationships helps identify redundant features and supports feature selection or dimensionality reduction if needed.\n"
   ]
  },
  {
   "cell_type": "code",
   "execution_count": 4,
   "id": "083078a3",
   "metadata": {
    "vscode": {
     "languageId": "r"
    }
   },
   "outputs": [
    {
     "data": {
      "image/png": "[encoded data removed]",
      "text/plain": [
       "plot without title"
      ]
     },
     "metadata": {
      "image/png": {
       "height": 420,
       "width": 420
      }
     },
     "output_type": "display_data"
    },
    {
     "data": {
      "image/png": "[encoded data removed]",
      "text/plain": [
       "Plot with title \"\""
      ]
     },
     "metadata": {
      "image/png": {
       "height": 420,
       "width": 420
      }
     },
     "output_type": "display_data"
    }
   ],
   "source": [
    "# Distribution of target\n",
    "ggplot(df, aes(x = Petal.Length)) +\n",
    "  geom_histogram(fill = \"steelblue\", bins = 30) +\n",
    "  labs(title = \"Distribution of petal length\", x = \"Petal.Length\")\n",
    "\n",
    "# Correlation heatmap between all numerical columns (except Species)\n",
    "cor_matrix <- cor(subset(df, select = -Species))\n",
    "  # Removes the first column\n",
    "corrplot(cor_matrix, method = \"color\")"
   ]
  },
  {
   "cell_type": "markdown",
   "id": "01fbdee5",
   "metadata": {},
   "source": [
    "We see that the highest correlation is between Petal.Width and Petal.Length and also between Sepal.Length and Petal.Length. "
   ]
  },
  {
   "cell_type": "markdown",
   "id": "20b7d5ec",
   "metadata": {},
   "source": [
    "## Step 5: Split the Data"
   ]
  },
  {
   "cell_type": "markdown",
   "id": "dac62c49",
   "metadata": {},
   "source": [
    "To evaluate the performance of a machine learning model, it’s essential to divide the dataset into two parts:\n",
    "\n",
    "* **Training set**: Used to train the model.\n",
    "* **Testing set**: Used to evaluate how well the model generalizes to unseen data.\n",
    "\n",
    "In this step, we perform an 80/20 split using the `createDataPartition()` function from the **caret** package. This function ensures that the distribution of the target variable is preserved in both subsets (also known as *stratified sampling*).\n",
    "\n",
    "* **`set.seed(123)`** ensures that the data split is reproducible.\n",
    "* **`createDataPartition()`** randomly selects 80% of the data for training (`p = 0.8`), while preserving the distribution of the target variable (`Petal.Length` in this case).\n",
    "* The remaining 20% becomes the **testing set**.\n",
    "\n",
    "This prepares the data for model training and evaluation in a way that helps prevent overfitting and ensures more reliable performance metrics.\n"
   ]
  },
  {
   "cell_type": "code",
   "execution_count": 5,
   "id": "cde87048",
   "metadata": {
    "vscode": {
     "languageId": "r"
    }
   },
   "outputs": [],
   "source": [
    "set.seed(123)\n",
    "split <- createDataPartition(df$Petal.Length, p = 0.8, list = FALSE)\n",
    "train <- df[split, ]\n",
    "test <- df[-split, ]"
   ]
  },
  {
   "cell_type": "markdown",
   "id": "b012c617",
   "metadata": {},
   "source": [
    "## Step 6: Preprocessing (Centering & Scaling)\n",
    "\n",
    "Before training many machine learning models—especially those that are distance-based or sensitive to feature magnitude—it’s important to **standardize** the input features. In this step, we apply **feature scaling** to ensure that all numerical variables contribute equally to the model.\n",
    "\n",
    "We use the `preProcess()` function from the **caret** package to scale the data:\n",
    "\n",
    "* **`preProcess()`** creates a preprocessing model that centers (subtracts the mean) and scales (divides by standard deviation) each numeric column.\n",
    "* This ensures each feature has a **mean of 0** and a **standard deviation of 1**, standardizing their ranges.\n",
    "* **`predict()`** then applies that preprocessing model to both the training and test sets.\n",
    "\n",
    "This step helps improve model stability and training efficiency, particularly for algorithms sensitive to scale.\n",
    "\n"
   ]
  },
  {
   "cell_type": "code",
   "execution_count": 7,
   "id": "23cb054f",
   "metadata": {
    "vscode": {
     "languageId": "r"
    }
   },
   "outputs": [],
   "source": [
    "pre_proc <- preProcess(train, method = c(\"center\", \"scale\"))\n",
    "train_scaled <- predict(pre_proc, train)\n",
    "test_scaled <- predict(pre_proc, test)"
   ]
  },
  {
   "cell_type": "markdown",
   "id": "1152a4ab",
   "metadata": {},
   "source": [
    "#### Step 7: Train Regression Models \n",
    "\n",
    "For example, [Logistical Regression](https://scikit-learn.org/stable/modules/linear_model.html#logistic-regression) and [Random Forest Regression](https://scikit-learn.org/stable/modules/ensemble.html#). Other regression models like [Naive Bayes](https://scikit-learn.org/stable/modules/naive_bayes.html), [Gradient Boosting](https://scikit-learn.org/stable/modules/ensemble.html#), [Decision Tree](https://scikit-learn.org/stable/modules/tree.html) can be used too."
   ]
  },
  {
   "cell_type": "markdown",
   "id": "9777e9ff",
   "metadata": {},
   "source": [
    "### Linear Regression\n",
    "\n",
    "With the features scaled and the data split, we’re now ready to train our machine learning model. In this step, we build a **linear regression model** to predict `Petal.Length` using all other features in the dataset.\n",
    "\n",
    "* **`lm()`** fits a **linear regression model** where the target variable is `Petal.Length`, and the predictors are all other columns in the data (indicated by the formula `~ .`).\n",
    "* **`train_scaled`** is used so the model benefits from normalized feature values.\n",
    "* **`summary(model_lm)`** displays the model’s coefficients, R-squared value, residual statistics, and significance levels (p-values) for each predictor.\n",
    "\n",
    "**What does the output tell us?**\n",
    "\n",
    "* The **coefficients** show how each feature affects `Petal.Length`.\n",
    "* The **R-squared value** indicates how much of the variance in `Petal.Length` is explained by the model.\n",
    "* Low **p-values** (< 0.05) suggest statistically significant predictors.\n",
    "\n",
    "This baseline model gives us an interpretable starting point to evaluate regression performance and feature importance.\n"
   ]
  },
  {
   "cell_type": "code",
   "execution_count": 8,
   "id": "dfc82bc5",
   "metadata": {
    "vscode": {
     "languageId": "r"
    }
   },
   "outputs": [
    {
     "data": {
      "text/plain": [
       "\n",
       "Call:\n",
       "lm(formula = Petal.Length ~ ., data = train_scaled)\n",
       "\n",
       "Residuals:\n",
       "     Min       1Q   Median       3Q      Max \n",
       "-0.42093 -0.09442  0.00209  0.08944  0.34538 \n",
       "\n",
       "Coefficients:\n",
       "                  Estimate Std. Error t value Pr(>|t|)    \n",
       "(Intercept)       -0.67534    0.08585  -7.867 2.10e-12 ***\n",
       "Sepal.Length       0.29376    0.02633  11.158  < 2e-16 ***\n",
       "Sepal.Width       -0.05599    0.02242  -2.498 0.013906 *  \n",
       "Petal.Width        0.22670    0.05646   4.016 0.000106 ***\n",
       "Speciesversicolor  0.87303    0.10685   8.171 4.28e-13 ***\n",
       "Speciesvirginica   1.15782    0.15100   7.668 5.90e-12 ***\n",
       "---\n",
       "Signif. codes:  0 '***' 0.001 '**' 0.01 '*' 0.05 '.' 0.1 ' ' 1\n",
       "\n",
       "Residual standard error: 0.1504 on 116 degrees of freedom\n",
       "Multiple R-squared:  0.9783,\tAdjusted R-squared:  0.9774 \n",
       "F-statistic:  1047 on 5 and 116 DF,  p-value: < 2.2e-16\n"
      ]
     },
     "metadata": {},
     "output_type": "display_data"
    }
   ],
   "source": [
    "model_lm <- lm(Petal.Length ~ ., data = train_scaled)\n",
    "summary(model_lm)"
   ]
  },
  {
   "cell_type": "markdown",
   "id": "9fbc0e77",
   "metadata": {},
   "source": [
    "### Random Forest \n",
    "\n",
    "To improve predictive performance beyond a simple linear model, we now train a **Random Forest regression model**. Random Forest is an **ensemble learning algorithm** that builds multiple decision trees and averages their results to make more accurate and robust predictions.\n",
    "\n",
    "* **`randomForest()`** fits a regression model that predicts `Petal.Length` using all other features (`~ .`).\n",
    "* **`ntree = 100`** specifies the number of decision trees to grow in the forest. More trees can improve accuracy, but also increase training time.\n",
    "* **`set.seed(42)`** ensures reproducibility so you get the same results each time.\n",
    "* The final line prints the trained model object, which includes performance statistics like **% variance explained** and **Mean Squared Residuals**.\n",
    "\n",
    "**Why use Random Forest?**\n",
    "It handles non-linear relationships, is less sensitive to outliers, and typically yields higher accuracy than linear models—making it a strong choice for real-world regression tasks.\n",
    "\n",
    "This model will be evaluated and compared with the linear model in the next step.\n"
   ]
  },
  {
   "cell_type": "code",
   "execution_count": 9,
   "id": "69e80610",
   "metadata": {
    "vscode": {
     "languageId": "r"
    }
   },
   "outputs": [
    {
     "data": {
      "text/plain": [
       "\n",
       "Call:\n",
       " randomForest(formula = Petal.Length ~ ., data = train_scaled,      ntree = 100) \n",
       "               Type of random forest: regression\n",
       "                     Number of trees: 100\n",
       "No. of variables tried at each split: 1\n",
       "\n",
       "          Mean of squared residuals: 0.02834505\n",
       "                    % Var explained: 97.14"
      ]
     },
     "metadata": {},
     "output_type": "display_data"
    }
   ],
   "source": [
    "set.seed(42)\n",
    "model_rf <- randomForest(Petal.Length ~ ., data = train_scaled, ntree = 100)\n",
    "model_rf"
   ]
  },
  {
   "cell_type": "markdown",
   "id": "bf8207c9",
   "metadata": {},
   "source": [
    "## Step 8: Evaluate the two models using metrics like R-square, Mean Absolute Error (MAE), and Mean Square Error (MSE)\n",
    "\n",
    "Now that we have trained both a **Linear Regression** and a **Random Forest** model, this step focuses on using these models to predict petal lengths on the test data and evaluate their accuracy using common regression metrics.\n",
    "\n",
    "* **R² (Coefficient of Determination)**: Measures the proportion of variance in the target variable explained by the model. Values closer to 1 indicate better fit.\n",
    "* **MAE (Mean Absolute Error)**: Average absolute difference between predicted and actual values. Lower values mean better predictive accuracy.\n",
    "* **MSE (Mean Squared Error)**: Average squared difference between predicted and actual values, penalizing larger errors more heavily.\n",
    "\n",
    "**What this does:**\n",
    "\n",
    "* Predicts `Petal.Length` for the test set using both models.\n",
    "* Compares predictions to actual values using the metrics above.\n",
    "* Prints the metrics so you can compare which model performs better.\n",
    "\n",
    "**Interpreting results**:\n",
    "Look for higher R² and lower MAE/MSE to identify the better model. Random Forest often outperforms linear regression on complex data due to its ability to capture non-linear patterns.\n",
    "\n"
   ]
  },
  {
   "cell_type": "code",
   "execution_count": 10,
   "id": "b9e0e27b",
   "metadata": {
    "vscode": {
     "languageId": "r"
    }
   },
   "outputs": [
    {
     "name": "stdout",
     "output_type": "stream",
     "text": [
      "Linear Regression:\n",
      "R<U+00B2>: 0.9782547 \n",
      "MAE: 0.1072505 \n",
      "MSE: 0.02078893 \n",
      "\n",
      "Random Forest:\n",
      "R<U+00B2>: 0.9687633 \n",
      "MAE: 0.1156793 \n",
      "MSE: 0.03029699"
     ]
    }
   ],
   "source": [
    "# Predictions\n",
    "pred_lm <- predict(model_lm, newdata = test_scaled)\n",
    "pred_rf <- predict(model_rf, newdata = test_scaled)\n",
    "actual <- test_scaled$Petal.Length\n",
    "\n",
    "# Metrics\n",
    "lm_r2 <- R2(pred_lm, actual)\n",
    "rf_r2 <- R2(pred_rf, actual)\n",
    "\n",
    "lm_mae <- mae(actual, pred_lm)\n",
    "rf_mae <- mae(actual, pred_rf)\n",
    "\n",
    "lm_mse <- mse(actual, pred_lm)\n",
    "rf_mse <- mse(actual, pred_rf)\n",
    "\n",
    "cat(\"Linear Regression:\\n\")\n",
    "cat(\"R²:\", lm_r2, \"\\nMAE:\", lm_mae, \"\\nMSE:\", lm_mse, \"\\n\\n\")\n",
    "\n",
    "cat(\"Random Forest:\\n\")\n",
    "cat(\"R²:\", rf_r2, \"\\nMAE:\", rf_mae, \"\\nMSE:\", rf_mse)"
   ]
  },
  {
   "cell_type": "markdown",
   "id": "fc041128",
   "metadata": {},
   "source": [
    "## Step 9: Save and Load the Model\n",
    "\n",
    "Once a model is trained and performs well, it’s useful to save it to disk so you can reuse it later without retraining. This step shows how to **save** and **load** your linear regression model in R using the `saveRDS()` and `readRDS()` functions.\n",
    "\n",
    "* **`saveRDS()`** serializes the model object and writes it to disk as an `.rds` file.\n",
    "* The saved model can be loaded back into R later with **`readRDS()`**, restoring the exact trained model.\n",
    "* This workflow is useful for deploying models, sharing with others, or continuing analysis in future sessions without repeating costly training.\n",
    "\n"
   ]
  },
  {
   "cell_type": "code",
   "execution_count": 11,
   "id": "c724ce96",
   "metadata": {
    "vscode": {
     "languageId": "r"
    }
   },
   "outputs": [],
   "source": [
    "# Save the model\n",
    "saveRDS(model_lm, file = \"linear_model.rds\")\n",
    "\n",
    "# Load later\n",
    "# model <- readRDS(\"linear_model.rds\")"
   ]
  }
 ],
 "metadata": {
  "kernelspec": {
   "display_name": "R",
   "language": "R",
   "name": "ir"
  },
  "language_info": {
   "codemirror_mode": "r",
   "file_extension": ".r",
   "mimetype": "text/x-r-source",
   "name": "R",
   "pygments_lexer": "r",
   "version": "4.4.2"
  }
 },
 "nbformat": 4,
 "nbformat_minor": 5
}
