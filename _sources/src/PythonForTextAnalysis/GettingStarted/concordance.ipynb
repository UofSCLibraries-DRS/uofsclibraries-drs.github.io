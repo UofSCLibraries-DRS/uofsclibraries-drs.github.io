{
 "cells": [
  {
   "cell_type": "markdown",
   "id": "033d0d6d",
   "metadata": {},
   "source": [
    "<img align=\"left\" src=\"https://ithaka-labs.s3.amazonaws.com/static-files/images/tdm/tdmdocs/CC_BY.png\"><br />\n",
    "\n",
    "Created by [Nathan Kelber](http://nkelber.com) under [Creative Commons CC BY License](https://creativecommons.org/licenses/by/4.0/)<br />\n",
    "___"
   ]
  },
  {
   "cell_type": "markdown",
   "id": "92053a48",
   "metadata": {},
   "source": [
    "# Concordance and Collocation\n",
    "\n",
    "**Description:** This notebook describes how to create a concordance and collocation starting from text files and from a Constellate dataset file.\n",
    "\n",
    "**Knowledge Required:** \n",
    "* Python Basics Series ([Start Python Basics I](../../PythonForDataAnalysis/GettingStarted/basic/python-basics-1.ipynb))\n",
    "\n",
    "___"
   ]
  },
  {
   "cell_type": "markdown",
   "id": "0e06fbf4",
   "metadata": {},
   "source": [
    "## Concordance\n",
    "\n",
    "The concordance has a long history in humanities study and Roberto Busa's concordance Index Thomisticus—started in 1946—is arguably the first digital humanities project. Before computers were common, they were printed in large volumes such as John Bartlett's 1982 reference book *A Complete Concordance to Shakespeare*—it was 1909 pages pages long! \n",
    "\n",
    "A concordance gives the context of a given word or phrase in a body of texts. For example, a literary scholar might ask: how often and in what context does Shakespeare use the phrase \"honest Iago\" in Othello? A historian might examine a particular politician's speeches, looking for examples of a particular [dog whistle](https://en.wikipedia.org/wiki/Dog_whistle_(politics)https://en.wikipedia.org/wiki/Dog_whistle_(politics)).\n",
    "\n",
    "<font color=\"red\">Read more</font>\n",
    "\n",
    "* Geoffrey Rockwell and Stéfan Sinclair. [Tremendous Mechanical Labor: Father Busa's Algorithm](http://www.digitalhumanities.org/dhq/vol/14/3/000456/000456.html) (2020)\n",
    "* Julianne Nyhan and Marco Passarotti, eds. [One Origin of Digital Humanities: Fr Roberto Busa in His Own Words](https://www.amazon.com/One-Origin-Digital-Humanities-Roberto/dp/3030183114/) (2019)\n",
    "* Julianne Nyhan and Melissa Terras. [Uncovering 'hidden contributions to the history of Digital Humanities: the Index Thomisticus' femal keypunch operators](https://discovery.ucl.ac.uk/id/eprint/10052279/9/Nyhan_DH2017.redacted.pdf) (2017)\n",
    "* Steven E. Jones [Roberto Busa, S.J., and the Emergence of Humanities Computing](https://www.routledge.com/Roberto-Busa-S-J-and-the-Emergence-of-Humanities-Computing-The-Priest/Jones/p/book/9781138587250) (2016)\n",
    "___"
   ]
  },
  {
   "cell_type": "markdown",
   "id": "d27886db",
   "metadata": {},
   "source": [
    "We will be working with The Folger Shakespeare, made freely available by the [The Folger Shakespeare Library](https://shakespeare.folger.edu/)."
   ]
  },
  {
   "cell_type": "code",
   "execution_count": 1,
   "id": "c4ef16b7",
   "metadata": {
    "tags": []
   },
   "outputs": [],
   "source": [
    "# Data for this lesson\n",
    "import urllib.request\n",
    "from pathlib import Path\n",
    "\n",
    "# Check if a data folder exists. If not, create it.\n",
    "data_folder = Path('../data/')\n",
    "data_folder.mkdir(exist_ok=True)\n",
    "\n",
    "download_urls = [\n",
    "    'https://shakespeare.folger.edu/downloads/txt/shakespeares-works_TXT_FolgerShakespeare.zip',\n",
    "]\n",
    "\n",
    "for url in download_urls:\n",
    "    urllib.request.urlretrieve(url, '../data/' + url.rsplit('/', 1)[-1])"
   ]
  },
  {
   "cell_type": "code",
   "execution_count": 2,
   "id": "8f1d1f93",
   "metadata": {
    "tags": []
   },
   "outputs": [],
   "source": [
    "# Extract the text files\n",
    "import zipfile\n",
    "\n",
    "with zipfile.ZipFile('../data/shakespeares-works_TXT_FolgerShakespeare.zip', 'r') as zf:\n",
    "    zf.extractall('../data/shakespeare/')"
   ]
  },
  {
   "cell_type": "markdown",
   "id": "9b409073",
   "metadata": {},
   "source": [
    "Now that we have our data downloaded and extracted, we will load a single text for our analysis. Feel free to choose a different Shakespeare text to change the analysis."
   ]
  },
  {
   "cell_type": "code",
   "execution_count": 3,
   "id": "89d6cf4f",
   "metadata": {
    "tags": []
   },
   "outputs": [],
   "source": [
    "# Open a text\n",
    "with open(\"../data/shakespeare/othello_TXT_FolgerShakespeare.txt\") as f:\n",
    "    file_contents = f.read()"
   ]
  },
  {
   "cell_type": "markdown",
   "id": "7298dbee",
   "metadata": {},
   "source": [
    "Next, we lowercase our text and use the Natural Language Toolkit (NLTK) to tokenize it. Tokenizing breaks up the the document into individual words. Finally, we use our tokens to create an NLTK Text object."
   ]
  },
  {
   "cell_type": "code",
   "execution_count": 4,
   "id": "345ac4cf",
   "metadata": {
    "scrolled": true,
    "tags": []
   },
   "outputs": [
    {
     "name": "stderr",
     "output_type": "stream",
     "text": [
      "[nltk_data] Downloading package punkt to ../data/nltk_data...\n",
      "[nltk_data]   Unzipping tokenizers/punkt.zip.\n"
     ]
    }
   ],
   "source": [
    "# Tokenize one of the files\n",
    "import nltk\n",
    "nltk.download('punkt', download_dir='../data/nltk_data')\n",
    "file_contents = file_contents.lower()\n",
    "tokens = nltk.word_tokenize(file_contents)\n",
    "text = nltk.Text(tokens)"
   ]
  },
  {
   "cell_type": "code",
   "execution_count": 5,
   "id": "8263f4d0",
   "metadata": {
    "tags": []
   },
   "outputs": [
    {
     "data": {
      "text/plain": [
       "nltk.text.Text"
      ]
     },
     "execution_count": 5,
     "metadata": {},
     "output_type": "execute_result"
    }
   ],
   "source": [
    "# Verify that we have created an NLTK Text object\n",
    "type(text)"
   ]
  },
  {
   "cell_type": "markdown",
   "id": "7aee8615",
   "metadata": {},
   "source": [
    "Now, we can create a concordance with the `.concordance()` method. We pass in a string and the results are printed."
   ]
  },
  {
   "cell_type": "code",
   "execution_count": 6,
   "id": "5593cb90",
   "metadata": {
    "scrolled": true,
    "tags": []
   },
   "outputs": [
    {
     "name": "stdout",
     "output_type": "stream",
     "text": [
      "Displaying 25 of 42 matches:\n",
      "e 's old , cashiered . whip me such honest knaves ! others there are who , tri\n",
      "ee not to haunt about my doors . in honest plainness thou hast heard me say my\n",
      "rs , cassio , and officers exit . ] honest iago , my desdemona must i leave to\n",
      "ree and open nature that thinks men honest that but seem to be so , and will a\n",
      " the pegs that make this music , as honest as i am . othello come . let us to \n",
      "i look to 't . othello iago is most honest . michael , goodnight . tomorrow wi\n",
      "an engraffed infirmity . it were an honest action to say so to the moor . iago\n",
      "ty . what is the matter , masters ? honest iago , that looks dead with grievin\n",
      "o , my reputation ! iago as i am an honest man , i thought you had received so\n",
      "test , in the sincerity of love and honest kindness . cassio i think it freely\n",
      " to the watch . cassio good night , honest iago . [ cassio exits . ] iago and \n",
      "when this advice is free i give and honest , probal to thinking , and indeed t\n",
      "nclining desdemona to subdue in any honest suit . she 's framed as fruitful as\n",
      "ows , as i do now . for whiles this honest fool plies desdemona to repair his \n",
      "it . ] cassio dost thou hear , mine honest friend ? clown no , i hear not your\n",
      "friend ? clown no , i hear not your honest friend . i hear you . cassio prithe\n",
      "ver knew a florentine more kind and honest . [ enter emilia . ] emilia good mo\n",
      "were his . desdemona o , that 's an honest fellow ! do not doubt , cassio , bu\n",
      " cunning , i have no judgment in an honest face . i prithee call him back . ot\n",
      "n'st thou aught in that ? is he not honest ? iago honest , my lord ? othello h\n",
      "t in that ? is he not honest ? iago honest , my lord ? othello honest -- ay , \n",
      "t ? iago honest , my lord ? othello honest -- ay , honest . iago my lord , for\n",
      " , my lord ? othello honest -- ay , honest . iago my lord , for aught i know .\n",
      " i dare be sworn i think that he is honest . othello i think so too . iago men\n",
      "ago why then , i think cassio 's an honest man . othello nay , yet there 's mo\n"
     ]
    }
   ],
   "source": [
    "# Create a concordance for the given word\n",
    "text.concordance('honest')"
   ]
  },
  {
   "cell_type": "markdown",
   "id": "20ab44e1",
   "metadata": {},
   "source": [
    "By default, the first 25 matches are printed along with 80 characters on each side of our string text. We can specify that more lines should be shown using a `lines` and `width` argument that accept integers."
   ]
  },
  {
   "cell_type": "code",
   "execution_count": 7,
   "id": "cdf035c6",
   "metadata": {
    "tags": []
   },
   "outputs": [
    {
     "name": "stdout",
     "output_type": "stream",
     "text": [
      "Displaying 42 of 42 matches:\n",
      " and when he 's old , cashiered . whip me such honest knaves ! others there are who , trimmed in for\n",
      " charged thee not to haunt about my doors . in honest plainness thou hast heard me say my daughter i\n",
      " the senators , cassio , and officers exit . ] honest iago , my desdemona must i leave to thee . i p\n",
      "r is of a free and open nature that thinks men honest that but seem to be so , and will as tenderly \n",
      "ll set down the pegs that make this music , as honest as i am . othello come . let us to the castle.\n",
      "l eye will i look to 't . othello iago is most honest . michael , goodnight . tomorrow with your ear\n",
      "ith one of an engraffed infirmity . it were an honest action to say so to the moor . iago not i , fo\n",
      "her propriety . what is the matter , masters ? honest iago , that looks dead with grieving , speak .\n",
      "ation , iago , my reputation ! iago as i am an honest man , i thought you had received some bodily w\n",
      " iago i protest , in the sincerity of love and honest kindness . cassio i think it freely ; and beti\n",
      "nt . i must to the watch . cassio good night , honest iago . [ cassio exits . ] iago and what 's he \n",
      " villain , when this advice is free i give and honest , probal to thinking , and indeed the course t\n",
      "easy th ' inclining desdemona to subdue in any honest suit . she 's framed as fruitful as the free e\n",
      "heavenly shows , as i do now . for whiles this honest fool plies desdemona to repair his fortune , a\n",
      "usicians exit . ] cassio dost thou hear , mine honest friend ? clown no , i hear not your honest fri\n",
      "ine honest friend ? clown no , i hear not your honest friend . i hear you . cassio prithee , keep up\n",
      "ts . ] i never knew a florentine more kind and honest . [ enter emilia . ] emilia good morrow , good\n",
      " the cause were his . desdemona o , that 's an honest fellow ! do not doubt , cassio , but i will ha\n",
      " and not in cunning , i have no judgment in an honest face . i prithee call him back . othello went \n",
      "ed ! discern'st thou aught in that ? is he not honest ? iago honest , my lord ? othello honest -- ay\n",
      "t thou aught in that ? is he not honest ? iago honest , my lord ? othello honest -- ay , honest . ia\n",
      "e not honest ? iago honest , my lord ? othello honest -- ay , honest . iago my lord , for aught i kn\n",
      "iago honest , my lord ? othello honest -- ay , honest . iago my lord , for aught i know . othello wh\n",
      "el cassio , i dare be sworn i think that he is honest . othello i think so too . iago men should be \n",
      "ey seem . iago why then , i think cassio 's an honest man . othello nay , yet there 's more in this \n",
      "t much moved . i do not think but desdemona 's honest . iago long live she so ! and long live you to\n",
      "take my leave . othello why did i marry ? this honest creature doubtless sees and knows more , much \n",
      " note , take note , o world : to be direct and honest is not safe. -- i thank you for this profit , \n",
      "ffense . othello nay , stay . thou shouldst be honest . iago i should be wise ; for honesty 's a foo\n",
      "or . othello by the world , i think my wife be honest and think she is not . i think that thou art j\n",
      "be wise . yet we see nothing done . she may be honest yet . tell me but this : have you not sometime\n",
      "e . emilia i durst , my lord , to wager she is honest , lay down my soul at stake . if you think oth\n",
      " with the serpent 's curse , for if she be not honest , chaste , and true , there 's no man happy . \n",
      " . therefore be double damned . swear thou art honest . desdemona heaven doth truly know it . othell\n",
      "ll . desdemona i hope my noble lord esteems me honest . othello o , ay , as summer flies are in the \n",
      "companions thou 'dst unfold , and put in every honest hand a whip to lash the rascals naked through \n",
      " othello , [ aside ] 't is he ! o brave iago , honest and just , that hast such noble sense of thy f\n",
      "pet ! bianca i am no strumpet , but of life as honest as you that thus abuse me . emilia as i ? faug\n",
      "t say so . othello no . his mouth is stopped . honest iago hath ta'en order for 't . desdemona o , m\n",
      " ay , 't was he that told me on her first . an honest man he is , and hates the slime that sticks on\n",
      "nderstand the word ? my friend , thy husband ; honest , honest iago . emilia if he say so , may his \n",
      " the word ? my friend , thy husband ; honest , honest iago . emilia if he say so , may his perniciou\n"
     ]
    }
   ],
   "source": [
    "# Create a concordance for the given word\n",
    "# Increasing lines shown and number of characters\n",
    "text.concordance('honest', lines=50, width=100)"
   ]
  },
  {
   "cell_type": "markdown",
   "id": "82c66dfc",
   "metadata": {},
   "source": [
    "If we want to supply a bigram, trigram, or longer construction, they are supplied as individual strings within a Python list. (If you try to supply a string with a space in the middle, there will be no results.)"
   ]
  },
  {
   "cell_type": "code",
   "execution_count": 8,
   "id": "f0696186",
   "metadata": {
    "tags": []
   },
   "outputs": [
    {
     "name": "stdout",
     "output_type": "stream",
     "text": [
      "Displaying 5 of 5 matches:\n",
      " , cassio , and officers exit . ] honest iago , my desdemona must i leave to th\n",
      " . what is the matter , masters ? honest iago , that looks dead with grieving ,\n",
      "o the watch . cassio good night , honest iago . [ cassio exits . ] iago and wha\n",
      "hello no . his mouth is stopped . honest iago hath ta'en order for 't . desdemo\n",
      "y friend , thy husband ; honest , honest iago . emilia if he say so , may his p\n"
     ]
    }
   ],
   "source": [
    "# Create a concordance for a sequence of words\n",
    "text.concordance(['honest', 'iago'])"
   ]
  },
  {
   "cell_type": "markdown",
   "id": "3f82ed2a",
   "metadata": {},
   "source": [
    "This method works well for a quick preview of the lines, but if we want to save this concordance for later analysis we can use the `.concordance_list()` method. The `.concordance_list()` method outputs a list, but the elements of that list *are not* simple strings. They are ConcordanceLine objects."
   ]
  },
  {
   "cell_type": "code",
   "execution_count": 9,
   "id": "45525f18",
   "metadata": {
    "tags": []
   },
   "outputs": [],
   "source": [
    "# Output the concordance data\n",
    "output_list = text.concordance_list(['honest', 'iago'], width=200, lines=50)"
   ]
  },
  {
   "cell_type": "code",
   "execution_count": 10,
   "id": "c73e3813",
   "metadata": {
    "tags": []
   },
   "outputs": [
    {
     "data": {
      "text/plain": [
       "nltk.text.ConcordanceLine"
      ]
     },
     "execution_count": 10,
     "metadata": {},
     "output_type": "execute_result"
    }
   ],
   "source": [
    "type(output_list[0])"
   ]
  },
  {
   "cell_type": "markdown",
   "id": "8acc5938",
   "metadata": {},
   "source": [
    "We can view individual lines by using a Python list index followed by `.line`."
   ]
  },
  {
   "cell_type": "code",
   "execution_count": 11,
   "id": "7859087a",
   "metadata": {
    "scrolled": true,
    "tags": []
   },
   "outputs": [
    {
     "data": {
      "text/plain": [
       "'] othello my life upon her faith ! [ the duke , the senators , cassio , and officers exit . ] honest iago , my desdemona must i leave to thee . i prithee let thy wife attend on her , and bring them a'"
      ]
     },
     "execution_count": 11,
     "metadata": {},
     "output_type": "execute_result"
    }
   ],
   "source": [
    "output_list[0].line"
   ]
  },
  {
   "cell_type": "markdown",
   "id": "bca2894a",
   "metadata": {},
   "source": [
    "If we want to save our concordance, we can write to a file line-by-line."
   ]
  },
  {
   "cell_type": "code",
   "execution_count": 12,
   "id": "f60b2169",
   "metadata": {
    "tags": []
   },
   "outputs": [],
   "source": [
    "# Writing the concordance to a text file\n",
    "\n",
    "with open('../data/concordance.txt', 'w') as f:\n",
    "    for i in range(len(output_list)):\n",
    "        f.write(output_list[i].line)\n",
    "        f.write('\\n')"
   ]
  },
  {
   "cell_type": "markdown",
   "id": "95a555aa",
   "metadata": {},
   "source": [
    "Lastly, NLTK can create a dispersion plot that helps visualize where tokens occur in the document. This can reveal the way words are used in the document over time."
   ]
  },
  {
   "cell_type": "code",
   "execution_count": 15,
   "id": "78d8955e",
   "metadata": {
    "scrolled": true,
    "tags": []
   },
   "outputs": [
    {
     "data": {
      "image/png": "[encoded data removed]",
      "text/plain": [
       "<Figure size 640x480 with 1 Axes>"
      ]
     },
     "metadata": {},
     "output_type": "display_data"
    }
   ],
   "source": [
    "text.dispersion_plot(['honest', 'fool', 'noble', 'virtue', 'doubt', 'love', 'hate', 'villain'])"
   ]
  },
  {
   "cell_type": "markdown",
   "id": "c701219f",
   "metadata": {},
   "source": [
    "## Concordance with Constellate Data\n",
    "In order to create a concordance from a Constellate text, you will need to make sure you have access to the \"full-text\" version of the document. In the Dataset Builder, there is an option for \"full-text\" only.\n",
    "\n",
    "Secondly, in the dataset dashboard, you should request the JSON-L file which contains the full text. Under the tile for the dataset, choose \"Download\" > \"More Download Options\". Then click \"Request\" under \"Metadata, ngrams, and full-text.\""
   ]
  },
  {
   "cell_type": "code",
   "execution_count": null,
   "id": "460e30a5",
   "metadata": {
    "tags": []
   },
   "outputs": [],
   "source": [
    "# Creating a variable `dataset_id` to hold our dataset ID\n",
    "# The default dataset is Full-Text books on Frederick Douglass\n",
    "# from Docsouth Data\n",
    "dataset_id = \"435d4b79-d600-36f9-60df-f1f27afb7d37\"\n",
    "\n",
    "# Import the `constellate` client\n",
    "import constellate\n",
    "\n",
    "# To download the full dataset (up to a limit of 25,000 documents),\n",
    "# request it first in the dataset dashboard. See the Constellate Client\n",
    "# documentation at: https://constellate.org/docs/constellate-client\n",
    "# Then use the `constellate.download` method show below.\n",
    "dataset_file = constellate.download(dataset_id, 'jsonl')"
   ]
  },
  {
   "cell_type": "markdown",
   "id": "68bec8ba",
   "metadata": {},
   "source": [
    "There are only 63 documents in this dataset, so we can easily search through to pick out one of interest."
   ]
  },
  {
   "cell_type": "code",
   "execution_count": null,
   "id": "38654715",
   "metadata": {
    "scrolled": true,
    "tags": []
   },
   "outputs": [],
   "source": [
    "# Examine the documents in the dataset\n",
    "\n",
    "for document in constellate.dataset_reader(dataset_file):\n",
    "    print('\\n')\n",
    "    document_id = document.get('id')\n",
    "    document_title = document.get('title')\n",
    "    document_author = document.get('creator')\n",
    "    print(f'ID: {document_id}')\n",
    "    print(f'Title: {document_title}')\n",
    "    print(f'Author: {document_author}')\n"
   ]
  },
  {
   "cell_type": "markdown",
   "id": "97a70488",
   "metadata": {},
   "source": [
    "Let's use Frederick Douglass's:\n",
    "\n",
    ">NARRATIVE OF THE LIFE OF FREDERICK DOUGLASS,  AN AMERICAN SLAVE. Written by Himself:  Electronic Edition.\n",
    "\n",
    "The corresponding ID is: `http://docsouth.unc.edu/neh/douglass/menu.html`\n",
    "\n",
    "Note that this is also a URL which takes us to the Docsouth project where the document is described.\n",
    "\n",
    "We can select the document by matching on the document `'id'` key and then copy the full-text, which is stored as the value for the key `'fullText'`. "
   ]
  },
  {
   "cell_type": "code",
   "execution_count": null,
   "id": "a389913d",
   "metadata": {
    "tags": []
   },
   "outputs": [],
   "source": [
    "# Retrieve the full-text of the document selected\n",
    "# Here we select \n",
    "\n",
    "text = ''\n",
    "for document in constellate.dataset_reader(dataset_file):\n",
    "    if document['id'] == 'http://docsouth.unc.edu/neh/douglass/menu.html':\n",
    "        text = document.get('fullText')\n"
   ]
  },
  {
   "cell_type": "markdown",
   "id": "37f372c1",
   "metadata": {},
   "source": [
    "We will out the contents to a text file, so we have a local copy of the document."
   ]
  },
  {
   "cell_type": "code",
   "execution_count": 19,
   "id": "e013f500",
   "metadata": {
    "tags": []
   },
   "outputs": [],
   "source": [
    "# Write the text to a file\n",
    "with open('../data/document.txt', 'w') as f:\n",
    "    for line in text:\n",
    "        f.write(line)"
   ]
  },
  {
   "cell_type": "markdown",
   "id": "ab3e07bd",
   "metadata": {},
   "source": [
    "And then read the document back in. (Writing the document out to a file and reading it back also removes all the Python escape characters.)"
   ]
  },
  {
   "cell_type": "code",
   "execution_count": 20,
   "id": "e879efb0",
   "metadata": {
    "tags": []
   },
   "outputs": [],
   "source": [
    "# Read the text from the file\n",
    "with open(\"../data/document.txt\") as f:\n",
    "    file_contents = f.read()"
   ]
  },
  {
   "cell_type": "markdown",
   "id": "0b9e4c88",
   "metadata": {},
   "source": [
    "Next, we tokenize the document using the Natural Language Toolkit (NLTK)."
   ]
  },
  {
   "cell_type": "code",
   "execution_count": 21,
   "id": "39030920",
   "metadata": {
    "tags": []
   },
   "outputs": [],
   "source": [
    "# Tokenize the file\n",
    "import nltk\n",
    "file_contents = file_contents.lower()\n",
    "tokens = nltk.word_tokenize(file_contents)\n",
    "text = nltk.Text(tokens)"
   ]
  },
  {
   "cell_type": "markdown",
   "id": "47f17c65",
   "metadata": {},
   "source": [
    "And we are ready to create a concordance."
   ]
  },
  {
   "cell_type": "code",
   "execution_count": null,
   "id": "4ead29a7",
   "metadata": {
    "tags": []
   },
   "outputs": [],
   "source": [
    "text.concordance('freedom', lines=50, width=100)"
   ]
  },
  {
   "cell_type": "markdown",
   "id": "dee1f910",
   "metadata": {},
   "source": [
    "We can write our concordance out to a new file."
   ]
  },
  {
   "cell_type": "code",
   "execution_count": 23,
   "id": "3f00002e",
   "metadata": {
    "tags": []
   },
   "outputs": [],
   "source": [
    "# Output the concordance data\n",
    "output_list = text.concordance_list('freedom', width=200, lines=50)"
   ]
  },
  {
   "cell_type": "code",
   "execution_count": 24,
   "id": "90ddf402",
   "metadata": {
    "tags": []
   },
   "outputs": [],
   "source": [
    "# Writing the concordance to a text file\n",
    "\n",
    "with open('../data/concordance.txt', 'w') as f:\n",
    "    for i in range(len(output_list)):\n",
    "        f.write(output_list[i].line)\n",
    "        f.write('\\n')"
   ]
  },
  {
   "cell_type": "markdown",
   "id": "04d79d0d",
   "metadata": {},
   "source": [
    "And visualize the distribution of words across the text in a lexical dispersion plot."
   ]
  },
  {
   "cell_type": "code",
   "execution_count": null,
   "id": "dea121ee",
   "metadata": {
    "tags": []
   },
   "outputs": [],
   "source": [
    "text.dispersion_plot(['free', 'knowledge', 'read', 'desire'])"
   ]
  },
  {
   "cell_type": "markdown",
   "id": "e872240b",
   "metadata": {},
   "source": [
    "## Collocations\n",
    "\n",
    "Collocations are concepts in a text that cannot be expressed in a single word. English speakers can usually recognize collocations when we see them.\n",
    "\n",
    "Consider the concepts mentioned in this sentence:\n",
    "> The machine learning algorithm helped solve a major problem in social science research.\n",
    "\n",
    "There are bigrams and trigrams which are collocations, cohesive units that describe a larger concept:\n",
    "\n",
    "* 'machine learning algorithm' (a three-word, trigram)\n",
    "* 'major problem' (a two-word, bigram)\n",
    "* 'social science research'(a three-word, trigram)\n",
    "\n",
    "Yet other bigrams and trigrams in the sentence are not collocations:\n",
    "\n",
    "* 'The machine'\n",
    "* 'learning algorithm helped'\n",
    "* 'helped solve a'\n",
    "* 'problem in social'\n",
    "\n",
    "Identifying a collocation is more complicated than simply finding words that commonly co-occur. The phrase 'of the' occurs in many texts, but it is not a collocation since it does not relate to a larger, defined concept.\n",
    "\n",
    "Linguists and Natural Language Processing researchers have sought to create a mathematical method for discovering collocations. Here are some of the effective methods:\n",
    "\n",
    "* Finding frequent bigrams and trigrams (while removing spaces, stop words, articles, prepositions, and pronouns)\n",
    "* Pointwise Mutual Information (measuring how likely a word is to appear alone vs. paired with another)\n",
    "* [t-test](https://en.wikipedia.org/wiki/Student%27s_t-test) (while removing spaces, stop words, articles, prepositions, and pronouns)\n",
    "* [chi-squared test](https://en.wikipedia.org/wiki/Chi-squared_test)\n",
    "\n",
    "All of these methods can be effective. We will demonstrate Pointwise Mutual Information (PMI)."
   ]
  },
  {
   "cell_type": "code",
   "execution_count": 26,
   "id": "356f0d5a",
   "metadata": {
    "tags": []
   },
   "outputs": [],
   "source": [
    "# Open a text\n",
    "with open(\"../data/document.txt\") as f:\n",
    "    file_contents = f.read()"
   ]
  },
  {
   "cell_type": "code",
   "execution_count": 27,
   "id": "56ecff44",
   "metadata": {
    "tags": []
   },
   "outputs": [],
   "source": [
    "# Tokenize one of the files\n",
    "import nltk\n",
    "file_contents = file_contents.lower()\n",
    "tokens = nltk.word_tokenize(file_contents)\n",
    "removed_punctuation = [token for token in tokens if token.isalnum()] # We remove all punctuation with a list comprehension\n",
    "text = nltk.Text(removed_punctuation)"
   ]
  },
  {
   "cell_type": "code",
   "execution_count": 28,
   "id": "ca8da775",
   "metadata": {
    "tags": []
   },
   "outputs": [],
   "source": [
    "import nltk\n",
    "from nltk.collocations import *\n",
    "bigram_measures = nltk.collocations.BigramAssocMeasures()\n",
    "trigram_measures = nltk.collocations.TrigramAssocMeasures()"
   ]
  },
  {
   "cell_type": "code",
   "execution_count": null,
   "id": "bcbe45b5",
   "metadata": {
    "tags": []
   },
   "outputs": [],
   "source": [
    "finder = BigramCollocationFinder.from_words(text)\n",
    "finder.nbest(bigram_measures.pmi, 10)"
   ]
  },
  {
   "cell_type": "markdown",
   "id": "ecdd5d72",
   "metadata": {},
   "source": [
    "Pointwise Mutual Information is very sensitive to words that are \"highly-connected\" but also occur very infrequently. To get good results, we need to filter out bigrams that rarely occur."
   ]
  },
  {
   "cell_type": "code",
   "execution_count": 30,
   "id": "ab2d5db9",
   "metadata": {
    "tags": []
   },
   "outputs": [],
   "source": [
    "# Filter out Bigrams that occur less than three times\n",
    "finder.apply_freq_filter(3)"
   ]
  },
  {
   "cell_type": "code",
   "execution_count": null,
   "id": "03082d1c",
   "metadata": {
    "scrolled": true,
    "tags": []
   },
   "outputs": [],
   "source": [
    "finder.nbest(bigram_measures.pmi, 25)"
   ]
  },
  {
   "cell_type": "markdown",
   "id": "110a6b77",
   "metadata": {},
   "source": [
    "We can also discover common trigram collocations."
   ]
  },
  {
   "cell_type": "code",
   "execution_count": null,
   "id": "b974df9e",
   "metadata": {
    "tags": []
   },
   "outputs": [],
   "source": [
    "finder = TrigramCollocationFinder.from_words(text)\n",
    "finder.apply_freq_filter(3)\n",
    "#finder.apply_word_filter(lambda w: w in ('I', 'me')) Remove particular words with a lambda function\n",
    "finder.nbest(trigram_measures.pmi, 25)"
   ]
  },
  {
   "cell_type": "code",
   "execution_count": null,
   "id": "ad1af6cc",
   "metadata": {},
   "outputs": [],
   "source": []
  }
 ],
 "metadata": {
  "kernelspec": {
   "display_name": "Python 3",
   "language": "python",
   "name": "python3"
  },
  "language_info": {
   "codemirror_mode": {
    "name": "ipython",
    "version": 3
   },
   "file_extension": ".py",
   "mimetype": "text/x-python",
   "name": "python",
   "nbconvert_exporter": "python",
   "pygments_lexer": "ipython3",
   "version": "3.11.13"
  },
  "toc": {
   "base_numbering": 1,
   "nav_menu": {},
   "number_sections": true,
   "sideBar": true,
   "skip_h1_title": false,
   "title_cell": "Table of Contents",
   "title_sidebar": "Contents",
   "toc_cell": false,
   "toc_position": {},
   "toc_section_display": true,
   "toc_window_display": false
  }
 },
 "nbformat": 4,
 "nbformat_minor": 5
}
